{
 "cells": [
  {
   "cell_type": "code",
   "execution_count": 1,
   "id": "immune-hanging",
   "metadata": {},
   "outputs": [],
   "source": [
    "import isopy\n",
    "import numpy as np\n",
    "import matplotlib.pyplot as plt\n",
    "import matplotlib as mpl\n",
    "import itertools\n",
    "from matplotlib.axes import Axes\n",
    "import ipywidgets as widgets\n",
    "from datetime import datetime\n",
    "from PIL import Image\n",
    "import io"
   ]
  },
  {
   "cell_type": "code",
   "execution_count": 2,
   "id": "raising-commissioner",
   "metadata": {},
   "outputs": [],
   "source": [
    "def make_image(results, zmin, zmax):\n",
    "    plt.clf()\n",
    "    axes = isopy.tb.create_subplots(plt, ['p0 p1 p2 p3 p4 p5 colorbar'.split()], figure_width = 18, figure_height=3, gridspec_width_ratios = [1,1,1,1,1,1,0.1])\n",
    "    colorbar = axes[f'colorbar']\n",
    "    \n",
    "    for result in results:\n",
    "        subplot, keys, sp1_key, sp2_key, grid = result\n",
    "        subplot = axes[subplot]\n",
    "        xlabel = 'double spike proportion'\n",
    "        ylabel = f'{sp1_key.mass_number} spike in {sp1_key.mass_number}, {sp2_key.mass_number} double spike'\n",
    "        title = f'{keys[0].mass_number}, {keys[1].mass_number}, {keys[2].mass_number} & {keys[3].mass_number} inversion'\n",
    "\n",
    "        isopy.tb.plot_grid(subplot, *grid.xyz(isopy.nansd), zmin=zmin, zmax=zmax, axes_xlabel=xlabel, axes_ylabel=ylabel, axes_title=title, colorbar=colorbar)\n",
    "        colorbar = False\n",
    "\n",
    "    save = io.BytesIO()\n",
    "    plt.savefig(save, format='png')\n",
    "    return Image.open(save)"
   ]
  },
  {
   "cell_type": "code",
   "execution_count": 3,
   "id": "chemical-avatar",
   "metadata": {},
   "outputs": [
    {
     "data": {
      "application/vnd.jupyter.widget-view+json": {
       "model_id": "4b969df31af646a6b4f177cb6a9a229d",
       "version_major": 2,
       "version_minor": 0
      },
      "text/plain": [
       "IntProgress(value=0, max=1)"
      ]
     },
     "metadata": {},
     "output_type": "display_data"
    }
   ],
   "source": [
    "calcprog = widgets.IntProgress(value=0, min=0, max = 1)\n",
    "display(calcprog)\n",
    "\n",
    "def calc_ds(element, fixed_voltage, fixed_key, use_fixed_key):\n",
    "    images1 = []\n",
    "    images2 = []\n",
    "    images5 = []\n",
    "    fixed_values = isopy.tb.make_ms_array(element, mf_factor=2).normalise(fixed_voltage, fixed_key)\n",
    "    all_isotopes = isopy.refval.element.isotopes[element]\n",
    "    \n",
    "    t0 = datetime.now()\n",
    "\n",
    "    all_spikes = {}\n",
    "    for isotope in all_isotopes:\n",
    "        sp = isopy.zeros(None, keys=all_isotopes)\n",
    "        sp[isotope] = 1\n",
    "        all_spikes[isotope] = sp\n",
    "\n",
    "    isotope_combinations = list(itertools.combinations(all_isotopes, 4))\n",
    "    calcprog.value=0\n",
    "    calcprog.max = len(isotope_combinations) * 7 + 1\n",
    "    calcprog.description = f'calc ({calcprog.max})'\n",
    "    \n",
    "\n",
    "    for r, keys in enumerate(isotope_combinations):\n",
    "        keys = isopy.askeylist(keys)\n",
    "        results = []\n",
    "        for i, (sp1_key, sp2_key) in enumerate(itertools.combinations(keys, 2)):\n",
    "            sp1 = all_spikes[sp1_key]\n",
    "            sp2 = all_spikes[sp2_key]\n",
    "\n",
    "            if use_fixed_key:\n",
    "                fx_key = (keys - sp1_key - sp2_key)[0] #Use first unspiked isotope\n",
    "                fx_voltage = fixed_values[fx_key]\n",
    "                results.append( (f'p{i}', keys, sp1_key, sp2_key, isopy.tb.ds_grid(element, sp1, sp2, fixed_voltage = fx_voltage, fixed_key=fx_key, inversion_keys = keys)) )\n",
    "            else:\n",
    "                results.append( (f'p{i}', keys, sp1_key, sp2_key, isopy.tb.ds_grid(element, sp1, sp2, fixed_voltage = fixed_voltage, inversion_keys = keys)) )\n",
    "            \n",
    "            calcprog.value += 1\n",
    "        \n",
    "        images1.append(make_image(results, 0, 0.01))\n",
    "        images2.append(make_image(results, 0, 0.02))\n",
    "        images5.append(make_image(results, 0, 0.05))\n",
    "                                     \n",
    "        calcprog.value += 1\n",
    "        \n",
    "    if use_fixed_key:\n",
    "        extension = f'fixed{str(fixed_voltage).replace(\".\", \"p\")}'\n",
    "    else:\n",
    "        extension = f'sum{str(fixed_voltage).replace(\".\", \"p\")}'\n",
    "    \n",
    "    image = Image.new(images1[0].mode, (images1[0].width, sum([im.height for im in images1])))\n",
    "    for i, im in enumerate(images1): image.paste(im, (0, im.height*i))\n",
    "    image.save(f'{element}_0p01_{extension}.png')\n",
    "    \n",
    "    image = Image.new(images2[0].mode, (images2[0].width, sum([im.height for im in images2])))\n",
    "    for i, im in enumerate(images2): image.paste(im, (0, im.height*i))\n",
    "    image.save(f'{element}_0p02_{extension}.png')\n",
    "    \n",
    "    image = Image.new(images5[0].mode, (images5[0].width, sum([im.height for im in images5])))\n",
    "    for i, im in enumerate(images5): image.paste(im, (0, im.height*i))\n",
    "    image.save(f'{element}_0p05_{extension}.png')\n",
    "    \n",
    "    calcprog.value += 1\n",
    "                                     \n",
    "    print(f'{element} {extension}: Calculated {len(isotope_combinations)*6} grids in {datetime.now() - t0}')"
   ]
  },
  {
   "cell_type": "code",
   "execution_count": null,
   "id": "simple-large",
   "metadata": {},
   "outputs": [
    {
     "data": {
      "application/vnd.jupyter.widget-view+json": {
       "model_id": "531d69832b6f475e8fdccec6ac47ad8f",
       "version_major": 2,
       "version_minor": 0
      },
      "text/plain": [
       "IntProgress(value=0, max=66)"
      ]
     },
     "metadata": {},
     "output_type": "display_data"
    },
    {
     "name": "stdout",
     "output_type": "stream",
     "text": [
      "Sn\n"
     ]
    }
   ],
   "source": [
    "fixed_voltage = 10\n",
    "fixed_key = None\n",
    "\n",
    "all_elements = []\n",
    "for element, isotopes in isopy.refval.element.isotopes.items():\n",
    "    if len(isotopes) >= 4: all_elements.append(element)\n",
    "        \n",
    "progress = widgets.IntProgress(value=0, min=0, max = len(all_elements)*2)\n",
    "display(progress)\n",
    "\n",
    "for element in all_elements:\n",
    "    if isopy.refval.element.atomic_number[element] < 50: \n",
    "        progress.value += 2\n",
    "        continue\n",
    "        \n",
    "    print(f'{element}')\n",
    "    calc_ds(element, fixed_voltage, fixed_key, False)\n",
    "    progress.value += 1\n",
    "    calc_ds(element, fixed_voltage, fixed_key, True)\n",
    "    \n",
    "    progress.value += 1"
   ]
  },
  {
   "cell_type": "code",
   "execution_count": 4,
   "id": "going-ambassador",
   "metadata": {},
   "outputs": [
    {
     "data": {
      "text/plain": [
       "50"
      ]
     },
     "execution_count": 4,
     "metadata": {},
     "output_type": "execute_result"
    }
   ],
   "source": [
    "isopy.refval.element.atomic_number['sn']"
   ]
  }
 ],
 "metadata": {
  "kernelspec": {
   "display_name": "main",
   "language": "python",
   "name": "main"
  },
  "language_info": {
   "codemirror_mode": {
    "name": "ipython",
    "version": 3
   },
   "file_extension": ".py",
   "mimetype": "text/x-python",
   "name": "python",
   "nbconvert_exporter": "python",
   "pygments_lexer": "ipython3",
   "version": "3.9.2"
  }
 },
 "nbformat": 4,
 "nbformat_minor": 5
}
