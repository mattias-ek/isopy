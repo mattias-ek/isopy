{
 "cells": [
  {
   "cell_type": "markdown",
   "id": "worse-rebel",
   "metadata": {},
   "source": [
    "# Tutorial Part 1: Key Strings and Key Lists\n",
    "Isopy supports a number of different kinds of geochemical data. Each type of data type has its own *flavour* of python object with unique attributes/methods useful for that particular data type. A key string is a subclass of ``str`` representing a certain flavour of data.  Isopy will automatically convert strings into the correct format so it is often not necessary for the user to strictly adhere to the key string format in normal usage. A collection of key strings is called a key list (Although key lists are in fact a subclass of tuple).\n",
    "\n",
    "This introduction does not cover all the functionality of key strings and key lists. For a comprehensive overview the isopy docs [here](https://isopy.readthedocs.io/en/latest/refpages/dtypes.html#).\n",
    "\n",
    "**Table of Content**\n",
    "\n",
    "* [MassKeyString & MassKeyList](#MassKeyString-&-MassKeyList)\n",
    "* [ElementKeyString & ElementKeyList](#ElementKeyString-&-ElementKeyList)\n",
    "* [IsotopeKeyString & IsotopeKeyList](#IsotopeKeyString-&-IsotopeKeyList)\n",
    "* [RatioKeyString & RatioKeyList](#RatioKeyString-&-RatioKeyList)\n",
    "* [GeneralKeyString & GeneralKeyList](#GeneralKeyString-&-GeneralKeyList)\n",
    "* [MixedKeyList](#MixedKeyList)\n",
    "* [keystring & keylist](#keystring-&-keylist)\n",
    "* [askeystring & askeylist](#askeystring-&-askeylist)\n",
    "* [Turning key strings into python strings](#Turning-key-strings-into-python-strings)\n",
    "* [Evaluating key strings](#Evaluating-key-strings)\n",
    "* [Evaluating key lists](#Evaluating-key-lists)\n",
    "* [Key list methods](#Key-list-methods)\n",
    "* [Filtering key lists](#Filtering-key-lists)"
   ]
  },
  {
   "cell_type": "code",
   "execution_count": 1,
   "id": "baking-account",
   "metadata": {},
   "outputs": [],
   "source": [
    "# dont forget to import isopy\n",
    "import isopy"
   ]
  },
  {
   "cell_type": "markdown",
   "id": "downtown-spending",
   "metadata": {},
   "source": [
    "## MassKeyString & MassKeyList\n",
    "The ``mass``  flavour represent data described by a mass number. Therefore key strings are restricted to integer numbers, e.g. ``\"105\"``. Key strings can be created from both integers and strings."
   ]
  },
  {
   "cell_type": "code",
   "execution_count": 3,
   "id": "advised-forty",
   "metadata": {},
   "outputs": [
    {
     "data": {
      "text/plain": [
       "(MassKeyString('104'), MassKeyString('105'))"
      ]
     },
     "execution_count": 3,
     "metadata": {},
     "output_type": "execute_result"
    }
   ],
   "source": [
    "isopy.MassKeyString('104'), isopy.MassKeyString(105)"
   ]
  },
  {
   "cell_type": "code",
   "execution_count": 4,
   "id": "preceding-genesis",
   "metadata": {},
   "outputs": [
    {
     "data": {
      "text/plain": [
       "MassKeyList('104', '105')"
      ]
     },
     "execution_count": 4,
     "metadata": {},
     "output_type": "execute_result"
    }
   ],
   "source": [
    "isopy.MassKeyList('104', 105)"
   ]
  },
  {
   "cell_type": "markdown",
   "id": "qualified-performance",
   "metadata": {},
   "source": [
    "**Note** when indexing an isopy array only a string can be used to represent the column as integer values represent row numbers."
   ]
  },
  {
   "cell_type": "markdown",
   "id": "short-allocation",
   "metadata": {},
   "source": [
    "## ElementKeyString & ElementKeyList\n",
    "The ``element``  flavour represents elemental data using the element symbol. Key string are restricted to one or two characters. The first character is always\n",
    "in upper case and the second character, if present, is always in lower case, e.g. ``\"Pd\"``. Isopy will automatically format strings so they adhere to this format so any case can be used for element key strings. You can also use the full english names for the elements."
   ]
  },
  {
   "cell_type": "code",
   "execution_count": 5,
   "id": "requested-volunteer",
   "metadata": {},
   "outputs": [
    {
     "data": {
      "text/plain": [
       "(ElementKeyString('Pd'), ElementKeyString('Cd'))"
      ]
     },
     "execution_count": 5,
     "metadata": {},
     "output_type": "execute_result"
    }
   ],
   "source": [
    "isopy.ElementKeyString('Pd'), isopy.ElementKeyString('Cadmium')"
   ]
  },
  {
   "cell_type": "code",
   "execution_count": 6,
   "id": "wanted-economy",
   "metadata": {},
   "outputs": [
    {
     "data": {
      "text/plain": [
       "ElementKeyList('Pd', 'Pd', 'Pd', 'Cd', 'Cd', 'Cd')"
      ]
     },
     "execution_count": 6,
     "metadata": {},
     "output_type": "execute_result"
    }
   ],
   "source": [
    "isopy.ElementKeyList('Pd', 'pd', 'PD', 'Cadmium', 'cadmium', 'CADMIUM')"
   ]
  },
  {
   "cell_type": "markdown",
   "id": "a2d5a55e-a4d4-41a8-9781-c9ca9c858394",
   "metadata": {},
   "source": [
    "---\n",
    "You can create a key list with all the naturally occurring isotopes of an element"
   ]
  },
  {
   "cell_type": "code",
   "execution_count": 35,
   "id": "f98480df-9950-4720-ad43-d341579c2734",
   "metadata": {},
   "outputs": [
    {
     "data": {
      "text/plain": [
       "IsotopeKeyList('102Pd', '104Pd', '105Pd', '106Pd', '108Pd', '110Pd')"
      ]
     },
     "execution_count": 35,
     "metadata": {},
     "output_type": "execute_result"
    }
   ],
   "source": [
    "isopy.ElementKeyString('Pd').isotopes()"
   ]
  },
  {
   "cell_type": "markdown",
   "id": "prostate-emphasis",
   "metadata": {},
   "source": [
    "## IsotopeKeyString & IsotopeKeyList\n",
    "The ``isotope``  flavour represent isotope data and the key string consists of a ``mass`` key string followed by an ``element`` key string, e.g ``\"105Pd\"``. The order of the mass number and the element symbol is not enforced when creating isotope key strings. A ``-`` can be used to separate the mass number and the element symbol."
   ]
  },
  {
   "cell_type": "code",
   "execution_count": 7,
   "id": "afraid-tactics",
   "metadata": {},
   "outputs": [
    {
     "data": {
      "text/plain": [
       "(IsotopeKeyString('105Pd'), IsotopeKeyString('105Pd'))"
      ]
     },
     "execution_count": 7,
     "metadata": {},
     "output_type": "execute_result"
    }
   ],
   "source": [
    "isopy.IsotopeKeyString('105pd'), isopy.IsotopeKeyString('pd105')"
   ]
  },
  {
   "cell_type": "code",
   "execution_count": 8,
   "id": "excellent-dining",
   "metadata": {},
   "outputs": [
    {
     "data": {
      "text/plain": [
       "IsotopeKeyList('102Pd', '104Pd', '105Pd', '106Pd', '108Pd', '110Pd')"
      ]
     },
     "execution_count": 8,
     "metadata": {},
     "output_type": "execute_result"
    }
   ],
   "source": [
    "isopy.IsotopeKeyList('102Pd', '104pd', 'Pd105', '106Palladium', 'palladium-108', '110-PALLADIUM' )"
   ]
  },
  {
   "cell_type": "markdown",
   "id": "dressed-specialist",
   "metadata": {},
   "source": [
    "---\n",
    "The mass number and element symbol of a key string can be accessed by:"
   ]
  },
  {
   "cell_type": "code",
   "execution_count": 9,
   "id": "enabling-expert",
   "metadata": {},
   "outputs": [
    {
     "data": {
      "text/plain": [
       "(MassKeyString('105'), ElementKeyString('Pd'))"
      ]
     },
     "execution_count": 9,
     "metadata": {},
     "output_type": "execute_result"
    }
   ],
   "source": [
    "key = isopy.IsotopeKeyString('105pd')\n",
    "key.mass_number, key.element_symbol"
   ]
  },
  {
   "cell_type": "markdown",
   "id": "vietnamese-advertiser",
   "metadata": {},
   "source": [
    "Likewise for key lists:"
   ]
  },
  {
   "cell_type": "code",
   "execution_count": 10,
   "id": "regional-albuquerque",
   "metadata": {},
   "outputs": [
    {
     "data": {
      "text/plain": [
       "MassKeyList('102', '104', '105', '106', '108', '110')"
      ]
     },
     "execution_count": 10,
     "metadata": {},
     "output_type": "execute_result"
    }
   ],
   "source": [
    "keylist = isopy.IsotopeKeyList('102Pd', '104pd', 'Pd105', '106Palladium', 'palladium-108', '110-PALLADIUM' )\n",
    "keylist.mass_numbers"
   ]
  },
  {
   "cell_type": "code",
   "execution_count": 11,
   "id": "environmental-municipality",
   "metadata": {},
   "outputs": [
    {
     "data": {
      "text/plain": [
       "ElementKeyList('Pd', 'Pd', 'Pd', 'Pd', 'Pd', 'Pd')"
      ]
     },
     "execution_count": 11,
     "metadata": {},
     "output_type": "execute_result"
    }
   ],
   "source": [
    "keylist.element_symbols"
   ]
  },
  {
   "cell_type": "markdown",
   "id": "36142c7d-7f14-411b-ac2e-0b68fb592128",
   "metadata": {},
   "source": [
    "## MoleculeKeyString & MoleculeKeyList\n",
    "The ``molecule`` flavour represents a molecule made up of ``element`` and/or ``isotope`` key strings. The creation of molecule strings is more strict than other key strings. The element symbol must be properly capitalised and the the mass_number of an isotope key string must be in front of the element symbol. Brackets can be used to group elements/isotopes."
   ]
  },
  {
   "cell_type": "code",
   "execution_count": 31,
   "id": "4a29920c-67db-4d18-8423-a2913d41f676",
   "metadata": {},
   "outputs": [
    {
     "data": {
      "text/plain": [
       "(MoleculeKeyString('H2O'), MoleculeKeyString('(1H)2(16O)'))"
      ]
     },
     "execution_count": 31,
     "metadata": {},
     "output_type": "execute_result"
    }
   ],
   "source": [
    "isopy.MoleculeKeyString('H2O'), isopy.MoleculeKeyString('(1H)2(16O)')"
   ]
  },
  {
   "cell_type": "code",
   "execution_count": 40,
   "id": "944f5aef-2f66-4e4b-be4c-77c8d0009bcb",
   "metadata": {},
   "outputs": [
    {
     "data": {
      "text/plain": [
       "MoleculeKeyList('HCl', 'HNO3', 'HF', 'H2O')"
      ]
     },
     "execution_count": 40,
     "metadata": {},
     "output_type": "execute_result"
    }
   ],
   "source": [
    "isopy.MoleculeKeyList('HCl', 'HNO3', 'HF', 'H2O')"
   ]
  },
  {
   "cell_type": "markdown",
   "id": "12b71f72-3309-417b-9d14-9145424faea5",
   "metadata": {},
   "source": [
    "---\n",
    "You can expand a molecule key string containing elements into a key list with all naturally occurring isotopes"
   ]
  },
  {
   "cell_type": "code",
   "execution_count": 43,
   "id": "63e40b59-2a3e-45e5-9dad-c572c0dd46b8",
   "metadata": {},
   "outputs": [
    {
     "data": {
      "text/plain": [
       "MoleculeKeyList('(1H)(35Cl)', '(2H)(35Cl)', '(1H)(37Cl)', '(2H)(37Cl)')"
      ]
     },
     "execution_count": 43,
     "metadata": {},
     "output_type": "execute_result"
    }
   ],
   "source": [
    "isopy.MoleculeKeyString('HCl').isotopes()"
   ]
  },
  {
   "cell_type": "markdown",
   "id": "incident-percentage",
   "metadata": {},
   "source": [
    "## RatioKeyString & RatioKeyList"
   ]
  },
  {
   "cell_type": "markdown",
   "id": "formed-remove",
   "metadata": {},
   "source": [
    "The ``ratio``  flavour represents a ratio between two sets of data. The ratio key string consists of a numerator key string and a denominator key string, e.g. ``\"108Pd/105Pd\"``. The numerator and denominator can be of different flavours."
   ]
  },
  {
   "cell_type": "code",
   "execution_count": 12,
   "id": "wireless-theology",
   "metadata": {},
   "outputs": [
    {
     "data": {
      "text/plain": [
       "RatioKeyString('108Pd/105Pd')"
      ]
     },
     "execution_count": 12,
     "metadata": {},
     "output_type": "execute_result"
    }
   ],
   "source": [
    "isopy.RatioKeyString('108pd/105pd')"
   ]
  },
  {
   "cell_type": "code",
   "execution_count": 13,
   "id": "resident-imagination",
   "metadata": {},
   "outputs": [
    {
     "data": {
      "text/plain": [
       "RatioKeyList('Ru/Pd', 'Rh/Pd', 'Ag/Pd', 'Cd/Pd')"
      ]
     },
     "execution_count": 13,
     "metadata": {},
     "output_type": "execute_result"
    }
   ],
   "source": [
    "isopy.RatioKeyList('ru/pd', 'rh/pd', 'ag/pd', 'cd/pd')"
   ]
  },
  {
   "cell_type": "markdown",
   "id": "consistent-occupation",
   "metadata": {},
   "source": [
    "You can mix the flavours of the denominators and numerators in a ratio key list"
   ]
  },
  {
   "cell_type": "code",
   "execution_count": 14,
   "id": "handy-amount",
   "metadata": {},
   "outputs": [
    {
     "data": {
      "text/plain": [
       "RatioKeyList('Ru/Pd', '103Rh/105Pd', '111Cd/Pd')"
      ]
     },
     "execution_count": 14,
     "metadata": {},
     "output_type": "execute_result"
    }
   ],
   "source": [
    "isopy.RatioKeyList('ru/pd', '103rh/105pd', '111cd/pd')"
   ]
  },
  {
   "cell_type": "markdown",
   "id": "owned-laptop",
   "metadata": {},
   "source": [
    "---\n",
    "The numerator and denominator key string can be accesed by:"
   ]
  },
  {
   "cell_type": "code",
   "execution_count": 15,
   "id": "korean-circle",
   "metadata": {},
   "outputs": [
    {
     "data": {
      "text/plain": [
       "(IsotopeKeyString('108Pd'), IsotopeKeyString('105Pd'))"
      ]
     },
     "execution_count": 15,
     "metadata": {},
     "output_type": "execute_result"
    }
   ],
   "source": [
    "key = isopy.RatioKeyString('108pd/105pd')\n",
    "key.numerator, key.denominator"
   ]
  },
  {
   "cell_type": "markdown",
   "id": "overhead-genealogy",
   "metadata": {},
   "source": [
    "Likewise for lists:"
   ]
  },
  {
   "cell_type": "code",
   "execution_count": 16,
   "id": "developing-pharmacology",
   "metadata": {},
   "outputs": [
    {
     "data": {
      "text/plain": [
       "ElementKeyList('Ru', 'Rh', 'Ag', 'Cd')"
      ]
     },
     "execution_count": 16,
     "metadata": {},
     "output_type": "execute_result"
    }
   ],
   "source": [
    "keylist = isopy.RatioKeyList('ru/pd', 'rh/pd', 'ag/pd', 'cd/pd')\n",
    "keylist.numerators"
   ]
  },
  {
   "cell_type": "code",
   "execution_count": 17,
   "id": "intelligent-individual",
   "metadata": {},
   "outputs": [
    {
     "data": {
      "text/plain": [
       "ElementKeyList('Pd', 'Pd', 'Pd', 'Pd')"
      ]
     },
     "execution_count": 17,
     "metadata": {},
     "output_type": "execute_result"
    }
   ],
   "source": [
    "keylist.denominators"
   ]
  },
  {
   "cell_type": "markdown",
   "id": "confirmed-happening",
   "metadata": {},
   "source": [
    "---\n",
    "If a ratio key list has a common denominator this key string can be accessed using the ``common_denominator`` attribute. This attribute will be ``None`` if there is no common denominator."
   ]
  },
  {
   "cell_type": "code",
   "execution_count": 18,
   "id": "neural-catalog",
   "metadata": {},
   "outputs": [
    {
     "data": {
      "text/plain": [
       "ElementKeyString('Pd')"
      ]
     },
     "execution_count": 18,
     "metadata": {},
     "output_type": "execute_result"
    }
   ],
   "source": [
    "isopy.RatioKeyList('ru/pd', 'rh/pd', 'ag/pd', 'cd/pd').common_denominator"
   ]
  },
  {
   "cell_type": "markdown",
   "id": "needed-ready",
   "metadata": {},
   "source": [
    "---\n",
    "You can also create ratio key strings using the ``/`` operator:"
   ]
  },
  {
   "cell_type": "code",
   "execution_count": 19,
   "id": "measured-attraction",
   "metadata": {},
   "outputs": [
    {
     "data": {
      "text/plain": [
       "RatioKeyString('108Pd/105Pd')"
      ]
     },
     "execution_count": 19,
     "metadata": {},
     "output_type": "execute_result"
    }
   ],
   "source": [
    "isopy.IsotopeKeyString('108pd') / '105pd' #Only one of the strings have to be a key string"
   ]
  },
  {
   "cell_type": "code",
   "execution_count": 20,
   "id": "dimensional-thinking",
   "metadata": {},
   "outputs": [
    {
     "data": {
      "text/plain": [
       "RatioKeyList('Ru/Pd', 'Rh/Pd', 'Ag/Pd', 'Cd/Pd')"
      ]
     },
     "execution_count": 20,
     "metadata": {},
     "output_type": "execute_result"
    }
   ],
   "source": [
    "isopy.ElementKeyList('ru', 'rh', 'ag', 'cd') / 'pd' # A single string will be used for all key strings in a list"
   ]
  },
  {
   "cell_type": "code",
   "execution_count": 21,
   "id": "nuclear-brunei",
   "metadata": {},
   "outputs": [
    {
     "data": {
      "text/plain": [
       "RatioKeyList('Ru/Pd', 'Rh/Pd', 'Ag/Pd', 'Cd/Pd')"
      ]
     },
     "execution_count": 21,
     "metadata": {},
     "output_type": "execute_result"
    }
   ],
   "source": [
    "['ru', 'rh', 'ag', 'cd'] / isopy.ElementKeyString('pd') #This also works"
   ]
  },
  {
   "cell_type": "markdown",
   "id": "breathing-bottle",
   "metadata": {},
   "source": [
    "---\n",
    "You can create nested ratio key strings using multiple '/' in a string"
   ]
  },
  {
   "cell_type": "code",
   "execution_count": 22,
   "id": "automotive-trace",
   "metadata": {},
   "outputs": [
    {
     "data": {
      "text/plain": [
       "RatioKeyString('Rh/Ag//Pd')"
      ]
     },
     "execution_count": 22,
     "metadata": {},
     "output_type": "execute_result"
    }
   ],
   "source": [
    "key = isopy.RatioKeyString('rh/ag//pd'); key"
   ]
  },
  {
   "cell_type": "code",
   "execution_count": 23,
   "id": "willing-willow",
   "metadata": {},
   "outputs": [
    {
     "data": {
      "text/plain": [
       "(RatioKeyString('Rh/Ag'), ElementKeyString('Pd'))"
      ]
     },
     "execution_count": 23,
     "metadata": {},
     "output_type": "execute_result"
    }
   ],
   "source": [
    "key.numerator, key.denominator"
   ]
  },
  {
   "cell_type": "markdown",
   "id": "french-norwegian",
   "metadata": {},
   "source": [
    "**Note** It is only possible to create up to 9 nested ratios."
   ]
  },
  {
   "cell_type": "markdown",
   "id": "sticky-watts",
   "metadata": {},
   "source": [
    "## GeneralKeyString & GeneralKeyList\n",
    "The ``general``  flavour represent data that cannot be described by any of the other flavours. There are no formatting restrictions for these key strings so any string is valid."
   ]
  },
  {
   "cell_type": "code",
   "execution_count": 24,
   "id": "fifth-camera",
   "metadata": {},
   "outputs": [
    {
     "data": {
      "text/plain": [
       "GeneralKeyString('Hermione')"
      ]
     },
     "execution_count": 24,
     "metadata": {},
     "output_type": "execute_result"
    }
   ],
   "source": [
    "isopy.GeneralKeyString('Hermione')"
   ]
  },
  {
   "cell_type": "code",
   "execution_count": 25,
   "id": "political-aquarium",
   "metadata": {},
   "outputs": [
    {
     "data": {
      "text/plain": [
       "GeneralKeyList('Harry', 'Ron', 'Hermione')"
      ]
     },
     "execution_count": 25,
     "metadata": {},
     "output_type": "execute_result"
    }
   ],
   "source": [
    "isopy.GeneralKeyList('Harry', 'Ron', 'Hermione')"
   ]
  },
  {
   "cell_type": "markdown",
   "id": "bacterial-consent",
   "metadata": {},
   "source": [
    "## MixedKeyList\n",
    "The ``mixed`` flavour represet data that contains a mix of flavours. "
   ]
  },
  {
   "cell_type": "code",
   "execution_count": 26,
   "id": "little-residence",
   "metadata": {},
   "outputs": [
    {
     "data": {
      "text/plain": [
       "MixedKeyList('Pd', 'Cd', '101Ru', '105Pd')"
      ]
     },
     "execution_count": 26,
     "metadata": {},
     "output_type": "execute_result"
    }
   ],
   "source": [
    "isopy.MixedKeyList('pd', 'cd', '101ru', '105pd')"
   ]
  },
  {
   "cell_type": "markdown",
   "id": "fossil-knowing",
   "metadata": {},
   "source": [
    "If we slice the list so that only one flavour of keys remain then the returned list is will be of that flavour."
   ]
  },
  {
   "cell_type": "code",
   "execution_count": 27,
   "id": "reasonable-albert",
   "metadata": {},
   "outputs": [
    {
     "data": {
      "text/plain": [
       "(ElementKeyList('Pd', 'Cd'), IsotopeKeyList('101Ru', '105Pd'))"
      ]
     },
     "execution_count": 27,
     "metadata": {},
     "output_type": "execute_result"
    }
   ],
   "source": [
    "keylist = isopy.MixedKeyList('pd', 'cd', '101ru', '105pd')\n",
    "keylist[:2], keylist[2:]"
   ]
  },
  {
   "cell_type": "markdown",
   "id": "simple-fighter",
   "metadata": {},
   "source": [
    "If we try to mix two different kinds of flavours we typically get a ``Mixed`` flavour in return"
   ]
  },
  {
   "cell_type": "code",
   "execution_count": 28,
   "id": "occupational-technology",
   "metadata": {},
   "outputs": [
    {
     "data": {
      "text/plain": [
       "MixedKeyList('Pd', 'Cd', '101Ru', '105Pd')"
      ]
     },
     "execution_count": 28,
     "metadata": {},
     "output_type": "execute_result"
    }
   ],
   "source": [
    "isopy.ElementKeyList('pd', 'cd') + isopy.IsotopeKeyList('101ru', '105pd')"
   ]
  },
  {
   "cell_type": "markdown",
   "id": "narrow-subcommittee",
   "metadata": {},
   "source": [
    "**Note** There is not a ``Mixed`` key string."
   ]
  },
  {
   "cell_type": "markdown",
   "id": "corresponding-programming",
   "metadata": {},
   "source": [
    "## keystring & askeystring\n",
    "These functions will convert strings into one of the isopy key string flavours. They will first attempt to convert the string into a mass, element, isotope or ratio key string. If that fails a general key string is returned."
   ]
  },
  {
   "cell_type": "code",
   "execution_count": 28,
   "id": "exotic-montgomery",
   "metadata": {},
   "outputs": [
    {
     "data": {
      "text/plain": [
       "(ElementKeyString('Pd'), IsotopeKeyString('105Pd'))"
      ]
     },
     "execution_count": 28,
     "metadata": {},
     "output_type": "execute_result"
    }
   ],
   "source": [
    "isopy.keystring('pd'), isopy.askeystring('105pd')"
   ]
  },
  {
   "cell_type": "markdown",
   "id": "interior-vacation",
   "metadata": {},
   "source": [
    "The difference between the functions is that ``askeystring`` will not attempt to convert a string that is already a key string."
   ]
  },
  {
   "cell_type": "code",
   "execution_count": 29,
   "id": "professional-facing",
   "metadata": {},
   "outputs": [
    {
     "data": {
      "text/plain": [
       "(ElementKeyString('Pd'), GeneralKeyString('pd'))"
      ]
     },
     "execution_count": 29,
     "metadata": {},
     "output_type": "execute_result"
    }
   ],
   "source": [
    "key = isopy.GeneralKeyString('pd')\n",
    "isopy.keystring(key), isopy.askeystring(key)"
   ]
  },
  {
   "cell_type": "markdown",
   "id": "legislative-niagara",
   "metadata": {},
   "source": [
    "## keylist & askeylist\n",
    "These functions will attempt to convert the input into a key string list. They will first attempt to convert the input into a mass, element, isotope or ratio key list. If that fails a mixed key list is returned."
   ]
  },
  {
   "cell_type": "code",
   "execution_count": 30,
   "id": "smoking-rogers",
   "metadata": {},
   "outputs": [
    {
     "data": {
      "text/plain": [
       "(ElementKeyList('Ru', 'Pd', 'Cd'), MixedKeyList('Ru', '105Pd', 'hermione'))"
      ]
     },
     "execution_count": 30,
     "metadata": {},
     "output_type": "execute_result"
    }
   ],
   "source": [
    "isopy.keylist('ru', 'pd', 'cd'), isopy.keylist('ru', '105pd', 'hermione')"
   ]
  },
  {
   "cell_type": "markdown",
   "id": "cooperative-defeat",
   "metadata": {},
   "source": [
    "The difference between the functions is that ``askeylist`` only takes a single input and will not attempt to convert the input if it is already a key list."
   ]
  },
  {
   "cell_type": "code",
   "execution_count": 31,
   "id": "broke-preview",
   "metadata": {},
   "outputs": [
    {
     "data": {
      "text/plain": [
       "(ElementKeyList('Ru', 'Pd', 'Cd'),\n",
       " GeneralKeyList('Ruthenium', 'Palladium', 'Cadmium'))"
      ]
     },
     "execution_count": 31,
     "metadata": {},
     "output_type": "execute_result"
    }
   ],
   "source": [
    "keylist = isopy.GeneralKeyList('Ruthenium', 'Palladium', 'Cadmium')\n",
    "isopy.keylist(keylist), isopy.askeylist(keylist)"
   ]
  },
  {
   "cell_type": "markdown",
   "id": "confused-decade",
   "metadata": {},
   "source": [
    "If you want a general key list rather than a mixed key list should set the ``mix_flavours`` argument to ``False``"
   ]
  },
  {
   "cell_type": "code",
   "execution_count": 32,
   "id": "mobile-humor",
   "metadata": {},
   "outputs": [
    {
     "data": {
      "text/plain": [
       "(MixedKeyList('Ru', '105Pd', 'hermione'),\n",
       " GeneralKeyList('ru', '105pd', 'hermione'))"
      ]
     },
     "execution_count": 32,
     "metadata": {},
     "output_type": "execute_result"
    }
   ],
   "source": [
    "isopy.keylist('ru', '105pd', 'hermione'), isopy.keylist('ru', '105pd', 'hermione', mix_flavours=False)"
   ]
  },
  {
   "cell_type": "markdown",
   "id": "political-player",
   "metadata": {},
   "source": [
    "## Turning key strings into python strings\n",
    "You can convert a key string back into a normal string using the ``str()`` function or the ``str()`` method of the key string."
   ]
  },
  {
   "cell_type": "code",
   "execution_count": 45,
   "id": "damaged-detection",
   "metadata": {},
   "outputs": [
    {
     "data": {
      "text/plain": [
       "('Pd', 'Pd')"
      ]
     },
     "execution_count": 45,
     "metadata": {},
     "output_type": "execute_result"
    }
   ],
   "source": [
    "key = isopy.keystring('pd')\n",
    "str(key), key.str()"
   ]
  },
  {
   "cell_type": "markdown",
   "id": "hydraulic-aggregate",
   "metadata": {},
   "source": [
    "The ``str()`` method also allows you to format the returned string using a number of predefined keywords."
   ]
  },
  {
   "cell_type": "code",
   "execution_count": 46,
   "id": "certain-aurora",
   "metadata": {},
   "outputs": [
    {
     "data": {
      "text/plain": [
       "'Pd, pd, PD, Palladium, palladium, PALLADIUM'"
      ]
     },
     "execution_count": 46,
     "metadata": {},
     "output_type": "execute_result"
    }
   ],
   "source": [
    "key.str('{Es}, {es}, {ES}, {Name}, {name}, {NAME}') # 'es' is the element symbol and 'name' the full name"
   ]
  },
  {
   "cell_type": "code",
   "execution_count": 47,
   "id": "neither-fraction",
   "metadata": {},
   "outputs": [
    {
     "data": {
      "text/plain": [
       "'Palladium'"
      ]
     },
     "execution_count": 47,
     "metadata": {},
     "output_type": "execute_result"
    }
   ],
   "source": [
    "key.str('Name') #you can also pass a keyword directly"
   ]
  },
  {
   "cell_type": "markdown",
   "id": "bright-magnet",
   "metadata": {},
   "source": [
    "Have a look at the key string documentation for a detailed explanation of the different format options for each key string flavour."
   ]
  },
  {
   "cell_type": "markdown",
   "id": "retained-catholic",
   "metadata": {},
   "source": [
    "---\n",
    "Similarly, key lists return a list of strings using the ``strlist()`` method."
   ]
  },
  {
   "cell_type": "code",
   "execution_count": 36,
   "id": "plastic-toddler",
   "metadata": {},
   "outputs": [
    {
     "data": {
      "text/plain": [
       "['Ru', 'Pd', 'Cd']"
      ]
     },
     "execution_count": 36,
     "metadata": {},
     "output_type": "execute_result"
    }
   ],
   "source": [
    "keylist = isopy.keylist('ru', 'pd', 'cd')\n",
    "keylist.strlist()"
   ]
  },
  {
   "cell_type": "markdown",
   "id": "functional-retail",
   "metadata": {},
   "source": [
    "This method allows you to format the key strings using the same formatting options as the key string"
   ]
  },
  {
   "cell_type": "code",
   "execution_count": 37,
   "id": "nominated-madonna",
   "metadata": {},
   "outputs": [
    {
     "data": {
      "text/plain": [
       "['Ru, Ruthenium', 'Pd, Palladium', 'Cd, Cadmium']"
      ]
     },
     "execution_count": 37,
     "metadata": {},
     "output_type": "execute_result"
    }
   ],
   "source": [
    "keylist.strlist('{Es}, {Name}')"
   ]
  },
  {
   "cell_type": "code",
   "execution_count": 38,
   "id": "rapid-biography",
   "metadata": {},
   "outputs": [
    {
     "data": {
      "text/plain": [
       "['Ruthenium', 'Palladium', 'Cadmium']"
      ]
     },
     "execution_count": 38,
     "metadata": {},
     "output_type": "execute_result"
    }
   ],
   "source": [
    "keylist.strlist('Name')"
   ]
  },
  {
   "cell_type": "markdown",
   "id": "palestinian-stamp",
   "metadata": {},
   "source": [
    "## Evaluating key strings\n",
    "Any python string that can be converted into a key string with the same value will evaluate as ``True``, e.g."
   ]
  },
  {
   "cell_type": "code",
   "execution_count": 39,
   "id": "aggregate-intersection",
   "metadata": {},
   "outputs": [
    {
     "data": {
      "text/plain": [
       "True"
      ]
     },
     "execution_count": 39,
     "metadata": {},
     "output_type": "execute_result"
    }
   ],
   "source": [
    "isopy.keystring('105pd') == 'palladium-105'"
   ]
  },
  {
   "cell_type": "markdown",
   "id": "still-virgin",
   "metadata": {},
   "source": [
    "**Note** However, comparing against another key string flavour will always return ``False`` even if the string value could be converted, e.g."
   ]
  },
  {
   "cell_type": "code",
   "execution_count": 48,
   "id": "invalid-riverside",
   "metadata": {},
   "outputs": [
    {
     "data": {
      "text/plain": [
       "False"
      ]
     },
     "execution_count": 48,
     "metadata": {},
     "output_type": "execute_result"
    }
   ],
   "source": [
    "isopy.ElementKeyString('Pd') == isopy.GeneralKeyString('Pd')"
   ]
  },
  {
   "cell_type": "markdown",
   "id": "dental-singer",
   "metadata": {},
   "source": [
    "---\n",
    "Mass key strings allow you to use ``<, >, <=, >=`` to compare the mass number against other mass key strings or scalar values"
   ]
  },
  {
   "cell_type": "code",
   "execution_count": 41,
   "id": "associate-miller",
   "metadata": {},
   "outputs": [
    {
     "data": {
      "text/plain": [
       "(True, False, True, True, True)"
      ]
     },
     "execution_count": 41,
     "metadata": {},
     "output_type": "execute_result"
    }
   ],
   "source": [
    "mass = isopy.keystring(105)\n",
    "mass > 100, mass < 105, mass >= 100.0, mass <= 105.0, mass > isopy.keystring('100')"
   ]
  },
  {
   "cell_type": "markdown",
   "id": "rotary-mistake",
   "metadata": {},
   "source": [
    "---\n",
    "You can test if a mass number or element symbol is part of a isotope key string using ``in``"
   ]
  },
  {
   "cell_type": "code",
   "execution_count": 42,
   "id": "perceived-sharing",
   "metadata": {},
   "outputs": [
    {
     "data": {
      "text/plain": [
       "(True, True)"
      ]
     },
     "execution_count": 42,
     "metadata": {},
     "output_type": "execute_result"
    }
   ],
   "source": [
    "key = isopy.keystring('105pd')\n",
    "'palladium' in key, 105 in key"
   ]
  },
  {
   "cell_type": "markdown",
   "id": "disabled-bonus",
   "metadata": {},
   "source": [
    "Similarly you can use ``in`` to test whether a string is the numerator of denominator of a ratio key string"
   ]
  },
  {
   "cell_type": "code",
   "execution_count": 43,
   "id": "vital-range",
   "metadata": {},
   "outputs": [
    {
     "data": {
      "text/plain": [
       "(True, True)"
      ]
     },
     "execution_count": 43,
     "metadata": {},
     "output_type": "execute_result"
    }
   ],
   "source": [
    "key = isopy.keystring('108pd/105pd')\n",
    "'108pd' in key, 'pd105' in key"
   ]
  },
  {
   "cell_type": "markdown",
   "id": "basic-fantasy",
   "metadata": {},
   "source": [
    "## Evaluating key lists\n",
    "Just like a normal list you can use ``in`` to test membership of a key list."
   ]
  },
  {
   "cell_type": "code",
   "execution_count": 44,
   "id": "gothic-reason",
   "metadata": {},
   "outputs": [
    {
     "data": {
      "text/plain": [
       "(True, False)"
      ]
     },
     "execution_count": 44,
     "metadata": {},
     "output_type": "execute_result"
    }
   ],
   "source": [
    "keylist = isopy.keylist('ru', 'pd', 'cd')\n",
    "'palladium' in keylist, 'ag' in keylist"
   ]
  },
  {
   "cell_type": "markdown",
   "id": "modern-commodity",
   "metadata": {},
   "source": [
    "You can compare two key lists using ``==`` and ``!=``."
   ]
  },
  {
   "cell_type": "code",
   "execution_count": 45,
   "id": "urban-auckland",
   "metadata": {},
   "outputs": [
    {
     "data": {
      "text/plain": [
       "True"
      ]
     },
     "execution_count": 45,
     "metadata": {},
     "output_type": "execute_result"
    }
   ],
   "source": [
    "isopy.keylist(['ru', 'pd', 'cd']) == ['ru', 'pd', 'cd']"
   ]
  },
  {
   "cell_type": "markdown",
   "id": "fatal-programming",
   "metadata": {},
   "source": [
    "---\n",
    "You can create a new extended key list using ``+``"
   ]
  },
  {
   "cell_type": "code",
   "execution_count": 46,
   "id": "amazing-skirt",
   "metadata": {},
   "outputs": [
    {
     "data": {
      "text/plain": [
       "ElementKeyList('Ru', 'Pd', 'Cd', 'Rh', 'Ag')"
      ]
     },
     "execution_count": 46,
     "metadata": {},
     "output_type": "execute_result"
    }
   ],
   "source": [
    "isopy.keylist(['ru', 'pd', 'cd']) + ['rh', 'ag']"
   ]
  },
  {
   "cell_type": "markdown",
   "id": "interior-costa",
   "metadata": {},
   "source": [
    "Similarly you can remove items from key lists using ``-``"
   ]
  },
  {
   "cell_type": "code",
   "execution_count": 47,
   "id": "legal-preview",
   "metadata": {},
   "outputs": [
    {
     "data": {
      "text/plain": [
       "ElementKeyList('Ru', 'Cd')"
      ]
     },
     "execution_count": 47,
     "metadata": {},
     "output_type": "execute_result"
    }
   ],
   "source": [
    "isopy.keylist(['ru', 'pd', 'cd']) - 'pd'"
   ]
  },
  {
   "cell_type": "markdown",
   "id": "aggregate-grounds",
   "metadata": {},
   "source": [
    "---\n",
    "You can do *and*, *or* and *xor* comparisons using ``&``, ``|`` and ``^``"
   ]
  },
  {
   "cell_type": "code",
   "execution_count": 49,
   "id": "dense-nightlife",
   "metadata": {},
   "outputs": [
    {
     "data": {
      "text/plain": [
       "ElementKeyList('Pd', 'Cd')"
      ]
     },
     "execution_count": 49,
     "metadata": {},
     "output_type": "execute_result"
    }
   ],
   "source": [
    "isopy.keylist(['ru', 'pd', 'cd']) & ['pd', 'cd', 'te'] #returns keys in both lists"
   ]
  },
  {
   "cell_type": "code",
   "execution_count": 50,
   "id": "irish-appearance",
   "metadata": {},
   "outputs": [
    {
     "data": {
      "text/plain": [
       "ElementKeyList('Ru', 'Pd', 'Cd', 'Te')"
      ]
     },
     "execution_count": 50,
     "metadata": {},
     "output_type": "execute_result"
    }
   ],
   "source": [
    "isopy.keylist(['ru', 'pd', 'cd']) | ['pd', 'cd', 'te'] #returns keys in at least one list"
   ]
  },
  {
   "cell_type": "code",
   "execution_count": 51,
   "id": "naval-virgin",
   "metadata": {},
   "outputs": [
    {
     "data": {
      "text/plain": [
       "ElementKeyList('Ru', 'Te')"
      ]
     },
     "execution_count": 51,
     "metadata": {},
     "output_type": "execute_result"
    }
   ],
   "source": [
    "isopy.keylist(['ru', 'pd', 'cd']) ^ ['pd', 'cd', 'te'] #returns key in one list but not the other"
   ]
  },
  {
   "cell_type": "markdown",
   "id": "compound-catch",
   "metadata": {},
   "source": [
    "**Note** that ``+``, ``-``, ``&``, ``|`` and ``^`` all return a new key list."
   ]
  },
  {
   "cell_type": "markdown",
   "id": "capable-hunter",
   "metadata": {},
   "source": [
    "## Key list methods\n",
    "The ``count`` and ``index`` methods behaves as they do in a normal tuple"
   ]
  },
  {
   "cell_type": "code",
   "execution_count": 51,
   "id": "conservative-ecology",
   "metadata": {
    "tags": []
   },
   "outputs": [],
   "source": [
    "keylist = isopy.keylist('ru', 'pd', 'cd')"
   ]
  },
  {
   "cell_type": "code",
   "execution_count": 52,
   "id": "computational-remedy",
   "metadata": {
    "tags": []
   },
   "outputs": [
    {
     "data": {
      "text/plain": [
       "(1, 2)"
      ]
     },
     "execution_count": 52,
     "metadata": {},
     "output_type": "execute_result"
    }
   ],
   "source": [
    "keylist.count('ru'), keylist.index('cadmium')"
   ]
  },
  {
   "cell_type": "markdown",
   "id": "hungarian-mailing",
   "metadata": {},
   "source": [
    "---"
   ]
  },
  {
   "cell_type": "markdown",
   "id": "lined-commissioner",
   "metadata": {},
   "source": [
    "You can check is a key list contains duplicate key string using the ``has_duplicates()`` method"
   ]
  },
  {
   "cell_type": "code",
   "execution_count": 53,
   "id": "second-baltimore",
   "metadata": {},
   "outputs": [
    {
     "data": {
      "text/plain": [
       "False"
      ]
     },
     "execution_count": 53,
     "metadata": {},
     "output_type": "execute_result"
    }
   ],
   "source": [
    "keylist.has_duplicates()"
   ]
  },
  {
   "cell_type": "markdown",
   "id": "cellular-silicon",
   "metadata": {},
   "source": [
    "---\n",
    "You can reverse the order of the list using the ``reversed()`` method"
   ]
  },
  {
   "cell_type": "code",
   "execution_count": 54,
   "id": "grave-degree",
   "metadata": {},
   "outputs": [
    {
     "data": {
      "text/plain": [
       "ElementKeyList('Cd', 'Pd', 'Ru')"
      ]
     },
     "execution_count": 54,
     "metadata": {},
     "output_type": "execute_result"
    }
   ],
   "source": [
    "isopy.keylist('ru', 'pd', 'cd').reversed()"
   ]
  },
  {
   "cell_type": "markdown",
   "id": "configured-monkey",
   "metadata": {},
   "source": [
    "You can sort key list using the ``sorted()`` method. How the list is sorted depends on the flavour of the list (See documentation). Element key list are sorted by the atomic number of the element"
   ]
  },
  {
   "cell_type": "code",
   "execution_count": 55,
   "id": "joined-repair",
   "metadata": {},
   "outputs": [
    {
     "data": {
      "text/plain": [
       "ElementKeyList('H', 'Pd', 'U')"
      ]
     },
     "execution_count": 55,
     "metadata": {},
     "output_type": "execute_result"
    }
   ],
   "source": [
    "isopy.keylist('U', 'H', 'Pd').sorted()"
   ]
  },
  {
   "cell_type": "markdown",
   "id": "perceived-pickup",
   "metadata": {},
   "source": [
    "Element symbols without atomic numers are sorted alphabetically at the end of the list"
   ]
  },
  {
   "cell_type": "code",
   "execution_count": 56,
   "id": "sealed-manchester",
   "metadata": {},
   "outputs": [
    {
     "data": {
      "text/plain": [
       "ElementKeyList('U', 'H', 'Pd', 'A', 'Zz')"
      ]
     },
     "execution_count": 56,
     "metadata": {},
     "output_type": "execute_result"
    }
   ],
   "source": [
    "isopy.keylist('U', 'H', 'Pd', 'a', 'zz')"
   ]
  },
  {
   "cell_type": "markdown",
   "id": "helpful-christian",
   "metadata": {},
   "source": [
    "**Note** that ``sorted()`` and ``reversed()`` functions will return a list and sorting done by key value"
   ]
  },
  {
   "cell_type": "code",
   "execution_count": 57,
   "id": "noble-landscape",
   "metadata": {},
   "outputs": [
    {
     "data": {
      "text/plain": [
       "[ElementKeyString('H'), ElementKeyString('Pd'), ElementKeyString('U')]"
      ]
     },
     "execution_count": 57,
     "metadata": {},
     "output_type": "execute_result"
    }
   ],
   "source": [
    "sorted(isopy.keylist('U', 'H', 'Pd'))"
   ]
  },
  {
   "cell_type": "markdown",
   "id": "binding-following",
   "metadata": {},
   "source": [
    "---\n",
    "The ``flatten()`` method when used on a ratio key list will return the numerators followed by the denominators in a single key string list.The flatten method exists for the other key list flavours but there it only return a copy of the list."
   ]
  },
  {
   "cell_type": "code",
   "execution_count": 52,
   "id": "offensive-norway",
   "metadata": {},
   "outputs": [
    {
     "data": {
      "text/plain": [
       "ElementKeyList('Ru', 'Pd', 'Ag', 'Rh')"
      ]
     },
     "execution_count": 52,
     "metadata": {},
     "output_type": "execute_result"
    }
   ],
   "source": [
    "isopy.RatioKeyList('ru/pd', 'ag/rh').flatten()"
   ]
  },
  {
   "cell_type": "markdown",
   "id": "dimensional-combining",
   "metadata": {},
   "source": [
    "## Filtering key lists\n",
    "The ``filter()`` method provides a way to simple yet powerful way to filter the contents of key string lists and return only certain keys. Using the ``key_eq`` and ``key_neq`` keyword you can return only those keystring that are equal to/not equal to the supplied value(s). If you supply more that one filter key word then only the keys that pass all filter are returned."
   ]
  },
  {
   "cell_type": "code",
   "execution_count": 59,
   "id": "leading-fence",
   "metadata": {},
   "outputs": [
    {
     "data": {
      "text/plain": [
       "ElementKeyList('Pd', 'Cd')"
      ]
     },
     "execution_count": 59,
     "metadata": {},
     "output_type": "execute_result"
    }
   ],
   "source": [
    "isopy.keylist('ru', 'pd', 'cd').filter(key_eq=['rh', 'pd', 'ag', 'cd'])"
   ]
  },
  {
   "cell_type": "code",
   "execution_count": 60,
   "id": "working-cargo",
   "metadata": {},
   "outputs": [
    {
     "data": {
      "text/plain": [
       "ElementKeyList('Ru')"
      ]
     },
     "execution_count": 60,
     "metadata": {},
     "output_type": "execute_result"
    }
   ],
   "source": [
    "isopy.keylist('ru', 'pd', 'cd').filter(key_neq=['rh', 'pd', 'ag', 'cd'])"
   ]
  },
  {
   "cell_type": "markdown",
   "id": "appointed-military",
   "metadata": {},
   "source": [
    "**Note** the ``filter()`` method always returns a new key list"
   ]
  },
  {
   "cell_type": "markdown",
   "id": "occupational-dakota",
   "metadata": {},
   "source": [
    "---\n",
    "Mass key lists can be filtered using *lt*, *le*, *gt*, and *ge* for ``<``, ``<=``, ``>``, and ``>=`` comparisons"
   ]
  },
  {
   "cell_type": "code",
   "execution_count": 61,
   "id": "occupied-termination",
   "metadata": {},
   "outputs": [
    {
     "data": {
      "text/plain": [
       "MassKeyList('101', '102')"
      ]
     },
     "execution_count": 61,
     "metadata": {},
     "output_type": "execute_result"
    }
   ],
   "source": [
    "isopy.keylist('101', 102, 103).filter(key_le=102)"
   ]
  },
  {
   "cell_type": "markdown",
   "id": "greenhouse-reasoning",
   "metadata": {},
   "source": [
    "---\n",
    "You can filter isotope key lists based in the mass number or element symbol using ``mass_number_<filter>`` and ``element_symbol_<filter>``"
   ]
  },
  {
   "cell_type": "code",
   "execution_count": 62,
   "id": "professional-necessity",
   "metadata": {},
   "outputs": [
    {
     "data": {
      "text/plain": [
       "IsotopeKeyList('111Cd')"
      ]
     },
     "execution_count": 62,
     "metadata": {},
     "output_type": "execute_result"
    }
   ],
   "source": [
    "isopy.IsotopeKeyList('101ru', '105pd', '111cd').filter(mass_number_ge='105', element_symbol_eq=['rh', 'ag', 'cd'])"
   ]
  },
  {
   "cell_type": "markdown",
   "id": "going-irish",
   "metadata": {},
   "source": [
    "---\n",
    "Ratio key lists can be filtered based on the numerator and denominator strings using ``numerator_<filter>`` and ``denominator_<filter>``. You can use any filter valid for the numerator/denominator key string flavour"
   ]
  },
  {
   "cell_type": "code",
   "execution_count": 63,
   "id": "fuzzy-coast",
   "metadata": {},
   "outputs": [
    {
     "data": {
      "text/plain": [
       "RatioKeyList('108Pd/105Pd', '108Cd/111Cd')"
      ]
     },
     "execution_count": 63,
     "metadata": {},
     "output_type": "execute_result"
    }
   ],
   "source": [
    "key = isopy.RatioKeyList('104Ru/101Ru', '108Pd/105pd', 'ag107/109ag', '108Cd/111Cd')\n",
    "key.filter(numerator_neq = '104ru', denominator_element_symbol_neq='ag')"
   ]
  },
  {
   "cell_type": "markdown",
   "id": "olympic-chest",
   "metadata": {},
   "source": [
    "---"
   ]
  },
  {
   "cell_type": "markdown",
   "id": "assumed-bench",
   "metadata": {},
   "source": [
    "You can also filter key lists based on the flavour of the key string. This is particularly useful for the ``Mixed`` flavour."
   ]
  },
  {
   "cell_type": "code",
   "execution_count": 64,
   "id": "contained-agenda",
   "metadata": {},
   "outputs": [
    {
     "data": {
      "text/plain": [
       "IsotopeKeyList('101Ru', '105Pd')"
      ]
     },
     "execution_count": 64,
     "metadata": {},
     "output_type": "execute_result"
    }
   ],
   "source": [
    "isopy.MixedKeyList('pd', 'cd', '101ru', '105pd').filter(flavour_eq='isotope')"
   ]
  }
 ],
 "metadata": {
  "kernelspec": {
   "display_name": "Python [conda env:main] *",
   "language": "python",
   "name": "conda-env-main-py"
  },
  "language_info": {
   "codemirror_mode": {
    "name": "ipython",
    "version": 3
   },
   "file_extension": ".py",
   "mimetype": "text/x-python",
   "name": "python",
   "nbconvert_exporter": "python",
   "pygments_lexer": "ipython3",
   "version": "3.9.7"
  }
 },
 "nbformat": 4,
 "nbformat_minor": 5
}
