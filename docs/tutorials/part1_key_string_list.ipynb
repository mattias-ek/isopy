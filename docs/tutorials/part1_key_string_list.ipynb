{
 "cells": [
  {
   "cell_type": "markdown",
   "id": "collect-ethiopia",
   "metadata": {},
   "source": [
    "# Tutorial Part 1: Key Strings and Key Lists\n",
    "Isopy supports a number of different kinds of geochemical data. Each type of data type has its own *flavour* of python object with unique attributes/methods useful for that particular data type. A key string is a subclass of ``str`` representing a certain flavour of data.  Isopy will automatically convert strings into the correct format so it is often not necessary for the user to strictly adhere to the key string format in normal usage. A collection of key strings is called a key list (Although key lists are in fact a subclass of tuple).\n",
    "\n",
    "This introduction does not cover all the functionality of key strings and key lists. For a comprehensive overview the isopy docs [here](https://isopy.readthedocs.io/en/latest/refpages/dtypes.html#).\n",
    "\n",
    "**Table of Content**\n",
    "\n",
    "* [MassKeyString & MassKeyList](#MassKeyString-&-MassKeyList)\n",
    "* [ElementKeyString & ElementKeyList](#ElementKeyString-&-ElementKeyList)\n",
    "* [IsotopeKeyString & IsotopeKeyList](#IsotopeKeyString-&-IsotopeKeyList)\n",
    "* [RatioKeyString & RatioKeyList](#RatioKeyString-&-RatioKeyList)\n",
    "* [GeneralKeyString & GeneralKeyList](#GeneralKeyString-&-GeneralKeyList)\n",
    "* [MixedKeyList](#MixedKeyList)\n",
    "* [keystring & keylist](#keystring-&-keylist)\n",
    "* [askeystring & askeylist](#askeystring-&-askeylist)\n",
    "* [Turning key strings into python strings](#Turning-key-strings-into-python-strings)\n",
    "* [Evaluating key strings](#Evaluating-key-strings)\n",
    "* [Evaluating key lists](#Evaluating-key-lists)\n",
    "* [Key list methods](#Key-list-methods)\n",
    "* [Filtering key lists](#Filtering-key-lists)"
   ]
  },
  {
   "cell_type": "code",
   "execution_count": 1,
   "id": "trained-machinery",
   "metadata": {},
   "outputs": [],
   "source": [
    "# dont forget to import isopy\n",
    "import isopy"
   ]
  },
  {
   "cell_type": "markdown",
   "id": "chief-guess",
   "metadata": {},
   "source": [
    "## MassKeyString & MassKeyList\n",
    "The ``Mass``  flavour represent data described by a mass number. Therefore key strings are restricted to integer numbers, e.g. ``\"105\"``. Key strings can be created from both integers and strings. **However**, when indexing an isopy array only a string can be used to represent the column as integer values represent row numbers."
   ]
  },
  {
   "cell_type": "code",
   "execution_count": 2,
   "id": "administrative-scheduling",
   "metadata": {},
   "outputs": [
    {
     "data": {
      "text/plain": [
       "(MassKeyString('104'), MassKeyString('105'))"
      ]
     },
     "execution_count": 2,
     "metadata": {},
     "output_type": "execute_result"
    }
   ],
   "source": [
    "isopy.MassKeyString('104'), isopy.MassKeyString(105)"
   ]
  },
  {
   "cell_type": "code",
   "execution_count": 3,
   "id": "painted-essex",
   "metadata": {},
   "outputs": [
    {
     "data": {
      "text/plain": [
       "MassKeyList('104', '105')"
      ]
     },
     "execution_count": 3,
     "metadata": {},
     "output_type": "execute_result"
    }
   ],
   "source": [
    "isopy.MassKeyList('104', 105)"
   ]
  },
  {
   "cell_type": "markdown",
   "id": "minute-details",
   "metadata": {},
   "source": [
    "## ElementKeyString & ElementKeyList\n",
    "The ``Element``  flavour represents elemental data using the element symbol. Key string are restricted to one or two characters. The first character is always\n",
    "in upper case and the second character, if present, is always in lower case, e.g. ``\"Pd\"``. Isopy will automatically format strings so they adhere to this format so any case can be used for element key strings. You can also use the full english names for the elements."
   ]
  },
  {
   "cell_type": "code",
   "execution_count": 4,
   "id": "backed-athens",
   "metadata": {},
   "outputs": [
    {
     "data": {
      "text/plain": [
       "(ElementKeyString('Pd'), ElementKeyString('Cd'))"
      ]
     },
     "execution_count": 4,
     "metadata": {},
     "output_type": "execute_result"
    }
   ],
   "source": [
    "isopy.ElementKeyString('Pd'), isopy.ElementKeyString('Cadmium')"
   ]
  },
  {
   "cell_type": "code",
   "execution_count": 5,
   "id": "stuck-record",
   "metadata": {},
   "outputs": [
    {
     "data": {
      "text/plain": [
       "ElementKeyList('Pd', 'Pd', 'Pd', 'Cd', 'Cd', 'Cd')"
      ]
     },
     "execution_count": 5,
     "metadata": {},
     "output_type": "execute_result"
    }
   ],
   "source": [
    "isopy.ElementKeyList('Pd', 'pd', 'PD', 'Cadmium', 'cadmium', 'CADMIUM')"
   ]
  },
  {
   "cell_type": "markdown",
   "id": "presidential-argument",
   "metadata": {},
   "source": [
    "## IsotopeKeyString & IsotopeKeyList\n",
    "The ``Isotope``  flavour represent isotope data and the key string consists of a ``Mass`` key string followed by an ``Element`` key string, e.g ``\"105Pd\"``. The order of the mass number and the element symbol is not enforced when creating isotope key strings. A ``-`` can be used to separate the mass number and the element symbol."
   ]
  },
  {
   "cell_type": "code",
   "execution_count": 6,
   "id": "oriented-child",
   "metadata": {},
   "outputs": [
    {
     "data": {
      "text/plain": [
       "(IsotopeKeyString('105Pd'), IsotopeKeyString('105Pd'))"
      ]
     },
     "execution_count": 6,
     "metadata": {},
     "output_type": "execute_result"
    }
   ],
   "source": [
    "isopy.IsotopeKeyString('105pd'), isopy.IsotopeKeyString('pd105')"
   ]
  },
  {
   "cell_type": "code",
   "execution_count": 7,
   "id": "bulgarian-spirit",
   "metadata": {},
   "outputs": [
    {
     "data": {
      "text/plain": [
       "IsotopeKeyList('102Pd', '104Pd', '105Pd', '106Pd', '108Pd', '110Pd')"
      ]
     },
     "execution_count": 7,
     "metadata": {},
     "output_type": "execute_result"
    }
   ],
   "source": [
    "isopy.IsotopeKeyList('102Pd', '104pd', 'Pd105', '106Palladium', 'palladium-108', '110-PALLADIUM' )"
   ]
  },
  {
   "cell_type": "markdown",
   "id": "continental-offer",
   "metadata": {},
   "source": [
    "---\n",
    "The mass number and element symbol of a key string can be accessed by:"
   ]
  },
  {
   "cell_type": "code",
   "execution_count": 8,
   "id": "exempt-journal",
   "metadata": {},
   "outputs": [
    {
     "data": {
      "text/plain": [
       "(MassKeyString('105'), ElementKeyString('Pd'))"
      ]
     },
     "execution_count": 8,
     "metadata": {},
     "output_type": "execute_result"
    }
   ],
   "source": [
    "key = isopy.IsotopeKeyString('105pd')\n",
    "key.mass_number, key.element_symbol"
   ]
  },
  {
   "cell_type": "markdown",
   "id": "super-grill",
   "metadata": {},
   "source": [
    "Likewise for key lists:"
   ]
  },
  {
   "cell_type": "code",
   "execution_count": 9,
   "id": "seven-symbol",
   "metadata": {},
   "outputs": [
    {
     "data": {
      "text/plain": [
       "MassKeyList('102', '104', '105', '106', '108', '110')"
      ]
     },
     "execution_count": 9,
     "metadata": {},
     "output_type": "execute_result"
    }
   ],
   "source": [
    "keylist = isopy.IsotopeKeyList('102Pd', '104pd', 'Pd105', '106Palladium', 'palladium-108', '110-PALLADIUM' )\n",
    "keylist.mass_numbers"
   ]
  },
  {
   "cell_type": "code",
   "execution_count": 10,
   "id": "pacific-spread",
   "metadata": {},
   "outputs": [
    {
     "data": {
      "text/plain": [
       "ElementKeyList('Pd', 'Pd', 'Pd', 'Pd', 'Pd', 'Pd')"
      ]
     },
     "execution_count": 10,
     "metadata": {},
     "output_type": "execute_result"
    }
   ],
   "source": [
    "keylist.element_symbols"
   ]
  },
  {
   "cell_type": "markdown",
   "id": "weird-center",
   "metadata": {},
   "source": [
    "## RatioKeyString & RatioKeyList"
   ]
  },
  {
   "cell_type": "markdown",
   "id": "anticipated-prescription",
   "metadata": {},
   "source": [
    "The ``Ratio``  flavour represents a ratio between two sets of data. The ratio key string consists of a numerator key string and a denominator key string, e.g. ``\"108Pd/105Pd\"``. The numerator and denominator can be of different flavours."
   ]
  },
  {
   "cell_type": "code",
   "execution_count": 11,
   "id": "received-tablet",
   "metadata": {},
   "outputs": [
    {
     "data": {
      "text/plain": [
       "RatioKeyString('108Pd/105Pd')"
      ]
     },
     "execution_count": 11,
     "metadata": {},
     "output_type": "execute_result"
    }
   ],
   "source": [
    "isopy.RatioKeyString('108pd/105pd')"
   ]
  },
  {
   "cell_type": "code",
   "execution_count": 12,
   "id": "natural-reynolds",
   "metadata": {},
   "outputs": [
    {
     "data": {
      "text/plain": [
       "RatioKeyList('Ru/Pd', 'Rh/Pd', 'Ag/Pd', 'Cd/Pd')"
      ]
     },
     "execution_count": 12,
     "metadata": {},
     "output_type": "execute_result"
    }
   ],
   "source": [
    "isopy.RatioKeyList('ru/pd', 'rh/pd', 'ag/pd', 'cd/pd')"
   ]
  },
  {
   "cell_type": "markdown",
   "id": "smart-curtis",
   "metadata": {},
   "source": [
    "You can mix the flavours of the denominators and numerators in a ratio key list"
   ]
  },
  {
   "cell_type": "code",
   "execution_count": 13,
   "id": "understanding-pakistan",
   "metadata": {},
   "outputs": [
    {
     "data": {
      "text/plain": [
       "RatioKeyList('Ru/Pd', '103Rh/105Pd', '111Cd/Pd')"
      ]
     },
     "execution_count": 13,
     "metadata": {},
     "output_type": "execute_result"
    }
   ],
   "source": [
    "isopy.RatioKeyList('ru/pd', '103rh/105pd', '111cd/pd')"
   ]
  },
  {
   "cell_type": "markdown",
   "id": "global-navigation",
   "metadata": {},
   "source": [
    "---\n",
    "The numerator and denominator key string can be accesed by:"
   ]
  },
  {
   "cell_type": "code",
   "execution_count": 14,
   "id": "joint-trout",
   "metadata": {},
   "outputs": [
    {
     "data": {
      "text/plain": [
       "(IsotopeKeyString('108Pd'), IsotopeKeyString('105Pd'))"
      ]
     },
     "execution_count": 14,
     "metadata": {},
     "output_type": "execute_result"
    }
   ],
   "source": [
    "key = isopy.RatioKeyString('108pd/105pd')\n",
    "key.numerator, key.denominator"
   ]
  },
  {
   "cell_type": "markdown",
   "id": "effective-variety",
   "metadata": {},
   "source": [
    "Likewise for lists:"
   ]
  },
  {
   "cell_type": "code",
   "execution_count": 15,
   "id": "handmade-there",
   "metadata": {},
   "outputs": [
    {
     "data": {
      "text/plain": [
       "ElementKeyList('Ru', 'Rh', 'Ag', 'Cd')"
      ]
     },
     "execution_count": 15,
     "metadata": {},
     "output_type": "execute_result"
    }
   ],
   "source": [
    "keylist = isopy.RatioKeyList('ru/pd', 'rh/pd', 'ag/pd', 'cd/pd')\n",
    "keylist.numerators"
   ]
  },
  {
   "cell_type": "code",
   "execution_count": 16,
   "id": "distinguished-joshua",
   "metadata": {},
   "outputs": [
    {
     "data": {
      "text/plain": [
       "ElementKeyList('Pd', 'Pd', 'Pd', 'Pd')"
      ]
     },
     "execution_count": 16,
     "metadata": {},
     "output_type": "execute_result"
    }
   ],
   "source": [
    "keylist.denominators"
   ]
  },
  {
   "cell_type": "markdown",
   "id": "mechanical-combination",
   "metadata": {},
   "source": [
    "---\n",
    "If a ratio key list has a common denominator this key string can be accessed using the ``common_denominator`` attribute. This attribute will be ``None`` if there is no common denominator."
   ]
  },
  {
   "cell_type": "code",
   "execution_count": 17,
   "id": "stunning-bones",
   "metadata": {},
   "outputs": [
    {
     "data": {
      "text/plain": [
       "ElementKeyString('Pd')"
      ]
     },
     "execution_count": 17,
     "metadata": {},
     "output_type": "execute_result"
    }
   ],
   "source": [
    "isopy.RatioKeyList('ru/pd', 'rh/pd', 'ag/pd', 'cd/pd').common_denominator"
   ]
  },
  {
   "cell_type": "markdown",
   "id": "outdoor-router",
   "metadata": {},
   "source": [
    "---\n",
    "You can also create ratio key strings using the ``/`` operator:"
   ]
  },
  {
   "cell_type": "code",
   "execution_count": 18,
   "id": "amber-climate",
   "metadata": {},
   "outputs": [
    {
     "data": {
      "text/plain": [
       "RatioKeyString('108Pd/105Pd')"
      ]
     },
     "execution_count": 18,
     "metadata": {},
     "output_type": "execute_result"
    }
   ],
   "source": [
    "isopy.IsotopeKeyString('108pd') / '105pd' #Only one of the strings have to be a key string"
   ]
  },
  {
   "cell_type": "code",
   "execution_count": 19,
   "id": "comparable-conversion",
   "metadata": {},
   "outputs": [
    {
     "data": {
      "text/plain": [
       "RatioKeyList('Ru/Pd', 'Rh/Pd', 'Ag/Pd', 'Cd/Pd')"
      ]
     },
     "execution_count": 19,
     "metadata": {},
     "output_type": "execute_result"
    }
   ],
   "source": [
    "isopy.ElementKeyList('ru', 'rh', 'ag', 'cd') / 'pd' # A single string will be used for all key strings in a list"
   ]
  },
  {
   "cell_type": "code",
   "execution_count": 20,
   "id": "lovely-objective",
   "metadata": {},
   "outputs": [
    {
     "data": {
      "text/plain": [
       "RatioKeyList('Ru/Pd', 'Rh/Pd', 'Ag/Pd', 'Cd/Pd')"
      ]
     },
     "execution_count": 20,
     "metadata": {},
     "output_type": "execute_result"
    }
   ],
   "source": [
    "['ru', 'rh', 'ag', 'cd'] / isopy.ElementKeyString('pd') #This also works"
   ]
  },
  {
   "cell_type": "markdown",
   "id": "smart-beaver",
   "metadata": {},
   "source": [
    "---\n",
    "You can create nested ratio key strings using multiple '/' in a string"
   ]
  },
  {
   "cell_type": "code",
   "execution_count": 21,
   "id": "hydraulic-blink",
   "metadata": {},
   "outputs": [
    {
     "data": {
      "text/plain": [
       "RatioKeyString('Rh/Ag//Pd')"
      ]
     },
     "execution_count": 21,
     "metadata": {},
     "output_type": "execute_result"
    }
   ],
   "source": [
    "key = isopy.RatioKeyString('rh/ag//pd'); key"
   ]
  },
  {
   "cell_type": "code",
   "execution_count": 22,
   "id": "former-columbus",
   "metadata": {},
   "outputs": [
    {
     "data": {
      "text/plain": [
       "(RatioKeyString('Rh/Ag'), ElementKeyString('Pd'))"
      ]
     },
     "execution_count": 22,
     "metadata": {},
     "output_type": "execute_result"
    }
   ],
   "source": [
    "key.numerator, key.denominator"
   ]
  },
  {
   "cell_type": "markdown",
   "id": "stainless-torture",
   "metadata": {},
   "source": [
    "**Note** It is only possible to create up to 9 nested ratios."
   ]
  },
  {
   "cell_type": "markdown",
   "id": "identical-flooring",
   "metadata": {},
   "source": [
    "### GeneralKeyString & GeneralKeyList\n",
    "The ``General``  flavour represent data that cannot be described by any of the other flavours. There are no formatting restrictions for these key strings so any string is valid."
   ]
  },
  {
   "cell_type": "code",
   "execution_count": 23,
   "id": "occupied-shannon",
   "metadata": {},
   "outputs": [
    {
     "data": {
      "text/plain": [
       "GeneralKeyString('Hermione')"
      ]
     },
     "execution_count": 23,
     "metadata": {},
     "output_type": "execute_result"
    }
   ],
   "source": [
    "isopy.GeneralKeyString('Hermione')"
   ]
  },
  {
   "cell_type": "code",
   "execution_count": 24,
   "id": "growing-lithuania",
   "metadata": {},
   "outputs": [
    {
     "data": {
      "text/plain": [
       "GeneralKeyList('Harry', 'Ron', 'Hermione')"
      ]
     },
     "execution_count": 24,
     "metadata": {},
     "output_type": "execute_result"
    }
   ],
   "source": [
    "isopy.GeneralKeyList('Harry', 'Ron', 'Hermione')"
   ]
  },
  {
   "cell_type": "markdown",
   "id": "under-genius",
   "metadata": {},
   "source": [
    "## MixedKeyList\n",
    "The ``Mixed`` flavour represet data that contains a mix of flavours. "
   ]
  },
  {
   "cell_type": "code",
   "execution_count": 25,
   "id": "hired-bottom",
   "metadata": {},
   "outputs": [
    {
     "data": {
      "text/plain": [
       "MixedKeyList('Pd', 'Cd', '101Ru', '105Pd')"
      ]
     },
     "execution_count": 25,
     "metadata": {},
     "output_type": "execute_result"
    }
   ],
   "source": [
    "isopy.MixedKeyList('pd', 'cd', '101ru', '105pd')"
   ]
  },
  {
   "cell_type": "markdown",
   "id": "greatest-drinking",
   "metadata": {},
   "source": [
    "If we slice the list so that only one flavour of keys remain then the returned list is will be of that flavour."
   ]
  },
  {
   "cell_type": "code",
   "execution_count": 26,
   "id": "differential-utilization",
   "metadata": {},
   "outputs": [
    {
     "data": {
      "text/plain": [
       "(ElementKeyList('Pd', 'Cd'), IsotopeKeyList('101Ru', '105Pd'))"
      ]
     },
     "execution_count": 26,
     "metadata": {},
     "output_type": "execute_result"
    }
   ],
   "source": [
    "keylist = isopy.MixedKeyList('pd', 'cd', '101ru', '105pd')\n",
    "keylist[:2], keylist[2:]"
   ]
  },
  {
   "cell_type": "markdown",
   "id": "vulnerable-corps",
   "metadata": {},
   "source": [
    "If we try to mix two different kinds of flavours we typically get a ``Mixed`` flavour in return"
   ]
  },
  {
   "cell_type": "code",
   "execution_count": 27,
   "id": "scientific-racing",
   "metadata": {},
   "outputs": [
    {
     "data": {
      "text/plain": [
       "MixedKeyList('Pd', 'Cd', '101Ru', '105Pd')"
      ]
     },
     "execution_count": 27,
     "metadata": {},
     "output_type": "execute_result"
    }
   ],
   "source": [
    "isopy.ElementKeyList('pd', 'cd') + isopy.IsotopeKeyList('101ru', '105pd')"
   ]
  },
  {
   "cell_type": "markdown",
   "id": "incorporate-yellow",
   "metadata": {},
   "source": [
    "**Note** There is not a ``Mixed`` key string."
   ]
  },
  {
   "cell_type": "markdown",
   "id": "cellular-louisiana",
   "metadata": {},
   "source": [
    "## keystring & askeystring\n",
    "These functions will convert strings into one of the isopy key string flavours. They will first attempt to convert the string into a mass, element, isotope or ratio key string. If that fails a general key string is returned."
   ]
  },
  {
   "cell_type": "code",
   "execution_count": 28,
   "id": "permanent-union",
   "metadata": {},
   "outputs": [
    {
     "data": {
      "text/plain": [
       "(ElementKeyString('Pd'), IsotopeKeyString('105Pd'))"
      ]
     },
     "execution_count": 28,
     "metadata": {},
     "output_type": "execute_result"
    }
   ],
   "source": [
    "isopy.keystring('pd'), isopy.askeystring('105pd')"
   ]
  },
  {
   "cell_type": "markdown",
   "id": "adequate-listing",
   "metadata": {},
   "source": [
    "The difference between the functions is that ``askeystring`` will not attempt to convert a string that is already a key string."
   ]
  },
  {
   "cell_type": "code",
   "execution_count": 29,
   "id": "behind-extent",
   "metadata": {},
   "outputs": [
    {
     "data": {
      "text/plain": [
       "(ElementKeyString('Pd'), GeneralKeyString('pd'))"
      ]
     },
     "execution_count": 29,
     "metadata": {},
     "output_type": "execute_result"
    }
   ],
   "source": [
    "key = isopy.GeneralKeyString('pd')\n",
    "isopy.keystring(key), isopy.askeystring(key)"
   ]
  },
  {
   "cell_type": "markdown",
   "id": "fancy-quebec",
   "metadata": {},
   "source": [
    "## keylist & askeylist\n",
    "These functions will attempt to convert the input into a key string list. They will first attempt to convert the input into a mass, element, isotope or ratio key list. If that fails a mixed key list is returned."
   ]
  },
  {
   "cell_type": "code",
   "execution_count": 30,
   "id": "distributed-following",
   "metadata": {},
   "outputs": [
    {
     "data": {
      "text/plain": [
       "(ElementKeyList('Ru', 'Pd', 'Cd'), MixedKeyList('Ru', '105Pd', 'hermione'))"
      ]
     },
     "execution_count": 30,
     "metadata": {},
     "output_type": "execute_result"
    }
   ],
   "source": [
    "isopy.keylist('ru', 'pd', 'cd'), isopy.keylist('ru', '105pd', 'hermione')"
   ]
  },
  {
   "cell_type": "markdown",
   "id": "attempted-suffering",
   "metadata": {},
   "source": [
    "The difference between the functions is that ``askeylist`` only takes a single input and will not attempt to convert the input if it is already a key list."
   ]
  },
  {
   "cell_type": "code",
   "execution_count": 31,
   "id": "directed-missouri",
   "metadata": {},
   "outputs": [
    {
     "data": {
      "text/plain": [
       "(ElementKeyList('Ru', 'Pd', 'Cd'),\n",
       " GeneralKeyList('Ruthenium', 'Palladium', 'Cadmium'))"
      ]
     },
     "execution_count": 31,
     "metadata": {},
     "output_type": "execute_result"
    }
   ],
   "source": [
    "keylist = isopy.GeneralKeyList('Ruthenium', 'Palladium', 'Cadmium')\n",
    "isopy.keylist(keylist), isopy.askeylist(keylist)"
   ]
  },
  {
   "cell_type": "markdown",
   "id": "individual-shirt",
   "metadata": {},
   "source": [
    "If you want a general key list rather than a mixed key list should set the ``mix_flavours`` argument to ``False``"
   ]
  },
  {
   "cell_type": "code",
   "execution_count": 32,
   "id": "engaged-nurse",
   "metadata": {},
   "outputs": [
    {
     "data": {
      "text/plain": [
       "(MixedKeyList('Ru', '105Pd', 'hermione'),\n",
       " GeneralKeyList('ru', '105pd', 'hermione'))"
      ]
     },
     "execution_count": 32,
     "metadata": {},
     "output_type": "execute_result"
    }
   ],
   "source": [
    "isopy.keylist('ru', '105pd', 'hermione'), isopy.keylist('ru', '105pd', 'hermione', mix_flavours=False)"
   ]
  },
  {
   "cell_type": "markdown",
   "id": "caring-controversy",
   "metadata": {},
   "source": [
    "## Turning key strings into python strings\n",
    "You can convert a key string back into a normal string using the ``str()`` function or the ``str()`` method of the key string."
   ]
  },
  {
   "cell_type": "code",
   "execution_count": 33,
   "id": "resident-driving",
   "metadata": {},
   "outputs": [
    {
     "data": {
      "text/plain": [
       "('Pd', 'Pd')"
      ]
     },
     "execution_count": 33,
     "metadata": {},
     "output_type": "execute_result"
    }
   ],
   "source": [
    "key = isopy.keystring('pd')\n",
    "str(key), key.str()"
   ]
  },
  {
   "cell_type": "markdown",
   "id": "double-infection",
   "metadata": {},
   "source": [
    "The ``str()`` method also allows you to format the returned string using a number of predefined keywords."
   ]
  },
  {
   "cell_type": "code",
   "execution_count": 34,
   "id": "beautiful-postage",
   "metadata": {},
   "outputs": [
    {
     "data": {
      "text/plain": [
       "'Pd, pd, PD, Palladium, palladium, PALLADIUM'"
      ]
     },
     "execution_count": 34,
     "metadata": {},
     "output_type": "execute_result"
    }
   ],
   "source": [
    "key.str('{Es}, {es}, {ES}, {Name}, {name}, {NAME}') # 'es' is the element symbol and 'name' the full name"
   ]
  },
  {
   "cell_type": "code",
   "execution_count": 35,
   "id": "brazilian-notebook",
   "metadata": {},
   "outputs": [
    {
     "data": {
      "text/plain": [
       "'Palladium'"
      ]
     },
     "execution_count": 35,
     "metadata": {},
     "output_type": "execute_result"
    }
   ],
   "source": [
    "key.str('Name') #you can also pass a keyword directly"
   ]
  },
  {
   "cell_type": "markdown",
   "id": "neutral-pressing",
   "metadata": {},
   "source": [
    "Have a look at the key string documentation for a detailed explanation of the different format options for each key string flavour."
   ]
  },
  {
   "cell_type": "markdown",
   "id": "affiliated-banking",
   "metadata": {},
   "source": [
    "---\n",
    "Similarly, key lists return a list of strings using the ``strlist()`` method."
   ]
  },
  {
   "cell_type": "code",
   "execution_count": 36,
   "id": "union-composer",
   "metadata": {},
   "outputs": [
    {
     "data": {
      "text/plain": [
       "['Ru', 'Pd', 'Cd']"
      ]
     },
     "execution_count": 36,
     "metadata": {},
     "output_type": "execute_result"
    }
   ],
   "source": [
    "keylist = isopy.keylist('ru', 'pd', 'cd')\n",
    "keylist.strlist()"
   ]
  },
  {
   "cell_type": "markdown",
   "id": "sharing-difference",
   "metadata": {},
   "source": [
    "This method allows you to format the key strings using the same formatting options as the key string"
   ]
  },
  {
   "cell_type": "code",
   "execution_count": 37,
   "id": "centered-musical",
   "metadata": {},
   "outputs": [
    {
     "data": {
      "text/plain": [
       "['Ru, Ruthenium', 'Pd, Palladium', 'Cd, Cadmium']"
      ]
     },
     "execution_count": 37,
     "metadata": {},
     "output_type": "execute_result"
    }
   ],
   "source": [
    "keylist.strlist('{Es}, {Name}')"
   ]
  },
  {
   "cell_type": "code",
   "execution_count": 38,
   "id": "surprised-bulgarian",
   "metadata": {},
   "outputs": [
    {
     "data": {
      "text/plain": [
       "['Ruthenium', 'Palladium', 'Cadmium']"
      ]
     },
     "execution_count": 38,
     "metadata": {},
     "output_type": "execute_result"
    }
   ],
   "source": [
    "keylist.strlist('Name')"
   ]
  },
  {
   "cell_type": "markdown",
   "id": "ultimate-porcelain",
   "metadata": {},
   "source": [
    "## Evaluating key strings\n",
    "Any python string that can be converted into a key string with the same value will evaluate as ``True``, e.g."
   ]
  },
  {
   "cell_type": "code",
   "execution_count": 39,
   "id": "bridal-motel",
   "metadata": {},
   "outputs": [
    {
     "data": {
      "text/plain": [
       "True"
      ]
     },
     "execution_count": 39,
     "metadata": {},
     "output_type": "execute_result"
    }
   ],
   "source": [
    "isopy.keystring('105pd') == 'palladium-105'"
   ]
  },
  {
   "cell_type": "markdown",
   "id": "multiple-hamburg",
   "metadata": {},
   "source": [
    "**Note** However, comparing against another key string flavour will always return ``False`` even if the string value could be converted, e.g."
   ]
  },
  {
   "cell_type": "code",
   "execution_count": 40,
   "id": "restricted-specialist",
   "metadata": {},
   "outputs": [
    {
     "data": {
      "text/plain": [
       "False"
      ]
     },
     "execution_count": 40,
     "metadata": {},
     "output_type": "execute_result"
    }
   ],
   "source": [
    "isopy.ElementKeyString('Pd') == isopy.GeneralKeyString('Pd')"
   ]
  },
  {
   "cell_type": "markdown",
   "id": "burning-shock",
   "metadata": {},
   "source": [
    "---\n",
    "Mass key strings allow you to use ``<, >, <=, >=`` to compare the mass number against other mass key strings or scalar values"
   ]
  },
  {
   "cell_type": "code",
   "execution_count": 41,
   "id": "italian-criticism",
   "metadata": {},
   "outputs": [
    {
     "data": {
      "text/plain": [
       "(True, False, True, True, True)"
      ]
     },
     "execution_count": 41,
     "metadata": {},
     "output_type": "execute_result"
    }
   ],
   "source": [
    "mass = isopy.keystring(105)\n",
    "mass > 100, mass < 105, mass >= 100.0, mass <= 105.0, mass > isopy.keystring('100')"
   ]
  },
  {
   "cell_type": "markdown",
   "id": "tight-function",
   "metadata": {},
   "source": [
    "---\n",
    "You can test if a mass number or element symbol is part of a isotope key string using ``in``"
   ]
  },
  {
   "cell_type": "code",
   "execution_count": 42,
   "id": "center-migration",
   "metadata": {},
   "outputs": [
    {
     "data": {
      "text/plain": [
       "(True, True)"
      ]
     },
     "execution_count": 42,
     "metadata": {},
     "output_type": "execute_result"
    }
   ],
   "source": [
    "key = isopy.keystring('105pd')\n",
    "'palladium' in key, 105 in key"
   ]
  },
  {
   "cell_type": "markdown",
   "id": "logical-portuguese",
   "metadata": {},
   "source": [
    "Similarly you can use ``in`` to test whether a string is the numerator of denominator of a ratio key string"
   ]
  },
  {
   "cell_type": "code",
   "execution_count": 43,
   "id": "flexible-gnome",
   "metadata": {},
   "outputs": [
    {
     "data": {
      "text/plain": [
       "(True, True)"
      ]
     },
     "execution_count": 43,
     "metadata": {},
     "output_type": "execute_result"
    }
   ],
   "source": [
    "key = isopy.keystring('108pd/105pd')\n",
    "'108pd' in key, 'pd105' in key"
   ]
  },
  {
   "cell_type": "markdown",
   "id": "governing-louisville",
   "metadata": {},
   "source": [
    "## Evaluating key lists\n",
    "Just like a normal list you can use ``in`` to test membership of a key list."
   ]
  },
  {
   "cell_type": "code",
   "execution_count": 44,
   "id": "occasional-manor",
   "metadata": {},
   "outputs": [
    {
     "data": {
      "text/plain": [
       "(True, False)"
      ]
     },
     "execution_count": 44,
     "metadata": {},
     "output_type": "execute_result"
    }
   ],
   "source": [
    "keylist = isopy.keylist('ru', 'pd', 'cd')\n",
    "'palladium' in keylist, 'ag' in keylist"
   ]
  },
  {
   "cell_type": "markdown",
   "id": "advisory-parks",
   "metadata": {},
   "source": [
    "You can compare two key lists using ``==`` and ``!=``."
   ]
  },
  {
   "cell_type": "code",
   "execution_count": 45,
   "id": "reserved-partnership",
   "metadata": {},
   "outputs": [
    {
     "data": {
      "text/plain": [
       "True"
      ]
     },
     "execution_count": 45,
     "metadata": {},
     "output_type": "execute_result"
    }
   ],
   "source": [
    "isopy.keylist(['ru', 'pd', 'cd']) == ['ru', 'pd', 'cd']"
   ]
  },
  {
   "cell_type": "markdown",
   "id": "modular-stack",
   "metadata": {},
   "source": [
    "---\n",
    "You can create a new extended key list using ``+``"
   ]
  },
  {
   "cell_type": "code",
   "execution_count": 46,
   "id": "informative-cardiff",
   "metadata": {},
   "outputs": [
    {
     "data": {
      "text/plain": [
       "ElementKeyList('Ru', 'Pd', 'Cd', 'Rh', 'Ag')"
      ]
     },
     "execution_count": 46,
     "metadata": {},
     "output_type": "execute_result"
    }
   ],
   "source": [
    "isopy.keylist(['ru', 'pd', 'cd']) + ['rh', 'ag']"
   ]
  },
  {
   "cell_type": "markdown",
   "id": "dated-suffering",
   "metadata": {},
   "source": [
    "Similarly you can remove items from key lists using ``-``"
   ]
  },
  {
   "cell_type": "code",
   "execution_count": 47,
   "id": "painful-possibility",
   "metadata": {},
   "outputs": [
    {
     "data": {
      "text/plain": [
       "ElementKeyList('Ru', 'Cd')"
      ]
     },
     "execution_count": 47,
     "metadata": {},
     "output_type": "execute_result"
    }
   ],
   "source": [
    "isopy.keylist(['ru', 'pd', 'cd']) - 'pd'"
   ]
  },
  {
   "cell_type": "markdown",
   "id": "acknowledged-healing",
   "metadata": {},
   "source": [
    "---\n",
    "You can do *and*, *or* and *xor* comparisons using ``&``, ``|`` and ``^``"
   ]
  },
  {
   "cell_type": "code",
   "execution_count": 48,
   "id": "recognized-episode",
   "metadata": {},
   "outputs": [
    {
     "data": {
      "text/plain": [
       "ElementKeyList('Pd', 'Cd')"
      ]
     },
     "execution_count": 48,
     "metadata": {},
     "output_type": "execute_result"
    }
   ],
   "source": [
    "isopy.keylist(['ru', 'pd', 'cd']) & ['pd', 'cd', 'te'] #returns keys in both lists"
   ]
  },
  {
   "cell_type": "code",
   "execution_count": 49,
   "id": "endless-administrator",
   "metadata": {},
   "outputs": [
    {
     "data": {
      "text/plain": [
       "ElementKeyList('Ru', 'Pd', 'Cd', 'Te')"
      ]
     },
     "execution_count": 49,
     "metadata": {},
     "output_type": "execute_result"
    }
   ],
   "source": [
    "isopy.keylist(['ru', 'pd', 'cd']) | ['pd', 'cd', 'te'] #returns keys in at least one list"
   ]
  },
  {
   "cell_type": "code",
   "execution_count": 50,
   "id": "ranging-nation",
   "metadata": {},
   "outputs": [
    {
     "data": {
      "text/plain": [
       "ElementKeyList('Ru', 'Te')"
      ]
     },
     "execution_count": 50,
     "metadata": {},
     "output_type": "execute_result"
    }
   ],
   "source": [
    "isopy.keylist(['ru', 'pd', 'cd']) ^ ['pd', 'cd', 'te'] #returns key in one list but not the other"
   ]
  },
  {
   "cell_type": "markdown",
   "id": "precious-ottawa",
   "metadata": {},
   "source": [
    "**Note** that ``+``, ``-``, ``&``, ``|`` and ``^`` all return a new key list."
   ]
  },
  {
   "cell_type": "markdown",
   "id": "stylish-locator",
   "metadata": {},
   "source": [
    "## Key list methods\n",
    "The ``count`` and ``index`` methods behaves as they do in a normal tuple"
   ]
  },
  {
   "cell_type": "code",
   "execution_count": 51,
   "id": "contrary-northeast",
   "metadata": {
    "tags": []
   },
   "outputs": [],
   "source": [
    "keylist = isopy.keylist('ru', 'pd', 'cd')"
   ]
  },
  {
   "cell_type": "code",
   "execution_count": 52,
   "id": "italic-literature",
   "metadata": {
    "tags": []
   },
   "outputs": [
    {
     "data": {
      "text/plain": [
       "(1, 2)"
      ]
     },
     "execution_count": 52,
     "metadata": {},
     "output_type": "execute_result"
    }
   ],
   "source": [
    "keylist.count('ru'), keylist.index('cadmium')"
   ]
  },
  {
   "cell_type": "markdown",
   "id": "known-attraction",
   "metadata": {},
   "source": [
    "---"
   ]
  },
  {
   "cell_type": "markdown",
   "id": "gorgeous-catch",
   "metadata": {},
   "source": [
    "You can check is a key list contains duplicate key string using the ``has_duplicates()`` method"
   ]
  },
  {
   "cell_type": "code",
   "execution_count": 53,
   "id": "official-brown",
   "metadata": {},
   "outputs": [
    {
     "data": {
      "text/plain": [
       "False"
      ]
     },
     "execution_count": 53,
     "metadata": {},
     "output_type": "execute_result"
    }
   ],
   "source": [
    "keylist.has_duplicates()"
   ]
  },
  {
   "cell_type": "markdown",
   "id": "intended-cookbook",
   "metadata": {},
   "source": [
    "---\n",
    "You can reverse the order of the list using the ``reversed()`` method"
   ]
  },
  {
   "cell_type": "code",
   "execution_count": 54,
   "id": "subsequent-medicaid",
   "metadata": {},
   "outputs": [
    {
     "data": {
      "text/plain": [
       "ElementKeyList('Cd', 'Pd', 'Ru')"
      ]
     },
     "execution_count": 54,
     "metadata": {},
     "output_type": "execute_result"
    }
   ],
   "source": [
    "isopy.keylist('ru', 'pd', 'cd').reversed()"
   ]
  },
  {
   "cell_type": "markdown",
   "id": "conditional-factory",
   "metadata": {},
   "source": [
    "You can sort key list using the ``sorted()`` method. How the list is sorted depends on the flavour of the list (See documentation). Element key list are sorted by the atomic number of the element"
   ]
  },
  {
   "cell_type": "code",
   "execution_count": 55,
   "id": "stock-grenada",
   "metadata": {},
   "outputs": [
    {
     "data": {
      "text/plain": [
       "ElementKeyList('H', 'Pd', 'U')"
      ]
     },
     "execution_count": 55,
     "metadata": {},
     "output_type": "execute_result"
    }
   ],
   "source": [
    "isopy.keylist('U', 'H', 'Pd').sorted()"
   ]
  },
  {
   "cell_type": "markdown",
   "id": "gentle-glucose",
   "metadata": {},
   "source": [
    "Element symbols without atomic numers are sorted alphabetically at the end of the list"
   ]
  },
  {
   "cell_type": "code",
   "execution_count": 56,
   "id": "advanced-attendance",
   "metadata": {},
   "outputs": [
    {
     "data": {
      "text/plain": [
       "ElementKeyList('U', 'H', 'Pd', 'A', 'Zz')"
      ]
     },
     "execution_count": 56,
     "metadata": {},
     "output_type": "execute_result"
    }
   ],
   "source": [
    "isopy.keylist('U', 'H', 'Pd', 'a', 'zz')"
   ]
  },
  {
   "cell_type": "markdown",
   "id": "according-canadian",
   "metadata": {},
   "source": [
    "**Note** that ``sorted()`` and ``reversed()`` functions will return a list and sorting done by key value"
   ]
  },
  {
   "cell_type": "code",
   "execution_count": 57,
   "id": "dense-hollow",
   "metadata": {},
   "outputs": [
    {
     "data": {
      "text/plain": [
       "[ElementKeyString('H'), ElementKeyString('Pd'), ElementKeyString('U')]"
      ]
     },
     "execution_count": 57,
     "metadata": {},
     "output_type": "execute_result"
    }
   ],
   "source": [
    "sorted(isopy.keylist('U', 'H', 'Pd'))"
   ]
  },
  {
   "cell_type": "markdown",
   "id": "technical-order",
   "metadata": {},
   "source": [
    "---\n",
    "The ``flatten()`` method when used on a ratio key list will return the numerators followed by the denominators in a single key string list.The flatten method exists for the other key list flavours but there it only return a copy of the list."
   ]
  },
  {
   "cell_type": "code",
   "execution_count": 58,
   "id": "emerging-peninsula",
   "metadata": {},
   "outputs": [
    {
     "data": {
      "text/plain": [
       "ElementKeyList('Ru', 'Ag', 'Pd', 'Rh')"
      ]
     },
     "execution_count": 58,
     "metadata": {},
     "output_type": "execute_result"
    }
   ],
   "source": [
    "isopy.RatioKeyList('ru/pd', 'ag/rh').flatten()"
   ]
  },
  {
   "cell_type": "markdown",
   "id": "utility-duration",
   "metadata": {},
   "source": [
    "## Filtering key lists\n",
    "The ``filter()`` method provides a way to simple yet powerful way to filter the contents of key string lists and return only certain keys. Using the ``key_eq`` and ``key_neq`` keyword you can return only those keystring that are equal to/not equal to the supplied value(s). If you supply more that one filter key word then only the keys that pass all filter are returned."
   ]
  },
  {
   "cell_type": "code",
   "execution_count": 59,
   "id": "velvet-gabriel",
   "metadata": {},
   "outputs": [
    {
     "data": {
      "text/plain": [
       "ElementKeyList('Pd', 'Cd')"
      ]
     },
     "execution_count": 59,
     "metadata": {},
     "output_type": "execute_result"
    }
   ],
   "source": [
    "isopy.keylist('ru', 'pd', 'cd').filter(key_eq=['rh', 'pd', 'ag', 'cd'])"
   ]
  },
  {
   "cell_type": "code",
   "execution_count": 60,
   "id": "functional-renewal",
   "metadata": {},
   "outputs": [
    {
     "data": {
      "text/plain": [
       "ElementKeyList('Ru')"
      ]
     },
     "execution_count": 60,
     "metadata": {},
     "output_type": "execute_result"
    }
   ],
   "source": [
    "isopy.keylist('ru', 'pd', 'cd').filter(key_neq=['rh', 'pd', 'ag', 'cd'])"
   ]
  },
  {
   "cell_type": "markdown",
   "id": "treated-transfer",
   "metadata": {},
   "source": [
    "**Note** the ``filter()`` method always returns a new key list"
   ]
  },
  {
   "cell_type": "markdown",
   "id": "humanitarian-violence",
   "metadata": {},
   "source": [
    "---\n",
    "Mass key lists can be filtered using *lt*, *le*, *gt*, and *ge* for ``<``, ``<=``, ``>``, and ``>=`` comparisons"
   ]
  },
  {
   "cell_type": "code",
   "execution_count": 61,
   "id": "intermediate-drunk",
   "metadata": {},
   "outputs": [
    {
     "data": {
      "text/plain": [
       "MassKeyList('101', '102')"
      ]
     },
     "execution_count": 61,
     "metadata": {},
     "output_type": "execute_result"
    }
   ],
   "source": [
    "isopy.keylist('101', 102, 103).filter(key_le=102)"
   ]
  },
  {
   "cell_type": "markdown",
   "id": "unlikely-stomach",
   "metadata": {},
   "source": [
    "---\n",
    "You can filter isotope key lists based in the mass number or element symbol using ``mass_number_<filter>`` and ``element_symbol_<filter>``"
   ]
  },
  {
   "cell_type": "code",
   "execution_count": 62,
   "id": "spiritual-anthropology",
   "metadata": {},
   "outputs": [
    {
     "data": {
      "text/plain": [
       "IsotopeKeyList('111Cd')"
      ]
     },
     "execution_count": 62,
     "metadata": {},
     "output_type": "execute_result"
    }
   ],
   "source": [
    "isopy.IsotopeKeyList('101ru', '105pd', '111cd').filter(mass_number_ge='105', element_symbol_eq=['rh', 'ag', 'cd'])"
   ]
  },
  {
   "cell_type": "markdown",
   "id": "affiliated-logan",
   "metadata": {},
   "source": [
    "---\n",
    "Ratio key lists can be filtered based on the numerator and denominator strings using ``numerator_<filter>`` and ``denominator_<filter>``. You can use any filter valid for the numerator/denominator key string flavour"
   ]
  },
  {
   "cell_type": "code",
   "execution_count": 63,
   "id": "selected-regression",
   "metadata": {},
   "outputs": [
    {
     "data": {
      "text/plain": [
       "RatioKeyList('108Pd/105Pd', '108Cd/111Cd')"
      ]
     },
     "execution_count": 63,
     "metadata": {},
     "output_type": "execute_result"
    }
   ],
   "source": [
    "key = isopy.RatioKeyList('104Ru/101Ru', '108Pd/105pd', 'ag107/109ag', '108Cd/111Cd')\n",
    "key.filter(numerator_neq = '104ru', denominator_element_symbol_neq='ag')"
   ]
  },
  {
   "cell_type": "markdown",
   "id": "central-homework",
   "metadata": {},
   "source": [
    "---"
   ]
  },
  {
   "cell_type": "markdown",
   "id": "velvet-break",
   "metadata": {},
   "source": [
    "You can also filter key lists based on the flavour of the key string. This is particularly useful for the ``Mixed`` flavour."
   ]
  },
  {
   "cell_type": "code",
   "execution_count": 64,
   "id": "complete-technician",
   "metadata": {},
   "outputs": [
    {
     "data": {
      "text/plain": [
       "IsotopeKeyList('101Ru', '105Pd')"
      ]
     },
     "execution_count": 64,
     "metadata": {},
     "output_type": "execute_result"
    }
   ],
   "source": [
    "isopy.MixedKeyList('pd', 'cd', '101ru', '105pd').filter(flavour_eq='isotope')"
   ]
  }
 ],
 "metadata": {
  "kernelspec": {
   "display_name": "Python 3",
   "language": "python",
   "name": "python3"
  },
  "language_info": {
   "codemirror_mode": {
    "name": "ipython",
    "version": 3
   },
   "file_extension": ".py",
   "mimetype": "text/x-python",
   "name": "python",
   "nbconvert_exporter": "python",
   "pygments_lexer": "ipython3",
   "version": "3.9.2"
  }
 },
 "nbformat": 4,
 "nbformat_minor": 5
}
