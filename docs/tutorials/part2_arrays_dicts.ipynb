{
 "cells": [
  {
   "cell_type": "markdown",
   "id": "rolled-airfare",
   "metadata": {},
   "source": [
    "# Tutorial Part 2: Arrays, Dictionaries and Reference Values\n",
    "\n",
    "**Table of Content**\n",
    "\n",
    "* [Isopy Arrays](#Isopy-Arrays)\n",
    "    * [Creating Arrays](#Creating-Arrays)\n",
    "    * [Array Attributes](#Array-Attributes)\n",
    "    * [Array Methods](#Array-Methods)\n",
    "    * [Array Functions](#Array-Functions)\n",
    "* [Isopy Dictionaries](#Isopy-Dictionaries)\n",
    "* [Reference Values](#Reference-Values)"
   ]
  },
  {
   "cell_type": "code",
   "execution_count": 2,
   "id": "opened-result",
   "metadata": {},
   "outputs": [],
   "source": [
    "import isopy\n",
    "import numpy as np\n",
    "import pandas as pd\n",
    "import pyperclip # library for interacting with the clipboard"
   ]
  },
  {
   "cell_type": "markdown",
   "id": "unexpected-pastor",
   "metadata": {},
   "source": [
    "## Isopy Arrays\n",
    "An isopy array can be seen as a table of data with a certain number of rows and columns. Each column has a key in the form of an isopy key string. These arrays allow you to easily manipulate data while keeping track of what the values represents. Technically, isopy arrays are a custom view of a structured numpy array. This means that they inherit much of the functionality of a numpy array. "
   ]
  },
  {
   "cell_type": "markdown",
   "id": "liberal-rebel",
   "metadata": {},
   "source": [
    "### Creating Arrays\n",
    "You can create arrays directly using the different array flavours, e.g. ``IsotopeArray``, or by using the ``array`` and ``asarray`` functions. Isopy arrays can be created from a range of different data, described below."
   ]
  },
  {
   "cell_type": "markdown",
   "id": "complete-publication",
   "metadata": {},
   "source": [
    "---\n",
    "When the input is a list/tuple or a numpy array we have to pass along the keys for each column in the input"
   ]
  },
  {
   "cell_type": "code",
   "execution_count": 50,
   "id": "lonely-flavor",
   "metadata": {},
   "outputs": [
    {
     "data": {
      "text/plain": [
       "(row) , Ru , Pd , Cd \n",
       "None  , 10 , 20 , 30 "
      ]
     },
     "execution_count": 50,
     "metadata": {},
     "output_type": "execute_result"
    }
   ],
   "source": [
    "data = [10, 20, 30] # Produces a 0-dimensional array\n",
    "isopy.array(data, ['ru', 'pd', 'cd']) "
   ]
  },
  {
   "cell_type": "code",
   "execution_count": 44,
   "id": "olive-smoke",
   "metadata": {},
   "outputs": [
    {
     "data": {
      "text/plain": [
       "(row) , Ru , Pd , Cd \n",
       "0     , 10 , 20 , 30 \n",
       "1     , 11 , 21 , 31 "
      ]
     },
     "execution_count": 44,
     "metadata": {},
     "output_type": "execute_result"
    }
   ],
   "source": [
    "data = np.array([[10, 20, 30], [11, 21, 31]]) #Produces a 1-dimensional array\n",
    "isopy.array(data, ['ru', 'pd', 'cd']) "
   ]
  },
  {
   "cell_type": "markdown",
   "id": "mineral-somerset",
   "metadata": {},
   "source": [
    "**Note** The data type of each column defaults to ``numpy.float64`` for values that do not have a numpy dtype. If a value cannot be represented as a float the default data type inferred by numpy will be used. In the examples above the first array created will use the default data type while the second array will inherit the data type of the input, ``np.int32`` in this case."
   ]
  },
  {
   "cell_type": "markdown",
   "id": "inner-preserve",
   "metadata": {},
   "source": [
    "---\n",
    "Using the ``dtype`` keyword you can specify the data type for columns in the array. Any data type accepted by numpy is valid. You can either pass a single data type or a tuple of data types. The latter will use the first the data type which is valid for all the data in the column."
   ]
  },
  {
   "cell_type": "code",
   "execution_count": 20,
   "id": "electoral-bruce",
   "metadata": {},
   "outputs": [
    {
     "data": {
      "text/plain": [
       "dtype([('Ru', '<f8'), ('Pd', '<f8'), ('Cd', '<f8')])"
      ]
     },
     "execution_count": 20,
     "metadata": {},
     "output_type": "execute_result"
    }
   ],
   "source": [
    "isopy.array([10, 20, 30], ['ru', 'pd', 'cd']).dtype # f8 stands for np.float64"
   ]
  },
  {
   "cell_type": "code",
   "execution_count": 21,
   "id": "appreciated-proof",
   "metadata": {},
   "outputs": [
    {
     "data": {
      "text/plain": [
       "dtype([('Ru', '<i4'), ('Pd', '<i4'), ('Cd', '<i4')])"
      ]
     },
     "execution_count": 21,
     "metadata": {},
     "output_type": "execute_result"
    }
   ],
   "source": [
    "isopy.array([10, 20, 30], ['ru', 'pd', 'cd'], dtype=np.int32).dtype # i4 stands for np.int32"
   ]
  },
  {
   "cell_type": "code",
   "execution_count": 30,
   "id": "accredited-bonus",
   "metadata": {},
   "outputs": [
    {
     "data": {
      "text/plain": [
       "dtype([('Ru', '<U3'), ('Pd', '<i4'), ('Cd', '<i4')])"
      ]
     },
     "execution_count": 30,
     "metadata": {},
     "output_type": "execute_result"
    }
   ],
   "source": [
    "isopy.array(['ten', 20, 30], ['ru', 'pd', 'cd'], dtype=(np.int32, str)).dtype # U stands for unicode string and the next number is the maximum length"
   ]
  },
  {
   "cell_type": "markdown",
   "id": "exposed-operator",
   "metadata": {},
   "source": [
    "To specify different data types for different columns pass a list of equal length to the number of columns."
   ]
  },
  {
   "cell_type": "code",
   "execution_count": 24,
   "id": "exact-speaker",
   "metadata": {},
   "outputs": [
    {
     "data": {
      "text/plain": [
       "dtype([('Ru', '<U2'), ('Pd', '<i4'), ('Cd', '<f8')])"
      ]
     },
     "execution_count": 24,
     "metadata": {},
     "output_type": "execute_result"
    }
   ],
   "source": [
    "isopy.array([10, 20, 30], ['ru', 'pd', 'cd'], dtype=[str, np.int32, np.float64]).dtype"
   ]
  },
  {
   "cell_type": "markdown",
   "id": "exterior-image",
   "metadata": {},
   "source": [
    "---\n",
    "Using the ``ndim`` keyword you can specify the number of dimensions of the array. To return a 0-dimensional array if possible, otherwise return a 1-dimensional array specify ``ndim`` as ``-1``. The row number of 0-dimensional arrays will appear as ``\"None\"`` in the ``repr()`` output of an array. You can also check the dimensionality of an array using the ``ndim`` attribute."
   ]
  },
  {
   "cell_type": "code",
   "execution_count": 25,
   "id": "standing-institute",
   "metadata": {},
   "outputs": [
    {
     "data": {
      "text/plain": [
       "(row) , Ru , Pd , Cd \n",
       "None  , 10 , 20 , 30 "
      ]
     },
     "execution_count": 25,
     "metadata": {},
     "output_type": "execute_result"
    }
   ],
   "source": [
    "isopy.array([10, 20, 30], ['ru', 'pd', 'cd'], ndim=0) # Make 0-dimensional"
   ]
  },
  {
   "cell_type": "code",
   "execution_count": 26,
   "id": "operational-trademark",
   "metadata": {},
   "outputs": [
    {
     "data": {
      "text/plain": [
       "(row) , Ru , Pd , Cd \n",
       "0     , 10 , 20 , 30 "
      ]
     },
     "execution_count": 26,
     "metadata": {},
     "output_type": "execute_result"
    }
   ],
   "source": [
    "isopy.array([10, 20, 30], ['ru', 'pd', 'cd'], ndim=1) # Make 1-dimensional"
   ]
  },
  {
   "cell_type": "code",
   "execution_count": 28,
   "id": "strange-jesus",
   "metadata": {},
   "outputs": [
    {
     "data": {
      "text/plain": [
       "(row) , Ru , Pd , Cd \n",
       "None  , 10 , 20 , 30 "
      ]
     },
     "execution_count": 28,
     "metadata": {},
     "output_type": "execute_result"
    }
   ],
   "source": [
    "isopy.array([10, 20, 30], ['ru', 'pd', 'cd'], ndim=-1) # Make 0-dimesional if possible otherwise 1-dimensional."
   ]
  },
  {
   "cell_type": "code",
   "execution_count": 27,
   "id": "conscious-dealer",
   "metadata": {},
   "outputs": [
    {
     "data": {
      "text/plain": [
       "(row) , Ru , Pd , Cd \n",
       "0     , 10 , 20 , 30 \n",
       "1     , 11 , 21 , 31 "
      ]
     },
     "execution_count": 27,
     "metadata": {},
     "output_type": "execute_result"
    }
   ],
   "source": [
    "isopy.array([[10, 20, 30], [11, 21, 31]], ['ru', 'pd', 'cd'], ndim = -1) "
   ]
  },
  {
   "cell_type": "markdown",
   "id": "regulated-input",
   "metadata": {},
   "source": [
    "---\n",
    "If the input is a dictionary or a structured numpy array the name of each column will be automatically inferred from the first argument."
   ]
  },
  {
   "cell_type": "code",
   "execution_count": 46,
   "id": "internal-explanation",
   "metadata": {},
   "outputs": [
    {
     "data": {
      "text/plain": [
       "(row) , Ru , Pd , Cd \n",
       "0     , 10 , 20 , 30 \n",
       "1     , 11 , 21 , 31 "
      ]
     },
     "execution_count": 46,
     "metadata": {},
     "output_type": "execute_result"
    }
   ],
   "source": [
    "data = dict(ru = [10, 11], pd= [20, 21], cd = [30, 31])\n",
    "isopy.array(data)"
   ]
  },
  {
   "cell_type": "code",
   "execution_count": 47,
   "id": "activated-victorian",
   "metadata": {},
   "outputs": [
    {
     "data": {
      "text/plain": [
       "(row) , Ru , Pd , Cd \n",
       "0     , 10 , 20 , 30 \n",
       "1     , 11 , 21 , 31 "
      ]
     },
     "execution_count": 47,
     "metadata": {},
     "output_type": "execute_result"
    }
   ],
   "source": [
    "data = np.array([(10, 20, 30), (11, 21, 31)], dtype = [('ru', float), ('pd', float), ('cd', float)])\n",
    "isopy.array(data)"
   ]
  },
  {
   "cell_type": "markdown",
   "id": "hazardous-crown",
   "metadata": {},
   "source": [
    "You can overwrite the inferred column keys by passing keys during creation"
   ]
  },
  {
   "cell_type": "code",
   "execution_count": 49,
   "id": "twelve-terminology",
   "metadata": {},
   "outputs": [
    {
     "data": {
      "text/plain": [
       "(row) , 101Ru , 105Pd , 111Cd \n",
       "0     , 10    , 20    , 30    \n",
       "1     , 11    , 21    , 31    "
      ]
     },
     "execution_count": 49,
     "metadata": {},
     "output_type": "execute_result"
    }
   ],
   "source": [
    "data = dict(ru = [10, 11], pd= [20, 21], cd = [30, 31])\n",
    "isopy.array(data, ['101ru', '105pd', '111cd'])"
   ]
  },
  {
   "cell_type": "markdown",
   "id": "accessible-rescue",
   "metadata": {},
   "source": [
    "You can convert an isopy array back into a numpy array or a dictionary using the ``to_ndarray()`` and ``to_dict()`` methods."
   ]
  },
  {
   "cell_type": "markdown",
   "id": "regular-encounter",
   "metadata": {},
   "source": [
    "---\n",
    "There are a number of methods for converting isopy arrays into other python objects"
   ]
  },
  {
   "cell_type": "code",
   "execution_count": 14,
   "id": "genuine-ceiling",
   "metadata": {},
   "outputs": [
    {
     "data": {
      "text/plain": [
       "array([(10., 20., 30.), (11., 21., 31.)],\n",
       "      dtype=[('Ru', '<f8'), ('Pd', '<f8'), ('Cd', '<f8')])"
      ]
     },
     "execution_count": 14,
     "metadata": {},
     "output_type": "execute_result"
    }
   ],
   "source": [
    "a = isopy.array(dict(ru = [10, 11], pd= [20, 21], cd = [30, 31]))\n",
    "a.to_ndarray() # Converts array into a structured numpy array"
   ]
  },
  {
   "cell_type": "code",
   "execution_count": 16,
   "id": "covered-bachelor",
   "metadata": {},
   "outputs": [
    {
     "data": {
      "text/plain": [
       "{'Ru': [10.0, 11.0], 'Pd': [20.0, 21.0], 'Cd': [30.0, 31.0]}"
      ]
     },
     "execution_count": 16,
     "metadata": {},
     "output_type": "execute_result"
    }
   ],
   "source": [
    "a.to_dict() # Converts array into a dictionary"
   ]
  },
  {
   "cell_type": "markdown",
   "id": "angry-occasions",
   "metadata": {},
   "source": [
    "---\n",
    "Similarly you can create isopy arrays from a pandas dataframe"
   ]
  },
  {
   "cell_type": "code",
   "execution_count": 4,
   "id": "auburn-address",
   "metadata": {},
   "outputs": [
    {
     "data": {
      "text/html": [
       "<div>\n",
       "<style scoped>\n",
       "    .dataframe tbody tr th:only-of-type {\n",
       "        vertical-align: middle;\n",
       "    }\n",
       "\n",
       "    .dataframe tbody tr th {\n",
       "        vertical-align: top;\n",
       "    }\n",
       "\n",
       "    .dataframe thead th {\n",
       "        text-align: right;\n",
       "    }\n",
       "</style>\n",
       "<table border=\"1\" class=\"dataframe\">\n",
       "  <thead>\n",
       "    <tr style=\"text-align: right;\">\n",
       "      <th></th>\n",
       "      <th>ru</th>\n",
       "      <th>pd</th>\n",
       "      <th>cd</th>\n",
       "    </tr>\n",
       "  </thead>\n",
       "  <tbody>\n",
       "    <tr>\n",
       "      <th>0</th>\n",
       "      <td>10</td>\n",
       "      <td>20</td>\n",
       "      <td>30</td>\n",
       "    </tr>\n",
       "    <tr>\n",
       "      <th>1</th>\n",
       "      <td>11</td>\n",
       "      <td>21</td>\n",
       "      <td>31</td>\n",
       "    </tr>\n",
       "  </tbody>\n",
       "</table>\n",
       "</div>"
      ],
      "text/plain": [
       "   ru  pd  cd\n",
       "0  10  20  30\n",
       "1  11  21  31"
      ]
     },
     "execution_count": 4,
     "metadata": {},
     "output_type": "execute_result"
    }
   ],
   "source": [
    "df = pd.DataFrame(dict(ru = [10, 11], pd= [20, 21], cd = [30, 31]))\n",
    "df"
   ]
  },
  {
   "cell_type": "code",
   "execution_count": 17,
   "id": "listed-courage",
   "metadata": {},
   "outputs": [
    {
     "data": {
      "text/plain": [
       "(row) , Ru , Pd , Cd \n",
       "0     , 10 , 20 , 30 \n",
       "1     , 11 , 21 , 31 "
      ]
     },
     "execution_count": 17,
     "metadata": {},
     "output_type": "execute_result"
    }
   ],
   "source": [
    "isopy.array(df)"
   ]
  },
  {
   "cell_type": "markdown",
   "id": "rolled-obligation",
   "metadata": {},
   "source": [
    "You can convert a isopy array back into a dataframe using the ``to_dataframe()`` method or by passing it directly to ``DataFrame()``"
   ]
  },
  {
   "cell_type": "code",
   "execution_count": 9,
   "id": "abandoned-checklist",
   "metadata": {},
   "outputs": [
    {
     "data": {
      "text/html": [
       "<div>\n",
       "<style scoped>\n",
       "    .dataframe tbody tr th:only-of-type {\n",
       "        vertical-align: middle;\n",
       "    }\n",
       "\n",
       "    .dataframe tbody tr th {\n",
       "        vertical-align: top;\n",
       "    }\n",
       "\n",
       "    .dataframe thead th {\n",
       "        text-align: right;\n",
       "    }\n",
       "</style>\n",
       "<table border=\"1\" class=\"dataframe\">\n",
       "  <thead>\n",
       "    <tr style=\"text-align: right;\">\n",
       "      <th></th>\n",
       "      <th>Ru</th>\n",
       "      <th>Pd</th>\n",
       "      <th>Cd</th>\n",
       "    </tr>\n",
       "  </thead>\n",
       "  <tbody>\n",
       "    <tr>\n",
       "      <th>0</th>\n",
       "      <td>10</td>\n",
       "      <td>20</td>\n",
       "      <td>30</td>\n",
       "    </tr>\n",
       "    <tr>\n",
       "      <th>1</th>\n",
       "      <td>11</td>\n",
       "      <td>21</td>\n",
       "      <td>31</td>\n",
       "    </tr>\n",
       "  </tbody>\n",
       "</table>\n",
       "</div>"
      ],
      "text/plain": [
       "   Ru  Pd  Cd\n",
       "0  10  20  30\n",
       "1  11  21  31"
      ]
     },
     "execution_count": 9,
     "metadata": {},
     "output_type": "execute_result"
    }
   ],
   "source": [
    "array = isopy.array(df)\n",
    "array.to_dataframe()"
   ]
  },
  {
   "cell_type": "code",
   "execution_count": 10,
   "id": "abroad-boating",
   "metadata": {},
   "outputs": [
    {
     "data": {
      "text/html": [
       "<div>\n",
       "<style scoped>\n",
       "    .dataframe tbody tr th:only-of-type {\n",
       "        vertical-align: middle;\n",
       "    }\n",
       "\n",
       "    .dataframe tbody tr th {\n",
       "        vertical-align: top;\n",
       "    }\n",
       "\n",
       "    .dataframe thead th {\n",
       "        text-align: right;\n",
       "    }\n",
       "</style>\n",
       "<table border=\"1\" class=\"dataframe\">\n",
       "  <thead>\n",
       "    <tr style=\"text-align: right;\">\n",
       "      <th></th>\n",
       "      <th>Ru</th>\n",
       "      <th>Pd</th>\n",
       "      <th>Cd</th>\n",
       "    </tr>\n",
       "  </thead>\n",
       "  <tbody>\n",
       "    <tr>\n",
       "      <th>0</th>\n",
       "      <td>10</td>\n",
       "      <td>20</td>\n",
       "      <td>30</td>\n",
       "    </tr>\n",
       "    <tr>\n",
       "      <th>1</th>\n",
       "      <td>11</td>\n",
       "      <td>21</td>\n",
       "      <td>31</td>\n",
       "    </tr>\n",
       "  </tbody>\n",
       "</table>\n",
       "</div>"
      ],
      "text/plain": [
       "   Ru  Pd  Cd\n",
       "0  10  20  30\n",
       "1  11  21  31"
      ]
     },
     "execution_count": 10,
     "metadata": {},
     "output_type": "execute_result"
    }
   ],
   "source": [
    "pd.DataFrame(array)"
   ]
  },
  {
   "cell_type": "markdown",
   "id": "forty-mattress",
   "metadata": {},
   "source": [
    "---\n",
    "You can create arrays from existing isopy arrays"
   ]
  },
  {
   "cell_type": "code",
   "execution_count": 57,
   "id": "matched-hundred",
   "metadata": {},
   "outputs": [
    {
     "data": {
      "text/plain": [
       "(row) , Ru , Pd , Cd \n",
       "None  , 10 , 20 , 30 "
      ]
     },
     "execution_count": 57,
     "metadata": {},
     "output_type": "execute_result"
    }
   ],
   "source": [
    "a = isopy.array([10, 20, 30], ['ru', 'pd', 'cd']) \n",
    "isopy.array(a)"
   ]
  },
  {
   "cell_type": "markdown",
   "id": "classical-length",
   "metadata": {},
   "source": [
    "There key difference between ``array`` and ``asarray`` is that if the first argument is an isopy array then  ``asarray`` will return a reference that array, rather than a copy, if no other arguments are given while ``array`` will return a copy."
   ]
  },
  {
   "cell_type": "code",
   "execution_count": 2,
   "id": "forced-benchmark",
   "metadata": {},
   "outputs": [
    {
     "data": {
      "text/plain": [
       "(False, True)"
      ]
     },
     "execution_count": 2,
     "metadata": {},
     "output_type": "execute_result"
    }
   ],
   "source": [
    "a = isopy.array([10, 20, 30], ['ru', 'pd', 'cd']) \n",
    "isopy.array(a) is a, isopy.asarray(a) is a"
   ]
  },
  {
   "cell_type": "markdown",
   "id": "former-pottery",
   "metadata": {},
   "source": [
    "#### Filled Arrays\n",
    "You can create an array of uninitiated values, zeros or ones using the ``empty``, ``zeros`` and ``one`` functions."
   ]
  },
  {
   "cell_type": "code",
   "execution_count": 17,
   "id": "loving-panel",
   "metadata": {},
   "outputs": [
    {
     "data": {
      "text/plain": [
       "(row) , Ru , Pd          , Cd \n",
       "None  , 0  , 8.2859e-312 , -0 "
      ]
     },
     "execution_count": 17,
     "metadata": {},
     "output_type": "execute_result"
    }
   ],
   "source": [
    "isopy.empty(None, ['ru', 'pd', 'cd']) #None, or -1, creates a 0-dimensional array"
   ]
  },
  {
   "cell_type": "code",
   "execution_count": 19,
   "id": "expired-locator",
   "metadata": {},
   "outputs": [
    {
     "data": {
      "text/plain": [
       "(row) , Ru , Pd , Cd \n",
       "0     , 0  , 0  , 0  "
      ]
     },
     "execution_count": 19,
     "metadata": {},
     "output_type": "execute_result"
    }
   ],
   "source": [
    "isopy.zeros(1, ['ru', 'pd', 'cd'])"
   ]
  },
  {
   "cell_type": "code",
   "execution_count": 65,
   "id": "swiss-campbell",
   "metadata": {},
   "outputs": [
    {
     "data": {
      "text/plain": [
       "(row) , Ru , Pd , Cd \n",
       "0     , 1  , 1  , 1  \n",
       "1     , 1  , 1  , 1  "
      ]
     },
     "execution_count": 65,
     "metadata": {},
     "output_type": "execute_result"
    }
   ],
   "source": [
    "isopy.ones(2, ['ru', 'pd', 'cd'])"
   ]
  },
  {
   "cell_type": "markdown",
   "id": "understanding-amplifier",
   "metadata": {},
   "source": [
    "To create an array filled with a specific value use the ``full`` function. The second arguement is the fill value. This can either be a single value used for all rows in the column or a sequence of values of of the same length as the number of rows."
   ]
  },
  {
   "cell_type": "code",
   "execution_count": 6,
   "id": "nasty-journey",
   "metadata": {},
   "outputs": [
    {
     "data": {
      "text/plain": [
       "(row) , Ru  , Pd  , Cd  \n",
       "0     , nan , nan , nan \n",
       "1     , nan , nan , nan "
      ]
     },
     "execution_count": 6,
     "metadata": {},
     "output_type": "execute_result"
    }
   ],
   "source": [
    "isopy.full(2, np.nan, ['ru', 'pd', 'cd'])"
   ]
  },
  {
   "cell_type": "code",
   "execution_count": 5,
   "id": "sporting-merit",
   "metadata": {},
   "outputs": [
    {
     "data": {
      "text/plain": [
       "(row) , Ru , Pd , Cd \n",
       "0     , 1  , 1  , 1  \n",
       "1     , 2  , 2  , 2  "
      ]
     },
     "execution_count": 5,
     "metadata": {},
     "output_type": "execute_result"
    }
   ],
   "source": [
    "isopy.full(2, [1,2], ['ru', 'pd', 'cd'])"
   ]
  },
  {
   "cell_type": "markdown",
   "id": "fitted-sharp",
   "metadata": {},
   "source": [
    "---\n",
    "If no keys are given, or can be inferred, a normal numpy array is returned."
   ]
  },
  {
   "cell_type": "code",
   "execution_count": 3,
   "id": "under-bacteria",
   "metadata": {},
   "outputs": [
    {
     "data": {
      "text/plain": [
       "array([1., 1., 1., 1., 1.])"
      ]
     },
     "execution_count": 3,
     "metadata": {},
     "output_type": "execute_result"
    }
   ],
   "source": [
    "isopy.ones(5) # same as np.ones(5)"
   ]
  },
  {
   "cell_type": "markdown",
   "id": "recovered-branch",
   "metadata": {},
   "source": [
    "---\n",
    "#### Random Arrays\n",
    "To create an array of random values use the ``random`` function. The second argument is either a single argument or a tuple of arguments that will be passed to the random generator. By default this function draws values from a normal distribution. The following example draws values from a normal distribution with a center of 1 and standard deviation of 0.1"
   ]
  },
  {
   "cell_type": "code",
   "execution_count": 12,
   "id": "designing-message",
   "metadata": {},
   "outputs": [
    {
     "data": {
      "text/plain": [
       "(row) , Ru      , Pd      , Cd      \n",
       "0     , 0.96959 , 1.0281  , 0.79312 \n",
       "1     , 0.95192 , 1.0449  , 1.0856  \n",
       "2     , 1.0982  , 0.97543 , 0.94024 \n",
       "3     , 1.0573  , 0.9973  , 0.8874  \n",
       "4     , 0.94976 , 1.019   , 0.78627 \n",
       "5     , 1.099   , 0.99962 , 1.0155  \n",
       "6     , 1.1471  , 0.86524 , 1.0227  \n",
       "7     , 1.0914  , 1.0253  , 0.93167 \n",
       "8     , 1.0465  , 0.90448 , 0.94372 \n",
       "9     , 0.91533 , 0.95526 , 0.99472 "
      ]
     },
     "execution_count": 12,
     "metadata": {},
     "output_type": "execute_result"
    }
   ],
   "source": [
    "isopy.random(10, (1, 0.1), ['ru', 'pd', 'cd'])"
   ]
  },
  {
   "cell_type": "markdown",
   "id": "forced-appraisal",
   "metadata": {},
   "source": [
    "You can specify different distributions for different columns by passing a list as the second argument"
   ]
  },
  {
   "cell_type": "code",
   "execution_count": 13,
   "id": "cheap-blink",
   "metadata": {},
   "outputs": [
    {
     "data": {
      "text/plain": [
       "(row) , Ru      , Pd       , Cd     \n",
       "0     , 1.0187  , 2.4206   , 11.091 \n",
       "1     , 1.1119  , -1.0512  , 9.2026 \n",
       "2     , 0.92309 , 0.26226  , 10.231 \n",
       "3     , 1.0747  , 0.31492  , 10.051 \n",
       "4     , 0.89444 , 1.4324   , 10.175 \n",
       "5     , 0.87109 , 0.68955  , 9.2957 \n",
       "6     , 1.0984  , -0.70649 , 10.48  \n",
       "7     , 1.2338  , 0.40023  , 10.142 \n",
       "8     , 1.0538  , 1.0639   , 10.11  \n",
       "9     , 0.9434  , -0.50517 , 10.73  "
      ]
     },
     "execution_count": 13,
     "metadata": {},
     "output_type": "execute_result"
    }
   ],
   "source": [
    "isopy.random(10, [(1, 0.1), (0,1), (10, 1)], ['ru', 'pd', 'cd'])"
   ]
  },
  {
   "cell_type": "markdown",
   "id": "romance-behavior",
   "metadata": {},
   "source": [
    "---\n",
    "If no keys are given, or can be inferred, a normal numpy array is returned."
   ]
  },
  {
   "cell_type": "code",
   "execution_count": 4,
   "id": "cellular-small",
   "metadata": {},
   "outputs": [
    {
     "data": {
      "text/plain": [
       "array([-0.66929881, -0.66053013,  0.93081883, -1.07150801, -0.23177742,\n",
       "       -0.93340998, -0.58119726, -0.45745434, -0.30148965,  1.02422904])"
      ]
     },
     "execution_count": 4,
     "metadata": {},
     "output_type": "execute_result"
    }
   ],
   "source": [
    "isopy.random(10)"
   ]
  },
  {
   "cell_type": "markdown",
   "id": "incorporated-princess",
   "metadata": {},
   "source": [
    "### Array Attributes\n",
    "Since isopy arrays are custom implementation of a numpy arrays they have all the attributes you would find in numpy arrays, e.g. ``size``, ``.ndim``, ``.shape`` and ``.dtype``."
   ]
  },
  {
   "cell_type": "code",
   "execution_count": 35,
   "id": "headed-colonial",
   "metadata": {},
   "outputs": [
    {
     "data": {
      "text/plain": [
       "(2, 1, (2,), dtype([('Ru', '<f8'), ('Pd', '<f8'), ('Cd', '<f8')]))"
      ]
     },
     "execution_count": 35,
     "metadata": {},
     "output_type": "execute_result"
    }
   ],
   "source": [
    "a = isopy.array(dict(ru = [10, 11], pd= [20, 21], cd = [30, 31]))\n",
    "a.size, a.ndim, a.shape, a.dtype"
   ]
  },
  {
   "cell_type": "markdown",
   "id": "entire-causing",
   "metadata": {},
   "source": [
    "In addition to the numpy attributes ``.nrows`` and ``.ncols`` are also available for isopy arrays. There return the number of rows and number of columns in the array respectively."
   ]
  },
  {
   "cell_type": "code",
   "execution_count": 36,
   "id": "recognized-production",
   "metadata": {},
   "outputs": [
    {
     "data": {
      "text/plain": [
       "(2, 3)"
      ]
     },
     "execution_count": 36,
     "metadata": {},
     "output_type": "execute_result"
    }
   ],
   "source": [
    "a.nrows, a.ncols"
   ]
  },
  {
   "cell_type": "markdown",
   "id": "effective-swedish",
   "metadata": {},
   "source": [
    "**Note** That ``.size`` will return ``1`` for both 0-dimensional arrays and 1-dimensional arrays with 1 row.  ``.nrows`` on the other hand will return ``-1`` 0-dimensional arrays."
   ]
  },
  {
   "cell_type": "code",
   "execution_count": 5,
   "id": "silent-entry",
   "metadata": {},
   "outputs": [
    {
     "data": {
      "text/plain": [
       "(1, -1)"
      ]
     },
     "execution_count": 5,
     "metadata": {},
     "output_type": "execute_result"
    }
   ],
   "source": [
    "a = isopy.array(dict(ru = 10, pd= 20, cd = 30))\n",
    "a.size, a.nrows"
   ]
  },
  {
   "cell_type": "markdown",
   "id": "external-bearing",
   "metadata": {},
   "source": [
    "The column keys are available through the ``.keys`` attribute"
   ]
  },
  {
   "cell_type": "code",
   "execution_count": 38,
   "id": "recent-converter",
   "metadata": {},
   "outputs": [
    {
     "data": {
      "text/plain": [
       "ElementKeyList('Ru', 'Pd', 'Cd')"
      ]
     },
     "execution_count": 38,
     "metadata": {},
     "output_type": "execute_result"
    }
   ],
   "source": [
    "a.keys # a.keys() also works fine"
   ]
  },
  {
   "cell_type": "markdown",
   "id": "detected-favor",
   "metadata": {},
   "source": [
    "### Array Methods\n",
    "While isopy arrays also contain all the methods found in numpy arrays many of these are not relevant to isopy arrays and may therefore not work as expected, if at all. See the reference documentation for a list of all methods that have been implemented for isopy arrays. Any methods not listed there should be used with **caution** as the behavior is undefined.\n",
    "\n",
    "---\n",
    "Isopy arrays have a number of methods that mimic those found in dictionaries. In addition to the ``.keys`` attribute, that can be used as a method, arrays also have ``values()``, ``items()`` and ``get()`` methods."
   ]
  },
  {
   "cell_type": "code",
   "execution_count": 6,
   "id": "middle-reason",
   "metadata": {},
   "outputs": [
    {
     "data": {
      "text/plain": [
       "(array([10., 11.]), array([20., 21.]), array([30., 31.]))"
      ]
     },
     "execution_count": 6,
     "metadata": {},
     "output_type": "execute_result"
    }
   ],
   "source": [
    "a = isopy.array(dict(ru = [10, 11], pd= [20, 21], cd = [30, 31]))\n",
    "a.values()"
   ]
  },
  {
   "cell_type": "code",
   "execution_count": 7,
   "id": "improved-glucose",
   "metadata": {},
   "outputs": [
    {
     "data": {
      "text/plain": [
       "((ElementKeyString('Ru'), array([10., 11.])),\n",
       " (ElementKeyString('Pd'), array([20., 21.])),\n",
       " (ElementKeyString('Cd'), array([30., 31.])))"
      ]
     },
     "execution_count": 7,
     "metadata": {},
     "output_type": "execute_result"
    }
   ],
   "source": [
    "a.items()"
   ]
  },
  {
   "cell_type": "markdown",
   "id": "collected-blackjack",
   "metadata": {},
   "source": [
    "**Note** both``values()`` and ``items()`` both return a tuple (Unlike dictionaries where they return iterators). "
   ]
  },
  {
   "cell_type": "code",
   "execution_count": 45,
   "id": "residential-library",
   "metadata": {},
   "outputs": [
    {
     "data": {
      "text/plain": [
       "array([10., 11.])"
      ]
     },
     "execution_count": 45,
     "metadata": {},
     "output_type": "execute_result"
    }
   ],
   "source": [
    "a.get('ru')"
   ]
  },
  {
   "cell_type": "markdown",
   "id": "sudden-desert",
   "metadata": {},
   "source": [
    "If a column with the specified key is not present in the array a default value is return with the same shape as a column in the array."
   ]
  },
  {
   "cell_type": "code",
   "execution_count": 46,
   "id": "unlimited-namibia",
   "metadata": {},
   "outputs": [
    {
     "data": {
      "text/plain": [
       "array([nan, nan])"
      ]
     },
     "execution_count": 46,
     "metadata": {},
     "output_type": "execute_result"
    }
   ],
   "source": [
    "a.get('ag') # If not specified the default value is np.nan"
   ]
  },
  {
   "cell_type": "code",
   "execution_count": 48,
   "id": "descending-document",
   "metadata": {},
   "outputs": [
    {
     "data": {
      "text/plain": [
       "array([40, 40])"
      ]
     },
     "execution_count": 48,
     "metadata": {},
     "output_type": "execute_result"
    }
   ],
   "source": [
    "a.get('ag', 40) # Second argument is the default value"
   ]
  },
  {
   "cell_type": "code",
   "execution_count": 50,
   "id": "genuine-correspondence",
   "metadata": {},
   "outputs": [
    {
     "data": {
      "text/plain": [
       "array([40, 41])"
      ]
     },
     "execution_count": 50,
     "metadata": {},
     "output_type": "execute_result"
    }
   ],
   "source": [
    "a.get('ag', [40, 41]) # A sequence the same shape as a valid column is also accepted"
   ]
  },
  {
   "cell_type": "markdown",
   "id": "aggregate-diabetes",
   "metadata": {},
   "source": [
    "---\n",
    "The ``filter()`` method return a view containing only the columns that match the supplied key filters. See the ``filter()`` method for the different key lists for available filter keywords."
   ]
  },
  {
   "cell_type": "code",
   "execution_count": 7,
   "id": "concrete-dinner",
   "metadata": {},
   "outputs": [
    {
     "data": {
      "text/plain": [
       "(row) , 105Pd , 111Cd \n",
       "0     , 20    , 30    \n",
       "1     , 21    , 31    "
      ]
     },
     "execution_count": 7,
     "metadata": {},
     "output_type": "execute_result"
    }
   ],
   "source": [
    "a = isopy.array(dict(ru101 = [10, 11], pd105= [20, 21], cd111 = [30, 31]))\n",
    "a.filter(mass_number_gt=104) # Return only the columns with that have a mass number greater than 104"
   ]
  },
  {
   "cell_type": "markdown",
   "id": "optional-advantage",
   "metadata": {},
   "source": [
    "---\n",
    "The ``copy()`` method can be used to return a copy of the array"
   ]
  },
  {
   "cell_type": "code",
   "execution_count": 3,
   "id": "prescription-pilot",
   "metadata": {},
   "outputs": [
    {
     "data": {
      "text/plain": [
       "(False, True)"
      ]
     },
     "execution_count": 3,
     "metadata": {},
     "output_type": "execute_result"
    }
   ],
   "source": [
    "a = isopy.array(dict(ru101 = [10, 11], pd105= [20, 21], cd111 = [30, 31]))\n",
    "b = a.copy()\n",
    "b is a, a == b"
   ]
  },
  {
   "cell_type": "markdown",
   "id": "strategic-niagara",
   "metadata": {},
   "source": [
    "You can copy only those columns that meet a certain criteria by passing filter keywords as in the ``filter()`` method described above."
   ]
  },
  {
   "cell_type": "code",
   "execution_count": 4,
   "id": "printable-dairy",
   "metadata": {},
   "outputs": [
    {
     "data": {
      "text/plain": [
       "(row) , 105Pd , 111Cd \n",
       "0     , 20    , 30    \n",
       "1     , 21    , 31    "
      ]
     },
     "execution_count": 4,
     "metadata": {},
     "output_type": "execute_result"
    }
   ],
   "source": [
    "a = isopy.array(dict(ru101 = [10, 11], pd105= [20, 21], cd111 = [30, 31]))\n",
    "a.copy(mass_number_gt = 104) # Return only the columns with that have a mass number greater than 104"
   ]
  },
  {
   "cell_type": "markdown",
   "id": "growing-journal",
   "metadata": {},
   "source": [
    "---\n",
    "You can create a ratio from data within an array using the ``ratio()`` method"
   ]
  },
  {
   "cell_type": "code",
   "execution_count": 4,
   "id": "sublime-transmission",
   "metadata": {},
   "outputs": [
    {
     "data": {
      "text/plain": [
       "(row) , 101Ru/105Pd , 111Cd/105Pd \n",
       "0     , 0.5         , 1.5         \n",
       "1     , 0.52381     , 1.4762      "
      ]
     },
     "execution_count": 4,
     "metadata": {},
     "output_type": "execute_result"
    }
   ],
   "source": [
    "c = a.ratio('105Pd'); c"
   ]
  },
  {
   "cell_type": "markdown",
   "id": "meaning-bernard",
   "metadata": {},
   "source": [
    "Ratio arrays have a ``deratio()`` method for flattening a ratio array. This requires that all column keys in the array have a common denominator"
   ]
  },
  {
   "cell_type": "code",
   "execution_count": 5,
   "id": "objective-wages",
   "metadata": {},
   "outputs": [
    {
     "data": {
      "text/plain": [
       "(row) , 101Ru   , 111Cd  , 105Pd \n",
       "0     , 0.5     , 1.5    , 1     \n",
       "1     , 0.52381 , 1.4762 , 1     "
      ]
     },
     "execution_count": 5,
     "metadata": {},
     "output_type": "execute_result"
    }
   ],
   "source": [
    "c.deratio()"
   ]
  },
  {
   "cell_type": "code",
   "execution_count": 7,
   "id": "efficient-converter",
   "metadata": {},
   "outputs": [
    {
     "data": {
      "text/plain": [
       "(row) , 101Ru , 111Cd , 105Pd \n",
       "0     , 10    , 30    , 20    \n",
       "1     , 11    , 31    , 21    "
      ]
     },
     "execution_count": 7,
     "metadata": {},
     "output_type": "execute_result"
    }
   ],
   "source": [
    "c.deratio([20, 21]) #You can specify the value(s) for the denominator"
   ]
  },
  {
   "cell_type": "markdown",
   "id": "incoming-bibliography",
   "metadata": {},
   "source": [
    "---\n",
    "The  ``normalise`` function allows you to normalise the data in the array to a certian value. Calling the function without any arguments will normalise all the values to that the sum of each row is ``1``"
   ]
  },
  {
   "cell_type": "code",
   "execution_count": 10,
   "id": "general-convention",
   "metadata": {},
   "outputs": [
    {
     "data": {
      "text/plain": [
       "(row) , Ru      , Pd      , Cd      \n",
       "0     , 0.16667 , 0.33333 , 0.5     \n",
       "1     , 0.1746  , 0.33333 , 0.49206 "
      ]
     },
     "execution_count": 10,
     "metadata": {},
     "output_type": "execute_result"
    }
   ],
   "source": [
    "a = isopy.array(dict(ru = [10, 11], pd= [20, 21], cd = [30, 31]))\n",
    "a.normalise()"
   ]
  },
  {
   "cell_type": "markdown",
   "id": "laughing-essex",
   "metadata": {},
   "source": [
    "The optional arguments are 1) the value you with to normalise to and 2) the key(s) of the columns that the normalisation should be based on."
   ]
  },
  {
   "cell_type": "code",
   "execution_count": 11,
   "id": "breeding-amendment",
   "metadata": {},
   "outputs": [
    {
     "data": {
      "text/plain": [
       "(row) , Ru     , Pd  , Cd     \n",
       "0     , 50     , 100 , 150    \n",
       "1     , 52.381 , 100 , 147.62 "
      ]
     },
     "execution_count": 11,
     "metadata": {},
     "output_type": "execute_result"
    }
   ],
   "source": [
    "a.normalise(100, 'pd')"
   ]
  },
  {
   "cell_type": "code",
   "execution_count": 19,
   "id": "advanced-dance",
   "metadata": {},
   "outputs": [
    {
     "data": {
      "text/plain": [
       "(row) , Ru    , Pd  , Cd    \n",
       "0     , 25    , 50  , 75    \n",
       "1     , 261.9 , 500 , 738.1 "
      ]
     },
     "execution_count": 19,
     "metadata": {},
     "output_type": "execute_result"
    }
   ],
   "source": [
    "a.normalise([100, 1000], ['ru', 'cd']) # The sum of the specified keys will be equal to the values given"
   ]
  },
  {
   "cell_type": "code",
   "execution_count": 16,
   "id": "younger-filing",
   "metadata": {},
   "outputs": [
    {
     "data": {
      "text/plain": [
       "(row) , Ru , Pd , Cd \n",
       "0     , 10 , 20 , 30 \n",
       "1     , 11 , 21 , 31 "
      ]
     },
     "execution_count": 16,
     "metadata": {},
     "output_type": "execute_result"
    }
   ],
   "source": [
    "a.normalise([100, 1000], ['ru', 'cd']).normalise([20, 21], 'pd')"
   ]
  },
  {
   "cell_type": "markdown",
   "id": "legislative-presentation",
   "metadata": {},
   "source": [
    "---\n",
    "With the ``to_text()`` method of arrays you can convert the contents of an array to a text string. The ``str()`` ``repr()`` functions both call this function to produce two slightly different strings. The *str* function will return the raw data in each column of the array."
   ]
  },
  {
   "cell_type": "code",
   "execution_count": 4,
   "id": "killing-guide",
   "metadata": {},
   "outputs": [],
   "source": [
    "array = isopy.random(20, keys='ru pd cd'.split())"
   ]
  },
  {
   "cell_type": "code",
   "execution_count": 5,
   "id": "thrown-joint",
   "metadata": {},
   "outputs": [
    {
     "name": "stdout",
     "output_type": "stream",
     "text": [
      "Ru                    , Pd                    , Cd                   \n",
      "0.7423098454624386    , 0.2630859993817623    , -2.052605165325265   \n",
      "-0.036241987546634755 , 2.765418917186138     , 0.02123660227846849  \n",
      "0.10526077208384534   , -0.7252290622088389   , 0.28237653594763196  \n",
      "1.4642978852086517    , -0.36530535185645874  , -1.419658403506246   \n",
      "-0.4071008728918706   , -0.10614162076449779  , 1.0301482740113062   \n",
      "1.8112995186818222    , -0.47476146077698905  , 1.570544281316929    \n",
      "1.8299243646994559    , 0.290408799843238     , -0.8940795968570514  \n",
      "-0.01980863219333887  , -0.6340970761629324   , 1.2604906968615817   \n",
      "0.2996284335088453    , 1.136140795492163     , 1.1535760309650112   \n",
      "0.9237767535294121    , -0.019482550940763656 , -0.7597607491314028  \n",
      "0.9539298028846708    , -0.6675101173727683   , -0.7978596359795319  \n",
      "0.7208150546289938    , 0.8172728209094148    , 0.9830731210309498   \n",
      "-1.4473959961523544   , 0.2666358957982169    , 0.051893166569739406 \n",
      "-1.2705739976837838   , 1.3596889515584312    , -0.3753310459831876  \n",
      "0.7547719852115573    , 0.4327369158617446    , -0.6455168936091344  \n",
      "1.4389314187427644    , 0.9223732916625811    , 0.8515130659123246   \n",
      "-0.38593409510733895  , 1.793076738891864     , -0.7300233613272916  \n",
      "0.9781076555830062    , 1.6513424987462482    , -0.2693850346623433  \n",
      "-1.386425412616868    , 1.5576442193412907    , 1.5902268158777644   \n",
      "-0.41603641339752806  , -0.24021959750039967  , 0.7038661921414116   \n"
     ]
    }
   ],
   "source": [
    "print(array) # Same as print( str(array) ) and print( array.to_text() )"
   ]
  },
  {
   "cell_type": "markdown",
   "id": "presidential-attachment",
   "metadata": {},
   "source": [
    "The *repr* function will format *float* values to 5 significant digits, include an additional column with the row number, and it will only show a maximum of 10 rows."
   ]
  },
  {
   "cell_type": "code",
   "execution_count": 6,
   "id": "pressed-oxford",
   "metadata": {},
   "outputs": [
    {
     "data": {
      "text/plain": [
       "(row) , Ru        , Pd       , Cd       \n",
       "0     , 0.74231   , 0.26309  , -2.0526  \n",
       "1     , -0.036242 , 2.7654   , 0.021237 \n",
       "2     , 0.10526   , -0.72523 , 0.28238  \n",
       "3     , 1.4643    , -0.36531 , -1.4197  \n",
       "4     , -0.4071   , -0.10614 , 1.0301   \n",
       "...   , ...       , ...      , ...      \n",
       "15    , 1.4389    , 0.92237  , 0.85151  \n",
       "16    , -0.38593  , 1.7931   , -0.73002 \n",
       "17    , 0.97811   , 1.6513   , -0.26939 \n",
       "18    , -1.3864   , 1.5576   , 1.5902   \n",
       "19    , -0.41604  , -0.24022 , 0.70387  "
      ]
     },
     "execution_count": 6,
     "metadata": {},
     "output_type": "execute_result"
    }
   ],
   "source": [
    "array # Same as print( repr(array) ) and print( array.to_text(nrows = 10, include_row=True, f='{:.5g}') )"
   ]
  },
  {
   "cell_type": "markdown",
   "id": "first-avatar",
   "metadata": {},
   "source": [
    "There are a number of optional arguments you can specify to change things like number formats and the delimiter for the string"
   ]
  },
  {
   "cell_type": "code",
   "execution_count": 28,
   "id": "closed-energy",
   "metadata": {},
   "outputs": [
    {
     "data": {
      "text/plain": [
       "'(row) \\tRu   \\tPd   \\tCd   \\n0     \\t10.0 \\t20.0 \\t30.0 \\n1     \\t11.0 \\t21.0 \\t31.0 '"
      ]
     },
     "execution_count": 28,
     "metadata": {},
     "output_type": "execute_result"
    }
   ],
   "source": [
    "a.to_text(delimiter = '\\t', include_row=True) #includes the row number and uses a tab delimiter"
   ]
  },
  {
   "cell_type": "markdown",
   "id": "noted-electronics",
   "metadata": {},
   "source": [
    "The method ``to_clipboard()`` takes the same arguments as ``to_text()`` but copies the string to the clipboard."
   ]
  },
  {
   "cell_type": "code",
   "execution_count": 30,
   "id": "fuzzy-external",
   "metadata": {},
   "outputs": [
    {
     "data": {
      "text/plain": [
       "'Ru   , Pd   , Cd   \\n10.0 , 20.0 , 30.0 \\n11.0 , 21.0 , 31.0 '"
      ]
     },
     "execution_count": 30,
     "metadata": {},
     "output_type": "execute_result"
    }
   ],
   "source": [
    "a.to_clipboard() # It also returns the copied string"
   ]
  },
  {
   "cell_type": "code",
   "execution_count": 32,
   "id": "mounted-painting",
   "metadata": {},
   "outputs": [
    {
     "data": {
      "text/plain": [
       "'Ru   , Pd   , Cd   \\n10.0 , 20.0 , 30.0 \\n11.0 , 21.0 , 31.0 '"
      ]
     },
     "execution_count": 32,
     "metadata": {},
     "output_type": "execute_result"
    }
   ],
   "source": [
    "pyperclip.paste() # Paste whatever is currently is in the clipboard"
   ]
  },
  {
   "cell_type": "markdown",
   "id": "intense-tennessee",
   "metadata": {},
   "source": [
    "If you are using jupyter you can use the ``display_table()`` method to render a nice table in a cell. Except from *delimiter* it takes the same arguments as ``to_text()``"
   ]
  },
  {
   "cell_type": "code",
   "execution_count": 7,
   "id": "outdoor-barcelona",
   "metadata": {},
   "outputs": [
    {
     "data": {
      "text/markdown": [
       "(row) | Ru                    | Pd                    | Cd                   \n",
       "------| ---------------------:| ---------------------:| --------------------:\n",
       "0     | 0.7423098454624386    | 0.2630859993817623    | -2.052605165325265   \n",
       "1     | -0.036241987546634755 | 2.765418917186138     | 0.02123660227846849  \n",
       "2     | 0.10526077208384534   | -0.7252290622088389   | 0.28237653594763196  \n",
       "3     | 1.4642978852086517    | -0.36530535185645874  | -1.419658403506246   \n",
       "4     | -0.4071008728918706   | -0.10614162076449779  | 1.0301482740113062   \n",
       "5     | 1.8112995186818222    | -0.47476146077698905  | 1.570544281316929    \n",
       "6     | 1.8299243646994559    | 0.290408799843238     | -0.8940795968570514  \n",
       "7     | -0.01980863219333887  | -0.6340970761629324   | 1.2604906968615817   \n",
       "8     | 0.2996284335088453    | 1.136140795492163     | 1.1535760309650112   \n",
       "9     | 0.9237767535294121    | -0.019482550940763656 | -0.7597607491314028  \n",
       "10    | 0.9539298028846708    | -0.6675101173727683   | -0.7978596359795319  \n",
       "11    | 0.7208150546289938    | 0.8172728209094148    | 0.9830731210309498   \n",
       "12    | -1.4473959961523544   | 0.2666358957982169    | 0.051893166569739406 \n",
       "13    | -1.2705739976837838   | 1.3596889515584312    | -0.3753310459831876  \n",
       "14    | 0.7547719852115573    | 0.4327369158617446    | -0.6455168936091344  \n",
       "15    | 1.4389314187427644    | 0.9223732916625811    | 0.8515130659123246   \n",
       "16    | -0.38593409510733895  | 1.793076738891864     | -0.7300233613272916  \n",
       "17    | 0.9781076555830062    | 1.6513424987462482    | -0.2693850346623433  \n",
       "18    | -1.386425412616868    | 1.5576442193412907    | 1.5902268158777644   \n",
       "19    | -0.41603641339752806  | -0.24021959750039967  | 0.7038661921414116   "
      ],
      "text/plain": [
       "<IPython.core.display.Markdown object>"
      ]
     },
     "execution_count": 7,
     "metadata": {},
     "output_type": "execute_result"
    }
   ],
   "source": [
    "array.display_table(include_row=True)"
   ]
  },
  {
   "cell_type": "markdown",
   "id": "capital-nowhere",
   "metadata": {},
   "source": [
    "### Array Functions\n",
    "The isopy package comes with several custom made array functions and isopy arrays support a large number of the numpy array functions. An array function is a function that perform an action on one or more arrays, e.g. adding arrays together or finding the mean of values in an array. See [Introduction Part 3: Working with arrays]() **LINK MISSING** for a comprehensive explanation of array functions with lots examples.\n",
    "\n",
    "A few quick examples are"
   ]
  },
  {
   "cell_type": "code",
   "execution_count": 51,
   "id": "photographic-platform",
   "metadata": {},
   "outputs": [
    {
     "data": {
      "text/plain": [
       "(row) , Ru , Pd , Cd  , Ag  \n",
       "None  , 11 , 22 , nan , nan "
      ]
     },
     "execution_count": 51,
     "metadata": {},
     "output_type": "execute_result"
    }
   ],
   "source": [
    "a1 = isopy.array(dict(ru = 1, pd= 2, cd = 3))\n",
    "a2 = isopy.array(dict(ru = 10, pd= 20, ag = 25))\n",
    "a1 + a2 # Columns not present in all arrays are assinged a value of np.nan"
   ]
  },
  {
   "cell_type": "code",
   "execution_count": 44,
   "id": "criminal-thumb",
   "metadata": {},
   "outputs": [
    {
     "data": {
      "text/plain": [
       "(row) , Ru      , Pd       , Cd     \n",
       "None  , 0.99613 , 0.060085 , 10.023 "
      ]
     },
     "execution_count": 44,
     "metadata": {},
     "output_type": "execute_result"
    }
   ],
   "source": [
    "a = isopy.random(100, [(1, 0.1), (0, 1), (10, 2)], ['ru', 'pd', 'cd'])\n",
    "np.mean(a) #Calculate the mean of each column"
   ]
  },
  {
   "cell_type": "code",
   "execution_count": 46,
   "id": "uniform-fight",
   "metadata": {},
   "outputs": [
    {
     "data": {
      "text/plain": [
       "(row) , Ru       , Pd      , Cd     \n",
       "None  , 0.090816 , 0.96784 , 1.9129 "
      ]
     },
     "execution_count": 46,
     "metadata": {},
     "output_type": "execute_result"
    }
   ],
   "source": [
    "np.std(a) # Calculate the standard deviation of each column"
   ]
  },
  {
   "cell_type": "markdown",
   "id": "polar-bargain",
   "metadata": {},
   "source": [
    "---\n",
    "One useful feature of the array function implementation for isopy arrays is that they can be used in conjunction with dictionaries. Only keys present in the array are included in the output meanign the dictionary can contain as many keys as you want. Thus dictionaries are useful for e.g. storing reference values."
   ]
  },
  {
   "cell_type": "code",
   "execution_count": 53,
   "id": "passing-sandwich",
   "metadata": {},
   "outputs": [
    {
     "data": {
      "text/plain": [
       "(row) , Ru , Pd , Cd \n",
       "None  , 11 , 23 , 35 "
      ]
     },
     "execution_count": 53,
     "metadata": {},
     "output_type": "execute_result"
    }
   ],
   "source": [
    "a = isopy.array(dict(ru = 10, pd= 20, cd = 30))\n",
    "d = dict(ru = 1, rh = 2, pd=3, ag=4, cd = 5)\n",
    "a + d # Only column keys in the array are present in the output"
   ]
  },
  {
   "cell_type": "markdown",
   "id": "congressional-batman",
   "metadata": {},
   "source": [
    "**Note** The dictionary keys do not need to formatted to match the proper key string format."
   ]
  },
  {
   "cell_type": "markdown",
   "id": "second-forestry",
   "metadata": {},
   "source": [
    "## Isopy Dictionaries"
   ]
  },
  {
   "cell_type": "markdown",
   "id": "innovative-camcorder",
   "metadata": {},
   "source": [
    "Isopy has two special dictionaries, ``IsopyDict`` and ``ScalarDict``. These function much like normal dictionaries with a few enhancements. First, all values are stored as isopy key strings. Second, they can be readonly and have predefined default values. Third, create a subsection of the dictionary using ``copy()`` by passing filter keywords."
   ]
  },
  {
   "cell_type": "code",
   "execution_count": 12,
   "id": "aggressive-girlfriend",
   "metadata": {},
   "outputs": [
    {
     "data": {
      "text/plain": [
       "IsopyDict(default_value = 0, readonly = False,\n",
       "{\"101Ru\": 1\n",
       "\"103Rh\": 2\n",
       "\"105Pd\": 3\n",
       "\"107Ag\": 4\n",
       "\"111Cd\": 5})"
      ]
     },
     "execution_count": 12,
     "metadata": {},
     "output_type": "execute_result"
    }
   ],
   "source": [
    "d = isopy.IsopyDict(ru101 = 1, rh103 = 2, pd105=3, ag107=4, cd111 = 5, default_value=0); d # The input can also be a another dictionary"
   ]
  },
  {
   "cell_type": "code",
   "execution_count": 14,
   "id": "controlled-thickness",
   "metadata": {},
   "outputs": [
    {
     "data": {
      "text/plain": [
       "(0, 100)"
      ]
     },
     "execution_count": 14,
     "metadata": {},
     "output_type": "execute_result"
    }
   ],
   "source": [
    "d.get('76ge'), d.get('80se', 100) # If not specified the default value of the dictionary is used"
   ]
  },
  {
   "cell_type": "code",
   "execution_count": 16,
   "id": "choice-origin",
   "metadata": {},
   "outputs": [
    {
     "data": {
      "text/plain": [
       "IsopyDict(default_value = 0, readonly = False,\n",
       "{\"105Pd\": 3\n",
       "\"107Ag\": 4\n",
       "\"111Cd\": 5})"
      ]
     },
     "execution_count": 16,
     "metadata": {},
     "output_type": "execute_result"
    }
   ],
   "source": [
    "d = isopy.IsopyDict(ru101 = 1, rh103 = 2, pd105=3, ag107=4, cd111 = 5, default_value=0)\n",
    "d.copy(mass_number_gt = 104) # Returns a new dict containing only isotopes with a mass number greater than 104"
   ]
  },
  {
   "cell_type": "markdown",
   "id": "front-yugoslavia",
   "metadata": {},
   "source": [
    "---\n",
    "``ScalarDict`` works just like an ``IsopyDict`` with three exceptions. First it can only store scalars, that is a single numerical value. Second, the ``get()`` method can calculate the ratio of two values in the dictionary if a ratio key string is not present in the dictionary. Finally, you can create an array directly from the dictionary with the ``to_array()`` method."
   ]
  },
  {
   "cell_type": "code",
   "execution_count": 19,
   "id": "former-stewart",
   "metadata": {},
   "outputs": [
    {
     "data": {
      "text/plain": [
       "0.6"
      ]
     },
     "execution_count": 19,
     "metadata": {},
     "output_type": "execute_result"
    }
   ],
   "source": [
    "d = isopy.ScalarDict(ru101 = 1, rh103 = 2, pd105=3, ag107=4, cd111 = 5) # Default value is by default np.nan\n",
    "d.get('pd105/cd111') # Automatically calculated from the numerator and denominator values"
   ]
  },
  {
   "cell_type": "code",
   "execution_count": 20,
   "id": "emerging-boating",
   "metadata": {},
   "outputs": [
    {
     "data": {
      "text/plain": [
       "(row) , 101Ru , 103Rh , 105Pd , 107Ag , 111Cd \n",
       "None  , 1     , 2     , 3     , 4     , 5     "
      ]
     },
     "execution_count": 20,
     "metadata": {},
     "output_type": "execute_result"
    }
   ],
   "source": [
    "d.to_array()"
   ]
  },
  {
   "cell_type": "code",
   "execution_count": 23,
   "id": "substantial-corpus",
   "metadata": {},
   "outputs": [
    {
     "data": {
      "text/plain": [
       "(row) , 105Pd , 107Ag , 111Cd \n",
       "None  , 3     , 4     , 5     "
      ]
     },
     "execution_count": 23,
     "metadata": {},
     "output_type": "execute_result"
    }
   ],
   "source": [
    "d.to_array(mass_number_gt = 104) # You can specify key filters too"
   ]
  },
  {
   "cell_type": "markdown",
   "id": "neither-organization",
   "metadata": {},
   "source": [
    "## Reference Values\n",
    "There are a number of reference values included with isopy under the ``refval`` namespace. You can find the available reference values listed [here](https://isopy.readthedocs.io/en/latest/refpages/reference_values.html) toghether with a short description. There are currently three categories of reference values, ``mass``, ``element`` and ``isotope`` referring to the flavour of the key string of the values in the dictionaries. "
   ]
  },
  {
   "cell_type": "code",
   "execution_count": 26,
   "id": "presidential-trace",
   "metadata": {},
   "outputs": [
    {
     "data": {
      "text/plain": [
       "46"
      ]
     },
     "execution_count": 26,
     "metadata": {},
     "output_type": "execute_result"
    }
   ],
   "source": [
    "isopy.refval.element.atomic_number.get('pd') # The atomic number of palladium"
   ]
  },
  {
   "cell_type": "code",
   "execution_count": 25,
   "id": "efficient-johns",
   "metadata": {},
   "outputs": [
    {
     "data": {
      "text/plain": [
       "0.2233"
      ]
     },
     "execution_count": 25,
     "metadata": {},
     "output_type": "execute_result"
    }
   ],
   "source": [
    "isopy.refval.isotope.fraction.get('105pd') # The natural isotope fraction of 105Pd"
   ]
  },
  {
   "cell_type": "code",
   "execution_count": 26,
   "id": "broadband-lighting",
   "metadata": {},
   "outputs": [
    {
     "data": {
      "text/plain": [
       "IsotopeKeyList('102Pd', '104Pd', '105Pd', '106Pd', '108Pd', '110Pd')"
      ]
     },
     "execution_count": 26,
     "metadata": {},
     "output_type": "execute_result"
    }
   ],
   "source": [
    "isopy.refval.element.isotopes.get('pd') # Returns a list of all naturally occuring isotopes of palladium"
   ]
  },
  {
   "cell_type": "markdown",
   "id": "copyrighted-nickel",
   "metadata": {},
   "source": [
    "---\n",
    "Many reference values are isopy dictionaries so the ``copy()`` method accepts filter keywords"
   ]
  },
  {
   "cell_type": "code",
   "execution_count": 28,
   "id": "informative-filing",
   "metadata": {},
   "outputs": [
    {
     "data": {
      "text/plain": [
       "ScalarDict(default_value = nan, readonly = False,\n",
       "{\"102Pd\": 0.0102\n",
       "\"104Pd\": 0.1114\n",
       "\"105Pd\": 0.2233\n",
       "\"106Pd\": 0.2733\n",
       "\"108Pd\": 0.2646\n",
       "\"110Pd\": 0.1172})"
      ]
     },
     "execution_count": 28,
     "metadata": {},
     "output_type": "execute_result"
    }
   ],
   "source": [
    "isopy.refval.isotope.fraction.copy(element_symbol='pd')"
   ]
  },
  {
   "cell_type": "markdown",
   "id": "alternate-galaxy",
   "metadata": {},
   "source": [
    "Similarly many reference values has the ``to_array()`` method."
   ]
  },
  {
   "cell_type": "code",
   "execution_count": 18,
   "id": "horizontal-official",
   "metadata": {},
   "outputs": [
    {
     "data": {
      "text/plain": [
       "(row) , 102Pd  , 104Pd  , 105Pd  , 106Pd  , 108Pd  , 110Pd  \n",
       "None  , 0.0102 , 0.1114 , 0.2233 , 0.2733 , 0.2646 , 0.1172 "
      ]
     },
     "execution_count": 18,
     "metadata": {},
     "output_type": "execute_result"
    }
   ],
   "source": [
    "isopy.refval.isotope.fraction.to_array(element_symbol='pd')"
   ]
  }
 ],
 "metadata": {
  "kernelspec": {
   "display_name": "main",
   "language": "python",
   "name": "main"
  },
  "language_info": {
   "codemirror_mode": {
    "name": "ipython",
    "version": 3
   },
   "file_extension": ".py",
   "mimetype": "text/x-python",
   "name": "python",
   "nbconvert_exporter": "python",
   "pygments_lexer": "ipython3",
   "version": "3.9.2"
  }
 },
 "nbformat": 4,
 "nbformat_minor": 5
}
