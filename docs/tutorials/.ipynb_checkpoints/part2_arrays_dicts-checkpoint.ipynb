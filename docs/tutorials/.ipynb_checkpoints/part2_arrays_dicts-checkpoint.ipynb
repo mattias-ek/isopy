{
 "cells": [
  {
   "cell_type": "markdown",
   "id": "disturbed-jamaica",
   "metadata": {},
   "source": [
    "# Tutorial Part 2: Arrays, Dictionaries and Reference Values\n",
    "\n",
    "**Table of Content**\n",
    "\n",
    "* [Isopy Arrays](#Isopy-Arrays)\n",
    "    * [Creating Arrays](#Creating-Arrays)\n",
    "    * [Array Attributes](#Array-Attributes)\n",
    "    * [Array Methods](#Array-Methods)\n",
    "    * [Array Functions](#Array-Functions)\n",
    "* [Isopy Dictionaries](#Isopy-Dictionaries)\n",
    "* [Reference Values](#Reference-Values)"
   ]
  },
  {
   "cell_type": "code",
   "execution_count": 1,
   "id": "unauthorized-radio",
   "metadata": {},
   "outputs": [],
   "source": [
    "import isopy\n",
    "import numpy as np\n",
    "import pyperclip # library for interacting with the clipboard"
   ]
  },
  {
   "cell_type": "markdown",
   "id": "higher-occurrence",
   "metadata": {},
   "source": [
    "## Isopy Arrays\n",
    "An isopy array can be seen as a table of data with a certain number of rows and columns. Each column has a key in the form of an isopy key string. These arrays allow you to easily manipulate data while keeping track of what the values represents. Technically, isopy arrays are a custom view of a structured numpy array. This means that they inherit much of the functionality of a numpy array. "
   ]
  },
  {
   "cell_type": "markdown",
   "id": "broad-lemon",
   "metadata": {},
   "source": [
    "### Creating Arrays\n",
    "You can create arrays directly using the different array flavours, e.g. ``IsotopeArray``, or by using the ``array`` and ``asarray`` functions. Isopy arrays can be created from a range of different data, described below."
   ]
  },
  {
   "cell_type": "markdown",
   "id": "bottom-shepherd",
   "metadata": {},
   "source": [
    "---\n",
    "When the input is a list/tuple or a numpy array we have to pass along the keys for each column in the input"
   ]
  },
  {
   "cell_type": "code",
   "execution_count": 50,
   "id": "japanese-liability",
   "metadata": {},
   "outputs": [
    {
     "data": {
      "text/plain": [
       "(row) , Ru , Pd , Cd \n",
       "None  , 10 , 20 , 30 "
      ]
     },
     "execution_count": 50,
     "metadata": {},
     "output_type": "execute_result"
    }
   ],
   "source": [
    "data = [10, 20, 30] # Produces a 0-dimensional array\n",
    "isopy.array(data, ['ru', 'pd', 'cd']) "
   ]
  },
  {
   "cell_type": "code",
   "execution_count": 44,
   "id": "clean-fifth",
   "metadata": {},
   "outputs": [
    {
     "data": {
      "text/plain": [
       "(row) , Ru , Pd , Cd \n",
       "0     , 10 , 20 , 30 \n",
       "1     , 11 , 21 , 31 "
      ]
     },
     "execution_count": 44,
     "metadata": {},
     "output_type": "execute_result"
    }
   ],
   "source": [
    "data = np.array([[10, 20, 30], [11, 21, 31]]) #Produces a 1-dimensional array\n",
    "isopy.array(data, ['ru', 'pd', 'cd']) "
   ]
  },
  {
   "cell_type": "markdown",
   "id": "departmental-columbia",
   "metadata": {},
   "source": [
    "**Note** The data type of each column defaults to ``numpy.float64`` for values that do not have a numpy dtype. If a value cannot be represented as a float the default data type inferred by numpy will be used. In the examples above the first array created will use the default data type while the second array will inherit the data type of the input, ``np.int32`` in this case."
   ]
  },
  {
   "cell_type": "markdown",
   "id": "caring-biodiversity",
   "metadata": {},
   "source": [
    "---\n",
    "Using the ``dtype`` keyword you can specify the data type for columns in the array. Any data type accepted by numpy is valid. You can either pass a single data type or a tuple of data types. The latter will use the first the data type which is valid for all the data in the column."
   ]
  },
  {
   "cell_type": "code",
   "execution_count": 20,
   "id": "yellow-tattoo",
   "metadata": {},
   "outputs": [
    {
     "data": {
      "text/plain": [
       "dtype([('Ru', '<f8'), ('Pd', '<f8'), ('Cd', '<f8')])"
      ]
     },
     "execution_count": 20,
     "metadata": {},
     "output_type": "execute_result"
    }
   ],
   "source": [
    "isopy.array([10, 20, 30], ['ru', 'pd', 'cd']).dtype # f8 stands for np.float64"
   ]
  },
  {
   "cell_type": "code",
   "execution_count": 21,
   "id": "alleged-biology",
   "metadata": {},
   "outputs": [
    {
     "data": {
      "text/plain": [
       "dtype([('Ru', '<i4'), ('Pd', '<i4'), ('Cd', '<i4')])"
      ]
     },
     "execution_count": 21,
     "metadata": {},
     "output_type": "execute_result"
    }
   ],
   "source": [
    "isopy.array([10, 20, 30], ['ru', 'pd', 'cd'], dtype=np.int32).dtype # i4 stands for np.int32"
   ]
  },
  {
   "cell_type": "code",
   "execution_count": 30,
   "id": "super-bride",
   "metadata": {},
   "outputs": [
    {
     "data": {
      "text/plain": [
       "dtype([('Ru', '<U3'), ('Pd', '<i4'), ('Cd', '<i4')])"
      ]
     },
     "execution_count": 30,
     "metadata": {},
     "output_type": "execute_result"
    }
   ],
   "source": [
    "isopy.array(['ten', 20, 30], ['ru', 'pd', 'cd'], dtype=(np.int32, str)).dtype # U stands for unicode string and the next number is the maximum length"
   ]
  },
  {
   "cell_type": "markdown",
   "id": "instant-stand",
   "metadata": {},
   "source": [
    "To specify different data types for different columns pass a list of equal length to the number of columns."
   ]
  },
  {
   "cell_type": "code",
   "execution_count": 24,
   "id": "prerequisite-address",
   "metadata": {},
   "outputs": [
    {
     "data": {
      "text/plain": [
       "dtype([('Ru', '<U2'), ('Pd', '<i4'), ('Cd', '<f8')])"
      ]
     },
     "execution_count": 24,
     "metadata": {},
     "output_type": "execute_result"
    }
   ],
   "source": [
    "isopy.array([10, 20, 30], ['ru', 'pd', 'cd'], dtype=[str, np.int32, np.float64]).dtype"
   ]
  },
  {
   "cell_type": "markdown",
   "id": "strategic-toner",
   "metadata": {},
   "source": [
    "---\n",
    "Using the ``ndim`` keyword you can specify the number of dimensions of the array. To return a 0-dimensional array if possible, otherwise return a 1-dimensional array specify ``ndim`` as ``-1``. The row number of 0-dimensional arrays will appear as ``\"None\"`` in the ``repr()`` output of an array. You can also check the dimensionality of an array using the ``ndim`` attribute."
   ]
  },
  {
   "cell_type": "code",
   "execution_count": 25,
   "id": "respective-spell",
   "metadata": {},
   "outputs": [
    {
     "data": {
      "text/plain": [
       "(row) , Ru , Pd , Cd \n",
       "None  , 10 , 20 , 30 "
      ]
     },
     "execution_count": 25,
     "metadata": {},
     "output_type": "execute_result"
    }
   ],
   "source": [
    "isopy.array([10, 20, 30], ['ru', 'pd', 'cd'], ndim=0) # Make 0-dimensional"
   ]
  },
  {
   "cell_type": "code",
   "execution_count": 26,
   "id": "varied-america",
   "metadata": {},
   "outputs": [
    {
     "data": {
      "text/plain": [
       "(row) , Ru , Pd , Cd \n",
       "0     , 10 , 20 , 30 "
      ]
     },
     "execution_count": 26,
     "metadata": {},
     "output_type": "execute_result"
    }
   ],
   "source": [
    "isopy.array([10, 20, 30], ['ru', 'pd', 'cd'], ndim=1) # Make 1-dimensional"
   ]
  },
  {
   "cell_type": "code",
   "execution_count": 28,
   "id": "acting-float",
   "metadata": {},
   "outputs": [
    {
     "data": {
      "text/plain": [
       "(row) , Ru , Pd , Cd \n",
       "None  , 10 , 20 , 30 "
      ]
     },
     "execution_count": 28,
     "metadata": {},
     "output_type": "execute_result"
    }
   ],
   "source": [
    "isopy.array([10, 20, 30], ['ru', 'pd', 'cd'], ndim=-1) # Make 0-dimesional if possible otherwise 1-dimensional."
   ]
  },
  {
   "cell_type": "code",
   "execution_count": 27,
   "id": "revolutionary-compound",
   "metadata": {},
   "outputs": [
    {
     "data": {
      "text/plain": [
       "(row) , Ru , Pd , Cd \n",
       "0     , 10 , 20 , 30 \n",
       "1     , 11 , 21 , 31 "
      ]
     },
     "execution_count": 27,
     "metadata": {},
     "output_type": "execute_result"
    }
   ],
   "source": [
    "isopy.array([[10, 20, 30], [11, 21, 31]], ['ru', 'pd', 'cd'], ndim = -1) "
   ]
  },
  {
   "cell_type": "markdown",
   "id": "premium-nothing",
   "metadata": {},
   "source": [
    "---\n",
    "If the input is a dictionary or a structured numpy array the name of each column will be automatically inferred from the first argument."
   ]
  },
  {
   "cell_type": "code",
   "execution_count": 46,
   "id": "direct-cowboy",
   "metadata": {},
   "outputs": [
    {
     "data": {
      "text/plain": [
       "(row) , Ru , Pd , Cd \n",
       "0     , 10 , 20 , 30 \n",
       "1     , 11 , 21 , 31 "
      ]
     },
     "execution_count": 46,
     "metadata": {},
     "output_type": "execute_result"
    }
   ],
   "source": [
    "data = dict(ru = [10, 11], pd= [20, 21], cd = [30, 31])\n",
    "isopy.array(data)"
   ]
  },
  {
   "cell_type": "code",
   "execution_count": 47,
   "id": "addressed-makeup",
   "metadata": {},
   "outputs": [
    {
     "data": {
      "text/plain": [
       "(row) , Ru , Pd , Cd \n",
       "0     , 10 , 20 , 30 \n",
       "1     , 11 , 21 , 31 "
      ]
     },
     "execution_count": 47,
     "metadata": {},
     "output_type": "execute_result"
    }
   ],
   "source": [
    "data = np.array([(10, 20, 30), (11, 21, 31)], dtype = [('ru', float), ('pd', float), ('cd', float)])\n",
    "isopy.array(data)"
   ]
  },
  {
   "cell_type": "markdown",
   "id": "liberal-reason",
   "metadata": {},
   "source": [
    "You can overwrite the inferred column keys by passing keys during creation"
   ]
  },
  {
   "cell_type": "code",
   "execution_count": 49,
   "id": "likely-terrorist",
   "metadata": {},
   "outputs": [
    {
     "data": {
      "text/plain": [
       "(row) , 101Ru , 105Pd , 111Cd \n",
       "0     , 10    , 20    , 30    \n",
       "1     , 11    , 21    , 31    "
      ]
     },
     "execution_count": 49,
     "metadata": {},
     "output_type": "execute_result"
    }
   ],
   "source": [
    "data = dict(ru = [10, 11], pd= [20, 21], cd = [30, 31])\n",
    "isopy.array(data, ['101ru', '105pd', '111cd'])"
   ]
  },
  {
   "cell_type": "markdown",
   "id": "prostate-republic",
   "metadata": {},
   "source": [
    "---\n",
    "You can also create arrays from existing isopy arrays"
   ]
  },
  {
   "cell_type": "code",
   "execution_count": 57,
   "id": "crazy-remainder",
   "metadata": {},
   "outputs": [
    {
     "data": {
      "text/plain": [
       "(row) , Ru , Pd , Cd \n",
       "None  , 10 , 20 , 30 "
      ]
     },
     "execution_count": 57,
     "metadata": {},
     "output_type": "execute_result"
    }
   ],
   "source": [
    "a = isopy.array([10, 20, 30], ['ru', 'pd', 'cd']) \n",
    "isopy.array(a)"
   ]
  },
  {
   "cell_type": "markdown",
   "id": "regulation-speech",
   "metadata": {},
   "source": [
    "There key difference between ``array`` and ``asarray`` is that if the first argument is an isopy array then  ``asarray`` will return a reference that array, rather than a copy, if no other arguments are given while ``array`` will return a copy."
   ]
  },
  {
   "cell_type": "code",
   "execution_count": 2,
   "id": "australian-payroll",
   "metadata": {},
   "outputs": [
    {
     "data": {
      "text/plain": [
       "(False, True)"
      ]
     },
     "execution_count": 2,
     "metadata": {},
     "output_type": "execute_result"
    }
   ],
   "source": [
    "a = isopy.array([10, 20, 30], ['ru', 'pd', 'cd']) \n",
    "isopy.array(a) is a, isopy.asarray(a) is a"
   ]
  },
  {
   "cell_type": "markdown",
   "id": "digital-console",
   "metadata": {},
   "source": [
    "#### Filled Arrays\n",
    "You can create an array of uninitiated values, zeros or ones using the ``empty``, ``zeros`` and ``one`` functions."
   ]
  },
  {
   "cell_type": "code",
   "execution_count": 17,
   "id": "retained-library",
   "metadata": {},
   "outputs": [
    {
     "data": {
      "text/plain": [
       "(row) , Ru , Pd          , Cd \n",
       "None  , 0  , 8.2859e-312 , -0 "
      ]
     },
     "execution_count": 17,
     "metadata": {},
     "output_type": "execute_result"
    }
   ],
   "source": [
    "isopy.empty(None, ['ru', 'pd', 'cd']) #None, or -1, creates a 0-dimensional array"
   ]
  },
  {
   "cell_type": "code",
   "execution_count": 19,
   "id": "miniature-stack",
   "metadata": {},
   "outputs": [
    {
     "data": {
      "text/plain": [
       "(row) , Ru , Pd , Cd \n",
       "0     , 0  , 0  , 0  "
      ]
     },
     "execution_count": 19,
     "metadata": {},
     "output_type": "execute_result"
    }
   ],
   "source": [
    "isopy.zeros(1, ['ru', 'pd', 'cd'])"
   ]
  },
  {
   "cell_type": "code",
   "execution_count": 65,
   "id": "preceding-farmer",
   "metadata": {},
   "outputs": [
    {
     "data": {
      "text/plain": [
       "(row) , Ru , Pd , Cd \n",
       "0     , 1  , 1  , 1  \n",
       "1     , 1  , 1  , 1  "
      ]
     },
     "execution_count": 65,
     "metadata": {},
     "output_type": "execute_result"
    }
   ],
   "source": [
    "isopy.ones(2, ['ru', 'pd', 'cd'])"
   ]
  },
  {
   "cell_type": "markdown",
   "id": "funded-longer",
   "metadata": {},
   "source": [
    "To create an array filled with a specific value use the ``full`` function. The second arguement is the fill value. This can either be a single value used for all rows in the column or a sequence of values of of the same length as the number of rows."
   ]
  },
  {
   "cell_type": "code",
   "execution_count": 6,
   "id": "otherwise-imagination",
   "metadata": {},
   "outputs": [
    {
     "data": {
      "text/plain": [
       "(row) , Ru  , Pd  , Cd  \n",
       "0     , nan , nan , nan \n",
       "1     , nan , nan , nan "
      ]
     },
     "execution_count": 6,
     "metadata": {},
     "output_type": "execute_result"
    }
   ],
   "source": [
    "isopy.full(2, np.nan, ['ru', 'pd', 'cd'])"
   ]
  },
  {
   "cell_type": "code",
   "execution_count": 5,
   "id": "universal-muslim",
   "metadata": {},
   "outputs": [
    {
     "data": {
      "text/plain": [
       "(row) , Ru , Pd , Cd \n",
       "0     , 1  , 1  , 1  \n",
       "1     , 2  , 2  , 2  "
      ]
     },
     "execution_count": 5,
     "metadata": {},
     "output_type": "execute_result"
    }
   ],
   "source": [
    "isopy.full(2, [1,2], ['ru', 'pd', 'cd'])"
   ]
  },
  {
   "cell_type": "markdown",
   "id": "american-armor",
   "metadata": {},
   "source": [
    "---\n",
    "If no keys are given, or can be inferred, a normal numpy array is returned."
   ]
  },
  {
   "cell_type": "code",
   "execution_count": 3,
   "id": "banned-finish",
   "metadata": {},
   "outputs": [
    {
     "data": {
      "text/plain": [
       "array([1., 1., 1., 1., 1.])"
      ]
     },
     "execution_count": 3,
     "metadata": {},
     "output_type": "execute_result"
    }
   ],
   "source": [
    "isopy.ones(5) # same as np.ones(5)"
   ]
  },
  {
   "cell_type": "markdown",
   "id": "waiting-mention",
   "metadata": {},
   "source": [
    "---\n",
    "#### Random Arrays\n",
    "To create an array of random values use the ``random`` function. The second argument is either a single argument or a tuple of arguments that will be passed to the random generator. By default this function draws values from a normal distribution. The following example draws values from a normal distribution with a center of 1 and standard deviation of 0.1"
   ]
  },
  {
   "cell_type": "code",
   "execution_count": 12,
   "id": "ordinary-challenge",
   "metadata": {},
   "outputs": [
    {
     "data": {
      "text/plain": [
       "(row) , Ru      , Pd      , Cd      \n",
       "0     , 0.96959 , 1.0281  , 0.79312 \n",
       "1     , 0.95192 , 1.0449  , 1.0856  \n",
       "2     , 1.0982  , 0.97543 , 0.94024 \n",
       "3     , 1.0573  , 0.9973  , 0.8874  \n",
       "4     , 0.94976 , 1.019   , 0.78627 \n",
       "5     , 1.099   , 0.99962 , 1.0155  \n",
       "6     , 1.1471  , 0.86524 , 1.0227  \n",
       "7     , 1.0914  , 1.0253  , 0.93167 \n",
       "8     , 1.0465  , 0.90448 , 0.94372 \n",
       "9     , 0.91533 , 0.95526 , 0.99472 "
      ]
     },
     "execution_count": 12,
     "metadata": {},
     "output_type": "execute_result"
    }
   ],
   "source": [
    "isopy.random(10, (1, 0.1), ['ru', 'pd', 'cd'])"
   ]
  },
  {
   "cell_type": "markdown",
   "id": "apart-maryland",
   "metadata": {},
   "source": [
    "You can specify different distributions for different columns by passing a list as the second argument"
   ]
  },
  {
   "cell_type": "code",
   "execution_count": 13,
   "id": "honey-trunk",
   "metadata": {},
   "outputs": [
    {
     "data": {
      "text/plain": [
       "(row) , Ru      , Pd       , Cd     \n",
       "0     , 1.0187  , 2.4206   , 11.091 \n",
       "1     , 1.1119  , -1.0512  , 9.2026 \n",
       "2     , 0.92309 , 0.26226  , 10.231 \n",
       "3     , 1.0747  , 0.31492  , 10.051 \n",
       "4     , 0.89444 , 1.4324   , 10.175 \n",
       "5     , 0.87109 , 0.68955  , 9.2957 \n",
       "6     , 1.0984  , -0.70649 , 10.48  \n",
       "7     , 1.2338  , 0.40023  , 10.142 \n",
       "8     , 1.0538  , 1.0639   , 10.11  \n",
       "9     , 0.9434  , -0.50517 , 10.73  "
      ]
     },
     "execution_count": 13,
     "metadata": {},
     "output_type": "execute_result"
    }
   ],
   "source": [
    "isopy.random(10, [(1, 0.1), (0,1), (10, 1)], ['ru', 'pd', 'cd'])"
   ]
  },
  {
   "cell_type": "markdown",
   "id": "western-issue",
   "metadata": {},
   "source": [
    "For examples on how to change the type of distribution values are generated from have a look at the reference documentation here **(Link missing)**"
   ]
  },
  {
   "cell_type": "markdown",
   "id": "smart-reader",
   "metadata": {},
   "source": [
    "---\n",
    "If no keys are given, or can be inferred, a normal numpy array is returned."
   ]
  },
  {
   "cell_type": "code",
   "execution_count": 4,
   "id": "immediate-revelation",
   "metadata": {},
   "outputs": [
    {
     "data": {
      "text/plain": [
       "array([-0.66929881, -0.66053013,  0.93081883, -1.07150801, -0.23177742,\n",
       "       -0.93340998, -0.58119726, -0.45745434, -0.30148965,  1.02422904])"
      ]
     },
     "execution_count": 4,
     "metadata": {},
     "output_type": "execute_result"
    }
   ],
   "source": [
    "isopy.random(10)"
   ]
  },
  {
   "cell_type": "markdown",
   "id": "fewer-consequence",
   "metadata": {},
   "source": [
    "### Array Attributes\n",
    "Since isopy arrays are custom implementation of a numpy arrays they have all the attributes you would find in numpy arrays, e.g. ``size``, ``.ndim``, ``.shape`` and ``.dtype``."
   ]
  },
  {
   "cell_type": "code",
   "execution_count": 35,
   "id": "third-designer",
   "metadata": {},
   "outputs": [
    {
     "data": {
      "text/plain": [
       "(2, 1, (2,), dtype([('Ru', '<f8'), ('Pd', '<f8'), ('Cd', '<f8')]))"
      ]
     },
     "execution_count": 35,
     "metadata": {},
     "output_type": "execute_result"
    }
   ],
   "source": [
    "a = isopy.array(dict(ru = [10, 11], pd= [20, 21], cd = [30, 31]))\n",
    "a.size, a.ndim, a.shape, a.dtype"
   ]
  },
  {
   "cell_type": "markdown",
   "id": "spoken-terror",
   "metadata": {},
   "source": [
    "In addition to the numpy attributes ``.nrows`` and ``.ncols`` are also available for isopy arrays. There return the number of rows and number of columns in the array respectively."
   ]
  },
  {
   "cell_type": "code",
   "execution_count": 36,
   "id": "interstate-sleep",
   "metadata": {},
   "outputs": [
    {
     "data": {
      "text/plain": [
       "(2, 3)"
      ]
     },
     "execution_count": 36,
     "metadata": {},
     "output_type": "execute_result"
    }
   ],
   "source": [
    "a.nrows, a.ncols"
   ]
  },
  {
   "cell_type": "markdown",
   "id": "plastic-substance",
   "metadata": {},
   "source": [
    "**Note** That ``.size`` will return ``1`` for both 0-dimensional arrays and 1-dimensional arrays with 1 row.  ``.nrows`` on the other hand will return ``-1`` 0-dimensional arrays."
   ]
  },
  {
   "cell_type": "code",
   "execution_count": 5,
   "id": "naval-entry",
   "metadata": {},
   "outputs": [
    {
     "data": {
      "text/plain": [
       "(1, -1)"
      ]
     },
     "execution_count": 5,
     "metadata": {},
     "output_type": "execute_result"
    }
   ],
   "source": [
    "a = isopy.array(dict(ru = 10, pd= 20, cd = 30))\n",
    "a.size, a.nrows"
   ]
  },
  {
   "cell_type": "markdown",
   "id": "russian-richardson",
   "metadata": {},
   "source": [
    "The column keys are available through the ``.keys`` attribute"
   ]
  },
  {
   "cell_type": "code",
   "execution_count": 38,
   "id": "exclusive-couple",
   "metadata": {},
   "outputs": [
    {
     "data": {
      "text/plain": [
       "ElementKeyList('Ru', 'Pd', 'Cd')"
      ]
     },
     "execution_count": 38,
     "metadata": {},
     "output_type": "execute_result"
    }
   ],
   "source": [
    "a.keys # a.keys() also works fine"
   ]
  },
  {
   "cell_type": "markdown",
   "id": "capable-deposit",
   "metadata": {},
   "source": [
    "### Array Methods\n",
    "While isopy arrays also contain all the method found in numpy arrays many of these are not relevant to isopy arrays and may therefore not work as expected if at all. See the reference documentation for a list of all methods that have been implemented for isopy arrays. Any methods not listed there should be used with **caution** as the behavior is undefined.\n",
    "\n",
    "---\n",
    "Isopy arrays have a number of methods that mimic those found in dictionaries. In addition to the ``.keys`` attribute, that can be used as a method, arrays also have ``values()``, ``items()`` and ``get()`` methods."
   ]
  },
  {
   "cell_type": "code",
   "execution_count": 6,
   "id": "authentic-vision",
   "metadata": {},
   "outputs": [
    {
     "data": {
      "text/plain": [
       "(array([10., 11.]), array([20., 21.]), array([30., 31.]))"
      ]
     },
     "execution_count": 6,
     "metadata": {},
     "output_type": "execute_result"
    }
   ],
   "source": [
    "a = isopy.array(dict(ru = [10, 11], pd= [20, 21], cd = [30, 31]))\n",
    "a.values()"
   ]
  },
  {
   "cell_type": "code",
   "execution_count": 7,
   "id": "rough-singing",
   "metadata": {},
   "outputs": [
    {
     "data": {
      "text/plain": [
       "((ElementKeyString('Ru'), array([10., 11.])),\n",
       " (ElementKeyString('Pd'), array([20., 21.])),\n",
       " (ElementKeyString('Cd'), array([30., 31.])))"
      ]
     },
     "execution_count": 7,
     "metadata": {},
     "output_type": "execute_result"
    }
   ],
   "source": [
    "a.items()"
   ]
  },
  {
   "cell_type": "markdown",
   "id": "desperate-teaching",
   "metadata": {},
   "source": [
    "**Note** both``values()`` and ``items()`` both return a tuple (Unlike dictionaries where they return iterators). "
   ]
  },
  {
   "cell_type": "code",
   "execution_count": 45,
   "id": "concerned-reputation",
   "metadata": {},
   "outputs": [
    {
     "data": {
      "text/plain": [
       "array([10., 11.])"
      ]
     },
     "execution_count": 45,
     "metadata": {},
     "output_type": "execute_result"
    }
   ],
   "source": [
    "a.get('ru')"
   ]
  },
  {
   "cell_type": "markdown",
   "id": "allied-youth",
   "metadata": {},
   "source": [
    "If a column with the specified key is not present in the array a default value is return with the same shape as a column in the array."
   ]
  },
  {
   "cell_type": "code",
   "execution_count": 46,
   "id": "thousand-alberta",
   "metadata": {},
   "outputs": [
    {
     "data": {
      "text/plain": [
       "array([nan, nan])"
      ]
     },
     "execution_count": 46,
     "metadata": {},
     "output_type": "execute_result"
    }
   ],
   "source": [
    "a.get('ag') # If not specified the default value is np.nan"
   ]
  },
  {
   "cell_type": "code",
   "execution_count": 48,
   "id": "early-savings",
   "metadata": {},
   "outputs": [
    {
     "data": {
      "text/plain": [
       "array([40, 40])"
      ]
     },
     "execution_count": 48,
     "metadata": {},
     "output_type": "execute_result"
    }
   ],
   "source": [
    "a.get('ag', 40) # Second argument is the default value"
   ]
  },
  {
   "cell_type": "code",
   "execution_count": 50,
   "id": "focused-abortion",
   "metadata": {},
   "outputs": [
    {
     "data": {
      "text/plain": [
       "array([40, 41])"
      ]
     },
     "execution_count": 50,
     "metadata": {},
     "output_type": "execute_result"
    }
   ],
   "source": [
    "a.get('ag', [40, 41]) # A sequence the same shape as a valid column is also accepted"
   ]
  },
  {
   "cell_type": "markdown",
   "id": "another-anderson",
   "metadata": {},
   "source": [
    "---\n",
    "The ``copy()`` method can be used to return a copy of the array"
   ]
  },
  {
   "cell_type": "code",
   "execution_count": 3,
   "id": "equipped-penguin",
   "metadata": {},
   "outputs": [
    {
     "data": {
      "text/plain": [
       "(False, True)"
      ]
     },
     "execution_count": 3,
     "metadata": {},
     "output_type": "execute_result"
    }
   ],
   "source": [
    "a = isopy.array(dict(ru101 = [10, 11], pd105= [20, 21], cd111 = [30, 31]))\n",
    "b = a.copy()\n",
    "b is a, a == b"
   ]
  },
  {
   "cell_type": "markdown",
   "id": "hourly-millennium",
   "metadata": {},
   "source": [
    "You can copy only those columns that meet a certain criteria by passing filter keywords. See the ``filter()`` method for the different key lists for available filter keywords."
   ]
  },
  {
   "cell_type": "code",
   "execution_count": 4,
   "id": "hungry-cursor",
   "metadata": {},
   "outputs": [
    {
     "data": {
      "text/plain": [
       "(row) , 105Pd , 111Cd \n",
       "0     , 20    , 30    \n",
       "1     , 21    , 31    "
      ]
     },
     "execution_count": 4,
     "metadata": {},
     "output_type": "execute_result"
    }
   ],
   "source": [
    "a = isopy.array(dict(ru101 = [10, 11], pd105= [20, 21], cd111 = [30, 31]))\n",
    "a.copy(mass_number_gt = 104) # Return only the columns with that have a mass number greater than 104"
   ]
  },
  {
   "cell_type": "markdown",
   "id": "atmospheric-nightlife",
   "metadata": {},
   "source": [
    "---\n",
    "You can create a ratio from data within an array using the ``ratio()`` method"
   ]
  },
  {
   "cell_type": "code",
   "execution_count": 4,
   "id": "naval-madness",
   "metadata": {},
   "outputs": [
    {
     "data": {
      "text/plain": [
       "(row) , 101Ru/105Pd , 111Cd/105Pd \n",
       "0     , 0.5         , 1.5         \n",
       "1     , 0.52381     , 1.4762      "
      ]
     },
     "execution_count": 4,
     "metadata": {},
     "output_type": "execute_result"
    }
   ],
   "source": [
    "c = a.ratio('105Pd'); c"
   ]
  },
  {
   "cell_type": "markdown",
   "id": "plain-silly",
   "metadata": {},
   "source": [
    "Ratio arrays have a ``deratio()`` method for flattening a ratio array. This requires that all column keys in the array have a common denominator"
   ]
  },
  {
   "cell_type": "code",
   "execution_count": 5,
   "id": "controlled-asset",
   "metadata": {},
   "outputs": [
    {
     "data": {
      "text/plain": [
       "(row) , 101Ru   , 111Cd  , 105Pd \n",
       "0     , 0.5     , 1.5    , 1     \n",
       "1     , 0.52381 , 1.4762 , 1     "
      ]
     },
     "execution_count": 5,
     "metadata": {},
     "output_type": "execute_result"
    }
   ],
   "source": [
    "c.deratio()"
   ]
  },
  {
   "cell_type": "code",
   "execution_count": 7,
   "id": "wired-constitution",
   "metadata": {},
   "outputs": [
    {
     "data": {
      "text/plain": [
       "(row) , 101Ru , 111Cd , 105Pd \n",
       "0     , 10    , 30    , 20    \n",
       "1     , 11    , 31    , 21    "
      ]
     },
     "execution_count": 7,
     "metadata": {},
     "output_type": "execute_result"
    }
   ],
   "source": [
    "c.deratio([20, 21]) #You can specify the value(s) for the denominator"
   ]
  },
  {
   "cell_type": "markdown",
   "id": "fitting-oxford",
   "metadata": {},
   "source": [
    "---\n",
    "The  ``normalise`` function allows you to normalise the data in the array to a certian value. Calling the function without any arguments will normalise all the values to that the sum of each row is ``1``"
   ]
  },
  {
   "cell_type": "code",
   "execution_count": 10,
   "id": "standing-verification",
   "metadata": {},
   "outputs": [
    {
     "data": {
      "text/plain": [
       "(row) , Ru      , Pd      , Cd      \n",
       "0     , 0.16667 , 0.33333 , 0.5     \n",
       "1     , 0.1746  , 0.33333 , 0.49206 "
      ]
     },
     "execution_count": 10,
     "metadata": {},
     "output_type": "execute_result"
    }
   ],
   "source": [
    "a = isopy.array(dict(ru = [10, 11], pd= [20, 21], cd = [30, 31]))\n",
    "a.normalise()"
   ]
  },
  {
   "cell_type": "markdown",
   "id": "abandoned-substitute",
   "metadata": {},
   "source": [
    "The optional arguments are 1) the value you with to normalise to and 2) the key(s) of the columns that the normalisation should be based on."
   ]
  },
  {
   "cell_type": "code",
   "execution_count": 11,
   "id": "secret-accountability",
   "metadata": {},
   "outputs": [
    {
     "data": {
      "text/plain": [
       "(row) , Ru     , Pd  , Cd     \n",
       "0     , 50     , 100 , 150    \n",
       "1     , 52.381 , 100 , 147.62 "
      ]
     },
     "execution_count": 11,
     "metadata": {},
     "output_type": "execute_result"
    }
   ],
   "source": [
    "a.normalise(100, 'pd') # Normalise values in column Pd to 100."
   ]
  },
  {
   "cell_type": "code",
   "execution_count": 19,
   "id": "aggressive-alcohol",
   "metadata": {},
   "outputs": [
    {
     "data": {
      "text/plain": [
       "(row) , Ru    , Pd  , Cd    \n",
       "0     , 25    , 50  , 75    \n",
       "1     , 261.9 , 500 , 738.1 "
      ]
     },
     "execution_count": 19,
     "metadata": {},
     "output_type": "execute_result"
    }
   ],
   "source": [
    "a.normalise([100, 1000], ['ru', 'cd']) # The sum of the specified keys will be equal to the values given"
   ]
  },
  {
   "cell_type": "code",
   "execution_count": 16,
   "id": "charitable-alabama",
   "metadata": {},
   "outputs": [
    {
     "data": {
      "text/plain": [
       "(row) , Ru , Pd , Cd \n",
       "0     , 10 , 20 , 30 \n",
       "1     , 11 , 21 , 31 "
      ]
     },
     "execution_count": 16,
     "metadata": {},
     "output_type": "execute_result"
    }
   ],
   "source": [
    "a.normalise([100, 1000], ['ru', 'cd']).normalise([20, 21], 'pd')"
   ]
  },
  {
   "cell_type": "markdown",
   "id": "bigger-liver",
   "metadata": {},
   "source": [
    "---\n",
    "You can convert an isopy array into a text string using the ``to_text()`` method"
   ]
  },
  {
   "cell_type": "code",
   "execution_count": 25,
   "id": "valued-spine",
   "metadata": {},
   "outputs": [
    {
     "data": {
      "text/plain": [
       "'Ru   , Pd   , Cd   \\n10.0 , 20.0 , 30.0 \\n11.0 , 21.0 , 31.0 '"
      ]
     },
     "execution_count": 25,
     "metadata": {},
     "output_type": "execute_result"
    }
   ],
   "source": [
    "a = isopy.array(dict(ru = [10, 11], pd= [20, 21], cd = [30, 31]))\n",
    "a.to_text()"
   ]
  },
  {
   "cell_type": "code",
   "execution_count": 24,
   "id": "cubic-expression",
   "metadata": {},
   "outputs": [
    {
     "name": "stdout",
     "output_type": "stream",
     "text": [
      "Ru   , Pd   , Cd   \n",
      "10.0 , 20.0 , 30.0 \n",
      "11.0 , 21.0 , 31.0 \n"
     ]
    }
   ],
   "source": [
    "print(a.to_text()) # Same as print(a)"
   ]
  },
  {
   "cell_type": "markdown",
   "id": "royal-accounting",
   "metadata": {},
   "source": [
    "There are a number of optional arguments you can specify to change things like number formats and the delimiter for the string"
   ]
  },
  {
   "cell_type": "code",
   "execution_count": 28,
   "id": "moderate-basket",
   "metadata": {},
   "outputs": [
    {
     "data": {
      "text/plain": [
       "'(row) \\tRu   \\tPd   \\tCd   \\n0     \\t10.0 \\t20.0 \\t30.0 \\n1     \\t11.0 \\t21.0 \\t31.0 '"
      ]
     },
     "execution_count": 28,
     "metadata": {},
     "output_type": "execute_result"
    }
   ],
   "source": [
    "a.to_text(delimiter = '\\t', include_row=True) #includes the row number and uses a tab delimiter"
   ]
  },
  {
   "cell_type": "markdown",
   "id": "narrow-click",
   "metadata": {},
   "source": [
    "The method ``to_clipboard()`` takes the same arguments as ``to_text()`` but copies the string to the "
   ]
  },
  {
   "cell_type": "code",
   "execution_count": 30,
   "id": "understood-debate",
   "metadata": {},
   "outputs": [
    {
     "data": {
      "text/plain": [
       "'Ru   , Pd   , Cd   \\n10.0 , 20.0 , 30.0 \\n11.0 , 21.0 , 31.0 '"
      ]
     },
     "execution_count": 30,
     "metadata": {},
     "output_type": "execute_result"
    }
   ],
   "source": [
    "a.to_clipboard() # It also returns the copied string"
   ]
  },
  {
   "cell_type": "code",
   "execution_count": 32,
   "id": "tracked-thomas",
   "metadata": {},
   "outputs": [
    {
     "data": {
      "text/plain": [
       "'Ru   , Pd   , Cd   \\n10.0 , 20.0 , 30.0 \\n11.0 , 21.0 , 31.0 '"
      ]
     },
     "execution_count": 32,
     "metadata": {},
     "output_type": "execute_result"
    }
   ],
   "source": [
    "pyperclip.paste() # Paste whatever is currently is in the clipboard"
   ]
  },
  {
   "cell_type": "markdown",
   "id": "cellular-charger",
   "metadata": {},
   "source": [
    "---\n",
    "There are a number of methods for converting isopy arrays into other python objects"
   ]
  },
  {
   "cell_type": "code",
   "execution_count": 33,
   "id": "selected-delta",
   "metadata": {},
   "outputs": [
    {
     "data": {
      "text/plain": [
       "[[10.0, 20.0, 30.0], [11.0, 21.0, 31.0]]"
      ]
     },
     "execution_count": 33,
     "metadata": {},
     "output_type": "execute_result"
    }
   ],
   "source": [
    "a = isopy.array(dict(ru = [10, 11], pd= [20, 21], cd = [30, 31]))\n",
    "a.to_list() # Convert array to a list"
   ]
  },
  {
   "cell_type": "code",
   "execution_count": 34,
   "id": "competitive-territory",
   "metadata": {},
   "outputs": [
    {
     "data": {
      "text/plain": [
       "{'Ru': [10.0, 11.0], 'Pd': [20.0, 21.0], 'Cd': [30.0, 31.0]}"
      ]
     },
     "execution_count": 34,
     "metadata": {},
     "output_type": "execute_result"
    }
   ],
   "source": [
    "a.to_dict() # Converts array into a dictionary"
   ]
  },
  {
   "cell_type": "code",
   "execution_count": 36,
   "id": "incorporated-leave",
   "metadata": {},
   "outputs": [
    {
     "data": {
      "text/plain": [
       "array([(10., 20., 30.), (11., 21., 31.)],\n",
       "      dtype=[('Ru', '<f8'), ('Pd', '<f8'), ('Cd', '<f8')])"
      ]
     },
     "execution_count": 36,
     "metadata": {},
     "output_type": "execute_result"
    }
   ],
   "source": [
    "a.to_ndarray() # Converts array into a structured numpy array"
   ]
  },
  {
   "cell_type": "markdown",
   "id": "gothic-namibia",
   "metadata": {},
   "source": [
    "The methods ``from_csv()``/``to_csv()`` and ``from_xlsx()``/``to_xlsx()`` allows you to import/export arrays from csv and excel files. See [Introduction Part 4: Importing and exporting data]() for more information on importing and exporting arrays."
   ]
  },
  {
   "cell_type": "markdown",
   "id": "maritime-franchise",
   "metadata": {},
   "source": [
    "### Array Functions\n",
    "The isopy package comes with several custom made array functions and isopy arrays support a large number of the numpy array functions. An array function is a function that perform an action on one or more arrays, e.g. adding arrays together of finding the mean of values in an array. See [Introduction Part 3: Working with arrays]() **LINK MISSING** for a comprehensive explanation of array functions with lots examples.\n",
    "\n",
    "A few quick examples are"
   ]
  },
  {
   "cell_type": "code",
   "execution_count": 51,
   "id": "negative-carpet",
   "metadata": {},
   "outputs": [
    {
     "data": {
      "text/plain": [
       "(row) , Ru , Pd , Cd  , Ag  \n",
       "None  , 11 , 22 , nan , nan "
      ]
     },
     "execution_count": 51,
     "metadata": {},
     "output_type": "execute_result"
    }
   ],
   "source": [
    "a1 = isopy.array(dict(ru = 1, pd= 2, cd = 3))\n",
    "a2 = isopy.array(dict(ru = 10, pd= 20, ag = 25))\n",
    "a1 + a2 # Columns not present in all arrays are assinged a value of np.nan"
   ]
  },
  {
   "cell_type": "code",
   "execution_count": 44,
   "id": "streaming-abraham",
   "metadata": {},
   "outputs": [
    {
     "data": {
      "text/plain": [
       "(row) , Ru      , Pd       , Cd     \n",
       "None  , 0.99613 , 0.060085 , 10.023 "
      ]
     },
     "execution_count": 44,
     "metadata": {},
     "output_type": "execute_result"
    }
   ],
   "source": [
    "a = isopy.random(100, [(1, 0.1), (0, 1), (10, 2)], ['ru', 'pd', 'cd'])\n",
    "np.mean(a) #Calculate the mean of each column"
   ]
  },
  {
   "cell_type": "code",
   "execution_count": 46,
   "id": "narrative-mineral",
   "metadata": {},
   "outputs": [
    {
     "data": {
      "text/plain": [
       "(row) , Ru       , Pd      , Cd     \n",
       "None  , 0.090816 , 0.96784 , 1.9129 "
      ]
     },
     "execution_count": 46,
     "metadata": {},
     "output_type": "execute_result"
    }
   ],
   "source": [
    "np.std(a) # Calculate the standard deviation of each column"
   ]
  },
  {
   "cell_type": "markdown",
   "id": "brave-facing",
   "metadata": {},
   "source": [
    "---\n",
    "One useful feature of the array function implementation for isopy arrays is that they can be used in conjunction with dictionaries. Only the keys in the dictionary found in the array will be used making dictionaries useful for storing for example reference values."
   ]
  },
  {
   "cell_type": "code",
   "execution_count": 53,
   "id": "competent-silver",
   "metadata": {},
   "outputs": [
    {
     "data": {
      "text/plain": [
       "(row) , Ru , Pd , Cd \n",
       "None  , 11 , 23 , 35 "
      ]
     },
     "execution_count": 53,
     "metadata": {},
     "output_type": "execute_result"
    }
   ],
   "source": [
    "a = isopy.array(dict(ru = 10, pd= 20, cd = 30))\n",
    "d = dict(ru = 1, rh = 2, pd=3, ag=4, cd = 5)\n",
    "a + d # Only column keys in the array are present in the output"
   ]
  },
  {
   "cell_type": "markdown",
   "id": "outer-applicant",
   "metadata": {},
   "source": [
    "**Note** The dictionary keys do not need to formatted to match the proper key string format."
   ]
  },
  {
   "cell_type": "markdown",
   "id": "civil-clarity",
   "metadata": {},
   "source": [
    "## Isopy Dictionaries"
   ]
  },
  {
   "cell_type": "markdown",
   "id": "palestinian-graphic",
   "metadata": {},
   "source": [
    "Isopy has two special dictionaries. ``IsopyDict`` functions like normal dictionary with a few enhancements. First, all values are stored as isopy key strings. Second, they can be readonly and have predefined default values. Third, create a subsection of the dictionary using ``get()`` by passing filter keywords."
   ]
  },
  {
   "cell_type": "code",
   "execution_count": 73,
   "id": "confused-corner",
   "metadata": {},
   "outputs": [
    {
     "data": {
      "text/plain": [
       "IsopyDict(default_value = 0, readonly = False,\n",
       "{\"101Ru\": 1\n",
       "\"103Rh\": 2\n",
       "\"105Pd\": 3\n",
       "\"107Ag\": 4\n",
       "\"111Cd\": 5})"
      ]
     },
     "execution_count": 73,
     "metadata": {},
     "output_type": "execute_result"
    }
   ],
   "source": [
    "d = isopy.IsopyDict(ru101 = 1, rh103 = 2, pd105=3, ag107=4, cd111 = 5, default_value=0) # The first input can also be a another dictionary\n",
    "d"
   ]
  },
  {
   "cell_type": "code",
   "execution_count": 74,
   "id": "mineral-privacy",
   "metadata": {},
   "outputs": [
    {
     "data": {
      "text/plain": [
       "(0, 0)"
      ]
     },
     "execution_count": 74,
     "metadata": {},
     "output_type": "execute_result"
    }
   ],
   "source": [
    "d.get('pd'), d.get('ge') # No need to specify a default value since it was defined during creation"
   ]
  },
  {
   "cell_type": "code",
   "execution_count": 71,
   "id": "outstanding-supervision",
   "metadata": {},
   "outputs": [
    {
     "data": {
      "text/plain": [
       "IsopyDict(default_value = 0, readonly = False,\n",
       "{\"105Pd\": 3\n",
       "\"107Ag\": 4\n",
       "\"111Cd\": 5})"
      ]
     },
     "execution_count": 71,
     "metadata": {},
     "output_type": "execute_result"
    }
   ],
   "source": [
    "d = isopy.IsopyDict(ru101 = 1, rh103 = 2, pd105=3, ag107=4, cd111 = 5, default_value=0)\n",
    "d.get(mass_number_gt = 104) # Returns a new dict containing only isotopes with a mass number greater than 104"
   ]
  },
  {
   "cell_type": "markdown",
   "id": "infectious-prophet",
   "metadata": {},
   "source": [
    "---\n",
    "``ScalarDict`` works just like an ``IsopyDict`` with two exceptions. First it can only store scalars, that is a single numerical value. Second, the ``get()`` method can calculate the ratio of two values in the dictionary if a ratio key string is not present in the dictionary."
   ]
  },
  {
   "cell_type": "code",
   "execution_count": 8,
   "id": "human-talent",
   "metadata": {},
   "outputs": [
    {
     "data": {
      "text/plain": [
       "0.6"
      ]
     },
     "execution_count": 8,
     "metadata": {},
     "output_type": "execute_result"
    }
   ],
   "source": [
    "d = isopy.ScalarDict(ru101 = 1, rh103 = 2, pd105=3, ag107=4, cd111 = 5) # Default value is by default np.nan\n",
    "d.get('pd105/cd111') # Automatically calculated from the numerator and denominator values"
   ]
  },
  {
   "cell_type": "markdown",
   "id": "original-stake",
   "metadata": {},
   "source": [
    "## Reference Values\n",
    "There are a number of reference values included with isopy under the ``refval`` namespace. You can find the available reference values listed [here](https://isopy.readthedocs.io/en/latest/refpages/reference_values.html) toghether with a short description. There are currently three categories of reference values, ``mass``, ``element`` and ``isotope`` referring to the flavour of the key string of the values in the dictionaries. "
   ]
  },
  {
   "cell_type": "code",
   "execution_count": 26,
   "id": "necessary-brave",
   "metadata": {},
   "outputs": [
    {
     "data": {
      "text/plain": [
       "46"
      ]
     },
     "execution_count": 26,
     "metadata": {},
     "output_type": "execute_result"
    }
   ],
   "source": [
    "isopy.refval.element.atomic_number.get('pd') # The atomic number of palladium"
   ]
  },
  {
   "cell_type": "code",
   "execution_count": 22,
   "id": "differential-heating",
   "metadata": {},
   "outputs": [
    {
     "data": {
      "text/plain": [
       "0.2233"
      ]
     },
     "execution_count": 22,
     "metadata": {},
     "output_type": "execute_result"
    }
   ],
   "source": [
    "isopy.refval.isotope.abundance.get('105pd') # The natural abundance of 105Pd relative to all palladium isotopes"
   ]
  },
  {
   "cell_type": "code",
   "execution_count": 19,
   "id": "split-shift",
   "metadata": {},
   "outputs": [
    {
     "data": {
      "text/plain": [
       "IsotopeKeyList('102Pd', '104Pd', '105Pd', '106Pd', '108Pd', '110Pd')"
      ]
     },
     "execution_count": 19,
     "metadata": {},
     "output_type": "execute_result"
    }
   ],
   "source": [
    "isopy.refval.element.isotopes.get('pd') # Returns a list of all naturally occuring isotopes of palladium"
   ]
  },
  {
   "cell_type": "markdown",
   "id": "addressed-harris",
   "metadata": {},
   "source": [
    "---\n",
    "All reference values are isopy dictionaries so the ``get()`` method accepts filter keywords"
   ]
  },
  {
   "cell_type": "code",
   "execution_count": 27,
   "id": "suburban-arctic",
   "metadata": {},
   "outputs": [
    {
     "data": {
      "text/plain": [
       "ScalarDict(default_value = nan, readonly = False,\n",
       "{\"102Pd\": 0.0102\n",
       "\"104Pd\": 0.1114\n",
       "\"105Pd\": 0.2233\n",
       "\"106Pd\": 0.2733\n",
       "\"108Pd\": 0.2646\n",
       "\"110Pd\": 0.1172})"
      ]
     },
     "execution_count": 27,
     "metadata": {},
     "output_type": "execute_result"
    }
   ],
   "source": [
    "isopy.refval.isotope.abundance.get(element_symbol='pd')"
   ]
  },
  {
   "cell_type": "markdown",
   "id": "resistant-nigeria",
   "metadata": {},
   "source": [
    "---\n",
    "Creating an array from reference values is as simple as"
   ]
  },
  {
   "cell_type": "code",
   "execution_count": 18,
   "id": "modern-happiness",
   "metadata": {},
   "outputs": [
    {
     "data": {
      "text/plain": [
       "(row) , 102Pd  , 104Pd  , 105Pd  , 106Pd  , 108Pd  , 110Pd  \n",
       "None  , 0.0102 , 0.1114 , 0.2233 , 0.2733 , 0.2646 , 0.1172 "
      ]
     },
     "execution_count": 18,
     "metadata": {},
     "output_type": "execute_result"
    }
   ],
   "source": [
    "isopy.array(isopy.refval.isotope.abundance.get(element_symbol='pd'))"
   ]
  },
  {
   "cell_type": "markdown",
   "id": "handmade-equity",
   "metadata": {},
   "source": [
    "Reference values are particularly useful in combination with array frunctions"
   ]
  },
  {
   "cell_type": "code",
   "execution_count": 16,
   "id": "domestic-coordinator",
   "metadata": {},
   "outputs": [
    {
     "data": {
      "text/plain": [
       "(row) , 102Pd  , 104Pd  , 105Pd  , 106Pd  , 108Pd  , 110Pd  \n",
       "None  , 0.0102 , 0.1114 , 0.2233 , 0.2733 , 0.2646 , 0.1172 "
      ]
     },
     "execution_count": 16,
     "metadata": {},
     "output_type": "execute_result"
    }
   ],
   "source": [
    "a = isopy.ones(None, isopy.refval.isotope.abundance.get(element_symbol='pd'))\n",
    "a * isopy.refval.isotope.abundance"
   ]
  }
 ],
 "metadata": {
  "kernelspec": {
   "display_name": "main",
   "language": "python",
   "name": "main"
  },
  "language_info": {
   "codemirror_mode": {
    "name": "ipython",
    "version": 3
   },
   "file_extension": ".py",
   "mimetype": "text/x-python",
   "name": "python",
   "nbconvert_exporter": "python",
   "pygments_lexer": "ipython3",
   "version": "3.9.2"
  }
 },
 "nbformat": 4,
 "nbformat_minor": 5
}
