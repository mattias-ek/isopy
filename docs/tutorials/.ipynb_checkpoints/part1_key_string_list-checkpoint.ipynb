{
 "cells": [
  {
   "cell_type": "markdown",
   "id": "satellite-honduras",
   "metadata": {},
   "source": [
    "# Tutorial Part 1: Key Strings and Key Lists\n",
    "A key string is strictly formatted string representing a certain type of data. Each type of data type has its own *flavour* of python object with unique attributes/methods useful for that particular data type. Isopy will automatically convert strings into the correct format so it is often not necessary for the user to strictly adhere to the key string format in normal usage. A collection of key strings is called a key list (Although strictly speaking a key list is a subclass of tuple).\n",
    "\n",
    "This introduction does not cover all the functionality of key strings and key lists. For a comprehensive overview look at the reference documentation [here](https://isopy.readthedocs.io/en/latest/refpages/dtypes.html#).\n",
    "\n",
    "**Table of Content**\n",
    "\n",
    "* [Creating key strings and key lists](#Creating-key-strings-and-key-lists)\n",
    "    * [MassKeyString & MassKeyList](#MassKeyString-&-MassKeyList)\n",
    "    * [ElementKeyString & ElementKeyList](#ElementKeyString-&-ElementKeyList)\n",
    "    * [IsotopeKeyString & IsotopeKeyList](#IsotopeKeyString-&-IsotopeKeyList)\n",
    "    * [RatioKeyString & RatioKeyList](#RatioKeyString-&-RatioKeyList)\n",
    "    * [GeneralKeyString & GeneralKeyList](#GeneralKeyString-&-GeneralKeyList)\n",
    "    * [keystring & keylist](#keystring-&-keylist)\n",
    "    * [askeystring & askeylist](#askeystring-&-askeylist)\n",
    " * [Turning key strings into python strings](#Turning-key-strings-into-python-strings)\n",
    " * [Evaluating key strings](#Evaluating-key-strings)\n",
    " * [Evaluating key lists](#Evaluating-key-lists)\n",
    " * [Key list methods](#Key-list-methods)\n",
    " * [Filtering key lists](#Filtering-key-lists)"
   ]
  },
  {
   "cell_type": "code",
   "execution_count": 2,
   "id": "superior-insulin",
   "metadata": {},
   "outputs": [],
   "source": [
    "import isopy"
   ]
  },
  {
   "cell_type": "markdown",
   "id": "second-coordinate",
   "metadata": {},
   "source": [
    "## Creating key strings and key lists\n",
    "Below is a short description of each key string/list flavour and how"
   ]
  },
  {
   "cell_type": "markdown",
   "id": "bearing-fitting",
   "metadata": {},
   "source": [
    "### MassKeyString & MassKeyList\n",
    "The ``Mass``  flavour represent data described by a mass number. Therefore key strings are restricted to integer numbers, e.g. ``\"105\"``. Key strings can be created from both integers and strings. **However**, when indexing a MassArray only a string can be used to represent the column as integer values represent row numbers."
   ]
  },
  {
   "cell_type": "code",
   "execution_count": 4,
   "id": "anonymous-coordinator",
   "metadata": {},
   "outputs": [
    {
     "data": {
      "text/plain": [
       "(MassKeyString('105'), MassKeyString('105'))"
      ]
     },
     "execution_count": 4,
     "metadata": {},
     "output_type": "execute_result"
    }
   ],
   "source": [
    "isopy.MassKeyString('104'), isopy.MassKeyString(105)"
   ]
  },
  {
   "cell_type": "code",
   "execution_count": 5,
   "id": "following-checkout",
   "metadata": {},
   "outputs": [
    {
     "data": {
      "text/plain": [
       "MassKeyList('104', '105')"
      ]
     },
     "execution_count": 5,
     "metadata": {},
     "output_type": "execute_result"
    }
   ],
   "source": [
    "isopy.MassKeyList('104', 105)"
   ]
  },
  {
   "cell_type": "markdown",
   "id": "official-assessment",
   "metadata": {},
   "source": [
    "### ElementKeyString & ElementKeyList\n",
    "The ``Element``  flavour represents elemental data using the element symbol. Key string are restricted to one or two characters. The first character is always\n",
    "in upper case and the second character, if present, is always in lower case, e.g. ``\"Pd\"``. Isopy will automatically format strings so they adhere to this format so any case can be used for element key strings. You can also use the full english names for the elements."
   ]
  },
  {
   "cell_type": "code",
   "execution_count": 9,
   "id": "eligible-aviation",
   "metadata": {},
   "outputs": [
    {
     "data": {
      "text/plain": [
       "(ElementKeyString('Pd'), ElementKeyString('Cd'))"
      ]
     },
     "execution_count": 9,
     "metadata": {},
     "output_type": "execute_result"
    }
   ],
   "source": [
    "isopy.ElementKeyString('Pd'), isopy.ElementKeyString('Cadmium')"
   ]
  },
  {
   "cell_type": "code",
   "execution_count": 10,
   "id": "reflected-capitol",
   "metadata": {},
   "outputs": [
    {
     "data": {
      "text/plain": [
       "ElementKeyList('Pd', 'Pd', 'Pd', 'Cd', 'Cd', 'Cd')"
      ]
     },
     "execution_count": 10,
     "metadata": {},
     "output_type": "execute_result"
    }
   ],
   "source": [
    "isopy.ElementKeyList('Pd', 'pd', 'PD', 'Cadmium', 'cadmium', 'CADMIUM')"
   ]
  },
  {
   "cell_type": "markdown",
   "id": "union-frame",
   "metadata": {},
   "source": [
    "### IsotopeKeyString & IsotopeKeyList\n",
    "The ``Isotope``  flavour represent isotope data and the key string consists of a ``Mass`` key string followed by an ``Element`` key string, e.g ``\"105Pd\"``. The order of the mass number and the element symbol is not enforced when creating isotope key strings. A ``-`` can be used to separate the mass number and the element symbol."
   ]
  },
  {
   "cell_type": "code",
   "execution_count": 18,
   "id": "blank-pasta",
   "metadata": {},
   "outputs": [
    {
     "data": {
      "text/plain": [
       "(IsotopeKeyString('105Pd'), IsotopeKeyString('105Pd'))"
      ]
     },
     "execution_count": 18,
     "metadata": {},
     "output_type": "execute_result"
    }
   ],
   "source": [
    "isopy.IsotopeKeyString('105pd'), isopy.IsotopeKeyString('pd105')"
   ]
  },
  {
   "cell_type": "code",
   "execution_count": 20,
   "id": "paperback-mapping",
   "metadata": {},
   "outputs": [
    {
     "data": {
      "text/plain": [
       "IsotopeKeyList('102Pd', '104Pd', '105Pd', '106Pd', '108Pd', '110Pd')"
      ]
     },
     "execution_count": 20,
     "metadata": {},
     "output_type": "execute_result"
    }
   ],
   "source": [
    "isopy.IsotopeKeyList('102Pd', '104pd', 'Pd105', '106Palladium', 'palladium-108', '110-PALLADIUM' )"
   ]
  },
  {
   "cell_type": "markdown",
   "id": "known-edmonton",
   "metadata": {},
   "source": [
    "---\n",
    "The mass number and element symbol of a key string can be accessed by:"
   ]
  },
  {
   "cell_type": "code",
   "execution_count": 24,
   "id": "useful-alpha",
   "metadata": {},
   "outputs": [
    {
     "data": {
      "text/plain": [
       "(MassKeyString('105'), ElementKeyString('Pd'))"
      ]
     },
     "execution_count": 24,
     "metadata": {},
     "output_type": "execute_result"
    }
   ],
   "source": [
    "key = isopy.IsotopeKeyString('105pd')\n",
    "key.mass_number, key.element_symbol"
   ]
  },
  {
   "cell_type": "markdown",
   "id": "bearing-brooks",
   "metadata": {},
   "source": [
    "Likewise for key lists:"
   ]
  },
  {
   "cell_type": "code",
   "execution_count": 22,
   "id": "communist-crisis",
   "metadata": {},
   "outputs": [
    {
     "data": {
      "text/plain": [
       "MassKeyList('102', '104', '105', '106', '108', '110')"
      ]
     },
     "execution_count": 22,
     "metadata": {},
     "output_type": "execute_result"
    }
   ],
   "source": [
    "keylist = isopy.IsotopeKeyList('102Pd', '104pd', 'Pd105', '106Palladium', 'palladium-108', '110-PALLADIUM' )\n",
    "keylist.mass_numbers"
   ]
  },
  {
   "cell_type": "code",
   "execution_count": 23,
   "id": "illegal-abortion",
   "metadata": {},
   "outputs": [
    {
     "data": {
      "text/plain": [
       "ElementKeyList('Pd', 'Pd', 'Pd', 'Pd', 'Pd', 'Pd')"
      ]
     },
     "execution_count": 23,
     "metadata": {},
     "output_type": "execute_result"
    }
   ],
   "source": [
    "keylist.element_symbols"
   ]
  },
  {
   "cell_type": "markdown",
   "id": "invisible-maine",
   "metadata": {},
   "source": [
    "### RatioKeyString & RatioKeyList"
   ]
  },
  {
   "cell_type": "markdown",
   "id": "handy-protest",
   "metadata": {},
   "source": [
    "The ``Ratio``  flavour represents a ratio between two sets of data. The ratio key string consists of a numerator key string and a denominator key string, e.g. ``\"108Pd/105Pd\"``. The numerator and denominator can be of different flavours."
   ]
  },
  {
   "cell_type": "code",
   "execution_count": 27,
   "id": "obvious-housing",
   "metadata": {},
   "outputs": [
    {
     "data": {
      "text/plain": [
       "RatioKeyString('108Pd/105Pd')"
      ]
     },
     "execution_count": 27,
     "metadata": {},
     "output_type": "execute_result"
    }
   ],
   "source": [
    "isopy.RatioKeyString('108pd/105pd')"
   ]
  },
  {
   "cell_type": "code",
   "execution_count": 28,
   "id": "corresponding-basics",
   "metadata": {},
   "outputs": [
    {
     "data": {
      "text/plain": [
       "RatioKeyList('Ru/Pd', 'Rh/Pd', 'Ag/Pd', 'Cd/Pd')"
      ]
     },
     "execution_count": 28,
     "metadata": {},
     "output_type": "execute_result"
    }
   ],
   "source": [
    "isopy.RatioKeyList('ru/pd', 'rh/pd', 'ag/pd', 'cd/pd')"
   ]
  },
  {
   "cell_type": "markdown",
   "id": "backed-terror",
   "metadata": {},
   "source": [
    "You can mix the flavours of the denominators and numerators in a ratio key list"
   ]
  },
  {
   "cell_type": "code",
   "execution_count": 9,
   "id": "leading-beaver",
   "metadata": {},
   "outputs": [
    {
     "data": {
      "text/plain": [
       "RatioKeyList('Ru/Pd', '103Rh/105Pd', '111Cd/Pd')"
      ]
     },
     "execution_count": 9,
     "metadata": {},
     "output_type": "execute_result"
    }
   ],
   "source": [
    "isopy.RatioKeyList('ru/pd', '103rh/105pd', '111cd/pd')"
   ]
  },
  {
   "cell_type": "markdown",
   "id": "dramatic-gamma",
   "metadata": {},
   "source": [
    "---\n",
    "The numerator and denominator key string can be accesed by:"
   ]
  },
  {
   "cell_type": "code",
   "execution_count": 4,
   "id": "pleased-assembly",
   "metadata": {},
   "outputs": [
    {
     "data": {
      "text/plain": [
       "(IsotopeKeyString('108Pd'), IsotopeKeyString('105Pd'))"
      ]
     },
     "execution_count": 4,
     "metadata": {},
     "output_type": "execute_result"
    }
   ],
   "source": [
    "key = isopy.RatioKeyString('108pd/105pd')\n",
    "key.numerator, key.denominator"
   ]
  },
  {
   "cell_type": "markdown",
   "id": "tough-receptor",
   "metadata": {},
   "source": [
    "Likewise for lists:"
   ]
  },
  {
   "cell_type": "code",
   "execution_count": 6,
   "id": "prerequisite-magnitude",
   "metadata": {},
   "outputs": [
    {
     "data": {
      "text/plain": [
       "ElementKeyList('Ru', 'Rh', 'Ag', 'Cd')"
      ]
     },
     "execution_count": 6,
     "metadata": {},
     "output_type": "execute_result"
    }
   ],
   "source": [
    "keylist = isopy.RatioKeyList('ru/pd', 'rh/pd', 'ag/pd', 'cd/pd')\n",
    "keylist.numerators"
   ]
  },
  {
   "cell_type": "code",
   "execution_count": 7,
   "id": "right-statistics",
   "metadata": {},
   "outputs": [
    {
     "data": {
      "text/plain": [
       "ElementKeyList('Pd', 'Pd', 'Pd', 'Pd')"
      ]
     },
     "execution_count": 7,
     "metadata": {},
     "output_type": "execute_result"
    }
   ],
   "source": [
    "keylist.denominators"
   ]
  },
  {
   "cell_type": "markdown",
   "id": "working-damage",
   "metadata": {},
   "source": [
    "---\n",
    "If a ratio key list has a common denominator this key string can be accessed using the ``common_denominator`` attribute. This attribute will be ``None`` if there is no common denominator."
   ]
  },
  {
   "cell_type": "code",
   "execution_count": 35,
   "id": "protecting-amber",
   "metadata": {},
   "outputs": [
    {
     "data": {
      "text/plain": [
       "ElementKeyString('Pd')"
      ]
     },
     "execution_count": 35,
     "metadata": {},
     "output_type": "execute_result"
    }
   ],
   "source": [
    "isopy.RatioKeyList('ru/pd', 'rh/pd', 'ag/pd', 'cd/pd').common_denominator"
   ]
  },
  {
   "cell_type": "markdown",
   "id": "conventional-bikini",
   "metadata": {},
   "source": [
    "---\n",
    "You can also create ratio key strings using the ``/`` operator:"
   ]
  },
  {
   "cell_type": "code",
   "execution_count": 9,
   "id": "duplicate-olympus",
   "metadata": {},
   "outputs": [
    {
     "data": {
      "text/plain": [
       "RatioKeyString('108Pd/105Pd')"
      ]
     },
     "execution_count": 9,
     "metadata": {},
     "output_type": "execute_result"
    }
   ],
   "source": [
    "isopy.IsotopeKeyString('108pd') / '105pd' #Only one of the strings have to be a key string"
   ]
  },
  {
   "cell_type": "code",
   "execution_count": 10,
   "id": "residential-wrestling",
   "metadata": {},
   "outputs": [
    {
     "data": {
      "text/plain": [
       "RatioKeyList('Ru/Pd', 'Rh/Pd', 'Ag/Pd', 'Cd/Pd')"
      ]
     },
     "execution_count": 10,
     "metadata": {},
     "output_type": "execute_result"
    }
   ],
   "source": [
    "isopy.ElementKeyList('ru', 'rh', 'ag', 'cd') / 'pd' # A single string will be used for all key strings in a list"
   ]
  },
  {
   "cell_type": "code",
   "execution_count": 11,
   "id": "failing-intervention",
   "metadata": {},
   "outputs": [
    {
     "data": {
      "text/plain": [
       "RatioKeyList('Ru/Pd', 'Rh/Pd', 'Ag/Pd', 'Cd/Pd')"
      ]
     },
     "execution_count": 11,
     "metadata": {},
     "output_type": "execute_result"
    }
   ],
   "source": [
    "['ru', 'rh', 'ag', 'cd'] / isopy.ElementKeyString('pd') #This also works"
   ]
  },
  {
   "cell_type": "markdown",
   "id": "wrong-houston",
   "metadata": {},
   "source": [
    "---\n",
    "You can create nested ratio key strings using multiple '/' in a string"
   ]
  },
  {
   "cell_type": "code",
   "execution_count": 12,
   "id": "strategic-idaho",
   "metadata": {},
   "outputs": [
    {
     "data": {
      "text/plain": [
       "RatioKeyString('Rh/Ag//Pd')"
      ]
     },
     "execution_count": 12,
     "metadata": {},
     "output_type": "execute_result"
    }
   ],
   "source": [
    "key = isopy.RatioKeyString('rh/ag//pd'); key"
   ]
  },
  {
   "cell_type": "code",
   "execution_count": 13,
   "id": "excess-mission",
   "metadata": {},
   "outputs": [
    {
     "data": {
      "text/plain": [
       "(RatioKeyString('Rh/Ag'), ElementKeyString('Pd'))"
      ]
     },
     "execution_count": 13,
     "metadata": {},
     "output_type": "execute_result"
    }
   ],
   "source": [
    "key.numerator, key.denominator"
   ]
  },
  {
   "cell_type": "markdown",
   "id": "atomic-dancing",
   "metadata": {},
   "source": [
    "**Note** It is only possible to create up to 9 nested ratios."
   ]
  },
  {
   "cell_type": "markdown",
   "id": "olympic-kelly",
   "metadata": {},
   "source": [
    "### GeneralKeyString & GeneralKeyList\n",
    "The ``General``  flavour represent data that cannot be described by any of the other flavours. There are no formatting restrictions for these key strings so any string is valid."
   ]
  },
  {
   "cell_type": "code",
   "execution_count": 4,
   "id": "ordinary-inclusion",
   "metadata": {},
   "outputs": [
    {
     "data": {
      "text/plain": [
       "GeneralKeyString('Hermione')"
      ]
     },
     "execution_count": 4,
     "metadata": {},
     "output_type": "execute_result"
    }
   ],
   "source": [
    "isopy.GeneralKeyString('Hermione')"
   ]
  },
  {
   "cell_type": "code",
   "execution_count": 5,
   "id": "frequent-flour",
   "metadata": {},
   "outputs": [
    {
     "data": {
      "text/plain": [
       "GeneralKeyList('Harry', 'Ron', 'Hermione')"
      ]
     },
     "execution_count": 5,
     "metadata": {},
     "output_type": "execute_result"
    }
   ],
   "source": [
    "isopy.GeneralKeyList('Harry', 'Ron', 'Hermione')"
   ]
  },
  {
   "cell_type": "markdown",
   "id": "lasting-cologne",
   "metadata": {},
   "source": [
    "### keystring & keylist\n",
    "These functions will convert strings into one of the isopy key strings/lists. It does this by attempting to convert the string into a mass, element, isotope, ratio and finally a general key string, returning the first successful conversion."
   ]
  },
  {
   "cell_type": "code",
   "execution_count": 19,
   "id": "sitting-metabolism",
   "metadata": {},
   "outputs": [
    {
     "data": {
      "text/plain": [
       "(ElementKeyString('Pd'), IsotopeKeyString('105Pd'))"
      ]
     },
     "execution_count": 19,
     "metadata": {},
     "output_type": "execute_result"
    }
   ],
   "source": [
    "isopy.keystring('pd'), isopy.keystring('105pd')"
   ]
  },
  {
   "cell_type": "code",
   "execution_count": 21,
   "id": "removed-amendment",
   "metadata": {},
   "outputs": [
    {
     "data": {
      "text/plain": [
       "(ElementKeyList('Ru', 'Pd', 'Cd'), IsotopeKeyList('101Ru', '105Pd', '111Cd'))"
      ]
     },
     "execution_count": 21,
     "metadata": {},
     "output_type": "execute_result"
    }
   ],
   "source": [
    "isopy.keylist('ru', 'pd', 'cd'), isopy.keylist('101ru', '105pd', '111cd')"
   ]
  },
  {
   "cell_type": "markdown",
   "id": "educated-characteristic",
   "metadata": {},
   "source": [
    "### askeystring & askeylist\n",
    "These functions differ from the ones above only in that if the string already is a key string/list it is returned immediately. The only difference in the result of these functions and those above is if the input is a general key string/list. This is because the general key string is the only key string that can have a value compabiable with any of the other key string flavours."
   ]
  },
  {
   "cell_type": "code",
   "execution_count": 52,
   "id": "indirect-boring",
   "metadata": {},
   "outputs": [
    {
     "data": {
      "text/plain": [
       "(IsotopeKeyString('105Pd'), GeneralKeyString('105pd'))"
      ]
     },
     "execution_count": 52,
     "metadata": {},
     "output_type": "execute_result"
    }
   ],
   "source": [
    "key = isopy.GeneralKeyString('105pd') # This would also be a valid isotope key string\n",
    "isopy.keystring(key), isopy.askeystring(key)"
   ]
  },
  {
   "cell_type": "code",
   "execution_count": 53,
   "id": "federal-apple",
   "metadata": {},
   "outputs": [
    {
     "data": {
      "text/plain": [
       "(ElementKeyList('Ru', 'Pd', 'Cd'), GeneralKeyList('ru', 'pd', 'cd'))"
      ]
     },
     "execution_count": 53,
     "metadata": {},
     "output_type": "execute_result"
    }
   ],
   "source": [
    "keylist = isopy.GeneralKeyList('ru', 'pd', 'cd') # This is also a valid element key list\n",
    "isopy.keylist(keylist), isopy.askeylist(keylist)"
   ]
  },
  {
   "cell_type": "markdown",
   "id": "unlimited-words",
   "metadata": {},
   "source": [
    "---\n",
    "There is also a nominal difference in the speed of the two functions if the input is a key string/list"
   ]
  },
  {
   "cell_type": "code",
   "execution_count": 60,
   "id": "behind-joyce",
   "metadata": {},
   "outputs": [
    {
     "name": "stdout",
     "output_type": "stream",
     "text": [
      "6.98 µs ± 430 ns per loop (mean ± std. dev. of 7 runs, 100000 loops each)\n",
      "524 ns ± 28.5 ns per loop (mean ± std. dev. of 7 runs, 1000000 loops each)\n"
     ]
    }
   ],
   "source": [
    "key = isopy.IsotopeKeyString('108pd')\n",
    "%timeit isopy.keystring(key)\n",
    "%timeit isopy.askeystring(key)"
   ]
  },
  {
   "cell_type": "markdown",
   "id": "controlled-making",
   "metadata": {},
   "source": [
    "## Turning key strings into python strings\n",
    "You can convert a key string back into a normal string using the ``str()`` function or the ``str()`` method of the key string."
   ]
  },
  {
   "cell_type": "code",
   "execution_count": 72,
   "id": "opposed-filename",
   "metadata": {},
   "outputs": [
    {
     "data": {
      "text/plain": [
       "('Pd', 'Pd')"
      ]
     },
     "execution_count": 72,
     "metadata": {},
     "output_type": "execute_result"
    }
   ],
   "source": [
    "key = isopy.keystring('pd')\n",
    "str(key), key.str()"
   ]
  },
  {
   "cell_type": "markdown",
   "id": "soviet-briefing",
   "metadata": {},
   "source": [
    "The ``str()`` method also allows you to format the returned string using a number of predefined keywords."
   ]
  },
  {
   "cell_type": "code",
   "execution_count": 73,
   "id": "necessary-bridge",
   "metadata": {},
   "outputs": [
    {
     "data": {
      "text/plain": [
       "'Pd, pd, PD, Palladium, palladium, PALLADIUM'"
      ]
     },
     "execution_count": 73,
     "metadata": {},
     "output_type": "execute_result"
    }
   ],
   "source": [
    "key.str('{Es}, {es}, {ES}, {Name}, {name}, {NAME}') # 'es' is the element symbol and 'name' the full name"
   ]
  },
  {
   "cell_type": "code",
   "execution_count": 74,
   "id": "supposed-joint",
   "metadata": {},
   "outputs": [
    {
     "data": {
      "text/plain": [
       "'Palladium'"
      ]
     },
     "execution_count": 74,
     "metadata": {},
     "output_type": "execute_result"
    }
   ],
   "source": [
    "key.str('Name') #you can also pass a keyword directly"
   ]
  },
  {
   "cell_type": "markdown",
   "id": "together-projector",
   "metadata": {},
   "source": [
    "Have a look at the key string documentation for a detailed explanation of the different format options for each key string flavour."
   ]
  },
  {
   "cell_type": "markdown",
   "id": "consecutive-haven",
   "metadata": {},
   "source": [
    "---\n",
    "Similarly you can key lists can return a list of strings using the ``strlist()`` method.  ``str()`` method."
   ]
  },
  {
   "cell_type": "code",
   "execution_count": 77,
   "id": "dental-seven",
   "metadata": {},
   "outputs": [
    {
     "data": {
      "text/plain": [
       "['Ru', 'Pd', 'Cd']"
      ]
     },
     "execution_count": 77,
     "metadata": {},
     "output_type": "execute_result"
    }
   ],
   "source": [
    "keylist = isopy.keylist('ru', 'pd', 'cd')\n",
    "keylist.strlist()"
   ]
  },
  {
   "cell_type": "markdown",
   "id": "outdoor-forestry",
   "metadata": {},
   "source": [
    "This method allows you to format the key strings using the same formatting options as the key string"
   ]
  },
  {
   "cell_type": "code",
   "execution_count": 83,
   "id": "danish-chamber",
   "metadata": {},
   "outputs": [
    {
     "data": {
      "text/plain": [
       "['Ru, Ruthenium', 'Pd, Palladium', 'Cd, Cadmium']"
      ]
     },
     "execution_count": 83,
     "metadata": {},
     "output_type": "execute_result"
    }
   ],
   "source": [
    "keylist.strlist('{Es}, {Name}')"
   ]
  },
  {
   "cell_type": "code",
   "execution_count": 84,
   "id": "verified-injection",
   "metadata": {},
   "outputs": [
    {
     "data": {
      "text/plain": [
       "['Ruthenium', 'Palladium', 'Cadmium']"
      ]
     },
     "execution_count": 84,
     "metadata": {},
     "output_type": "execute_result"
    }
   ],
   "source": [
    "keylist.strlist('Name')"
   ]
  },
  {
   "cell_type": "markdown",
   "id": "framed-principle",
   "metadata": {},
   "source": [
    "## Evaluating key strings\n",
    "Any python string that can be converted into a key string with the same value will evaluate as ``True``, e.g."
   ]
  },
  {
   "cell_type": "code",
   "execution_count": 30,
   "id": "fatal-bulgaria",
   "metadata": {},
   "outputs": [
    {
     "data": {
      "text/plain": [
       "True"
      ]
     },
     "execution_count": 30,
     "metadata": {},
     "output_type": "execute_result"
    }
   ],
   "source": [
    "isopy.keystring('105pd') == 'palladium-105'"
   ]
  },
  {
   "cell_type": "markdown",
   "id": "prescribed-shareware",
   "metadata": {},
   "source": [
    "**Note** However, comparing against another key string flavour will always return ``False`` even if the string value could be converted, e.g."
   ]
  },
  {
   "cell_type": "code",
   "execution_count": 33,
   "id": "decent-emperor",
   "metadata": {},
   "outputs": [
    {
     "data": {
      "text/plain": [
       "False"
      ]
     },
     "execution_count": 33,
     "metadata": {},
     "output_type": "execute_result"
    }
   ],
   "source": [
    "isopy.ElementKeyString('Pd') == isopy.GeneralKeyString('Pd')"
   ]
  },
  {
   "cell_type": "markdown",
   "id": "aerial-thunder",
   "metadata": {},
   "source": [
    "---\n",
    "Mass key strings allow you to use ``<, >, <=, >=`` to compare the mass number against other mass key strings or scalar values"
   ]
  },
  {
   "cell_type": "code",
   "execution_count": 75,
   "id": "refined-diagram",
   "metadata": {},
   "outputs": [
    {
     "data": {
      "text/plain": [
       "(True, False, True, True, True)"
      ]
     },
     "execution_count": 75,
     "metadata": {},
     "output_type": "execute_result"
    }
   ],
   "source": [
    "mass = isopy.keystring(105)\n",
    "mass > 100, mass < 105, mass >= 100.0, mass <= 105.0, mass > isopy.keystring('100')"
   ]
  },
  {
   "cell_type": "markdown",
   "id": "internal-consciousness",
   "metadata": {},
   "source": [
    "---\n",
    "You can test if a mass number or element symbol is part of a isotope key string using ``in``"
   ]
  },
  {
   "cell_type": "code",
   "execution_count": 85,
   "id": "resident-engine",
   "metadata": {},
   "outputs": [
    {
     "data": {
      "text/plain": [
       "(True, False)"
      ]
     },
     "execution_count": 85,
     "metadata": {},
     "output_type": "execute_result"
    }
   ],
   "source": [
    "key = isopy.keystring('105pd')\n",
    "'palladium' in key, 104 in key"
   ]
  },
  {
   "cell_type": "markdown",
   "id": "organic-flower",
   "metadata": {},
   "source": [
    "Similarly you can use ``in`` to test whether a string is the numerator of denominator of a ratio key string"
   ]
  },
  {
   "cell_type": "code",
   "execution_count": 73,
   "id": "coated-maintenance",
   "metadata": {},
   "outputs": [
    {
     "data": {
      "text/plain": [
       "(True, True)"
      ]
     },
     "execution_count": 73,
     "metadata": {},
     "output_type": "execute_result"
    }
   ],
   "source": [
    "key = isopy.keystring('108pd/105pd')\n",
    "'108pd' in key, 'pd105' in key"
   ]
  },
  {
   "cell_type": "markdown",
   "id": "union-stanford",
   "metadata": {},
   "source": [
    "## Evaluating key lists\n",
    "Just like a normal list you can use in to test membership of a key list"
   ]
  },
  {
   "cell_type": "code",
   "execution_count": 88,
   "id": "north-approval",
   "metadata": {},
   "outputs": [
    {
     "data": {
      "text/plain": [
       "(True, False)"
      ]
     },
     "execution_count": 88,
     "metadata": {},
     "output_type": "execute_result"
    }
   ],
   "source": [
    "keylist = isopy.keylist('ru', 'pd', 'cd')\n",
    "'palladium' in keylist, 'ag' in keylist"
   ]
  },
  {
   "cell_type": "code",
   "execution_count": 110,
   "id": "hybrid-interference",
   "metadata": {},
   "outputs": [
    {
     "data": {
      "text/plain": [
       "True"
      ]
     },
     "execution_count": 110,
     "metadata": {},
     "output_type": "execute_result"
    }
   ],
   "source": [
    "isopy.keylist(['ru', 'pd', 'cd']) == ['ru', 'pd', 'cd']"
   ]
  },
  {
   "cell_type": "markdown",
   "id": "listed-clarity",
   "metadata": {},
   "source": [
    "---\n",
    "You can create a new extended key list using ``+``"
   ]
  },
  {
   "cell_type": "code",
   "execution_count": 22,
   "id": "understanding-scheme",
   "metadata": {},
   "outputs": [
    {
     "data": {
      "text/plain": [
       "ElementKeyList('Ru', 'Pd', 'Cd', 'Rh', 'Ag')"
      ]
     },
     "execution_count": 22,
     "metadata": {},
     "output_type": "execute_result"
    }
   ],
   "source": [
    "isopy.keylist(['ru', 'pd', 'cd']) + ['rh', 'ag']"
   ]
  },
  {
   "cell_type": "markdown",
   "id": "streaming-controversy",
   "metadata": {},
   "source": [
    "Similarly you can remove items from key lists using ``-``"
   ]
  },
  {
   "cell_type": "code",
   "execution_count": 23,
   "id": "approved-expression",
   "metadata": {},
   "outputs": [
    {
     "data": {
      "text/plain": [
       "ElementKeyList('Ru', 'Cd')"
      ]
     },
     "execution_count": 23,
     "metadata": {},
     "output_type": "execute_result"
    }
   ],
   "source": [
    "isopy.keylist(['ru', 'pd', 'cd']) - 'pd'"
   ]
  },
  {
   "cell_type": "markdown",
   "id": "informative-danish",
   "metadata": {},
   "source": [
    "---\n",
    "You can do *and*, *or* and *xor* comparisons using ``&``, ``|`` and ``^``"
   ]
  },
  {
   "cell_type": "code",
   "execution_count": 113,
   "id": "attempted-tennis",
   "metadata": {},
   "outputs": [
    {
     "data": {
      "text/plain": [
       "ElementKeyList('Pd', 'Cd')"
      ]
     },
     "execution_count": 113,
     "metadata": {},
     "output_type": "execute_result"
    }
   ],
   "source": [
    "isopy.keylist(['ru', 'pd', 'cd']) & ['pd', 'cd', 'te'] #returns keys in both lists"
   ]
  },
  {
   "cell_type": "code",
   "execution_count": 114,
   "id": "useful-international",
   "metadata": {},
   "outputs": [
    {
     "data": {
      "text/plain": [
       "ElementKeyList('Ru', 'Pd', 'Cd', 'Te')"
      ]
     },
     "execution_count": 114,
     "metadata": {},
     "output_type": "execute_result"
    }
   ],
   "source": [
    "isopy.keylist(['ru', 'pd', 'cd']) | ['pd', 'cd', 'te'] #returns keys in at least one list"
   ]
  },
  {
   "cell_type": "code",
   "execution_count": 115,
   "id": "integral-ozone",
   "metadata": {},
   "outputs": [
    {
     "data": {
      "text/plain": [
       "ElementKeyList('Ru', 'Te')"
      ]
     },
     "execution_count": 115,
     "metadata": {},
     "output_type": "execute_result"
    }
   ],
   "source": [
    "isopy.keylist(['ru', 'pd', 'cd']) ^ ['pd', 'cd', 'te'] #returns key in one list but not the other"
   ]
  },
  {
   "cell_type": "markdown",
   "id": "british-genius",
   "metadata": {},
   "source": [
    "**Note** that ``+``, ``-``, ``&``, ``|`` and ``^`` all return a new key list."
   ]
  },
  {
   "cell_type": "markdown",
   "id": "hawaiian-clearing",
   "metadata": {},
   "source": [
    "## Key list methods\n",
    "The ``count`` and ``index`` methods behaves as they do in a normal tuple"
   ]
  },
  {
   "cell_type": "code",
   "execution_count": 89,
   "id": "trained-tunisia",
   "metadata": {
    "tags": []
   },
   "outputs": [],
   "source": [
    "keylist = isopy.keylist('ru', 'pd', 'cd')"
   ]
  },
  {
   "cell_type": "code",
   "execution_count": 107,
   "id": "weighted-uncertainty",
   "metadata": {
    "tags": []
   },
   "outputs": [
    {
     "data": {
      "text/plain": [
       "(1, 2)"
      ]
     },
     "execution_count": 107,
     "metadata": {},
     "output_type": "execute_result"
    }
   ],
   "source": [
    "keylist.count('ru'), keylist.index('cadmium')"
   ]
  },
  {
   "cell_type": "markdown",
   "id": "married-announcement",
   "metadata": {},
   "source": [
    "You can check is a key list contains duplicate key string using the ``has_duplicates()`` method"
   ]
  },
  {
   "cell_type": "code",
   "execution_count": 95,
   "id": "handy-examination",
   "metadata": {},
   "outputs": [
    {
     "data": {
      "text/plain": [
       "False"
      ]
     },
     "execution_count": 95,
     "metadata": {},
     "output_type": "execute_result"
    }
   ],
   "source": [
    "keylist.has_duplicates()"
   ]
  },
  {
   "cell_type": "markdown",
   "id": "designed-instrument",
   "metadata": {},
   "source": [
    "---\n",
    "You can reverse the order of the list using the ``reversed()`` method"
   ]
  },
  {
   "cell_type": "code",
   "execution_count": 108,
   "id": "canadian-alexander",
   "metadata": {},
   "outputs": [
    {
     "data": {
      "text/plain": [
       "ElementKeyList('Ru', 'Pd', 'Cd')"
      ]
     },
     "execution_count": 108,
     "metadata": {},
     "output_type": "execute_result"
    }
   ],
   "source": [
    "isopy.keylist('ru', 'pd', 'cd').reversed()"
   ]
  },
  {
   "cell_type": "markdown",
   "id": "rental-mirror",
   "metadata": {},
   "source": [
    "You can sort key list using the ``sorted()`` method. How the list is sorted depends on the flavour of the list (See documentation). Element key list are sorted by the atomic number of the element"
   ]
  },
  {
   "cell_type": "code",
   "execution_count": 100,
   "id": "handy-checklist",
   "metadata": {},
   "outputs": [
    {
     "data": {
      "text/plain": [
       "ElementKeyList('H', 'Pd', 'U')"
      ]
     },
     "execution_count": 100,
     "metadata": {},
     "output_type": "execute_result"
    }
   ],
   "source": [
    "isopy.keylist('U', 'H', 'Pd').sorted()"
   ]
  },
  {
   "cell_type": "markdown",
   "id": "loving-alexandria",
   "metadata": {},
   "source": [
    "Element symbols without atomic numers are sorted alphabetically at the end of the list"
   ]
  },
  {
   "cell_type": "code",
   "execution_count": 103,
   "id": "continental-poker",
   "metadata": {},
   "outputs": [
    {
     "data": {
      "text/plain": [
       "ElementKeyList('U', 'H', 'Pd', 'A', 'Zz')"
      ]
     },
     "execution_count": 103,
     "metadata": {},
     "output_type": "execute_result"
    }
   ],
   "source": [
    "isopy.keylist('U', 'H', 'Pd', 'a', 'zz')"
   ]
  },
  {
   "cell_type": "markdown",
   "id": "cultural-panel",
   "metadata": {},
   "source": [
    "**Note** that ``sorted()`` and ``reversed()`` functions will return a list and sorting done by key value"
   ]
  },
  {
   "cell_type": "code",
   "execution_count": 105,
   "id": "identified-daily",
   "metadata": {},
   "outputs": [
    {
     "data": {
      "text/plain": [
       "[ElementKeyString('H'), ElementKeyString('Pd'), ElementKeyString('U')]"
      ]
     },
     "execution_count": 105,
     "metadata": {},
     "output_type": "execute_result"
    }
   ],
   "source": [
    "sorted(isopy.keylist('U', 'H', 'Pd'))"
   ]
  },
  {
   "cell_type": "markdown",
   "id": "fundamental-arabic",
   "metadata": {},
   "source": [
    "---\n",
    "The ``flatten()`` method when used on a ratio key list will return the numerators followed by the denominators in a single key string list.The flatten method exists for the other key list flavours but there it only return a copy of the list."
   ]
  },
  {
   "cell_type": "code",
   "execution_count": 12,
   "id": "accessible-crawford",
   "metadata": {},
   "outputs": [
    {
     "data": {
      "text/plain": [
       "ElementKeyList('Ru', 'Rh', 'Ag', 'Cd', 'Pd', 'Pd', 'Pd', 'Pd')"
      ]
     },
     "execution_count": 12,
     "metadata": {},
     "output_type": "execute_result"
    }
   ],
   "source": [
    "isopy.RatioKeyList('ru/pd', 'rh/pd', 'ag/pd', 'cd/pd').flatten()"
   ]
  },
  {
   "cell_type": "markdown",
   "id": "computational-twist",
   "metadata": {},
   "source": [
    "The ``flatten`` method accepts any of the arguments that can be passed during list creation."
   ]
  },
  {
   "cell_type": "code",
   "execution_count": 109,
   "id": "adverse-theater",
   "metadata": {},
   "outputs": [
    {
     "data": {
      "text/plain": [
       "ElementKeyList('Ru', 'Rh', 'Ag', 'Cd', 'Pd')"
      ]
     },
     "execution_count": 109,
     "metadata": {},
     "output_type": "execute_result"
    }
   ],
   "source": [
    "isopy.RatioKeyList('ru/pd', 'rh/pd', 'ag/pd', 'cd/pd').flatten(ignore_duplicates=True) #Ignores duplicate key strings in the returned list"
   ]
  },
  {
   "cell_type": "markdown",
   "id": "central-senegal",
   "metadata": {},
   "source": [
    "## Filtering key lists\n",
    "The ``filter()`` method provides a way to simple yet powerful way to filter the contents of key string lists and return only certain keys. Using the ``key_eq`` and ``key_neq`` keyword you can return only those keystring that are equal to/not equal to the supplied value(s). If you supply more that one filter key word then only the keys that pass all filter are returned."
   ]
  },
  {
   "cell_type": "code",
   "execution_count": 110,
   "id": "sweet-tuition",
   "metadata": {},
   "outputs": [
    {
     "data": {
      "text/plain": [
       "ElementKeyList('Pd', 'Cd')"
      ]
     },
     "execution_count": 110,
     "metadata": {},
     "output_type": "execute_result"
    }
   ],
   "source": [
    "isopy.keylist('ru', 'pd', 'cd').filter(key_eq=['rh', 'pd', 'ag', 'cd'])"
   ]
  },
  {
   "cell_type": "code",
   "execution_count": 111,
   "id": "ready-monday",
   "metadata": {},
   "outputs": [
    {
     "data": {
      "text/plain": [
       "ElementKeyList('Ru')"
      ]
     },
     "execution_count": 111,
     "metadata": {},
     "output_type": "execute_result"
    }
   ],
   "source": [
    "isopy.keylist('ru', 'pd', 'cd').filter(key_neq=['rh', 'pd', 'ag', 'cd'])"
   ]
  },
  {
   "cell_type": "markdown",
   "id": "infrared-transcription",
   "metadata": {},
   "source": [
    "**Note** the ``filter()`` method always returns a new key list"
   ]
  },
  {
   "cell_type": "markdown",
   "id": "equivalent-poetry",
   "metadata": {},
   "source": [
    "---\n",
    "Mass key lists can be filtered using *lt*, *le*, *gt*, and *ge* for ``<``, ``<=``, ``>``, and ``>=`` comparisons"
   ]
  },
  {
   "cell_type": "code",
   "execution_count": 8,
   "id": "collective-malawi",
   "metadata": {},
   "outputs": [
    {
     "data": {
      "text/plain": [
       "MassKeyList('101', '102')"
      ]
     },
     "execution_count": 8,
     "metadata": {},
     "output_type": "execute_result"
    }
   ],
   "source": [
    "isopy.keylist('101', 102, 103).filter(key_le=102)"
   ]
  },
  {
   "cell_type": "markdown",
   "id": "coupled-sound",
   "metadata": {},
   "source": [
    "---\n",
    "You can filter isotope key lists based in the mass number or element symbol using ``mass_number_<filter>`` and ``element_symbol_<filter>``"
   ]
  },
  {
   "cell_type": "code",
   "execution_count": 112,
   "id": "changing-contrast",
   "metadata": {},
   "outputs": [
    {
     "data": {
      "text/plain": [
       "IsotopeKeyList('111Cd')"
      ]
     },
     "execution_count": 112,
     "metadata": {},
     "output_type": "execute_result"
    }
   ],
   "source": [
    "isopy.IsotopeKeyList('101ru', '105pd', '111cd').filter(mass_number_ge='105', element_symbol_eq=['rh', 'ag', 'cd'])"
   ]
  },
  {
   "cell_type": "markdown",
   "id": "stopped-explanation",
   "metadata": {},
   "source": [
    "---\n",
    "Ratio key lists can be filtered based on the numerator and denominator strings using ``numerator_<filter>`` and ``denominator_<filter>``. You can use any filter valid for the numerator/denominator key string flavour"
   ]
  },
  {
   "cell_type": "code",
   "execution_count": 27,
   "id": "female-costa",
   "metadata": {},
   "outputs": [
    {
     "data": {
      "text/plain": [
       "RatioKeyList('108Pd/105Pd', '108Cd/111Cd')"
      ]
     },
     "execution_count": 27,
     "metadata": {},
     "output_type": "execute_result"
    }
   ],
   "source": [
    "key = isopy.RatioKeyList('104Ru/101Ru', '108Pd/105pd', 'ag107/109ag', '108Cd/111Cd')\n",
    "key.filter(numerator_neq = '104ru', denominator_element_symbol_neq='ag')"
   ]
  }
 ],
 "metadata": {
  "kernelspec": {
   "display_name": "main",
   "language": "python",
   "name": "main"
  },
  "language_info": {
   "codemirror_mode": {
    "name": "ipython",
    "version": 3
   },
   "file_extension": ".py",
   "mimetype": "text/x-python",
   "name": "python",
   "nbconvert_exporter": "python",
   "pygments_lexer": "ipython3",
   "version": "3.9.2"
  }
 },
 "nbformat": 4,
 "nbformat_minor": 5
}
