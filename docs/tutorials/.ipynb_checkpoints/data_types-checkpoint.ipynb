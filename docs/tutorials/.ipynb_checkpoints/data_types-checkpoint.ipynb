{
 "cells": [
  {
   "cell_type": "markdown",
   "id": "strange-enough",
   "metadata": {},
   "source": [
    "# Getting familiar with "
   ]
  },
  {
   "cell_type": "code",
   "execution_count": 2,
   "id": "important-functionality",
   "metadata": {},
   "outputs": [],
   "source": [
    "import isopy\n",
    "import numpy as np"
   ]
  },
  {
   "cell_type": "markdown",
   "id": "nominated-notification",
   "metadata": {},
   "source": [
    "## Key Strings"
   ]
  },
  {
   "cell_type": "code",
   "execution_count": 9,
   "id": "separated-democracy",
   "metadata": {},
   "outputs": [],
   "source": [
    "masskey = isopy.keystring(105)"
   ]
  },
  {
   "cell_type": "code",
   "execution_count": 12,
   "id": "changed-chair",
   "metadata": {},
   "outputs": [
    {
     "data": {
      "text/plain": [
       "(False, True)"
      ]
     },
     "execution_count": 12,
     "metadata": {},
     "output_type": "execute_result"
    }
   ],
   "source": [
    "masskey > 106, masskey <= 106"
   ]
  },
  {
   "cell_type": "code",
   "execution_count": 8,
   "id": "improving-technical",
   "metadata": {},
   "outputs": [
    {
     "data": {
      "text/plain": [
       "RatioKeyString('108Pd/105Pd')"
      ]
     },
     "execution_count": 8,
     "metadata": {},
     "output_type": "execute_result"
    }
   ],
   "source": [
    "isopy.keystring('108pd') / 'pd105'"
   ]
  },
  {
   "cell_type": "code",
   "execution_count": 4,
   "id": "proper-mattress",
   "metadata": {},
   "outputs": [],
   "source": [
    "isokey = isopy.keystring('pd105')"
   ]
  },
  {
   "cell_type": "code",
   "execution_count": 5,
   "id": "anonymous-fleet",
   "metadata": {},
   "outputs": [
    {
     "data": {
      "text/plain": [
       "(ElementKeyString('Pd'), MassKeyString('105'))"
      ]
     },
     "execution_count": 5,
     "metadata": {},
     "output_type": "execute_result"
    }
   ],
   "source": [
    "isokey.element_symbol, isokey.mass_number"
   ]
  },
  {
   "cell_type": "code",
   "execution_count": 7,
   "id": "rough-release",
   "metadata": {},
   "outputs": [
    {
     "data": {
      "text/plain": [
       "(True, True)"
      ]
     },
     "execution_count": 7,
     "metadata": {},
     "output_type": "execute_result"
    }
   ],
   "source": [
    "'pd' in isokey, 105 in isokey"
   ]
  },
  {
   "cell_type": "markdown",
   "id": "danish-exposure",
   "metadata": {},
   "source": [
    "### Difference between ``keystring()`` and ``askeystring()``\n",
    "The difference between these two methods is that ``askeystring(string)`` will return *string* immediately if it is already an key string, whereas ``keystring(string)`` will attempt to parse *string* into each of the key string in turn, irregardless of the original type. This only affects ``GeneralKeyString``'s as these are the only key strings that can have the same value as any of the other flavours."
   ]
  },
  {
   "cell_type": "code",
   "execution_count": 21,
   "id": "fundamental-clinic",
   "metadata": {},
   "outputs": [],
   "source": [
    "keystring = isopy.GeneralKeyString('pd')"
   ]
  },
  {
   "cell_type": "code",
   "execution_count": 22,
   "id": "eligible-botswana",
   "metadata": {},
   "outputs": [
    {
     "data": {
      "text/plain": [
       "(ElementKeyString('Pd'), GeneralKeyString('pd'))"
      ]
     },
     "execution_count": 22,
     "metadata": {},
     "output_type": "execute_result"
    }
   ],
   "source": [
    "isopy.keystring(keystring), isopy.askeystring(keystring)"
   ]
  },
  {
   "cell_type": "markdown",
   "id": "horizontal-memorabilia",
   "metadata": {},
   "source": [
    "### **Note**\n",
    "Comparing two key strings always returns ``False`` even if they nominally have the same value:"
   ]
  },
  {
   "cell_type": "code",
   "execution_count": 14,
   "id": "mounted-rebel",
   "metadata": {},
   "outputs": [
    {
     "data": {
      "text/plain": [
       "False"
      ]
     },
     "execution_count": 14,
     "metadata": {},
     "output_type": "execute_result"
    }
   ],
   "source": [
    "isopy.ElementKeyString('Pd') == isopy.GeneralKeyString('Pd')"
   ]
  },
  {
   "cell_type": "markdown",
   "id": "humanitarian-exploration",
   "metadata": {},
   "source": [
    "In the same sprit comparing hashes will also always return False as isopy keys string have their own special hash implementation:"
   ]
  },
  {
   "cell_type": "code",
   "execution_count": 18,
   "id": "objective-whole",
   "metadata": {},
   "outputs": [
    {
     "data": {
      "text/plain": [
       "False"
      ]
     },
     "execution_count": 18,
     "metadata": {},
     "output_type": "execute_result"
    }
   ],
   "source": [
    "hash(isopy.keystring('Pd')) == hash('Pd') "
   ]
  },
  {
   "cell_type": "markdown",
   "id": "stopped-aluminum",
   "metadata": {},
   "source": [
    "## Key List's"
   ]
  },
  {
   "cell_type": "code",
   "execution_count": null,
   "id": "furnished-skating",
   "metadata": {},
   "outputs": [],
   "source": []
  },
  {
   "cell_type": "markdown",
   "id": "removed-anthony",
   "metadata": {},
   "source": [
    "## Isopy Array's"
   ]
  },
  {
   "cell_type": "code",
   "execution_count": null,
   "id": "cardiovascular-minister",
   "metadata": {},
   "outputs": [],
   "source": []
  }
 ],
 "metadata": {
  "kernelspec": {
   "display_name": "main",
   "language": "python",
   "name": "main"
  },
  "language_info": {
   "codemirror_mode": {
    "name": "ipython",
    "version": 3
   },
   "file_extension": ".py",
   "mimetype": "text/x-python",
   "name": "python",
   "nbconvert_exporter": "python",
   "pygments_lexer": "ipython3",
   "version": "3.9.2"
  }
 },
 "nbformat": 4,
 "nbformat_minor": 5
}
