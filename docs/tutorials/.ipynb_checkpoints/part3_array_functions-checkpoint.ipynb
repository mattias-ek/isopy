{
 "cells": [
  {
   "cell_type": "markdown",
   "id": "driving-union",
   "metadata": {},
   "source": [
    "# Tutorial Part 3: Array Functions\n",
    "An array function is simply a function that takes one or more arrays as input, performs a calculation on the input and return a new array with the result. Examples are functions that adds values from two arrays together or functions that calculates the mean of values in an array.\n",
    "\n",
    "Isopy arrays support a large number of numpy array functions, and universal functions, natively through the mechanisms provided by numpy. In addition isopy comes with its own set of array functions that to supplement or enhance those provided by numpy."
   ]
  },
  {
   "cell_type": "markdown",
   "id": "primary-marketplace",
   "metadata": {},
   "source": [
    "**Table of Content**\n",
    "\n",
    "* [Implementation](#Implementation)\n",
    "    * [Input Values](#Input-values)\n",
    "    * [Optional Arguments](#Optional-arguments)\n",
    "* [Array Functions](#Array-Functions)\n",
    "    * [Isopy](#Isopy)\n",
    "    * [arrayfunc](#arrayfunc)\n",
    "    * [Numpy](#Numpy)\n",
    "    * [Scipy](#Scipy)\n",
    "* [Examples](#Examples)"
   ]
  },
  {
   "cell_type": "code",
   "execution_count": 1,
   "id": "signed-target",
   "metadata": {},
   "outputs": [],
   "source": [
    "import isopy\n",
    "import numpy as np\n",
    "from scipy import stats"
   ]
  },
  {
   "cell_type": "markdown",
   "id": "played-protest",
   "metadata": {},
   "source": [
    "## Implementation\n",
    "This section briefly discusses the isopy implementation of array functions for different types of input."
   ]
  },
  {
   "cell_type": "markdown",
   "id": "australian-hardwood",
   "metadata": {},
   "source": [
    "### Input values\n",
    "The simplest case is a function that takes only one input and performs an operation on every value in the input. This work just as you would expect for isopy arrays.ample the numpy function ``log`` calculates the natural logarithm for every value in an array."
   ]
  },
  {
   "cell_type": "code",
   "execution_count": 6,
   "id": "considered-training",
   "metadata": {},
   "outputs": [
    {
     "data": {
      "text/plain": [
       "(row) , Ru     , Pd      , Cd     \n",
       "0     , 0      , 0.69315 , 1.0986 \n",
       "1     , 2.3979 , 2.4849  , 2.5649 "
      ]
     },
     "execution_count": 6,
     "metadata": {},
     "output_type": "execute_result"
    }
   ],
   "source": [
    "a = isopy.array(ru = [1, 11], pd=[2, 12], cd = [3,13])\n",
    "np.log(a)"
   ]
  },
  {
   "cell_type": "markdown",
   "id": "naval-yahoo",
   "metadata": {},
   "source": [
    "For functions that take an axis argument, ``axis=0`` will perform the operation on each column, ``axis=1`` will perform the operation on each row and ``axis=None`` will perform the operation on the entire array. If the axis argument is not given it will by default perform the operation on each column**\\*** "
   ]
  },
  {
   "cell_type": "code",
   "execution_count": 48,
   "id": "banned-quantity",
   "metadata": {},
   "outputs": [
    {
     "data": {
      "text/plain": [
       "(row) , Ru , Pd , Cd \n",
       "None  , 12 , 14 , 16 "
      ]
     },
     "execution_count": 48,
     "metadata": {},
     "output_type": "execute_result"
    }
   ],
   "source": [
    "np.sum(a) # Same as np.sum(a, axis=1)"
   ]
  },
  {
   "cell_type": "code",
   "execution_count": 22,
   "id": "raised-bidder",
   "metadata": {},
   "outputs": [
    {
     "data": {
      "text/plain": [
       "42.0"
      ]
     },
     "execution_count": 22,
     "metadata": {},
     "output_type": "execute_result"
    }
   ],
   "source": [
    "np.sum(a, axis=None) # Sums all the values in the array"
   ]
  },
  {
   "cell_type": "code",
   "execution_count": 23,
   "id": "miniature-madrid",
   "metadata": {},
   "outputs": [
    {
     "data": {
      "text/plain": [
       "array([ 6., 36.])"
      ]
     },
     "execution_count": 23,
     "metadata": {},
     "output_type": "execute_result"
    }
   ],
   "source": [
    "np.sum(a, axis = 1) # Sums the values in each row"
   ]
  },
  {
   "cell_type": "markdown",
   "id": "dress-sierra",
   "metadata": {},
   "source": [
    "**\\*** This is also true for numpy functions where the default value of ``axis`` is typically ``None``. If you want to perform the operation on the entire array you have to explicitly pass ``axis=None`` when calling the function."
   ]
  },
  {
   "cell_type": "markdown",
   "id": "complicated-oxford",
   "metadata": {},
   "source": [
    "---\n",
    "If the input includes two or more isopy arrays then the returned array will contain all the columns found in all arrays. The operation is then performed on each column in turn. By default ``np.nan`` will be used to represent missing columns in arrays. In most instances this means that the result for that column also becomes ``np.nan``."
   ]
  },
  {
   "cell_type": "code",
   "execution_count": 26,
   "id": "respected-think",
   "metadata": {},
   "outputs": [
    {
     "data": {
      "text/plain": [
       "(row) , Ru , Pd , Cd  , Rh  \n",
       "0     , 2  , 4  , nan , nan \n",
       "1     , 22 , 24 , nan , nan "
      ]
     },
     "execution_count": 26,
     "metadata": {},
     "output_type": "execute_result"
    }
   ],
   "source": [
    "a1 = isopy.array(ru = [1, 11], pd=[2, 12], cd = [3,13])\n",
    "a2 = isopy.array(ru = [1, 11], rh = [1.5, 11.5], pd=[2, 12])\n",
    "a1 + a2 # same as np.add(a1, a2)"
   ]
  },
  {
   "cell_type": "markdown",
   "id": "naughty-tuner",
   "metadata": {},
   "source": [
    "Generally, the the number of rows in the different arrays must be the same or 1. If one array has a size of 1 then that value used for every row value in larger arrays."
   ]
  },
  {
   "cell_type": "code",
   "execution_count": 27,
   "id": "chemical-check",
   "metadata": {},
   "outputs": [
    {
     "data": {
      "text/plain": [
       "(row) , Ru  , Pd  , Cd  \n",
       "0     , 101 , 202 , 303 \n",
       "1     , 111 , 212 , 313 "
      ]
     },
     "execution_count": 27,
     "metadata": {},
     "output_type": "execute_result"
    }
   ],
   "source": [
    "a3 = isopy.array(ru = 100, pd=200, cd = 300)\n",
    "a1 + a3"
   ]
  },
  {
   "cell_type": "markdown",
   "id": "subsequent-monaco",
   "metadata": {},
   "source": [
    "**Note** It is possible to change the default value used for missing columns using the [arrayfunc](#arrayfunc) function or in this case the [isopy ``add()``](#Isopy) function."
   ]
  },
  {
   "cell_type": "markdown",
   "id": "neither-runner",
   "metadata": {},
   "source": [
    "---\n",
    "If the input is a mixture of isopy arrays and scalar values then the scalar values are used to compute the result of every column in the array. Generally, the scalar value(s) must therefore have a size of 1 or be of the same size as the number of rows in the array."
   ]
  },
  {
   "cell_type": "code",
   "execution_count": 18,
   "id": "bored-freedom",
   "metadata": {},
   "outputs": [
    {
     "data": {
      "text/plain": [
       "(row) , Ru , Pd , Cd \n",
       "0     , 2  , 3  , 4  \n",
       "1     , 12 , 13 , 14 "
      ]
     },
     "execution_count": 18,
     "metadata": {},
     "output_type": "execute_result"
    }
   ],
   "source": [
    "a = isopy.array(ru = [1, 11], pd=[2, 12], cd = [3,13])\n",
    "a + 1 # 1 is added to each column"
   ]
  },
  {
   "cell_type": "code",
   "execution_count": 19,
   "id": "internal-spiritual",
   "metadata": {},
   "outputs": [
    {
     "data": {
      "text/plain": [
       "(row) , Ru , Pd , Cd \n",
       "0     , 2  , 3  , 4  \n",
       "1     , 21 , 22 , 23 "
      ]
     },
     "execution_count": 19,
     "metadata": {},
     "output_type": "execute_result"
    }
   ],
   "source": [
    "a + [1, 10] # 1 is added to the first row, 10 is added to the second"
   ]
  },
  {
   "cell_type": "markdown",
   "id": "bottom-chance",
   "metadata": {},
   "source": [
    "---\n",
    "Dictionaries behave like an isopy array when used in combination with isopy arrays. However, only columns in the isopy array will be included in the output array. Thus dictionaries are useful for storing reference values and standard data. The most of the reference values included with isopy are all dictionaries for this reason.\n",
    "\n",
    "The array function implementation will automatically convert a python dictionary to a ``IsopyDict`` so the keys in the dictionary do not have to be key strings."
   ]
  },
  {
   "cell_type": "code",
   "execution_count": 31,
   "id": "accessible-hampton",
   "metadata": {},
   "outputs": [
    {
     "data": {
      "text/plain": [
       "(row) , Ru  , Pd  , Cd  \n",
       "0     , 101 , 202 , 303 \n",
       "1     , 111 , 212 , 313 "
      ]
     },
     "execution_count": 31,
     "metadata": {},
     "output_type": "execute_result"
    }
   ],
   "source": [
    "a = isopy.array(ru = [1, 11], pd=[2, 12], cd = [3,13])\n",
    "d = dict(ru = 100, rh=150, pd=200, ag=250, cd=300)\n",
    "a + d"
   ]
  },
  {
   "cell_type": "markdown",
   "id": "junior-stranger",
   "metadata": {},
   "source": [
    "If the dictionary is a ``ScalarDict`` and a ratio key string is not present in the dictionary the value is automatically calculated if both the numerator and denominator key strings are present in the dictionary."
   ]
  },
  {
   "cell_type": "code",
   "execution_count": 35,
   "id": "unexpected-marriage",
   "metadata": {},
   "outputs": [
    {
     "data": {
      "text/plain": [
       "(row) , Ru/Pd  , Cd/Pd  \n",
       "0     , 1      , 3      \n",
       "1     , 1.4167 , 2.5833 "
      ]
     },
     "execution_count": 35,
     "metadata": {},
     "output_type": "execute_result"
    }
   ],
   "source": [
    "a = isopy.array(ru = [1, 11], pd=[2, 12], cd = [3,13]).ratio('pd')\n",
    "d = isopy.ScalarDict(ru = 100, rh=150, pd=200, ag=250, cd=300)\n",
    "a + d"
   ]
  },
  {
   "cell_type": "markdown",
   "id": "external-facing",
   "metadata": {},
   "source": [
    "### Optional arguments\n",
    "Many array functions have optional arguments and most of these are compatible with the isopy implementation of array functions **\\***. Optional arguments are defined as arguments that have a default value. Optional arguments that are isopy arrays pass only the value of the column that is being operated on. All other optional arguments are passed to every column operation. Isopy arrays that are given as optional arguments function like a dictionary and therefore do not do not alter the columns of the result.\n",
    "\n",
    "For example the optional argument ``where`` is found in many array functions to only included certain indexes in calculations. Passing a simple boolean array means this array will be applied to every column."
   ]
  },
  {
   "cell_type": "code",
   "execution_count": 4,
   "id": "dependent-webster",
   "metadata": {},
   "outputs": [
    {
     "data": {
      "text/plain": [
       "(row) , Ru , Pd , Cd \n",
       "None  , 1  , 2  , 3  "
      ]
     },
     "execution_count": 4,
     "metadata": {},
     "output_type": "execute_result"
    }
   ],
   "source": [
    "a = isopy.array(ru = [1, 11], pd=[2, 12], cd = [3,13])\n",
    "np.sum(a, where = [True, False]) #Only sums values in the first row"
   ]
  },
  {
   "cell_type": "markdown",
   "id": "authorized-queue",
   "metadata": {},
   "source": [
    "Passing a boolean isopy array means we can specify ``where`` for different columns. assign arrays with column not in the input will not affect the output."
   ]
  },
  {
   "cell_type": "code",
   "execution_count": 5,
   "id": "lovely-immigration",
   "metadata": {},
   "outputs": [
    {
     "data": {
      "text/plain": [
       "(row) , Ru , Pd , Cd \n",
       "None  , 1  , 12 , 16 "
      ]
     },
     "execution_count": 5,
     "metadata": {},
     "output_type": "execute_result"
    }
   ],
   "source": [
    "w = isopy.array(ru = [True, False], pd=[False, True], cd = [True,True], te = [True, True], dtype = bool)\n",
    "np.sum(a, where=w) #Te column is not included in the result as it is an optional argument"
   ]
  },
  {
   "cell_type": "markdown",
   "id": "infrared-formation",
   "metadata": {},
   "source": [
    "**\\*** Optional arguments known not work, or with undefined behavior, with the isopy array function implementation are ``axes``, ``subok``, ``signature``, ``extobj``, ``order`` and ``casting``."
   ]
  },
  {
   "cell_type": "markdown",
   "id": "expensive-century",
   "metadata": {},
   "source": [
    "## Array Functions\n",
    "### Isopy\n",
    "There are two categories of numpy array functions. There are the general array function that are included under the ``isopy`` name space and the specialized functions from the isopy toolbox that are found under the ``isopy.tb`` name space. The general array functions are introduced below and a more detailed description can be found [here](https://isopy.readthedocs.io/en/latest/refpages/array_functions.html). The toolbox functions are described [here](https://isopy.readthedocs.io/en/latest/refpages/toolbox.html)."
   ]
  },
  {
   "cell_type": "markdown",
   "id": "massive-sustainability",
   "metadata": {},
   "source": [
    "Isopy arrays support the ``+``, ``-``, ``*``, ``/`` and ``**`` operators. ``np.nan`` is used to represent the value(s) of a absent columns."
   ]
  },
  {
   "cell_type": "code",
   "execution_count": 8,
   "id": "cooked-barrier",
   "metadata": {},
   "outputs": [
    {
     "data": {
      "text/plain": [
       "(row) , Ru , Pd , Cd , Rh  , Ag  \n",
       "0     , 2  , 4  , 6  , nan , nan \n",
       "1     , 12 , 14 , 16 , nan , nan "
      ]
     },
     "execution_count": 8,
     "metadata": {},
     "output_type": "execute_result"
    }
   ],
   "source": [
    "a1 = isopy.array(ru = [1, 11], pd = [2, 12], cd = [3,13])\n",
    "a2 = isopy.array(ru = 1, rh = 1.5, pd = 2, ag = 2.5, cd = 3)\n",
    "a1 + a2"
   ]
  },
  {
   "cell_type": "code",
   "execution_count": 9,
   "id": "demographic-carol",
   "metadata": {},
   "outputs": [
    {
     "data": {
      "text/plain": [
       "(row) , Ru , Pd , Cd     , Rh  , Ag  \n",
       "0     , 1  , 1  , 1      , nan , nan \n",
       "1     , 11 , 6  , 4.3333 , nan , nan "
      ]
     },
     "execution_count": 9,
     "metadata": {},
     "output_type": "execute_result"
    }
   ],
   "source": [
    "a1 / a2"
   ]
  },
  {
   "cell_type": "markdown",
   "id": "eleven-thesaurus",
   "metadata": {},
   "source": [
    "You can also call the functions directly which allows you to specify the default value(s) used for missing columns."
   ]
  },
  {
   "cell_type": "code",
   "execution_count": 11,
   "id": "joint-brisbane",
   "metadata": {},
   "outputs": [
    {
     "data": {
      "text/plain": [
       "(row) , Ru , Pd , Cd , Rh  , Ag  \n",
       "0     , 2  , 4  , 6  , 1.5 , 2.5 \n",
       "1     , 12 , 14 , 16 , 1.5 , 2.5 "
      ]
     },
     "execution_count": 11,
     "metadata": {},
     "output_type": "execute_result"
    }
   ],
   "source": [
    "isopy.add(a1, a2, default_value=0)"
   ]
  },
  {
   "cell_type": "markdown",
   "id": "advisory-tribe",
   "metadata": {},
   "source": [
    "You can also specify the keys on which the operation should be performed. You even specify columns that does not occur in any of the input."
   ]
  },
  {
   "cell_type": "code",
   "execution_count": 15,
   "id": "antique-administration",
   "metadata": {},
   "outputs": [
    {
     "data": {
      "text/plain": [
       "(row) , Pd , Ag  , Cd     , Te  \n",
       "0     , 1  , nan , 1      , nan \n",
       "1     , 6  , nan , 4.3333 , nan "
      ]
     },
     "execution_count": 15,
     "metadata": {},
     "output_type": "execute_result"
    }
   ],
   "source": [
    "isopy.divide(a1, a2, keys=['pd', 'ag', 'cd', 'te']) #The result will contain only the columns specified"
   ]
  },
  {
   "cell_type": "markdown",
   "id": "stupid-marsh",
   "metadata": {},
   "source": [
    "---\n",
    "You can join together multiple array using the ``concatenate`` function. By default the rows are appended"
   ]
  },
  {
   "cell_type": "code",
   "execution_count": 16,
   "id": "casual-cleaners",
   "metadata": {},
   "outputs": [
    {
     "data": {
      "text/plain": [
       "(row) , Ru , Pd , Cd , Rh  , Ag  \n",
       "0     , 1  , 2  , 3  , nan , nan \n",
       "1     , 11 , 12 , 13 , nan , nan \n",
       "2     , 1  , 2  , 3  , 1.5 , 2.5 "
      ]
     },
     "execution_count": 16,
     "metadata": {},
     "output_type": "execute_result"
    }
   ],
   "source": [
    "a1 = isopy.array(ru = [1, 11], pd = [2, 12], cd = [3,13])\n",
    "a2 = isopy.array(ru = 1, rh = 1.5, pd = 2, ag = 2.5, cd = 3)\n",
    "isopy.concatenate(a1, a2)"
   ]
  },
  {
   "cell_type": "markdown",
   "id": "former-johnston",
   "metadata": {},
   "source": [
    "You can specify the value(s) used for missing columns"
   ]
  },
  {
   "cell_type": "code",
   "execution_count": 17,
   "id": "monetary-mirror",
   "metadata": {},
   "outputs": [
    {
     "data": {
      "text/plain": [
       "(row) , Ru , Pd , Cd , Rh  , Ag  \n",
       "0     , 1  , 2  , 3  , 0   , 0   \n",
       "1     , 11 , 12 , 13 , 0   , 0   \n",
       "2     , 1  , 2  , 3  , 1.5 , 2.5 "
      ]
     },
     "execution_count": 17,
     "metadata": {},
     "output_type": "execute_result"
    }
   ],
   "source": [
    "isopy.concatenate(a1, a2, default_value=0)"
   ]
  },
  {
   "cell_type": "markdown",
   "id": "under-entertainment",
   "metadata": {},
   "source": [
    "If you wish to append a column to an array set the pass ``axis=1``"
   ]
  },
  {
   "cell_type": "code",
   "execution_count": 20,
   "id": "accredited-component",
   "metadata": {},
   "outputs": [
    {
     "data": {
      "text/plain": [
       "(row) , Ru , Pd , Cd , Rh   , Ag   \n",
       "0     , 1  , 2  , 3  , 1.5  , 2.5  \n",
       "1     , 11 , 12 , 13 , 11.5 , 12.5 "
      ]
     },
     "execution_count": 20,
     "metadata": {},
     "output_type": "execute_result"
    }
   ],
   "source": [
    "a3 = isopy.array(rh=[1.5, 11.5], ag=[2.5, 12.5])\n",
    "isopy.concatenate(a1, a3, axis=1)"
   ]
  },
  {
   "cell_type": "markdown",
   "id": "apparent-situation",
   "metadata": {},
   "source": [
    "---\n",
    "Isopy comes with array functions for calculating the standard deviation, standard error and the median absolute deviation. All these functions assume 1 degree of freedom."
   ]
  },
  {
   "cell_type": "code",
   "execution_count": 11,
   "id": "specific-eligibility",
   "metadata": {},
   "outputs": [
    {
     "data": {
      "text/plain": [
       "(row) , Ru      , Pd    , Cd     \n",
       "None  , 0.10624 , 1.022 , 9.3383 "
      ]
     },
     "execution_count": 11,
     "metadata": {},
     "output_type": "execute_result"
    }
   ],
   "source": [
    "a = isopy.random(100, [(0, 0.1), (1, 1), (10, 10)], ['ru', 'pd', 'cd'])\n",
    "isopy.sd(a) # Standard deviation"
   ]
  },
  {
   "cell_type": "code",
   "execution_count": 6,
   "id": "becoming-basketball",
   "metadata": {},
   "outputs": [
    {
     "data": {
      "text/plain": [
       "(row) , Ru       , Pd      , Cd     \n",
       "None  , 0.010171 , 0.10453 , 0.9686 "
      ]
     },
     "execution_count": 6,
     "metadata": {},
     "output_type": "execute_result"
    }
   ],
   "source": [
    "isopy.se(a) # Standard error"
   ]
  },
  {
   "cell_type": "code",
   "execution_count": 7,
   "id": "funded-developer",
   "metadata": {},
   "outputs": [
    {
     "data": {
      "text/plain": [
       "(row) , Ru       , Pd      , Cd     \n",
       "None  , 0.093511 , 0.98411 , 10.553 "
      ]
     },
     "execution_count": 7,
     "metadata": {},
     "output_type": "execute_result"
    }
   ],
   "source": [
    "isopy.mad(a) # Median absolute deviation"
   ]
  },
  {
   "cell_type": "markdown",
   "id": "destroyed-mapping",
   "metadata": {},
   "source": [
    "These functions work just like numpy arrays and will thus work on any array, not just isopy arrays."
   ]
  },
  {
   "cell_type": "code",
   "execution_count": 8,
   "id": "editorial-token",
   "metadata": {},
   "outputs": [
    {
     "data": {
      "text/plain": [
       "29.011491975882016"
      ]
     },
     "execution_count": 8,
     "metadata": {},
     "output_type": "execute_result"
    }
   ],
   "source": [
    "isopy.sd([i for i in range(100)])"
   ]
  },
  {
   "cell_type": "markdown",
   "id": "outside-spanking",
   "metadata": {},
   "source": [
    "Versions that ignore, rather than propagate, ``nan`` values are named ``nansd()``, ``nanse()`` and ``nanmad()``. "
   ]
  },
  {
   "cell_type": "markdown",
   "id": "radio-quality",
   "metadata": {},
   "source": [
    "You can specify the multiplier of the returned value using the ``level`` argument. Values below 1 are interpreted as a percentage point."
   ]
  },
  {
   "cell_type": "code",
   "execution_count": 12,
   "id": "third-sample",
   "metadata": {},
   "outputs": [
    {
     "data": {
      "text/plain": [
       "(row) , Ru      , Pd    , Cd     \n",
       "None  , 0.21248 , 2.044 , 18.677 "
      ]
     },
     "execution_count": 12,
     "metadata": {},
     "output_type": "execute_result"
    }
   ],
   "source": [
    "isopy.sd(a, level=2) # 2 standard deviations or ~ 96 % confidence level"
   ]
  },
  {
   "cell_type": "code",
   "execution_count": 13,
   "id": "tight-scotland",
   "metadata": {},
   "outputs": [
    {
     "data": {
      "text/plain": [
       "(row) , Ru      , Pd     , Cd     \n",
       "None  , 0.20823 , 2.0031 , 18.303 "
      ]
     },
     "execution_count": 13,
     "metadata": {},
     "output_type": "execute_result"
    }
   ],
   "source": [
    "isopy.sd(a, level=0.95) # 95 % confidence level or ~ 1.96 standard deviations"
   ]
  },
  {
   "cell_type": "markdown",
   "id": "perfect-miller",
   "metadata": {},
   "source": [
    "Versions with predefined levels of 2, 3, 4, 5 and 0.95 exist for each of these functions. For ``sd`` these are called ``sd2``, ``sd3``, ``sd4``, ``sd5``, and ``sd95``. The naming scheme is the same for the other functions."
   ]
  },
  {
   "cell_type": "code",
   "execution_count": 32,
   "id": "northern-clothing",
   "metadata": {},
   "outputs": [
    {
     "data": {
      "text/plain": [
       "(row) , Ru      , Pd     , Cd     \n",
       "None  , 0.21837 , 2.0544 , 21.229 "
      ]
     },
     "execution_count": 32,
     "metadata": {},
     "output_type": "execute_result"
    }
   ],
   "source": [
    "isopy.sd2(a)"
   ]
  },
  {
   "cell_type": "markdown",
   "id": "integrated-footwear",
   "metadata": {},
   "source": [
    "---\n",
    "``keymax`` and ``keymin`` can be used to find the column with the maximum and minimum value in an array. By default this is based on the median value in each column but you can specify a function to evaluate columns as the second argument"
   ]
  },
  {
   "cell_type": "code",
   "execution_count": 37,
   "id": "polish-ensemble",
   "metadata": {},
   "outputs": [
    {
     "data": {
      "text/plain": [
       "ElementKeyString('Cd')"
      ]
     },
     "execution_count": 37,
     "metadata": {},
     "output_type": "execute_result"
    }
   ],
   "source": [
    "a = isopy.array(ru = [1, 11, 111], pd = [2, 12, 22], cd = [3, 13, 23])\n",
    "isopy.keymax(a) # Based on the median value of each column"
   ]
  },
  {
   "cell_type": "code",
   "execution_count": 36,
   "id": "independent-crash",
   "metadata": {},
   "outputs": [
    {
     "data": {
      "text/plain": [
       "ElementKeyString('Ru')"
      ]
     },
     "execution_count": 36,
     "metadata": {},
     "output_type": "execute_result"
    }
   ],
   "source": [
    "isopy.keymax(a, np.mean) # Based on the mean value of each column"
   ]
  },
  {
   "cell_type": "markdown",
   "id": "incredible-convertible",
   "metadata": {},
   "source": [
    "### arrayfunc\n",
    "The [``arrayfunc`` function](#) **LINK MISSING** allows you to run array functions on isopy arrays that are not supported by isopy. For example, we can use this function to call the ``scipy.stats`` function ``sem`` to calculate the standard error of an isopy array."
   ]
  },
  {
   "cell_type": "code",
   "execution_count": 9,
   "id": "offshore-election",
   "metadata": {},
   "outputs": [
    {
     "data": {
      "text/plain": [
       "(row) , Ru        , Pd      , Cd      \n",
       "None  , 0.0086625 , 0.10031 , 0.99548 "
      ]
     },
     "execution_count": 9,
     "metadata": {},
     "output_type": "execute_result"
    }
   ],
   "source": [
    "a = isopy.random(100, [(0, 0.1), (1, 1), (10, 10)], ['ru', 'pd', 'cd'])\n",
    "isopy.arrayfunc(stats.sem, a)"
   ]
  },
  {
   "cell_type": "markdown",
   "id": "outdoor-speaker",
   "metadata": {},
   "source": [
    "You can specify the default value for missing columns and the keys on which the function should be called."
   ]
  },
  {
   "cell_type": "code",
   "execution_count": 10,
   "id": "alive-universe",
   "metadata": {},
   "outputs": [
    {
     "data": {
      "text/plain": [
       "(row) , Ru , Pd , Cd , Rh  , Ag  \n",
       "0     , 2  , 4  , 6  , 1.5 , 2.5 \n",
       "1     , 12 , 14 , 16 , 1.5 , 2.5 "
      ]
     },
     "execution_count": 10,
     "metadata": {},
     "output_type": "execute_result"
    }
   ],
   "source": [
    "a1 = isopy.array(ru = [1, 11], pd = [2, 12], cd = [3,13])\n",
    "a2 = isopy.array(ru = 1, rh = 1.5, pd = 2, ag = 2.5, cd = 3)\n",
    "isopy.arrayfunc(np.add, a1, a2, default_value = 0)"
   ]
  },
  {
   "cell_type": "code",
   "execution_count": 11,
   "id": "greenhouse-brand",
   "metadata": {},
   "outputs": [
    {
     "data": {
      "text/plain": [
       "(row) , Pd      , Ag  , Cd     \n",
       "None  , 0.10156 , nan , 0.8771 "
      ]
     },
     "execution_count": 11,
     "metadata": {},
     "output_type": "execute_result"
    }
   ],
   "source": [
    "a = isopy.random(100, [(0, 0.1), (1, 1), (10, 10)], ['ru', 'pd', 'cd'])\n",
    "isopy.arrayfunc(stats.sem, a, keys=['pd', 'ag', 'cd'])"
   ]
  },
  {
   "cell_type": "markdown",
   "id": "unable-navigator",
   "metadata": {},
   "source": [
    "### Numpy\n",
    "Isopy arrays support a range of numpy array functions. You can use the ``allowed_numpy_functions`` to return a list of the allowed functions"
   ]
  },
  {
   "cell_type": "code",
   "execution_count": 3,
   "id": "verified-reputation",
   "metadata": {},
   "outputs": [
    {
     "data": {
      "text/markdown": [
       "[concatenate](https://numpy.org/doc/stable/reference/generated/numpy.concatenate.html), [sin](https://numpy.org/doc/stable/reference/generated/numpy.sin.html), [cos](https://numpy.org/doc/stable/reference/generated/numpy.cos.html), [tan](https://numpy.org/doc/stable/reference/generated/numpy.tan.html), [arcsin](https://numpy.org/doc/stable/reference/generated/numpy.arcsin.html), [arccos](https://numpy.org/doc/stable/reference/generated/numpy.arccos.html), [arctan](https://numpy.org/doc/stable/reference/generated/numpy.arctan.html), [degrees](https://numpy.org/doc/stable/reference/generated/numpy.degrees.html), [isnan](https://numpy.org/doc/stable/reference/generated/numpy.isnan.html), [radians](https://numpy.org/doc/stable/reference/generated/numpy.radians.html), [deg2rad](https://numpy.org/doc/stable/reference/generated/numpy.deg2rad.html), [rad2deg](https://numpy.org/doc/stable/reference/generated/numpy.rad2deg.html), [sinh](https://numpy.org/doc/stable/reference/generated/numpy.sinh.html), [cosh](https://numpy.org/doc/stable/reference/generated/numpy.cosh.html), [tanh](https://numpy.org/doc/stable/reference/generated/numpy.tanh.html), [arcsinh](https://numpy.org/doc/stable/reference/generated/numpy.arcsinh.html), [arccosh](https://numpy.org/doc/stable/reference/generated/numpy.arccosh.html), [arctanh](https://numpy.org/doc/stable/reference/generated/numpy.arctanh.html), [rint](https://numpy.org/doc/stable/reference/generated/numpy.rint.html), [floor](https://numpy.org/doc/stable/reference/generated/numpy.floor.html), [ceil](https://numpy.org/doc/stable/reference/generated/numpy.ceil.html), [trunc](https://numpy.org/doc/stable/reference/generated/numpy.trunc.html), [exp](https://numpy.org/doc/stable/reference/generated/numpy.exp.html), [expm1](https://numpy.org/doc/stable/reference/generated/numpy.expm1.html), [exp2](https://numpy.org/doc/stable/reference/generated/numpy.exp2.html), [log](https://numpy.org/doc/stable/reference/generated/numpy.log.html), [log10](https://numpy.org/doc/stable/reference/generated/numpy.log10.html), [log2](https://numpy.org/doc/stable/reference/generated/numpy.log2.html), [log1p](https://numpy.org/doc/stable/reference/generated/numpy.log1p.html), [reciprocal](https://numpy.org/doc/stable/reference/generated/numpy.reciprocal.html), [positive](https://numpy.org/doc/stable/reference/generated/numpy.positive.html), [negative](https://numpy.org/doc/stable/reference/generated/numpy.negative.html), [sqrt](https://numpy.org/doc/stable/reference/generated/numpy.sqrt.html), [cbrt](https://numpy.org/doc/stable/reference/generated/numpy.cbrt.html), [square](https://numpy.org/doc/stable/reference/generated/numpy.square.html), [fabs](https://numpy.org/doc/stable/reference/generated/numpy.fabs.html), [sign](https://numpy.org/doc/stable/reference/generated/numpy.sign.html), [absolute](https://numpy.org/doc/stable/reference/generated/numpy.absolute.html), [prod](https://numpy.org/doc/stable/reference/generated/numpy.prod.html), [sum](https://numpy.org/doc/stable/reference/generated/numpy.sum.html), [nanprod](https://numpy.org/doc/stable/reference/generated/numpy.nanprod.html), [nansum](https://numpy.org/doc/stable/reference/generated/numpy.nansum.html), [cumprod](https://numpy.org/doc/stable/reference/generated/numpy.cumprod.html), [cumsum](https://numpy.org/doc/stable/reference/generated/numpy.cumsum.html), [nancumprod](https://numpy.org/doc/stable/reference/generated/numpy.nancumprod.html), [nancumsum](https://numpy.org/doc/stable/reference/generated/numpy.nancumsum.html), [amin](https://numpy.org/doc/stable/reference/generated/numpy.amin.html), [amax](https://numpy.org/doc/stable/reference/generated/numpy.amax.html), [nanmin](https://numpy.org/doc/stable/reference/generated/numpy.nanmin.html), [nanmax](https://numpy.org/doc/stable/reference/generated/numpy.nanmax.html), [ptp](https://numpy.org/doc/stable/reference/generated/numpy.ptp.html), [median](https://numpy.org/doc/stable/reference/generated/numpy.median.html), [average](https://numpy.org/doc/stable/reference/generated/numpy.average.html), [mean](https://numpy.org/doc/stable/reference/generated/numpy.mean.html), [std](https://numpy.org/doc/stable/reference/generated/numpy.std.html), [var](https://numpy.org/doc/stable/reference/generated/numpy.var.html), [nanmedian](https://numpy.org/doc/stable/reference/generated/numpy.nanmedian.html), [nanmean](https://numpy.org/doc/stable/reference/generated/numpy.nanmean.html), [nanstd](https://numpy.org/doc/stable/reference/generated/numpy.nanstd.html), [nanvar](https://numpy.org/doc/stable/reference/generated/numpy.nanvar.html), [add](https://numpy.org/doc/stable/reference/generated/numpy.add.html), [subtract](https://numpy.org/doc/stable/reference/generated/numpy.subtract.html), [true_divide](https://numpy.org/doc/stable/reference/generated/numpy.true_divide.html), [multiply](https://numpy.org/doc/stable/reference/generated/numpy.multiply.html), [power](https://numpy.org/doc/stable/reference/generated/numpy.power.html)"
      ],
      "text/plain": [
       "<IPython.core.display.Markdown object>"
      ]
     },
     "execution_count": 3,
     "metadata": {},
     "output_type": "execute_result"
    }
   ],
   "source": [
    "from IPython.display import Markdown\n",
    "Markdown(isopy.allowed_numpy_functions('markdown')) # Give us hyper links"
   ]
  },
  {
   "cell_type": "markdown",
   "id": "attractive-nudist",
   "metadata": {},
   "source": [
    "Attempting to use a function not included in this list will give a warning and in most instances raise an exception. It is still possible to use functions that are not supported by isopy by using the [``arrayfunc`` function](#arrayfunc)."
   ]
  },
  {
   "cell_type": "markdown",
   "id": "another-power",
   "metadata": {},
   "source": [
    "### Scipy\n",
    "Scipy functions are unfortunately not supported by isopy arrays at the moment. To run scipy functions on isopy arrays use the [``arrayfunc`` function](#arrayfunc)."
   ]
  }
 ],
 "metadata": {
  "kernelspec": {
   "display_name": "main",
   "language": "python",
   "name": "main"
  },
  "language_info": {
   "codemirror_mode": {
    "name": "ipython",
    "version": 3
   },
   "file_extension": ".py",
   "mimetype": "text/x-python",
   "name": "python",
   "nbconvert_exporter": "python",
   "pygments_lexer": "ipython3",
   "version": "3.9.2"
  }
 },
 "nbformat": 4,
 "nbformat_minor": 5
}
