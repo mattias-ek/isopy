{
 "cells": [
  {
   "cell_type": "markdown",
   "id": "original-circular",
   "metadata": {},
   "source": [
    "# Array functions"
   ]
  },
  {
   "cell_type": "code",
   "execution_count": 2,
   "id": "underlying-family",
   "metadata": {},
   "outputs": [],
   "source": [
    "import isopy\n",
    "import numpy as np\n",
    "import scipy.stats\n",
    "import matplotlib.pyplot as plt"
   ]
  },
  {
   "cell_type": "code",
   "execution_count": 33,
   "id": "exclusive-offset",
   "metadata": {},
   "outputs": [
    {
     "data": {
      "text/plain": [
       "(row) , Ru       , Pd      , Cd        \n",
       "0     , -0.99121 , 1.03848 , -10.71260 \n",
       "1     , 0.93820  , 1.12808 , 33.88074  \n",
       "2     , -0.22853 , 1.06643 , 2.65216   \n",
       "3     , -0.05776 , 1.03931 , -7.55531  \n",
       "4     , -0.58707 , 1.03019 , 0.06148   \n",
       "...   , ...      , ...     , ...       \n",
       "95    , 0.51169  , 1.10513 , 17.36456  \n",
       "96    , 0.21135  , 1.04240 , -8.05624  \n",
       "97    , -0.79133 , 1.08202 , -13.74861 \n",
       "98    , 1.07542  , 0.86911 , -5.70063  \n",
       "99    , 1.20108  , 0.78890 , -12.57918 "
      ]
     },
     "execution_count": 33,
     "metadata": {},
     "output_type": "execute_result"
    }
   ],
   "source": [
    "array = isopy.random(100, [(0, 1), (1, 0.1), (-1, 10)], keys=('ru', 'pd', 'cd'))\n",
    "array"
   ]
  },
  {
   "cell_type": "code",
   "execution_count": 34,
   "id": "satisfied-traffic",
   "metadata": {},
   "outputs": [
    {
     "data": {
      "text/plain": [
       "(row) , Ru      , Pd      , Cd       \n",
       "None  , 0.00008 , 1.00373 , -0.10169 "
      ]
     },
     "execution_count": 34,
     "metadata": {},
     "output_type": "execute_result"
    }
   ],
   "source": [
    "np.mean(array)"
   ]
  },
  {
   "cell_type": "code",
   "execution_count": 35,
   "id": "capital-obligation",
   "metadata": {},
   "outputs": [
    {
     "data": {
      "text/plain": [
       "(row) , Ru      , Pd      , Cd       \n",
       "None  , 0.86765 , 0.09708 , 10.36754 "
      ]
     },
     "execution_count": 35,
     "metadata": {},
     "output_type": "execute_result"
    }
   ],
   "source": [
    "isopy.sd(array)"
   ]
  },
  {
   "cell_type": "code",
   "execution_count": null,
   "id": "multiple-xerox",
   "metadata": {},
   "outputs": [],
   "source": []
  },
  {
   "cell_type": "code",
   "execution_count": 41,
   "id": "institutional-scanning",
   "metadata": {},
   "outputs": [
    {
     "data": {
      "text/plain": [
       "(row) , Ru      , Cd      \n",
       "None  , 0.90836 , 0.89753 "
      ]
     },
     "execution_count": 41,
     "metadata": {},
     "output_type": "execute_result"
    }
   ],
   "source": [
    "array = isopy.random(100, keys=('ru', 'pd', 'cd'))\n",
    "isopy.arrfunc(np.std, array, keys=('ru', 'cd'))"
   ]
  },
  {
   "cell_type": "code",
   "execution_count": 42,
   "id": "swiss-studio",
   "metadata": {},
   "outputs": [
    {
     "data": {
      "text/plain": [
       "(row) , Ru      , Pd      , Cd      \n",
       "None  , 0.09129 , 0.09430 , 0.09021 "
      ]
     },
     "execution_count": 42,
     "metadata": {},
     "output_type": "execute_result"
    }
   ],
   "source": [
    "isopy.arrfunc(scipy.stats.sem, array) #Scipy functions cant be called on isopy arrays"
   ]
  },
  {
   "cell_type": "code",
   "execution_count": 2,
   "id": "considered-empire",
   "metadata": {},
   "outputs": [],
   "source": [
    "## Numpy array functions"
   ]
  },
  {
   "cell_type": "code",
   "execution_count": 2,
   "id": "joint-macedonia",
   "metadata": {},
   "outputs": [],
   "source": [
    "array1 = isopy.array(ru=1, pd=1, cd=1)\n",
    "array2 = isopy.array(ru=0.5, pd=1.5, ag=2)"
   ]
  },
  {
   "cell_type": "code",
   "execution_count": 12,
   "id": "forward-electron",
   "metadata": {},
   "outputs": [
    {
     "data": {
      "text/plain": [
       "(row) , Ru      , Pd      , Cd  , Ag  \n",
       "None  , 1.50000 , 2.50000 , nan , nan "
      ]
     },
     "execution_count": 12,
     "metadata": {},
     "output_type": "execute_result"
    }
   ],
   "source": [
    "array1 + array2"
   ]
  },
  {
   "cell_type": "code",
   "execution_count": 13,
   "id": "grave-bradley",
   "metadata": {},
   "outputs": [
    {
     "data": {
      "text/plain": [
       "(row) , Ru      , Pd      , Cd      , Ag      \n",
       "None  , 1.50000 , 2.50000 , 1.00000 , 2.00000 "
      ]
     },
     "execution_count": 13,
     "metadata": {},
     "output_type": "execute_result"
    }
   ],
   "source": [
    "isopy.add(array1, array2, 0)"
   ]
  },
  {
   "cell_type": "code",
   "execution_count": 14,
   "id": "italic-debate",
   "metadata": {},
   "outputs": [
    {
     "data": {
      "text/plain": [
       "(row) , Ru      , Pd      , Cd      , Ag      \n",
       "None  , 1.50000 , 2.50000 , 1.50000 , 3.00000 "
      ]
     },
     "execution_count": 14,
     "metadata": {},
     "output_type": "execute_result"
    }
   ],
   "source": [
    "isopy.add(array1, array2, (1, 0.5))"
   ]
  },
  {
   "cell_type": "code",
   "execution_count": 3,
   "id": "selected-youth",
   "metadata": {},
   "outputs": [
    {
     "name": "stdout",
     "output_type": "stream",
     "text": [
      "89 µs ± 404 ns per loop (mean ± std. dev. of 7 runs, 10000 loops each)\n",
      "87.4 µs ± 738 ns per loop (mean ± std. dev. of 7 runs, 10000 loops each)\n"
     ]
    }
   ],
   "source": [
    "%timeit array1 + array2\n",
    "%timeit isopy.add(array1, array2)\n",
    "%timeit isopy.add(array1, array2, 0)"
   ]
  },
  {
   "cell_type": "code",
   "execution_count": 11,
   "id": "handled-pocket",
   "metadata": {},
   "outputs": [
    {
     "name": "stdout",
     "output_type": "stream",
     "text": [
      "73 µs ± 2.04 µs per loop (mean ± std. dev. of 7 runs, 10000 loops each)\n"
     ]
    }
   ],
   "source": [
    "%timeit isopy.add(array1, array2, keys=array1.keys)"
   ]
  },
  {
   "cell_type": "code",
   "execution_count": 10,
   "id": "seven-notice",
   "metadata": {},
   "outputs": [
    {
     "ename": "TypeError",
     "evalue": "_mean_dispatcher() got an unexpected keyword argument 'keys'",
     "output_type": "error",
     "traceback": [
      "\u001b[1;31m---------------------------------------------------------------------------\u001b[0m",
      "\u001b[1;31mTypeError\u001b[0m                                 Traceback (most recent call last)",
      "\u001b[1;32m<ipython-input-10-96a0b91f90b0>\u001b[0m in \u001b[0;36m<module>\u001b[1;34m\u001b[0m\n\u001b[1;32m----> 1\u001b[1;33m \u001b[0mnp\u001b[0m\u001b[1;33m.\u001b[0m\u001b[0mmean\u001b[0m\u001b[1;33m(\u001b[0m\u001b[0marray1\u001b[0m\u001b[1;33m,\u001b[0m \u001b[0mkeys\u001b[0m\u001b[1;33m=\u001b[0m\u001b[1;33m(\u001b[0m\u001b[1;34m'ru'\u001b[0m\u001b[1;33m,\u001b[0m \u001b[1;34m'pd'\u001b[0m\u001b[1;33m)\u001b[0m\u001b[1;33m)\u001b[0m\u001b[1;33m\u001b[0m\u001b[1;33m\u001b[0m\u001b[0m\n\u001b[0m",
      "\u001b[1;32m<__array_function__ internals>\u001b[0m in \u001b[0;36mmean\u001b[1;34m(*args, **kwargs)\u001b[0m\n",
      "\u001b[1;31mTypeError\u001b[0m: _mean_dispatcher() got an unexpected keyword argument 'keys'"
     ]
    }
   ],
   "source": []
  },
  {
   "cell_type": "code",
   "execution_count": 6,
   "id": "acquired-purse",
   "metadata": {},
   "outputs": [
    {
     "name": "stdout",
     "output_type": "stream",
     "text": [
      "89.4 µs ± 1.19 µs per loop (mean ± std. dev. of 7 runs, 10000 loops each)\n",
      "91.7 µs ± 2.11 µs per loop (mean ± std. dev. of 7 runs, 10000 loops each)\n"
     ]
    }
   ],
   "source": [
    "%timeit array1 + array2\n",
    "%timeit array1.view() + array2.view()"
   ]
  },
  {
   "cell_type": "code",
   "execution_count": 9,
   "id": "certified-retreat",
   "metadata": {},
   "outputs": [
    {
     "name": "stdout",
     "output_type": "stream",
     "text": [
      "88.9 µs ± 7.68 µs per loop (mean ± std. dev. of 7 runs, 10000 loops each)\n"
     ]
    }
   ],
   "source": [
    "%timeit isopy.add(array1, array2, 0)"
   ]
  },
  {
   "cell_type": "code",
   "execution_count": null,
   "id": "dynamic-colleague",
   "metadata": {},
   "outputs": [],
   "source": [
    "isopy.add(array1, array2, keys=array1.keys)"
   ]
  },
  {
   "cell_type": "code",
   "execution_count": 3,
   "id": "continent-development",
   "metadata": {},
   "outputs": [],
   "source": [
    "## Isopy Array functions"
   ]
  }
 ],
 "metadata": {
  "kernelspec": {
   "display_name": "main",
   "language": "python",
   "name": "main"
  },
  "language_info": {
   "codemirror_mode": {
    "name": "ipython",
    "version": 3
   },
   "file_extension": ".py",
   "mimetype": "text/x-python",
   "name": "python",
   "nbconvert_exporter": "python",
   "pygments_lexer": "ipython3",
   "version": "3.9.2"
  }
 },
 "nbformat": 4,
 "nbformat_minor": 5
}
