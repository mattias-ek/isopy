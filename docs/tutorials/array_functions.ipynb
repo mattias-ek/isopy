{
 "cells": [
  {
   "cell_type": "markdown",
   "id": "dynamic-count",
   "metadata": {},
   "source": [
    "# Array functions"
   ]
  },
  {
   "cell_type": "code",
   "execution_count": 2,
   "id": "strong-jewel",
   "metadata": {},
   "outputs": [],
   "source": [
    "import isopy\n",
    "import numpy as np\n",
    "import scipy.stats\n",
    "import matplotlib.pyplot as plt"
   ]
  },
  {
   "cell_type": "code",
   "execution_count": 2,
   "id": "foreign-network",
   "metadata": {},
   "outputs": [],
   "source": [
    "## Numpy array functions"
   ]
  },
  {
   "cell_type": "code",
   "execution_count": 2,
   "id": "alleged-colleague",
   "metadata": {},
   "outputs": [],
   "source": [
    "array1 = isopy.array(ru=1, pd=1, cd=1)\n",
    "array2 = isopy.array(ru=0.5, pd=1.5, ag=2)"
   ]
  },
  {
   "cell_type": "code",
   "execution_count": 12,
   "id": "dominican-labor",
   "metadata": {},
   "outputs": [
    {
     "data": {
      "text/plain": [
       "(row) , Ru      , Pd      , Cd  , Ag  \n",
       "None  , 1.50000 , 2.50000 , nan , nan "
      ]
     },
     "execution_count": 12,
     "metadata": {},
     "output_type": "execute_result"
    }
   ],
   "source": [
    "array1 + array2"
   ]
  },
  {
   "cell_type": "code",
   "execution_count": 13,
   "id": "suburban-wagner",
   "metadata": {},
   "outputs": [
    {
     "data": {
      "text/plain": [
       "(row) , Ru      , Pd      , Cd      , Ag      \n",
       "None  , 1.50000 , 2.50000 , 1.00000 , 2.00000 "
      ]
     },
     "execution_count": 13,
     "metadata": {},
     "output_type": "execute_result"
    }
   ],
   "source": [
    "isopy.add(array1, array2, 0)"
   ]
  },
  {
   "cell_type": "code",
   "execution_count": 14,
   "id": "whole-madrid",
   "metadata": {},
   "outputs": [
    {
     "data": {
      "text/plain": [
       "(row) , Ru      , Pd      , Cd      , Ag      \n",
       "None  , 1.50000 , 2.50000 , 1.50000 , 3.00000 "
      ]
     },
     "execution_count": 14,
     "metadata": {},
     "output_type": "execute_result"
    }
   ],
   "source": [
    "isopy.add(array1, array2, (1, 0.5))"
   ]
  },
  {
   "cell_type": "code",
   "execution_count": 6,
   "id": "metropolitan-trout",
   "metadata": {},
   "outputs": [
    {
     "name": "stdout",
     "output_type": "stream",
     "text": [
      "89.4 µs ± 1.19 µs per loop (mean ± std. dev. of 7 runs, 10000 loops each)\n",
      "91.7 µs ± 2.11 µs per loop (mean ± std. dev. of 7 runs, 10000 loops each)\n"
     ]
    }
   ],
   "source": [
    "%timeit array1 + array2\n",
    "%timeit array1.view() + array2.view()"
   ]
  },
  {
   "cell_type": "code",
   "execution_count": 9,
   "id": "transsexual-ottawa",
   "metadata": {},
   "outputs": [
    {
     "name": "stdout",
     "output_type": "stream",
     "text": [
      "88.9 µs ± 7.68 µs per loop (mean ± std. dev. of 7 runs, 10000 loops each)\n"
     ]
    }
   ],
   "source": [
    "%timeit isopy.add(array1, array2, 0)"
   ]
  },
  {
   "cell_type": "code",
   "execution_count": null,
   "id": "deadly-helena",
   "metadata": {},
   "outputs": [],
   "source": [
    "isopy.add(array1, array2, keys=array1.keys)"
   ]
  },
  {
   "cell_type": "code",
   "execution_count": 3,
   "id": "marine-atlantic",
   "metadata": {},
   "outputs": [],
   "source": [
    "## Isopy Array functions"
   ]
  }
 ],
 "metadata": {
  "kernelspec": {
   "display_name": "main",
   "language": "python",
   "name": "main"
  },
  "language_info": {
   "codemirror_mode": {
    "name": "ipython",
    "version": 3
   },
   "file_extension": ".py",
   "mimetype": "text/x-python",
   "name": "python",
   "nbconvert_exporter": "python",
   "pygments_lexer": "ipython3",
   "version": "3.9.2"
  }
 },
 "nbformat": 4,
 "nbformat_minor": 5
}
