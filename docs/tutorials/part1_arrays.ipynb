{
 "cells": [
  {
   "cell_type": "markdown",
   "id": "3cc58626-8a4e-4297-9e71-1012159b863e",
   "metadata": {},
   "source": [
    "# Isopy Tutorial 1 - Arrays and Reference Values\n",
    "\n",
    "In this tutorial we provide brief introduction to isopy arrays, reference values and ways to use them. For a thorough description of the functions and methods available see the \n",
    "\n",
    "Before we start we have to import the isopy library and the numpy libraries,"
   ]
  },
  {
   "cell_type": "code",
   "execution_count": 1,
   "id": "c83e328b-a5d3-471d-aad3-f1f1246996c6",
   "metadata": {},
   "outputs": [],
   "source": [
    "import isopy\n",
    "import numpy as np"
   ]
  },
  {
   "cell_type": "markdown",
   "id": "785c6016-8811-47e6-99c4-3cff3a8a7c25",
   "metadata": {},
   "source": [
    "## Array Introduction\n",
    "\n",
    "---\n",
    "An isopy array is subclass of a numpy array with a number of special features aimed at working with geochemical data. The data is stored in rows and columns, each column has a key with a certain flavour describing the type of data it represents. There are 6 key string flavours, in order of priority, they are:\n",
    "\n",
    "- `mass` consists of a mass number. Only accepts positive integers. E.g `\"102\"` or $102$\n",
    "- `element` consists of an element symbol. E.g `\"Pd\"` or $\\mathrm{Pd}$\n",
    "- `isotope` consists of a mass number followed by a element symbol. E.g `\"102Pd\"` or ${}^{102}\\mathrm{Pd}$\n",
    "- `molecule` consists of multiple element and/or isotope keys. E.g. `\"[H2O]\"` or $\\mathrm{H}_{2}\\mathrm{O}$\n",
    "- `ratio` consists of a numerator and a denominator key string. E.g. `\"108Pd/105Pd\"` or $\\cfrac{{}^{108}\\mathrm{Pd}}{{}^{105}\\mathrm{Pd}}$\n",
    "- `general` accepts any string. E.g. `\"whatever\"` or $\\mathrm{whatever}$\n",
    "\n",
    "The highest priority flavour, that the input string is compatible with, is used for the array. Each key string type adheres to a strict format but it is flexible with the formatting of the input string. For example the `102pd`, `Pd102` and `palladium-102` will all yield the isotope key string `102Pd`. You can read more about key strings in the {ref}`here<Key Strings>`.\n",
    "\n",
    "You can create arrays using the {func}`isopy.array` function, "
   ]
  },
  {
   "cell_type": "code",
   "execution_count": 40,
   "id": "e27c5825-f26d-4d15-88c5-c89b6fb93883",
   "metadata": {},
   "outputs": [
    {
     "data": {
      "text/html": [
       "<table>\n",
       "<thead>\n",
       "<tr><th>(row)  </th><th style=\"text-align: right;\">  $\\mathrm{Ru}$ (f8)</th><th style=\"text-align: right;\">  $\\mathrm{Pd}$ (f8)</th><th style=\"text-align: right;\">  $\\mathrm{Cd}$ (f8)</th></tr>\n",
       "</thead>\n",
       "<tbody>\n",
       "<tr><td>0      </td><td style=\"text-align: right;\">             1.00000</td><td style=\"text-align: right;\">             3.00000</td><td style=\"text-align: right;\">             5.00000</td></tr>\n",
       "<tr><td>1      </td><td style=\"text-align: right;\">             2.00000</td><td style=\"text-align: right;\">             4.00000</td><td style=\"text-align: right;\">             6.00000</td></tr>\n",
       "</tbody>\n",
       "</table>\n",
       "<b>IsopyNdarray</b>(2, flavour='element', default_value=nan)"
      ],
      "text/plain": [
       "(row)      Ru (f8)    Pd (f8)    Cd (f8)\n",
       "-------  ---------  ---------  ---------\n",
       "0          1.00000    3.00000    5.00000\n",
       "1          2.00000    4.00000    6.00000\n",
       "IsopyNdarray(2, flavour='element', default_value=nan)"
      ]
     },
     "execution_count": 40,
     "metadata": {},
     "output_type": "execute_result"
    }
   ],
   "source": [
    "data = {'ru': [1, 2], 'pd': [3, 4], 'cd': [5, 6]}\n",
    "a = isopy.array(data); a # column keys inferred from the dictionary"
   ]
  },
  {
   "cell_type": "markdown",
   "id": "6b802aa6-0cdc-44f4-ad01-3f3609a39a70",
   "metadata": {},
   "source": [
    "## Indexing\n",
    "\n",
    "---\n",
    "You can index arrays using either the row number or the column key. You can also use the {meth}`IsopyArray.get()<isopy.core.IsopyArray.get>` method to fetch the column which will return a default value if a column does not exits in the array."
   ]
  },
  {
   "cell_type": "code",
   "execution_count": 3,
   "id": "a265942f-5b1a-4c8e-b51d-02bcb85431f7",
   "metadata": {},
   "outputs": [
    {
     "data": {
      "text/plain": [
       "array([3., 4.])"
      ]
     },
     "execution_count": 3,
     "metadata": {},
     "output_type": "execute_result"
    }
   ],
   "source": [
    "a['pd'] # key string automatically formatted"
   ]
  },
  {
   "cell_type": "code",
   "execution_count": 4,
   "id": "ab750763-34d0-4599-a200-acd56c918d78",
   "metadata": {},
   "outputs": [
    {
     "data": {
      "text/html": [
       "<table>\n",
       "<thead>\n",
       "<tr><th>(row)  </th><th style=\"text-align: right;\">  $\\mathrm{Ru}$ (f8)</th><th style=\"text-align: right;\">  $\\mathrm{Pd}$ (f8)</th><th style=\"text-align: right;\">  $\\mathrm{Cd}$ (f8)</th></tr>\n",
       "</thead>\n",
       "<tbody>\n",
       "<tr><td>None   </td><td style=\"text-align: right;\">             2.00000</td><td style=\"text-align: right;\">             4.00000</td><td style=\"text-align: right;\">             6.00000</td></tr>\n",
       "</tbody>\n",
       "</table>\n",
       "<b>IsopyVoid</b>(-1, flavour='element', default_value=nan)"
      ],
      "text/plain": [
       "(row)      Ru (f8)    Pd (f8)    Cd (f8)\n",
       "-------  ---------  ---------  ---------\n",
       "None       2.00000    4.00000    6.00000\n",
       "IsopyVoid(-1, flavour='element', default_value=nan)"
      ]
     },
     "execution_count": 4,
     "metadata": {},
     "output_type": "execute_result"
    }
   ],
   "source": [
    "a[1]"
   ]
  },
  {
   "cell_type": "code",
   "execution_count": 5,
   "id": "7ec47449-425d-402a-bd8f-0c22c85eb80f",
   "metadata": {},
   "outputs": [
    {
     "data": {
      "text/plain": [
       "(array([nan, nan]), array([1., 1.]))"
      ]
     },
     "execution_count": 5,
     "metadata": {},
     "output_type": "execute_result"
    }
   ],
   "source": [
    "a.get('ge'), a.get('ge', 1)"
   ]
  },
  {
   "cell_type": "markdown",
   "id": "76bafa93-cfc6-4f34-99f6-4cf4200d556c",
   "metadata": {},
   "source": [
    "## Attributes & Methods\n",
    "\n",
    "---\n",
    "The `nrows`, `ncols` and the `keys` attributes will return the number of row, number of columns and the keys for each column in the array respectively. For a full list of attributes and methods see the {class}`IsopyArray<isopy.core.IsopyArray>` documentation."
   ]
  },
  {
   "cell_type": "code",
   "execution_count": 6,
   "id": "5a3ae3f6-decd-4693-ab49-7fbff490ee1e",
   "metadata": {
    "tags": []
   },
   "outputs": [
    {
     "data": {
      "text/plain": [
       "(2, 3, IsopyKeyList('Ru', 'Pd', 'Cd', flavour='element'))"
      ]
     },
     "execution_count": 6,
     "metadata": {},
     "output_type": "execute_result"
    }
   ],
   "source": [
    "a.nrows, a.ncols, a.keys"
   ]
  },
  {
   "cell_type": "markdown",
   "id": "bc6d808c-b851-43df-8520-550fa16ee18b",
   "metadata": {},
   "source": [
    "---\n",
    "The {meth}`IsopyArray.ratio()<isopy.core.IsopyArray.ratio>` method will divide the value in each column with the value of the given column creating a new array with ratio column keys. The {meth}`IsopyArray.deratio()<isopy.core.IsopyArray.deratio>` method will reverse it."
   ]
  },
  {
   "cell_type": "code",
   "execution_count": 7,
   "id": "007c578e-eddc-484b-860f-a27182bc7cf0",
   "metadata": {},
   "outputs": [
    {
     "data": {
      "text/html": [
       "<table>\n",
       "<thead>\n",
       "<tr><th>(row)  </th><th style=\"text-align: right;\">  $\\cfrac{\\mathrm{Ru}}{\\mathrm{Pd}}$ (f8)</th><th style=\"text-align: right;\">  $\\cfrac{\\mathrm{Cd}}{\\mathrm{Pd}}$ (f8)</th></tr>\n",
       "</thead>\n",
       "<tbody>\n",
       "<tr><td>0      </td><td style=\"text-align: right;\">                                  0.33333</td><td style=\"text-align: right;\">                                  1.66667</td></tr>\n",
       "<tr><td>1      </td><td style=\"text-align: right;\">                                  0.50000</td><td style=\"text-align: right;\">                                  1.50000</td></tr>\n",
       "</tbody>\n",
       "</table>\n",
       "<b>IsopyNdarray</b>(2, flavour='ratio[element, element]', default_value=nan)"
      ],
      "text/plain": [
       "(row)      Ru/Pd (f8)    Cd/Pd (f8)\n",
       "-------  ------------  ------------\n",
       "0             0.33333       1.66667\n",
       "1             0.50000       1.50000\n",
       "IsopyNdarray(2, flavour='ratio[element, element]', default_value=nan)"
      ]
     },
     "execution_count": 7,
     "metadata": {},
     "output_type": "execute_result"
    }
   ],
   "source": [
    "b = a.ratio('pd'); b"
   ]
  },
  {
   "cell_type": "code",
   "execution_count": 8,
   "id": "8f89164a-eae1-470b-863b-e18d0d3f35f6",
   "metadata": {},
   "outputs": [
    {
     "data": {
      "text/html": [
       "<table>\n",
       "<thead>\n",
       "<tr><th>(row)  </th><th style=\"text-align: right;\">  $\\mathrm{Ru}$ (f8)</th><th style=\"text-align: right;\">  $\\mathrm{Pd}$ (f8)</th><th style=\"text-align: right;\">  $\\mathrm{Cd}$ (f8)</th></tr>\n",
       "</thead>\n",
       "<tbody>\n",
       "<tr><td>0      </td><td style=\"text-align: right;\">             0.33333</td><td style=\"text-align: right;\">             1.00000</td><td style=\"text-align: right;\">             1.66667</td></tr>\n",
       "<tr><td>1      </td><td style=\"text-align: right;\">             0.50000</td><td style=\"text-align: right;\">             1.00000</td><td style=\"text-align: right;\">             1.50000</td></tr>\n",
       "</tbody>\n",
       "</table>\n",
       "<b>IsopyNdarray</b>(2, flavour='element', default_value=nan)"
      ],
      "text/plain": [
       "(row)      Ru (f8)    Pd (f8)    Cd (f8)\n",
       "-------  ---------  ---------  ---------\n",
       "0          0.33333    1.00000    1.66667\n",
       "1          0.50000    1.00000    1.50000\n",
       "IsopyNdarray(2, flavour='element', default_value=nan)"
      ]
     },
     "execution_count": 8,
     "metadata": {},
     "output_type": "execute_result"
    }
   ],
   "source": [
    "b.deratio()"
   ]
  },
  {
   "cell_type": "markdown",
   "id": "05adc745-9307-4b02-9e57-0fbbcba55adf",
   "metadata": {},
   "source": [
    "---\n",
    "The {meth}`IsopyArray.normalise()<isopy.core.IsopyArray.normalise>` method will by default normalise the array such that the sum of each row is equal to 1. You can also specify the normalisation value for a specific set of keys. Note that the method return a new array."
   ]
  },
  {
   "cell_type": "code",
   "execution_count": 9,
   "id": "8d479d78-ed25-4bbe-8b6e-8870d21327e3",
   "metadata": {},
   "outputs": [
    {
     "data": {
      "text/html": [
       "<table>\n",
       "<thead>\n",
       "<tr><th>(row)  </th><th style=\"text-align: right;\">  $\\mathrm{Ru}$ (f8)</th><th style=\"text-align: right;\">  $\\mathrm{Pd}$ (f8)</th><th style=\"text-align: right;\">  $\\mathrm{Cd}$ (f8)</th></tr>\n",
       "</thead>\n",
       "<tbody>\n",
       "<tr><td>0      </td><td style=\"text-align: right;\">             0.11111</td><td style=\"text-align: right;\">             0.33333</td><td style=\"text-align: right;\">             0.55556</td></tr>\n",
       "<tr><td>1      </td><td style=\"text-align: right;\">             0.16667</td><td style=\"text-align: right;\">             0.33333</td><td style=\"text-align: right;\">             0.50000</td></tr>\n",
       "</tbody>\n",
       "</table>\n",
       "<b>IsopyNdarray</b>(2, flavour='element', default_value=nan)"
      ],
      "text/plain": [
       "(row)      Ru (f8)    Pd (f8)    Cd (f8)\n",
       "-------  ---------  ---------  ---------\n",
       "0          0.11111    0.33333    0.55556\n",
       "1          0.16667    0.33333    0.50000\n",
       "IsopyNdarray(2, flavour='element', default_value=nan)"
      ]
     },
     "execution_count": 9,
     "metadata": {},
     "output_type": "execute_result"
    }
   ],
   "source": [
    "a.normalise()"
   ]
  },
  {
   "cell_type": "code",
   "execution_count": 10,
   "id": "c5aecaf3-668d-41e9-8152-efb320d7a8f9",
   "metadata": {},
   "outputs": [
    {
     "data": {
      "text/html": [
       "<table>\n",
       "<thead>\n",
       "<tr><th>(row)  </th><th style=\"text-align: right;\">  $\\mathrm{Ru}$ (f8)</th><th style=\"text-align: right;\">  $\\mathrm{Pd}$ (f8)</th><th style=\"text-align: right;\">  $\\mathrm{Cd}$ (f8)</th></tr>\n",
       "</thead>\n",
       "<tbody>\n",
       "<tr><td>0      </td><td style=\"text-align: right;\">             3.33333</td><td style=\"text-align: right;\">            10.00000</td><td style=\"text-align: right;\">            16.66667</td></tr>\n",
       "<tr><td>1      </td><td style=\"text-align: right;\">             5.00000</td><td style=\"text-align: right;\">            10.00000</td><td style=\"text-align: right;\">            15.00000</td></tr>\n",
       "</tbody>\n",
       "</table>\n",
       "<b>IsopyNdarray</b>(2, flavour='element', default_value=nan)"
      ],
      "text/plain": [
       "(row)      Ru (f8)    Pd (f8)    Cd (f8)\n",
       "-------  ---------  ---------  ---------\n",
       "0          3.33333   10.00000   16.66667\n",
       "1          5.00000   10.00000   15.00000\n",
       "IsopyNdarray(2, flavour='element', default_value=nan)"
      ]
     },
     "execution_count": 10,
     "metadata": {},
     "output_type": "execute_result"
    }
   ],
   "source": [
    "a.normalise([10], 'pd') # Renormalises each row so the Pd columns is equal to 10"
   ]
  },
  {
   "cell_type": "markdown",
   "id": "1b7fc6a3-ea88-4c72-bcbb-60a239f0be85",
   "metadata": {},
   "source": [
    "---\n",
    "Finally, there are several functions for turning array into other data types. For example the {meth}`IsopyArray.to_dict()<isopy.core.IsopyArray.to_dict>` method will convert the array to a dictionary, e.g."
   ]
  },
  {
   "cell_type": "code",
   "execution_count": 11,
   "id": "854a66b8-6a63-4f8b-ab30-469fff46bcbf",
   "metadata": {},
   "outputs": [
    {
     "data": {
      "text/plain": [
       "{'Ru': [1.0, 2.0], 'Pd': [3.0, 4.0], 'Cd': [5.0, 6.0]}"
      ]
     },
     "execution_count": 11,
     "metadata": {},
     "output_type": "execute_result"
    }
   ],
   "source": [
    "a.to_dict()"
   ]
  },
  {
   "cell_type": "markdown",
   "id": "9b1bc87c-a648-4e16-8a93-f7d882aa3e39",
   "metadata": {},
   "source": [
    "## Creating Arrays\n",
    "\n",
    "---\n",
    "Arrays can be created with the {func}`isopy.array` function. Each array must consist of data and a set of keys, if it cannot be inferred from the data. "
   ]
  },
  {
   "cell_type": "code",
   "execution_count": 12,
   "id": "44be607f-bdce-41be-b1a9-425004f8617f",
   "metadata": {},
   "outputs": [
    {
     "data": {
      "text/html": [
       "<table>\n",
       "<thead>\n",
       "<tr><th>(row)  </th><th style=\"text-align: right;\">  $\\mathrm{Ru}$ (f8)</th><th style=\"text-align: right;\">  $\\mathrm{Pd}$ (f8)</th><th style=\"text-align: right;\">  $\\mathrm{Cd}$ (f8)</th></tr>\n",
       "</thead>\n",
       "<tbody>\n",
       "<tr><td>0      </td><td style=\"text-align: right;\">             1.00000</td><td style=\"text-align: right;\">             3.00000</td><td style=\"text-align: right;\">             5.00000</td></tr>\n",
       "<tr><td>1      </td><td style=\"text-align: right;\">             2.00000</td><td style=\"text-align: right;\">             4.00000</td><td style=\"text-align: right;\">             6.00000</td></tr>\n",
       "</tbody>\n",
       "</table>\n",
       "<b>IsopyNdarray</b>(2, flavour='element', default_value=nan)"
      ],
      "text/plain": [
       "(row)      Ru (f8)    Pd (f8)    Cd (f8)\n",
       "-------  ---------  ---------  ---------\n",
       "0          1.00000    3.00000    5.00000\n",
       "1          2.00000    4.00000    6.00000\n",
       "IsopyNdarray(2, flavour='element', default_value=nan)"
      ]
     },
     "execution_count": 12,
     "metadata": {},
     "output_type": "execute_result"
    }
   ],
   "source": [
    "isopy.array([[1, 3, 5], [2, 4, 6]],'ru pd cd')\n",
    "isopy.array({'ru': [1, 2], 'pd': [3, 4], 'cd': [5, 6]})\n",
    "isopy.array(ru = [1, 2], pd=[3, 4], cd=[5, 6])"
   ]
  },
  {
   "cell_type": "markdown",
   "id": "8bd0e16e-62f8-4cd6-af02-aafe351d7f87",
   "metadata": {},
   "source": [
    "You can also create arrays from existing isopy arrays, structured numpy arrays and pandas dataframes. If the input is an isopy array {func}`isopy.array` will return a copy of the array while {func}`isopy.asarray` will return a reference to it, assuming it satisfies any other arguments given."
   ]
  },
  {
   "cell_type": "code",
   "execution_count": 13,
   "id": "29d41939-73f9-418b-a7d2-19926bb73d37",
   "metadata": {},
   "outputs": [
    {
     "data": {
      "text/plain": [
       "(False, True)"
      ]
     },
     "execution_count": 13,
     "metadata": {},
     "output_type": "execute_result"
    }
   ],
   "source": [
    "a = isopy.array([[1, 3, 5], [2, 4, 6]],'ru pd cd')\n",
    "b = isopy.array(a)\n",
    "c = isopy.asarray(a)\n",
    "a is b, a is c"
   ]
  },
  {
   "cell_type": "markdown",
   "id": "7d1a1b26-0e94-40dd-ab8e-8eb6ccbbf732",
   "metadata": {},
   "source": [
    "There are functions to create arrays filled with 0's, 1's or random numbers. See the {ref}`Arrays` for more details. For example an array filled with a normal distribution of random values can be created using the {func}`isopy.random` function"
   ]
  },
  {
   "cell_type": "code",
   "execution_count": 14,
   "id": "8ee3ce8e-02ee-4d66-ab6d-77e833bb6669",
   "metadata": {},
   "outputs": [
    {
     "data": {
      "text/html": [
       "<table>\n",
       "<thead>\n",
       "<tr><th>(row)  </th><th style=\"text-align: right;\">  $\\mathrm{Ru}$ (f8)</th><th style=\"text-align: right;\">  $\\mathrm{Pd}$ (f8)</th><th style=\"text-align: right;\">  $\\mathrm{Cd}$ (f8)</th></tr>\n",
       "</thead>\n",
       "<tbody>\n",
       "<tr><td>0      </td><td style=\"text-align: right;\">             0.94193</td><td style=\"text-align: right;\">            -0.84010</td><td style=\"text-align: right;\">            -1.46872</td></tr>\n",
       "<tr><td>1      </td><td style=\"text-align: right;\">             0.84349</td><td style=\"text-align: right;\">             0.19054</td><td style=\"text-align: right;\">            -0.92886</td></tr>\n",
       "<tr><td>2      </td><td style=\"text-align: right;\">            -0.68974</td><td style=\"text-align: right;\">            -1.30829</td><td style=\"text-align: right;\">             0.61475</td></tr>\n",
       "<tr><td>3      </td><td style=\"text-align: right;\">             1.32635</td><td style=\"text-align: right;\">             0.58710</td><td style=\"text-align: right;\">             0.21810</td></tr>\n",
       "<tr><td>4      </td><td style=\"text-align: right;\">            -0.40937</td><td style=\"text-align: right;\">             0.32379</td><td style=\"text-align: right;\">             1.90051</td></tr>\n",
       "<tr><td>5      </td><td style=\"text-align: right;\">             1.31348</td><td style=\"text-align: right;\">            -1.00570</td><td style=\"text-align: right;\">             0.00971</td></tr>\n",
       "<tr><td>6      </td><td style=\"text-align: right;\">             0.59463</td><td style=\"text-align: right;\">            -0.27932</td><td style=\"text-align: right;\">            -0.33032</td></tr>\n",
       "<tr><td>7      </td><td style=\"text-align: right;\">             0.34017</td><td style=\"text-align: right;\">            -1.29789</td><td style=\"text-align: right;\">             0.12494</td></tr>\n",
       "<tr><td>8      </td><td style=\"text-align: right;\">            -0.73290</td><td style=\"text-align: right;\">            -0.63486</td><td style=\"text-align: right;\">            -0.86405</td></tr>\n",
       "<tr><td>9      </td><td style=\"text-align: right;\">             3.10324</td><td style=\"text-align: right;\">            -1.40903</td><td style=\"text-align: right;\">             0.66490</td></tr>\n",
       "</tbody>\n",
       "</table>\n",
       "<b>IsopyNdarray</b>(10, flavour='element', default_value=nan)"
      ],
      "text/plain": [
       "(row)      Ru (f8)    Pd (f8)    Cd (f8)\n",
       "-------  ---------  ---------  ---------\n",
       "0          0.94193   -0.84010   -1.46872\n",
       "1          0.84349    0.19054   -0.92886\n",
       "2         -0.68974   -1.30829    0.61475\n",
       "3          1.32635    0.58710    0.21810\n",
       "4         -0.40937    0.32379    1.90051\n",
       "5          1.31348   -1.00570    0.00971\n",
       "6          0.59463   -0.27932   -0.33032\n",
       "7          0.34017   -1.29789    0.12494\n",
       "8         -0.73290   -0.63486   -0.86405\n",
       "9          3.10324   -1.40903    0.66490\n",
       "IsopyNdarray(10, flavour='element', default_value=nan)"
      ]
     },
     "execution_count": 14,
     "metadata": {},
     "output_type": "execute_result"
    }
   ],
   "source": [
    "isopy.random(10, keys = 'ru pd cd')"
   ]
  },
  {
   "cell_type": "markdown",
   "id": "9747ec17-174a-4ff6-9b9d-40b37cf51d6e",
   "metadata": {},
   "source": [
    "---\n",
    "Arrays can be zero or one dimensional depending on the input. The `ndim` attribute can be used to check the number of dimensions of the array. If the array is 0-dimensional `nrows` will be have a value of `-1`."
   ]
  },
  {
   "cell_type": "code",
   "execution_count": 15,
   "id": "da35208a-8525-4d42-9fa1-10d5f6579a48",
   "metadata": {},
   "outputs": [
    {
     "data": {
      "text/html": [
       "<table>\n",
       "<thead>\n",
       "<tr><th>(row)  </th><th style=\"text-align: right;\">  $\\mathrm{Ru}$ (f8)</th><th style=\"text-align: right;\">  $\\mathrm{Pd}$ (f8)</th><th style=\"text-align: right;\">  $\\mathrm{Cd}$ (f8)</th></tr>\n",
       "</thead>\n",
       "<tbody>\n",
       "<tr><td>0      </td><td style=\"text-align: right;\">             1.00000</td><td style=\"text-align: right;\">             3.00000</td><td style=\"text-align: right;\">             5.00000</td></tr>\n",
       "</tbody>\n",
       "</table>\n",
       "<b>IsopyNdarray</b>(1, flavour='element', default_value=nan)"
      ],
      "text/plain": [
       "(row)      Ru (f8)    Pd (f8)    Cd (f8)\n",
       "-------  ---------  ---------  ---------\n",
       "0          1.00000    3.00000    5.00000\n",
       "IsopyNdarray(1, flavour='element', default_value=nan)"
      ]
     },
     "execution_count": 15,
     "metadata": {},
     "output_type": "execute_result"
    }
   ],
   "source": [
    "isopy.array({'ru': [1], 'pd': [3], 'cd': [5]})"
   ]
  },
  {
   "cell_type": "code",
   "execution_count": 16,
   "id": "5f362949-4ee4-4fe9-a16d-ab8ce1bd0f69",
   "metadata": {},
   "outputs": [
    {
     "data": {
      "text/html": [
       "<table>\n",
       "<thead>\n",
       "<tr><th>(row)  </th><th style=\"text-align: right;\">  $\\mathrm{Ru}$ (f8)</th><th style=\"text-align: right;\">  $\\mathrm{Pd}$ (f8)</th><th style=\"text-align: right;\">  $\\mathrm{Cd}$ (f8)</th></tr>\n",
       "</thead>\n",
       "<tbody>\n",
       "<tr><td>None   </td><td style=\"text-align: right;\">             1.00000</td><td style=\"text-align: right;\">             3.00000</td><td style=\"text-align: right;\">             5.00000</td></tr>\n",
       "</tbody>\n",
       "</table>\n",
       "<b>IsopyNdarray</b>(-1, flavour='element', default_value=nan)"
      ],
      "text/plain": [
       "(row)      Ru (f8)    Pd (f8)    Cd (f8)\n",
       "-------  ---------  ---------  ---------\n",
       "None       1.00000    3.00000    5.00000\n",
       "IsopyNdarray(-1, flavour='element', default_value=nan)"
      ]
     },
     "execution_count": 16,
     "metadata": {},
     "output_type": "execute_result"
    }
   ],
   "source": [
    "isopy.array({'ru': 1, 'pd': 3, 'cd': 5})"
   ]
  },
  {
   "cell_type": "markdown",
   "id": "bfde46cf-15f6-42a5-a152-6e343581760e",
   "metadata": {},
   "source": [
    "You can use the `ndim` keyword to specify the number of dimensions of the array. If `ndim=-1` then the returned array will be 0-dimensional if possible otherwise 1-dimensional."
   ]
  },
  {
   "cell_type": "code",
   "execution_count": 17,
   "id": "abb235b0-74e4-456e-b694-7be6b91a60e4",
   "metadata": {},
   "outputs": [
    {
     "data": {
      "text/html": [
       "<table>\n",
       "<thead>\n",
       "<tr><th>(row)  </th><th style=\"text-align: right;\">  $\\mathrm{Ru}$ (f8)</th><th style=\"text-align: right;\">  $\\mathrm{Pd}$ (f8)</th><th style=\"text-align: right;\">  $\\mathrm{Cd}$ (f8)</th></tr>\n",
       "</thead>\n",
       "<tbody>\n",
       "<tr><td>None   </td><td style=\"text-align: right;\">             1.00000</td><td style=\"text-align: right;\">             3.00000</td><td style=\"text-align: right;\">             5.00000</td></tr>\n",
       "</tbody>\n",
       "</table>\n",
       "<b>IsopyNdarray</b>(-1, flavour='element', default_value=nan)"
      ],
      "text/plain": [
       "(row)      Ru (f8)    Pd (f8)    Cd (f8)\n",
       "-------  ---------  ---------  ---------\n",
       "None       1.00000    3.00000    5.00000\n",
       "IsopyNdarray(-1, flavour='element', default_value=nan)"
      ]
     },
     "execution_count": 17,
     "metadata": {},
     "output_type": "execute_result"
    }
   ],
   "source": [
    "isopy.array({'ru': [1], 'pd': [3], 'cd': [5]}, ndim=-1)"
   ]
  },
  {
   "cell_type": "markdown",
   "id": "90313dc9-e5f8-4b2f-a7b7-829c38686d47",
   "metadata": {},
   "source": [
    "---\n",
    "By default the data type for python objects will be `float64` if possible and otherwise whatever numpy suggests. The datatype is given in abbreviated in parenthesis next to the column key in the repr of the array. The data type of each column can also be found from the `datatypes` attribute."
   ]
  },
  {
   "cell_type": "code",
   "execution_count": 18,
   "id": "2c54052c-5ee9-4d6c-a316-bdbdc431c6e2",
   "metadata": {},
   "outputs": [
    {
     "data": {
      "text/plain": [
       "(dtype('float64'), dtype('float64'), dtype('float64'))"
      ]
     },
     "execution_count": 18,
     "metadata": {},
     "output_type": "execute_result"
    }
   ],
   "source": [
    "isopy.array({'ru': [1, 2], 'pd': [3, 4], 'cd': [5, 6]}).datatypes"
   ]
  },
  {
   "cell_type": "markdown",
   "id": "4605c709-4126-4594-a160-9857c534cb33",
   "metadata": {},
   "source": [
    "If you create an array from a numpy array them it will inherit the data type of the numpy array."
   ]
  },
  {
   "cell_type": "code",
   "execution_count": 19,
   "id": "cfb9a018-304c-40c9-be94-bac1d02c766d",
   "metadata": {},
   "outputs": [
    {
     "data": {
      "text/plain": [
       "(dtype('int64'), dtype('float64'), dtype('<U1'))"
      ]
     },
     "execution_count": 19,
     "metadata": {},
     "output_type": "execute_result"
    }
   ],
   "source": [
    "isopy.array({'ru': np.array([1, 2]), # dtype = int64\n",
    "             'pd': np.array([3, 4], dtype=np.float64), \n",
    "             'cd': np.array([5, 6], dtype=str)}).datatypes"
   ]
  },
  {
   "cell_type": "markdown",
   "id": "b8fb31fb-09a3-491d-8292-3157eda1cdb9",
   "metadata": {},
   "source": [
    "You can also specify the data type for each column using the `dtype` keyword. You can either pass a single datatype, that will be used for each column, or a **list** of datatypes, one for each column."
   ]
  },
  {
   "cell_type": "code",
   "execution_count": 20,
   "id": "316c9bab-1a38-487a-af59-51509fdfefef",
   "metadata": {},
   "outputs": [
    {
     "data": {
      "text/plain": [
       "(dtype('int64'), dtype('int64'), dtype('int64'))"
      ]
     },
     "execution_count": 20,
     "metadata": {},
     "output_type": "execute_result"
    }
   ],
   "source": [
    "isopy.array({'ru': [1, 2], 'pd': [3, 4], 'cd': [5, 6]}, dtype=np.int64).datatypes"
   ]
  },
  {
   "cell_type": "markdown",
   "id": "eb55b250-8fc6-47be-b66c-f53e45be062a",
   "metadata": {},
   "source": [
    "---\n",
    "When creating an array the highest priority key string flavour, that the string is compatible with, is used for the column key. Optionally, you can specify the flavour of the column keys using the `flavour` key word, multiple flavours should be separated with a `|`. "
   ]
  },
  {
   "cell_type": "code",
   "execution_count": 21,
   "id": "9d843221-ea19-4600-a1e9-e9fbf779a667",
   "metadata": {},
   "outputs": [
    {
     "data": {
      "text/html": [
       "<table>\n",
       "<thead>\n",
       "<tr><th>(row)  </th><th style=\"text-align: right;\">  $\\mathrm{ru}$ (f8)</th><th style=\"text-align: right;\">  $\\mathrm{pd}$ (f8)</th><th style=\"text-align: right;\">  $\\mathrm{cd}$ (f8)</th></tr>\n",
       "</thead>\n",
       "<tbody>\n",
       "<tr><td>0      </td><td style=\"text-align: right;\">             1.00000</td><td style=\"text-align: right;\">             3.00000</td><td style=\"text-align: right;\">             5.00000</td></tr>\n",
       "<tr><td>1      </td><td style=\"text-align: right;\">             2.00000</td><td style=\"text-align: right;\">             4.00000</td><td style=\"text-align: right;\">             6.00000</td></tr>\n",
       "</tbody>\n",
       "</table>\n",
       "<b>IsopyNdarray</b>(2, flavour='general', default_value=nan)"
      ],
      "text/plain": [
       "(row)      ru (f8)    pd (f8)    cd (f8)\n",
       "-------  ---------  ---------  ---------\n",
       "0          1.00000    3.00000    5.00000\n",
       "1          2.00000    4.00000    6.00000\n",
       "IsopyNdarray(2, flavour='general', default_value=nan)"
      ]
     },
     "execution_count": 21,
     "metadata": {},
     "output_type": "execute_result"
    }
   ],
   "source": [
    "isopy.array({'ru': [1, 2], 'pd': [3, 4], 'cd': [5, 6]}, flavour='general')"
   ]
  },
  {
   "cell_type": "markdown",
   "id": "ccfb86d4-3cd5-45e3-8f98-6d941ea66aed",
   "metadata": {},
   "source": [
    "## Array Functions\n",
    "\n",
    "---\n",
    "We loosely define any function that accepts one or more values, performs a mathematical calculation and returns a new value as an array function. The simplest ones being the `+`, `-`, `*`, `/` and `**` operators. These operators are fully supported by isopy arrays."
   ]
  },
  {
   "cell_type": "code",
   "execution_count": 22,
   "id": "b13d588e-5b5f-40ee-98d0-f001b19c1319",
   "metadata": {},
   "outputs": [
    {
     "data": {
      "text/html": [
       "<table>\n",
       "<thead>\n",
       "<tr><th>(row)  </th><th style=\"text-align: right;\">  $\\mathrm{Ru}$ (f8)</th><th style=\"text-align: right;\">  $\\mathrm{Pd}$ (f8)</th><th style=\"text-align: right;\">  $\\mathrm{Cd}$ (f8)</th></tr>\n",
       "</thead>\n",
       "<tbody>\n",
       "<tr><td>0      </td><td style=\"text-align: right;\">             2.00000</td><td style=\"text-align: right;\">             6.00000</td><td style=\"text-align: right;\">            10.00000</td></tr>\n",
       "<tr><td>1      </td><td style=\"text-align: right;\">             4.00000</td><td style=\"text-align: right;\">             8.00000</td><td style=\"text-align: right;\">            12.00000</td></tr>\n",
       "</tbody>\n",
       "</table>\n",
       "<b>IsopyNdarray</b>(2, flavour='element', default_value=nan)"
      ],
      "text/plain": [
       "(row)      Ru (f8)    Pd (f8)    Cd (f8)\n",
       "-------  ---------  ---------  ---------\n",
       "0          2.00000    6.00000   10.00000\n",
       "1          4.00000    8.00000   12.00000\n",
       "IsopyNdarray(2, flavour='element', default_value=nan)"
      ]
     },
     "execution_count": 22,
     "metadata": {},
     "output_type": "execute_result"
    }
   ],
   "source": [
    "a = isopy.array({'ru': [1, 2], 'pd': [3, 4], 'cd': [5, 6]})\n",
    "a * 2 # Multiplies each column by 2"
   ]
  },
  {
   "cell_type": "code",
   "execution_count": 23,
   "id": "e44014e7-e61a-47ee-b505-c6de88545009",
   "metadata": {},
   "outputs": [
    {
     "data": {
      "text/html": [
       "<table>\n",
       "<thead>\n",
       "<tr><th>(row)  </th><th style=\"text-align: right;\">  $\\mathrm{Ru}$ (f8)</th><th style=\"text-align: right;\">  $\\mathrm{Pd}$ (f8)</th><th style=\"text-align: right;\">  $\\mathrm{Cd}$ (f8)</th></tr>\n",
       "</thead>\n",
       "<tbody>\n",
       "<tr><td>0      </td><td style=\"text-align: right;\">             0.00000</td><td style=\"text-align: right;\">            -2.00000</td><td style=\"text-align: right;\">            -4.00000</td></tr>\n",
       "<tr><td>1      </td><td style=\"text-align: right;\">             8.00000</td><td style=\"text-align: right;\">             6.00000</td><td style=\"text-align: right;\">             4.00000</td></tr>\n",
       "</tbody>\n",
       "</table>\n",
       "<b>IsopyNdarray</b>(2, flavour='element', default_value=nan)"
      ],
      "text/plain": [
       "(row)      Ru (f8)    Pd (f8)    Cd (f8)\n",
       "-------  ---------  ---------  ---------\n",
       "0          0.00000   -2.00000   -4.00000\n",
       "1          8.00000    6.00000    4.00000\n",
       "IsopyNdarray(2, flavour='element', default_value=nan)"
      ]
     },
     "execution_count": 23,
     "metadata": {},
     "output_type": "execute_result"
    }
   ],
   "source": [
    "[1, 10] - a"
   ]
  },
  {
   "cell_type": "markdown",
   "id": "a7ba6001-d512-49b7-8096-483bd18db38e",
   "metadata": {},
   "source": [
    "If combining two isopy arrays then the result will contain the combined keys of both arrays. A default value, `nan`, will be used for missing columns."
   ]
  },
  {
   "cell_type": "code",
   "execution_count": 24,
   "id": "d5b0a6ed-db4a-483d-9386-a829daf9f78c",
   "metadata": {},
   "outputs": [
    {
     "data": {
      "text/html": [
       "<table>\n",
       "<thead>\n",
       "<tr><th>(row)  </th><th style=\"text-align: right;\">  $\\mathrm{Ru}$ (f8)</th><th style=\"text-align: right;\">  $\\mathrm{Pd}$ (f8)</th><th style=\"text-align: right;\">  $\\mathrm{Ag}$ (f8)</th><th style=\"text-align: right;\">  $\\mathrm{Cd}$ (f8)</th></tr>\n",
       "</thead>\n",
       "<tbody>\n",
       "<tr><td>0      </td><td style=\"text-align: right;\">            12.00000</td><td style=\"text-align: right;\">                 nan</td><td style=\"text-align: right;\">                 nan</td><td style=\"text-align: right;\">            18.00000</td></tr>\n",
       "<tr><td>1      </td><td style=\"text-align: right;\">            13.00000</td><td style=\"text-align: right;\">                 nan</td><td style=\"text-align: right;\">                 nan</td><td style=\"text-align: right;\">            19.00000</td></tr>\n",
       "</tbody>\n",
       "</table>\n",
       "<b>IsopyNdarray</b>(2, flavour='element', default_value=nan)"
      ],
      "text/plain": [
       "(row)      Ru (f8)    Pd (f8)    Ag (f8)    Cd (f8)\n",
       "-------  ---------  ---------  ---------  ---------\n",
       "0         12.00000        nan        nan   18.00000\n",
       "1         13.00000        nan        nan   19.00000\n",
       "IsopyNdarray(2, flavour='element', default_value=nan)"
      ]
     },
     "execution_count": 24,
     "metadata": {},
     "output_type": "execute_result"
    }
   ],
   "source": [
    "b = isopy.array([11, 12, 13], keys='ru ag cd')\n",
    "a + b"
   ]
  },
  {
   "cell_type": "markdown",
   "id": "db7497a1-eba2-4ed4-b34d-62c33c8c29c9",
   "metadata": {},
   "source": [
    "You can set a temporary default value using the {meth}`IsopyArray.default()<isopy.core.IsopyArray.default>` method when performing calculations. "
   ]
  },
  {
   "cell_type": "code",
   "execution_count": 25,
   "id": "fd4dad86-d00b-4ac9-971e-3119901023f2",
   "metadata": {},
   "outputs": [
    {
     "data": {
      "text/html": [
       "<table>\n",
       "<thead>\n",
       "<tr><th>(row)  </th><th style=\"text-align: right;\">  $\\mathrm{Ru}$ (f8)</th><th style=\"text-align: right;\">  $\\mathrm{Pd}$ (f8)</th><th style=\"text-align: right;\">  $\\mathrm{Ag}$ (f8)</th><th style=\"text-align: right;\">  $\\mathrm{Cd}$ (f8)</th></tr>\n",
       "</thead>\n",
       "<tbody>\n",
       "<tr><td>0      </td><td style=\"text-align: right;\">            12.00000</td><td style=\"text-align: right;\">                 nan</td><td style=\"text-align: right;\">            22.00000</td><td style=\"text-align: right;\">            18.00000</td></tr>\n",
       "<tr><td>1      </td><td style=\"text-align: right;\">            13.00000</td><td style=\"text-align: right;\">                 nan</td><td style=\"text-align: right;\">            22.00000</td><td style=\"text-align: right;\">            19.00000</td></tr>\n",
       "</tbody>\n",
       "</table>\n",
       "<b>IsopyNdarray</b>(2, flavour='element', default_value=nan)"
      ],
      "text/plain": [
       "(row)      Ru (f8)    Pd (f8)    Ag (f8)    Cd (f8)\n",
       "-------  ---------  ---------  ---------  ---------\n",
       "0         12.00000        nan   22.00000   18.00000\n",
       "1         13.00000        nan   22.00000   19.00000\n",
       "IsopyNdarray(2, flavour='element', default_value=nan)"
      ]
     },
     "execution_count": 25,
     "metadata": {},
     "output_type": "execute_result"
    }
   ],
   "source": [
    "a.default(10) + b "
   ]
  },
  {
   "cell_type": "markdown",
   "id": "ebd3efd0-5c4e-41fa-82af-96d713802f3a",
   "metadata": {},
   "source": [
    "---\n",
    "Isopy arrays natively support a wide range of numpy functions. By default the result will be computed on each column and the result compiled into a new array. However, for functions that support it, you can set `axis` to `None` to compute the result over the entire array or `1`  to compute the result for each row.\n",
    "\n",
    "All the numpy functions that have been tested with isopy arrays are listed {ref}`here<Numpy Functions>`."
   ]
  },
  {
   "cell_type": "code",
   "execution_count": 26,
   "id": "cc5b24c9-f797-4365-ba28-e3d92b59084a",
   "metadata": {},
   "outputs": [
    {
     "data": {
      "text/html": [
       "<table>\n",
       "<thead>\n",
       "<tr><th>(row)  </th><th style=\"text-align: right;\">  $\\mathrm{Ru}$ (f8)</th><th style=\"text-align: right;\">  $\\mathrm{Pd}$ (f8)</th><th style=\"text-align: right;\">  $\\mathrm{Cd}$ (f8)</th></tr>\n",
       "</thead>\n",
       "<tbody>\n",
       "<tr><td>None   </td><td style=\"text-align: right;\">             3.00000</td><td style=\"text-align: right;\">             7.00000</td><td style=\"text-align: right;\">            11.00000</td></tr>\n",
       "</tbody>\n",
       "</table>\n",
       "<b>IsopyNdarray</b>(-1, flavour='element', default_value=nan)"
      ],
      "text/plain": [
       "(row)      Ru (f8)    Pd (f8)    Cd (f8)\n",
       "-------  ---------  ---------  ---------\n",
       "None       3.00000    7.00000   11.00000\n",
       "IsopyNdarray(-1, flavour='element', default_value=nan)"
      ]
     },
     "execution_count": 26,
     "metadata": {},
     "output_type": "execute_result"
    }
   ],
   "source": [
    "np.sum(a)"
   ]
  },
  {
   "cell_type": "code",
   "execution_count": 27,
   "id": "060604d4-c58c-457d-95a5-271eadb8bafe",
   "metadata": {},
   "outputs": [
    {
     "data": {
      "text/plain": [
       "(21.0, array([ 9., 12.]))"
      ]
     },
     "execution_count": 27,
     "metadata": {},
     "output_type": "execute_result"
    }
   ],
   "source": [
    "np.sum(a, axis=None), np.sum(a, axis=1)"
   ]
  },
  {
   "cell_type": "markdown",
   "id": "fef5a358-3773-4c97-800a-9a3778cdef79",
   "metadata": {},
   "source": [
    "All the numpy function that have been tested with isopy arrays are also avaliable from the `isopy` namespace. These functions have been enhanced so that they accept a `keys` argument where you can specify which keys the return array should have."
   ]
  },
  {
   "cell_type": "code",
   "execution_count": 28,
   "id": "87ec1b2a-f464-4b3c-93bb-c06738dfaae9",
   "metadata": {},
   "outputs": [
    {
     "data": {
      "text/html": [
       "<table>\n",
       "<thead>\n",
       "<tr><th>(row)  </th><th style=\"text-align: right;\">  $\\mathrm{Ru}$ (f8)</th><th style=\"text-align: right;\">  $\\mathrm{Cd}$ (f8)</th></tr>\n",
       "</thead>\n",
       "<tbody>\n",
       "<tr><td>None   </td><td style=\"text-align: right;\">             3.00000</td><td style=\"text-align: right;\">            11.00000</td></tr>\n",
       "</tbody>\n",
       "</table>\n",
       "<b>IsopyNdarray</b>(-1, flavour='element', default_value=nan)"
      ],
      "text/plain": [
       "(row)      Ru (f8)    Cd (f8)\n",
       "-------  ---------  ---------\n",
       "None       3.00000   11.00000\n",
       "IsopyNdarray(-1, flavour='element', default_value=nan)"
      ]
     },
     "execution_count": 28,
     "metadata": {},
     "output_type": "execute_result"
    }
   ],
   "source": [
    "isopy.sum(a, keys='ru cd')"
   ]
  },
  {
   "cell_type": "markdown",
   "id": "a668f148-2c39-4d5e-b280-5c9ee1c94339",
   "metadata": {},
   "source": [
    "---\n",
    "In addition isopy also comes with a set of custom array functions documented {ref}`here<Isopy Functions>`. For example the {func}`isopy.sd` and {func}`isopy.se` functions compute the standard deviation and standard error of the sample (1 degree of freedom), respectively."
   ]
  },
  {
   "cell_type": "code",
   "execution_count": 29,
   "id": "1d54f45c-40e9-40d9-a6d3-500217308e77",
   "metadata": {},
   "outputs": [
    {
     "data": {
      "text/html": [
       "<table>\n",
       "<thead>\n",
       "<tr><th>(row)  </th><th style=\"text-align: right;\">  $\\mathrm{Ru}$ (f8)</th><th style=\"text-align: right;\">  $\\mathrm{Pd}$ (f8)</th><th style=\"text-align: right;\">  $\\mathrm{Cd}$ (f8)</th></tr>\n",
       "</thead>\n",
       "<tbody>\n",
       "<tr><td>None   </td><td style=\"text-align: right;\">             0.08599</td><td style=\"text-align: right;\">             0.09690</td><td style=\"text-align: right;\">             0.09187</td></tr>\n",
       "</tbody>\n",
       "</table>\n",
       "<b>IsopyNdarray</b>(-1, flavour='element', default_value=nan)"
      ],
      "text/plain": [
       "(row)      Ru (f8)    Pd (f8)    Cd (f8)\n",
       "-------  ---------  ---------  ---------\n",
       "None       0.08599    0.09690    0.09187\n",
       "IsopyNdarray(-1, flavour='element', default_value=nan)"
      ]
     },
     "execution_count": 29,
     "metadata": {},
     "output_type": "execute_result"
    }
   ],
   "source": [
    "c = isopy.random(100, keys='ru pd cd')\n",
    "isopy.se(c) # The standard deviation of the distribution is 1 by default"
   ]
  },
  {
   "cell_type": "markdown",
   "id": "6fd65559-017b-45a7-8934-bdab6af58df3",
   "metadata": {},
   "source": [
    "These functions also allow you to specify the `zscore` or the confidence interval, `ci`, of a T distribution. E.g."
   ]
  },
  {
   "cell_type": "code",
   "execution_count": 30,
   "id": "a216bcd8-52b1-487c-894b-87492bd133d8",
   "metadata": {},
   "outputs": [
    {
     "data": {
      "text/html": [
       "<table>\n",
       "<thead>\n",
       "<tr><th>(row)  </th><th style=\"text-align: right;\">  $\\mathrm{Ru}$ (f8)</th><th style=\"text-align: right;\">  $\\mathrm{Pd}$ (f8)</th><th style=\"text-align: right;\">  $\\mathrm{Cd}$ (f8)</th></tr>\n",
       "</thead>\n",
       "<tbody>\n",
       "<tr><td>None   </td><td style=\"text-align: right;\">             0.17063</td><td style=\"text-align: right;\">             0.19228</td><td style=\"text-align: right;\">             0.18230</td></tr>\n",
       "</tbody>\n",
       "</table>\n",
       "<b>IsopyNdarray</b>(-1, flavour='element', default_value=nan)"
      ],
      "text/plain": [
       "(row)      Ru (f8)    Pd (f8)    Cd (f8)\n",
       "-------  ---------  ---------  ---------\n",
       "None       0.17063    0.19228    0.18230\n",
       "IsopyNdarray(-1, flavour='element', default_value=nan)"
      ]
     },
     "execution_count": 30,
     "metadata": {},
     "output_type": "execute_result"
    }
   ],
   "source": [
    "isopy.se(c, ci=0.95) # 95 % confidence interval"
   ]
  },
  {
   "cell_type": "markdown",
   "id": "02c48c18-c951-431c-92da-7f8c434a1bd5",
   "metadata": {},
   "source": [
    "## Reference Values\n",
    "\n",
    "---\n",
    "Reference values are constants or literature values, such as the mass of each isotope, that are often used in calculations. There are, where appropriate, stored in a custom dictionary, with a few special features, as scalar values.\n",
    "\n",
    "Isopy comes with several reference values, available in the `refval` namespace documented {ref}`here<refvaldoc>`. For convinience the repr of the `isopy.refval` object return a list of the avaliable reference values and a short description."
   ]
  },
  {
   "cell_type": "code",
   "execution_count": 31,
   "id": "93a8c492-d894-4ea6-b111-48cd1ee09aa9",
   "metadata": {},
   "outputs": [
    {
     "data": {
      "text/markdown": [
       "**isopy.refval.mass** contains the following reference values\n",
       "* **isotopes** - Dictionary containing all naturally occuring isotopes with a given mass number.\n",
       "\n",
       "**isopy.refval.element** contains the following reference values\n",
       "* **isotopes** - Dictionary containing all naturally occurring isotopes for each element symbol.\n",
       "* **all_symbols** - A tuple of all the element symbols.\n",
       "* **symbol_name** - Dictionary containing the full element name mapped to the element symbol.\n",
       "* **name_symbol** - Dictionary containing the element symbol mapped to the full element name.\n",
       "* **atomic_weight** - Dictionary containing the atomic weight for each element symbol.\n",
       "* **atomic_number** - Dictionary containing the atomic number for each element symbol.\n",
       "* **initial_solar_system_abundance_L09** - Dictionary containing the element abundance of the initial solar system composition (normalized to N(Si) = 10^6 atoms) from Lodders et al. (2019).\n",
       "\n",
       "**isopy.refval.isotope** contains the following reference values\n",
       "* **mass** - Dictionary containing the default mass of each isotope.\n",
       "* **fraction** - Dictionary containing the default fraction of each isotope.\n",
       "* **mass_W17** - Dictionary containing isotope mass of each isotope from Wang et al. (2016).\n",
       "* **mass_AME20** - Dictionary containing isotope mass of each isotope from the 2020 Atomic Mass Evaluation.\n",
       "* **mass_number** - Dictionary containing mass number of each isotope.\n",
       "* **best_measurement_fraction_M16** - Dictionary containing the isotope fraction from the best avaliable measurement from Meija et al. (2016).\n",
       "* **initial_solar_system_fraction_L09** - Dictionary containing the isotope fraction of the inital solar system composition from Lodders et al. (2019).\n",
       "* **initial_solar_system_abundance_L09** - Dictionary containing the isotope abundance of the inital solar system composition (normalized to N(Si) = 10^6 atoms) from Lodders et al. (2019).\n",
       "* **initial_solar_system_abundance_L09b** - Dictionary containing the isotope abundance calcualted from the elemental abundance and the isotope fraction.\n",
       "* **present_solar_system_fraction_AG89** - Dictionary containing the isotope fraction of the present solar system composition from Anders & Grevesse 1989.\n",
       "* **initial_solar_system_abundance_AG89** - Dictionary containing the isotope abundance of the initial solar system abundance from Anders & Grevesse 1989.\n",
       "* **present_solar_system_abundance_AG89** - Dictionary containing the isotope abundance of the present solar system abundance from Anders & Grevesse 1989.\n",
       "* **sprocess_fraction_B11** - Dictionary containing the estimated s-process fraction of each isotope from Bisterzo et al. (2011)."
      ],
      "text/plain": [
       "ReferenceValues(mass=['isotopes'],\n",
       "                element=['isotopes', 'all_symbols', 'symbol_name', 'name_symbol', 'atomic_weight', 'atomic_number', 'initial_solar_system_abundance_L09'],\n",
       "                isotope=['mass', 'fraction', 'mass_W17', 'mass_AME20', 'mass_number', 'best_measurement_fraction_M16', 'initial_solar_system_fraction_L09', 'initial_solar_system_abundance_L09', 'initial_solar_system_abundance_L09b', 'present_solar_system_fraction_AG89', 'initial_solar_system_abundance_AG89', 'present_solar_system_abundance_AG89', 'sprocess_fraction_B11'])"
      ]
     },
     "execution_count": 31,
     "metadata": {},
     "output_type": "execute_result"
    }
   ],
   "source": [
    "isopy.refval"
   ]
  },
  {
   "cell_type": "markdown",
   "id": "72d9a396-50aa-49d1-9ee8-84552a17ad23",
   "metadata": {},
   "source": [
    "---\n",
    "There are two ways of retrieving the reference values that come with isopy. Directly though `refval` object or by passing the name to the {func}`isopy.asrefval` function. **Note** that the latter only works for reference values which contain scalars."
   ]
  },
  {
   "cell_type": "code",
   "execution_count": 32,
   "id": "b2b6ff69-9cab-4028-9b3b-8ba222de69b4",
   "metadata": {},
   "outputs": [
    {
     "data": {
      "text/html": [
       "<table>\n",
       "<thead>\n",
       "<tr><th>(row)  </th><th style=\"text-align: right;\">  ${}^{1}\\mathrm{H}$ (f8)</th><th style=\"text-align: right;\">  ${}^{2}\\mathrm{H}$ (f8)</th><th style=\"text-align: right;\">  ${}^{3}\\mathrm{He}$ (f8)</th><th style=\"text-align: right;\">  ${}^{4}\\mathrm{He}$ (f8)</th><th style=\"text-align: right;\">  ${}^{6}\\mathrm{Li}$ (f8)</th><th style=\"text-align: right;\">  ${}^{7}\\mathrm{Li}$ (f8)</th><th style=\"text-align: right;\">  ${}^{9}\\mathrm{Be}$ (f8)</th><th style=\"text-align: right;\">  ${}^{10}\\mathrm{B}$ (f8)</th><th style=\"text-align: right;\">  ${}^{11}\\mathrm{B}$ (f8)</th><th style=\"text-align: right;\">  ${}^{12}\\mathrm{C}$ (f8)</th><th style=\"text-align: right;\">  ${}^{13}\\mathrm{C}$ (f8)</th><th style=\"text-align: right;\">  ${}^{14}\\mathrm{N}$ (f8)</th><th style=\"text-align: right;\">  ${}^{15}\\mathrm{N}$ (f8)</th><th style=\"text-align: right;\">  ${}^{16}\\mathrm{O}$ (f8)</th><th style=\"text-align: right;\">  ${}^{17}\\mathrm{O}$ (f8)</th><th style=\"text-align: right;\">  ${}^{18}\\mathrm{O}$ (f8)</th><th style=\"text-align: right;\">  ${}^{19}\\mathrm{F}$ (f8)</th><th style=\"text-align: right;\">  ${}^{20}\\mathrm{Ne}$ (f8)</th><th style=\"text-align: right;\">  ${}^{21}\\mathrm{Ne}$ (f8)</th><th style=\"text-align: right;\">  ${}^{22}\\mathrm{Ne}$ (f8)</th><th style=\"text-align: right;\">  ${}^{23}\\mathrm{Na}$ (f8)</th><th style=\"text-align: right;\">  ${}^{24}\\mathrm{Mg}$ (f8)</th><th style=\"text-align: right;\">  ${}^{25}\\mathrm{Mg}$ (f8)</th><th style=\"text-align: right;\">  ${}^{26}\\mathrm{Mg}$ (f8)</th><th style=\"text-align: right;\">  ${}^{27}\\mathrm{Al}$ (f8)</th><th style=\"text-align: right;\">  ${}^{28}\\mathrm{Si}$ (f8)</th><th style=\"text-align: right;\">  ${}^{29}\\mathrm{Si}$ (f8)</th><th style=\"text-align: right;\">  ${}^{30}\\mathrm{Si}$ (f8)</th><th style=\"text-align: right;\">  ${}^{31}\\mathrm{P}$ (f8)</th><th style=\"text-align: right;\">  ${}^{32}\\mathrm{S}$ (f8)</th><th style=\"text-align: right;\">  ${}^{33}\\mathrm{S}$ (f8)</th><th style=\"text-align: right;\">  ${}^{34}\\mathrm{S}$ (f8)</th><th style=\"text-align: right;\">  ${}^{36}\\mathrm{S}$ (f8)</th><th style=\"text-align: right;\">  ${}^{35}\\mathrm{Cl}$ (f8)</th><th style=\"text-align: right;\">  ${}^{37}\\mathrm{Cl}$ (f8)</th><th style=\"text-align: right;\">  ${}^{36}\\mathrm{Ar}$ (f8)</th><th style=\"text-align: right;\">  ${}^{38}\\mathrm{Ar}$ (f8)</th><th style=\"text-align: right;\">  ${}^{40}\\mathrm{Ar}$ (f8)</th><th style=\"text-align: right;\">  ${}^{39}\\mathrm{K}$ (f8)</th><th style=\"text-align: right;\">  ${}^{40}\\mathrm{K}$ (f8)</th><th style=\"text-align: right;\">  ${}^{41}\\mathrm{K}$ (f8)</th><th style=\"text-align: right;\">  ${}^{40}\\mathrm{Ca}$ (f8)</th><th style=\"text-align: right;\">  ${}^{42}\\mathrm{Ca}$ (f8)</th><th style=\"text-align: right;\">  ${}^{43}\\mathrm{Ca}$ (f8)</th><th style=\"text-align: right;\">  ${}^{44}\\mathrm{Ca}$ (f8)</th><th style=\"text-align: right;\">  ${}^{46}\\mathrm{Ca}$ (f8)</th><th style=\"text-align: right;\">  ${}^{48}\\mathrm{Ca}$ (f8)</th><th style=\"text-align: right;\">  ${}^{45}\\mathrm{Sc}$ (f8)</th><th style=\"text-align: right;\">  ${}^{46}\\mathrm{Ti}$ (f8)</th><th style=\"text-align: right;\">  ${}^{47}\\mathrm{Ti}$ (f8)</th><th style=\"text-align: right;\">  ${}^{48}\\mathrm{Ti}$ (f8)</th><th style=\"text-align: right;\">  ${}^{49}\\mathrm{Ti}$ (f8)</th><th style=\"text-align: right;\">  ${}^{50}\\mathrm{Ti}$ (f8)</th><th style=\"text-align: right;\">  ${}^{50}\\mathrm{V}$ (f8)</th><th style=\"text-align: right;\">  ${}^{51}\\mathrm{V}$ (f8)</th><th style=\"text-align: right;\">  ${}^{50}\\mathrm{Cr}$ (f8)</th><th style=\"text-align: right;\">  ${}^{52}\\mathrm{Cr}$ (f8)</th><th style=\"text-align: right;\">  ${}^{53}\\mathrm{Cr}$ (f8)</th><th style=\"text-align: right;\">  ${}^{54}\\mathrm{Cr}$ (f8)</th><th style=\"text-align: right;\">  ${}^{55}\\mathrm{Mn}$ (f8)</th><th style=\"text-align: right;\">  ${}^{54}\\mathrm{Fe}$ (f8)</th><th style=\"text-align: right;\">  ${}^{56}\\mathrm{Fe}$ (f8)</th><th style=\"text-align: right;\">  ${}^{57}\\mathrm{Fe}$ (f8)</th><th style=\"text-align: right;\">  ${}^{58}\\mathrm{Fe}$ (f8)</th><th style=\"text-align: right;\">  ${}^{59}\\mathrm{Co}$ (f8)</th><th style=\"text-align: right;\">  ${}^{58}\\mathrm{Ni}$ (f8)</th><th style=\"text-align: right;\">  ${}^{60}\\mathrm{Ni}$ (f8)</th><th style=\"text-align: right;\">  ${}^{61}\\mathrm{Ni}$ (f8)</th><th style=\"text-align: right;\">  ${}^{62}\\mathrm{Ni}$ (f8)</th><th style=\"text-align: right;\">  ${}^{64}\\mathrm{Ni}$ (f8)</th><th style=\"text-align: right;\">  ${}^{63}\\mathrm{Cu}$ (f8)</th><th style=\"text-align: right;\">  ${}^{65}\\mathrm{Cu}$ (f8)</th><th style=\"text-align: right;\">  ${}^{64}\\mathrm{Zn}$ (f8)</th><th style=\"text-align: right;\">  ${}^{66}\\mathrm{Zn}$ (f8)</th><th style=\"text-align: right;\">  ${}^{67}\\mathrm{Zn}$ (f8)</th><th style=\"text-align: right;\">  ${}^{68}\\mathrm{Zn}$ (f8)</th><th style=\"text-align: right;\">  ${}^{70}\\mathrm{Zn}$ (f8)</th><th style=\"text-align: right;\">  ${}^{69}\\mathrm{Ga}$ (f8)</th><th style=\"text-align: right;\">  ${}^{71}\\mathrm{Ga}$ (f8)</th><th style=\"text-align: right;\">  ${}^{70}\\mathrm{Ge}$ (f8)</th><th style=\"text-align: right;\">  ${}^{72}\\mathrm{Ge}$ (f8)</th><th style=\"text-align: right;\">  ${}^{73}\\mathrm{Ge}$ (f8)</th><th style=\"text-align: right;\">  ${}^{74}\\mathrm{Ge}$ (f8)</th><th style=\"text-align: right;\">  ${}^{76}\\mathrm{Ge}$ (f8)</th><th style=\"text-align: right;\">  ${}^{75}\\mathrm{As}$ (f8)</th><th style=\"text-align: right;\">  ${}^{74}\\mathrm{Se}$ (f8)</th><th style=\"text-align: right;\">  ${}^{76}\\mathrm{Se}$ (f8)</th><th style=\"text-align: right;\">  ${}^{77}\\mathrm{Se}$ (f8)</th><th style=\"text-align: right;\">  ${}^{78}\\mathrm{Se}$ (f8)</th><th style=\"text-align: right;\">  ${}^{80}\\mathrm{Se}$ (f8)</th><th style=\"text-align: right;\">  ${}^{82}\\mathrm{Se}$ (f8)</th><th style=\"text-align: right;\">  ${}^{79}\\mathrm{Br}$ (f8)</th><th style=\"text-align: right;\">  ${}^{81}\\mathrm{Br}$ (f8)</th><th style=\"text-align: right;\">  ${}^{78}\\mathrm{Kr}$ (f8)</th><th style=\"text-align: right;\">  ${}^{80}\\mathrm{Kr}$ (f8)</th><th style=\"text-align: right;\">  ${}^{82}\\mathrm{Kr}$ (f8)</th><th style=\"text-align: right;\">  ${}^{83}\\mathrm{Kr}$ (f8)</th><th style=\"text-align: right;\">  ${}^{84}\\mathrm{Kr}$ (f8)</th><th style=\"text-align: right;\">  ${}^{86}\\mathrm{Kr}$ (f8)</th><th style=\"text-align: right;\">  ${}^{85}\\mathrm{Rb}$ (f8)</th><th style=\"text-align: right;\">  ${}^{87}\\mathrm{Rb}$ (f8)</th><th style=\"text-align: right;\">  ${}^{84}\\mathrm{Sr}$ (f8)</th><th style=\"text-align: right;\">  ${}^{86}\\mathrm{Sr}$ (f8)</th><th style=\"text-align: right;\">  ${}^{87}\\mathrm{Sr}$ (f8)</th><th style=\"text-align: right;\">  ${}^{88}\\mathrm{Sr}$ (f8)</th><th style=\"text-align: right;\">  ${}^{89}\\mathrm{Y}$ (f8)</th><th style=\"text-align: right;\">  ${}^{90}\\mathrm{Zr}$ (f8)</th><th style=\"text-align: right;\">  ${}^{91}\\mathrm{Zr}$ (f8)</th><th style=\"text-align: right;\">  ${}^{92}\\mathrm{Zr}$ (f8)</th><th style=\"text-align: right;\">  ${}^{94}\\mathrm{Zr}$ (f8)</th><th style=\"text-align: right;\">  ${}^{96}\\mathrm{Zr}$ (f8)</th><th style=\"text-align: right;\">  ${}^{93}\\mathrm{Nb}$ (f8)</th><th style=\"text-align: right;\">  ${}^{92}\\mathrm{Mo}$ (f8)</th><th style=\"text-align: right;\">  ${}^{94}\\mathrm{Mo}$ (f8)</th><th style=\"text-align: right;\">  ${}^{95}\\mathrm{Mo}$ (f8)</th><th style=\"text-align: right;\">  ${}^{96}\\mathrm{Mo}$ (f8)</th><th style=\"text-align: right;\">  ${}^{97}\\mathrm{Mo}$ (f8)</th><th style=\"text-align: right;\">  ${}^{98}\\mathrm{Mo}$ (f8)</th><th style=\"text-align: right;\">  ${}^{100}\\mathrm{Mo}$ (f8)</th><th style=\"text-align: right;\">  ${}^{96}\\mathrm{Ru}$ (f8)</th><th style=\"text-align: right;\">  ${}^{98}\\mathrm{Ru}$ (f8)</th><th style=\"text-align: right;\">  ${}^{99}\\mathrm{Ru}$ (f8)</th><th style=\"text-align: right;\">  ${}^{100}\\mathrm{Ru}$ (f8)</th><th style=\"text-align: right;\">  ${}^{101}\\mathrm{Ru}$ (f8)</th><th style=\"text-align: right;\">  ${}^{102}\\mathrm{Ru}$ (f8)</th><th style=\"text-align: right;\">  ${}^{104}\\mathrm{Ru}$ (f8)</th><th style=\"text-align: right;\">  ${}^{103}\\mathrm{Rh}$ (f8)</th><th style=\"text-align: right;\">  ${}^{102}\\mathrm{Pd}$ (f8)</th><th style=\"text-align: right;\">  ${}^{104}\\mathrm{Pd}$ (f8)</th><th style=\"text-align: right;\">  ${}^{105}\\mathrm{Pd}$ (f8)</th><th style=\"text-align: right;\">  ${}^{106}\\mathrm{Pd}$ (f8)</th><th style=\"text-align: right;\">  ${}^{108}\\mathrm{Pd}$ (f8)</th><th style=\"text-align: right;\">  ${}^{110}\\mathrm{Pd}$ (f8)</th><th style=\"text-align: right;\">  ${}^{107}\\mathrm{Ag}$ (f8)</th><th style=\"text-align: right;\">  ${}^{109}\\mathrm{Ag}$ (f8)</th><th style=\"text-align: right;\">  ${}^{106}\\mathrm{Cd}$ (f8)</th><th style=\"text-align: right;\">  ${}^{108}\\mathrm{Cd}$ (f8)</th><th style=\"text-align: right;\">  ${}^{110}\\mathrm{Cd}$ (f8)</th><th style=\"text-align: right;\">  ${}^{111}\\mathrm{Cd}$ (f8)</th><th style=\"text-align: right;\">  ${}^{112}\\mathrm{Cd}$ (f8)</th><th style=\"text-align: right;\">  ${}^{113}\\mathrm{Cd}$ (f8)</th><th style=\"text-align: right;\">  ${}^{114}\\mathrm{Cd}$ (f8)</th><th style=\"text-align: right;\">  ${}^{116}\\mathrm{Cd}$ (f8)</th><th style=\"text-align: right;\">  ${}^{113}\\mathrm{In}$ (f8)</th><th style=\"text-align: right;\">  ${}^{115}\\mathrm{In}$ (f8)</th><th style=\"text-align: right;\">  ${}^{112}\\mathrm{Sn}$ (f8)</th><th style=\"text-align: right;\">  ${}^{114}\\mathrm{Sn}$ (f8)</th><th style=\"text-align: right;\">  ${}^{115}\\mathrm{Sn}$ (f8)</th><th style=\"text-align: right;\">  ${}^{116}\\mathrm{Sn}$ (f8)</th><th style=\"text-align: right;\">  ${}^{117}\\mathrm{Sn}$ (f8)</th><th style=\"text-align: right;\">  ${}^{118}\\mathrm{Sn}$ (f8)</th><th style=\"text-align: right;\">  ${}^{119}\\mathrm{Sn}$ (f8)</th><th style=\"text-align: right;\">  ${}^{120}\\mathrm{Sn}$ (f8)</th><th style=\"text-align: right;\">  ${}^{122}\\mathrm{Sn}$ (f8)</th><th style=\"text-align: right;\">  ${}^{124}\\mathrm{Sn}$ (f8)</th><th style=\"text-align: right;\">  ${}^{121}\\mathrm{Sb}$ (f8)</th><th style=\"text-align: right;\">  ${}^{123}\\mathrm{Sb}$ (f8)</th><th style=\"text-align: right;\">  ${}^{120}\\mathrm{Te}$ (f8)</th><th style=\"text-align: right;\">  ${}^{122}\\mathrm{Te}$ (f8)</th><th style=\"text-align: right;\">  ${}^{123}\\mathrm{Te}$ (f8)</th><th style=\"text-align: right;\">  ${}^{124}\\mathrm{Te}$ (f8)</th><th style=\"text-align: right;\">  ${}^{125}\\mathrm{Te}$ (f8)</th><th style=\"text-align: right;\">  ${}^{126}\\mathrm{Te}$ (f8)</th><th style=\"text-align: right;\">  ${}^{128}\\mathrm{Te}$ (f8)</th><th style=\"text-align: right;\">  ${}^{130}\\mathrm{Te}$ (f8)</th><th style=\"text-align: right;\">  ${}^{127}\\mathrm{I}$ (f8)</th><th style=\"text-align: right;\">  ${}^{124}\\mathrm{Xe}$ (f8)</th><th style=\"text-align: right;\">  ${}^{126}\\mathrm{Xe}$ (f8)</th><th style=\"text-align: right;\">  ${}^{128}\\mathrm{Xe}$ (f8)</th><th style=\"text-align: right;\">  ${}^{129}\\mathrm{Xe}$ (f8)</th><th style=\"text-align: right;\">  ${}^{130}\\mathrm{Xe}$ (f8)</th><th style=\"text-align: right;\">  ${}^{131}\\mathrm{Xe}$ (f8)</th><th style=\"text-align: right;\">  ${}^{132}\\mathrm{Xe}$ (f8)</th><th style=\"text-align: right;\">  ${}^{134}\\mathrm{Xe}$ (f8)</th><th style=\"text-align: right;\">  ${}^{136}\\mathrm{Xe}$ (f8)</th><th style=\"text-align: right;\">  ${}^{133}\\mathrm{Cs}$ (f8)</th><th style=\"text-align: right;\">  ${}^{130}\\mathrm{Ba}$ (f8)</th><th style=\"text-align: right;\">  ${}^{132}\\mathrm{Ba}$ (f8)</th><th style=\"text-align: right;\">  ${}^{134}\\mathrm{Ba}$ (f8)</th><th style=\"text-align: right;\">  ${}^{135}\\mathrm{Ba}$ (f8)</th><th style=\"text-align: right;\">  ${}^{136}\\mathrm{Ba}$ (f8)</th><th style=\"text-align: right;\">  ${}^{137}\\mathrm{Ba}$ (f8)</th><th style=\"text-align: right;\">  ${}^{138}\\mathrm{Ba}$ (f8)</th><th style=\"text-align: right;\">  ${}^{138}\\mathrm{La}$ (f8)</th><th style=\"text-align: right;\">  ${}^{139}\\mathrm{La}$ (f8)</th><th style=\"text-align: right;\">  ${}^{136}\\mathrm{Ce}$ (f8)</th><th style=\"text-align: right;\">  ${}^{138}\\mathrm{Ce}$ (f8)</th><th style=\"text-align: right;\">  ${}^{140}\\mathrm{Ce}$ (f8)</th><th style=\"text-align: right;\">  ${}^{142}\\mathrm{Ce}$ (f8)</th><th style=\"text-align: right;\">  ${}^{141}\\mathrm{Pr}$ (f8)</th><th style=\"text-align: right;\">  ${}^{142}\\mathrm{Nd}$ (f8)</th><th style=\"text-align: right;\">  ${}^{143}\\mathrm{Nd}$ (f8)</th><th style=\"text-align: right;\">  ${}^{144}\\mathrm{Nd}$ (f8)</th><th style=\"text-align: right;\">  ${}^{145}\\mathrm{Nd}$ (f8)</th><th style=\"text-align: right;\">  ${}^{146}\\mathrm{Nd}$ (f8)</th><th style=\"text-align: right;\">  ${}^{148}\\mathrm{Nd}$ (f8)</th><th style=\"text-align: right;\">  ${}^{150}\\mathrm{Nd}$ (f8)</th><th style=\"text-align: right;\">  ${}^{144}\\mathrm{Sm}$ (f8)</th><th style=\"text-align: right;\">  ${}^{147}\\mathrm{Sm}$ (f8)</th><th style=\"text-align: right;\">  ${}^{148}\\mathrm{Sm}$ (f8)</th><th style=\"text-align: right;\">  ${}^{149}\\mathrm{Sm}$ (f8)</th><th style=\"text-align: right;\">  ${}^{150}\\mathrm{Sm}$ (f8)</th><th style=\"text-align: right;\">  ${}^{152}\\mathrm{Sm}$ (f8)</th><th style=\"text-align: right;\">  ${}^{154}\\mathrm{Sm}$ (f8)</th><th style=\"text-align: right;\">  ${}^{151}\\mathrm{Eu}$ (f8)</th><th style=\"text-align: right;\">  ${}^{153}\\mathrm{Eu}$ (f8)</th><th style=\"text-align: right;\">  ${}^{152}\\mathrm{Gd}$ (f8)</th><th style=\"text-align: right;\">  ${}^{154}\\mathrm{Gd}$ (f8)</th><th style=\"text-align: right;\">  ${}^{155}\\mathrm{Gd}$ (f8)</th><th style=\"text-align: right;\">  ${}^{156}\\mathrm{Gd}$ (f8)</th><th style=\"text-align: right;\">  ${}^{157}\\mathrm{Gd}$ (f8)</th><th style=\"text-align: right;\">  ${}^{158}\\mathrm{Gd}$ (f8)</th><th style=\"text-align: right;\">  ${}^{160}\\mathrm{Gd}$ (f8)</th><th style=\"text-align: right;\">  ${}^{159}\\mathrm{Tb}$ (f8)</th><th style=\"text-align: right;\">  ${}^{156}\\mathrm{Dy}$ (f8)</th><th style=\"text-align: right;\">  ${}^{158}\\mathrm{Dy}$ (f8)</th><th style=\"text-align: right;\">  ${}^{160}\\mathrm{Dy}$ (f8)</th><th style=\"text-align: right;\">  ${}^{161}\\mathrm{Dy}$ (f8)</th><th style=\"text-align: right;\">  ${}^{162}\\mathrm{Dy}$ (f8)</th><th style=\"text-align: right;\">  ${}^{163}\\mathrm{Dy}$ (f8)</th><th style=\"text-align: right;\">  ${}^{164}\\mathrm{Dy}$ (f8)</th><th style=\"text-align: right;\">  ${}^{165}\\mathrm{Ho}$ (f8)</th><th style=\"text-align: right;\">  ${}^{162}\\mathrm{Er}$ (f8)</th><th style=\"text-align: right;\">  ${}^{164}\\mathrm{Er}$ (f8)</th><th style=\"text-align: right;\">  ${}^{166}\\mathrm{Er}$ (f8)</th><th style=\"text-align: right;\">  ${}^{167}\\mathrm{Er}$ (f8)</th><th style=\"text-align: right;\">  ${}^{168}\\mathrm{Er}$ (f8)</th><th style=\"text-align: right;\">  ${}^{170}\\mathrm{Er}$ (f8)</th><th style=\"text-align: right;\">  ${}^{169}\\mathrm{Tm}$ (f8)</th><th style=\"text-align: right;\">  ${}^{168}\\mathrm{Yb}$ (f8)</th><th style=\"text-align: right;\">  ${}^{170}\\mathrm{Yb}$ (f8)</th><th style=\"text-align: right;\">  ${}^{171}\\mathrm{Yb}$ (f8)</th><th style=\"text-align: right;\">  ${}^{172}\\mathrm{Yb}$ (f8)</th><th style=\"text-align: right;\">  ${}^{173}\\mathrm{Yb}$ (f8)</th><th style=\"text-align: right;\">  ${}^{174}\\mathrm{Yb}$ (f8)</th><th style=\"text-align: right;\">  ${}^{176}\\mathrm{Yb}$ (f8)</th><th style=\"text-align: right;\">  ${}^{175}\\mathrm{Lu}$ (f8)</th><th style=\"text-align: right;\">  ${}^{176}\\mathrm{Lu}$ (f8)</th><th style=\"text-align: right;\">  ${}^{174}\\mathrm{Hf}$ (f8)</th><th style=\"text-align: right;\">  ${}^{176}\\mathrm{Hf}$ (f8)</th><th style=\"text-align: right;\">  ${}^{177}\\mathrm{Hf}$ (f8)</th><th style=\"text-align: right;\">  ${}^{178}\\mathrm{Hf}$ (f8)</th><th style=\"text-align: right;\">  ${}^{179}\\mathrm{Hf}$ (f8)</th><th style=\"text-align: right;\">  ${}^{180}\\mathrm{Hf}$ (f8)</th><th style=\"text-align: right;\">  ${}^{180}\\mathrm{Ta}$ (f8)</th><th style=\"text-align: right;\">  ${}^{181}\\mathrm{Ta}$ (f8)</th><th style=\"text-align: right;\">  ${}^{180}\\mathrm{W}$ (f8)</th><th style=\"text-align: right;\">  ${}^{182}\\mathrm{W}$ (f8)</th><th style=\"text-align: right;\">  ${}^{183}\\mathrm{W}$ (f8)</th><th style=\"text-align: right;\">  ${}^{184}\\mathrm{W}$ (f8)</th><th style=\"text-align: right;\">  ${}^{186}\\mathrm{W}$ (f8)</th><th style=\"text-align: right;\">  ${}^{185}\\mathrm{Re}$ (f8)</th><th style=\"text-align: right;\">  ${}^{187}\\mathrm{Re}$ (f8)</th><th style=\"text-align: right;\">  ${}^{184}\\mathrm{Os}$ (f8)</th><th style=\"text-align: right;\">  ${}^{186}\\mathrm{Os}$ (f8)</th><th style=\"text-align: right;\">  ${}^{187}\\mathrm{Os}$ (f8)</th><th style=\"text-align: right;\">  ${}^{188}\\mathrm{Os}$ (f8)</th><th style=\"text-align: right;\">  ${}^{189}\\mathrm{Os}$ (f8)</th><th style=\"text-align: right;\">  ${}^{190}\\mathrm{Os}$ (f8)</th><th style=\"text-align: right;\">  ${}^{192}\\mathrm{Os}$ (f8)</th><th style=\"text-align: right;\">  ${}^{191}\\mathrm{Ir}$ (f8)</th><th style=\"text-align: right;\">  ${}^{193}\\mathrm{Ir}$ (f8)</th><th style=\"text-align: right;\">  ${}^{190}\\mathrm{Pt}$ (f8)</th><th style=\"text-align: right;\">  ${}^{192}\\mathrm{Pt}$ (f8)</th><th style=\"text-align: right;\">  ${}^{194}\\mathrm{Pt}$ (f8)</th><th style=\"text-align: right;\">  ${}^{195}\\mathrm{Pt}$ (f8)</th><th style=\"text-align: right;\">  ${}^{196}\\mathrm{Pt}$ (f8)</th><th style=\"text-align: right;\">  ${}^{198}\\mathrm{Pt}$ (f8)</th><th style=\"text-align: right;\">  ${}^{197}\\mathrm{Au}$ (f8)</th><th style=\"text-align: right;\">  ${}^{196}\\mathrm{Hg}$ (f8)</th><th style=\"text-align: right;\">  ${}^{198}\\mathrm{Hg}$ (f8)</th><th style=\"text-align: right;\">  ${}^{199}\\mathrm{Hg}$ (f8)</th><th style=\"text-align: right;\">  ${}^{200}\\mathrm{Hg}$ (f8)</th><th style=\"text-align: right;\">  ${}^{201}\\mathrm{Hg}$ (f8)</th><th style=\"text-align: right;\">  ${}^{202}\\mathrm{Hg}$ (f8)</th><th style=\"text-align: right;\">  ${}^{204}\\mathrm{Hg}$ (f8)</th><th style=\"text-align: right;\">  ${}^{203}\\mathrm{Tl}$ (f8)</th><th style=\"text-align: right;\">  ${}^{205}\\mathrm{Tl}$ (f8)</th><th style=\"text-align: right;\">  ${}^{204}\\mathrm{Pb}$ (f8)</th><th style=\"text-align: right;\">  ${}^{206}\\mathrm{Pb}$ (f8)</th><th style=\"text-align: right;\">  ${}^{207}\\mathrm{Pb}$ (f8)</th><th style=\"text-align: right;\">  ${}^{208}\\mathrm{Pb}$ (f8)</th><th style=\"text-align: right;\">  ${}^{209}\\mathrm{Bi}$ (f8)</th><th style=\"text-align: right;\">  ${}^{230}\\mathrm{Th}$ (f8)</th><th style=\"text-align: right;\">  ${}^{232}\\mathrm{Th}$ (f8)</th><th style=\"text-align: right;\">  ${}^{231}\\mathrm{Pa}$ (f8)</th><th style=\"text-align: right;\">  ${}^{234}\\mathrm{U}$ (f8)</th><th style=\"text-align: right;\">  ${}^{235}\\mathrm{U}$ (f8)</th><th style=\"text-align: right;\">  ${}^{238}\\mathrm{U}$ (f8)</th></tr>\n",
       "</thead>\n",
       "<tbody>\n",
       "<tr><td>None   </td><td style=\"text-align: right;\">                  0.99984</td><td style=\"text-align: right;\">                  0.00016</td><td style=\"text-align: right;\">                   0.00000</td><td style=\"text-align: right;\">                   1.00000</td><td style=\"text-align: right;\">                   0.07589</td><td style=\"text-align: right;\">                   0.92411</td><td style=\"text-align: right;\">                   1.00000</td><td style=\"text-align: right;\">                   0.19820</td><td style=\"text-align: right;\">                   0.80180</td><td style=\"text-align: right;\">                   0.98892</td><td style=\"text-align: right;\">                   0.01108</td><td style=\"text-align: right;\">                   0.99634</td><td style=\"text-align: right;\">                   0.00366</td><td style=\"text-align: right;\">                   0.99762</td><td style=\"text-align: right;\">                   0.00038</td><td style=\"text-align: right;\">                   0.00200</td><td style=\"text-align: right;\">                   1.00000</td><td style=\"text-align: right;\">                    0.90484</td><td style=\"text-align: right;\">                    0.00270</td><td style=\"text-align: right;\">                    0.09247</td><td style=\"text-align: right;\">                    1.00000</td><td style=\"text-align: right;\">                    0.78951</td><td style=\"text-align: right;\">                    0.10020</td><td style=\"text-align: right;\">                    0.11029</td><td style=\"text-align: right;\">                    1.00000</td><td style=\"text-align: right;\">                    0.92230</td><td style=\"text-align: right;\">                    0.04683</td><td style=\"text-align: right;\">                    0.03087</td><td style=\"text-align: right;\">                   1.00000</td><td style=\"text-align: right;\">                   0.95041</td><td style=\"text-align: right;\">                   0.00749</td><td style=\"text-align: right;\">                   0.04196</td><td style=\"text-align: right;\">                   0.00015</td><td style=\"text-align: right;\">                    0.75765</td><td style=\"text-align: right;\">                    0.24235</td><td style=\"text-align: right;\">                    0.00334</td><td style=\"text-align: right;\">                    0.00063</td><td style=\"text-align: right;\">                    0.99604</td><td style=\"text-align: right;\">                   0.93258</td><td style=\"text-align: right;\">                   0.00012</td><td style=\"text-align: right;\">                   0.06730</td><td style=\"text-align: right;\">                    0.96941</td><td style=\"text-align: right;\">                    0.00647</td><td style=\"text-align: right;\">                    0.00135</td><td style=\"text-align: right;\">                    0.02086</td><td style=\"text-align: right;\">                    0.00004</td><td style=\"text-align: right;\">                    0.00187</td><td style=\"text-align: right;\">                    1.00000</td><td style=\"text-align: right;\">                    0.08249</td><td style=\"text-align: right;\">                    0.07437</td><td style=\"text-align: right;\">                    0.73720</td><td style=\"text-align: right;\">                    0.05409</td><td style=\"text-align: right;\">                    0.05185</td><td style=\"text-align: right;\">                   0.00250</td><td style=\"text-align: right;\">                   0.99750</td><td style=\"text-align: right;\">                    0.04345</td><td style=\"text-align: right;\">                    0.83789</td><td style=\"text-align: right;\">                    0.09501</td><td style=\"text-align: right;\">                    0.02365</td><td style=\"text-align: right;\">                    1.00000</td><td style=\"text-align: right;\">                    0.05845</td><td style=\"text-align: right;\">                    0.91754</td><td style=\"text-align: right;\">                    0.02119</td><td style=\"text-align: right;\">                    0.00282</td><td style=\"text-align: right;\">                    1.00000</td><td style=\"text-align: right;\">                    0.68077</td><td style=\"text-align: right;\">                    0.26223</td><td style=\"text-align: right;\">                    0.01140</td><td style=\"text-align: right;\">                    0.03635</td><td style=\"text-align: right;\">                    0.00926</td><td style=\"text-align: right;\">                    0.69174</td><td style=\"text-align: right;\">                    0.30826</td><td style=\"text-align: right;\">                    0.49170</td><td style=\"text-align: right;\">                    0.27731</td><td style=\"text-align: right;\">                    0.04040</td><td style=\"text-align: right;\">                    0.18448</td><td style=\"text-align: right;\">                    0.00611</td><td style=\"text-align: right;\">                    0.60108</td><td style=\"text-align: right;\">                    0.39892</td><td style=\"text-align: right;\">                    0.20526</td><td style=\"text-align: right;\">                    0.27446</td><td style=\"text-align: right;\">                    0.07760</td><td style=\"text-align: right;\">                    0.36523</td><td style=\"text-align: right;\">                    0.07745</td><td style=\"text-align: right;\">                    1.00000</td><td style=\"text-align: right;\">                    0.00863</td><td style=\"text-align: right;\">                    0.09220</td><td style=\"text-align: right;\">                    0.07594</td><td style=\"text-align: right;\">                    0.23685</td><td style=\"text-align: right;\">                    0.49813</td><td style=\"text-align: right;\">                    0.08825</td><td style=\"text-align: right;\">                    0.50686</td><td style=\"text-align: right;\">                    0.49314</td><td style=\"text-align: right;\">                    0.00355</td><td style=\"text-align: right;\">                    0.02286</td><td style=\"text-align: right;\">                    0.11593</td><td style=\"text-align: right;\">                    0.11500</td><td style=\"text-align: right;\">                    0.56988</td><td style=\"text-align: right;\">                    0.17279</td><td style=\"text-align: right;\">                    0.72165</td><td style=\"text-align: right;\">                    0.27835</td><td style=\"text-align: right;\">                    0.00557</td><td style=\"text-align: right;\">                    0.09857</td><td style=\"text-align: right;\">                    0.07001</td><td style=\"text-align: right;\">                    0.82585</td><td style=\"text-align: right;\">                   1.00000</td><td style=\"text-align: right;\">                    0.51452</td><td style=\"text-align: right;\">                    0.11223</td><td style=\"text-align: right;\">                    0.17146</td><td style=\"text-align: right;\">                    0.17380</td><td style=\"text-align: right;\">                    0.02799</td><td style=\"text-align: right;\">                    1.00000</td><td style=\"text-align: right;\">                    0.14649</td><td style=\"text-align: right;\">                    0.09187</td><td style=\"text-align: right;\">                    0.15873</td><td style=\"text-align: right;\">                    0.16673</td><td style=\"text-align: right;\">                    0.09582</td><td style=\"text-align: right;\">                    0.24292</td><td style=\"text-align: right;\">                     0.09744</td><td style=\"text-align: right;\">                    0.05542</td><td style=\"text-align: right;\">                    0.01869</td><td style=\"text-align: right;\">                    0.12758</td><td style=\"text-align: right;\">                     0.12599</td><td style=\"text-align: right;\">                     0.17060</td><td style=\"text-align: right;\">                     0.31552</td><td style=\"text-align: right;\">                     0.18621</td><td style=\"text-align: right;\">                     1.00000</td><td style=\"text-align: right;\">                     0.01020</td><td style=\"text-align: right;\">                     0.11140</td><td style=\"text-align: right;\">                     0.22330</td><td style=\"text-align: right;\">                     0.27330</td><td style=\"text-align: right;\">                     0.26460</td><td style=\"text-align: right;\">                     0.11720</td><td style=\"text-align: right;\">                     0.51839</td><td style=\"text-align: right;\">                     0.48161</td><td style=\"text-align: right;\">                     0.01249</td><td style=\"text-align: right;\">                     0.00890</td><td style=\"text-align: right;\">                     0.12485</td><td style=\"text-align: right;\">                     0.12804</td><td style=\"text-align: right;\">                     0.24117</td><td style=\"text-align: right;\">                     0.12225</td><td style=\"text-align: right;\">                     0.28729</td><td style=\"text-align: right;\">                     0.07501</td><td style=\"text-align: right;\">                     0.04281</td><td style=\"text-align: right;\">                     0.95719</td><td style=\"text-align: right;\">                     0.00973</td><td style=\"text-align: right;\">                     0.00659</td><td style=\"text-align: right;\">                     0.00339</td><td style=\"text-align: right;\">                     0.14536</td><td style=\"text-align: right;\">                     0.07676</td><td style=\"text-align: right;\">                     0.24223</td><td style=\"text-align: right;\">                     0.08585</td><td style=\"text-align: right;\">                     0.32593</td><td style=\"text-align: right;\">                     0.04629</td><td style=\"text-align: right;\">                     0.05789</td><td style=\"text-align: right;\">                     0.57213</td><td style=\"text-align: right;\">                     0.42787</td><td style=\"text-align: right;\">                     0.00096</td><td style=\"text-align: right;\">                     0.02603</td><td style=\"text-align: right;\">                     0.00908</td><td style=\"text-align: right;\">                     0.04816</td><td style=\"text-align: right;\">                     0.07139</td><td style=\"text-align: right;\">                     0.18952</td><td style=\"text-align: right;\">                     0.31687</td><td style=\"text-align: right;\">                     0.33799</td><td style=\"text-align: right;\">                    1.00000</td><td style=\"text-align: right;\">                     0.00095</td><td style=\"text-align: right;\">                     0.00089</td><td style=\"text-align: right;\">                     0.01910</td><td style=\"text-align: right;\">                     0.26401</td><td style=\"text-align: right;\">                     0.04071</td><td style=\"text-align: right;\">                     0.21232</td><td style=\"text-align: right;\">                     0.26909</td><td style=\"text-align: right;\">                     0.10436</td><td style=\"text-align: right;\">                     0.08857</td><td style=\"text-align: right;\">                     1.00000</td><td style=\"text-align: right;\">                     0.00106</td><td style=\"text-align: right;\">                     0.00101</td><td style=\"text-align: right;\">                     0.02417</td><td style=\"text-align: right;\">                     0.06592</td><td style=\"text-align: right;\">                     0.07853</td><td style=\"text-align: right;\">                     0.11232</td><td style=\"text-align: right;\">                     0.71699</td><td style=\"text-align: right;\">                     0.00089</td><td style=\"text-align: right;\">                     0.99911</td><td style=\"text-align: right;\">                     0.00186</td><td style=\"text-align: right;\">                     0.00251</td><td style=\"text-align: right;\">                     0.88449</td><td style=\"text-align: right;\">                     0.11114</td><td style=\"text-align: right;\">                     1.00000</td><td style=\"text-align: right;\">                     0.27153</td><td style=\"text-align: right;\">                     0.12173</td><td style=\"text-align: right;\">                     0.23798</td><td style=\"text-align: right;\">                     0.08293</td><td style=\"text-align: right;\">                     0.17189</td><td style=\"text-align: right;\">                     0.05756</td><td style=\"text-align: right;\">                     0.05638</td><td style=\"text-align: right;\">                     0.03078</td><td style=\"text-align: right;\">                     0.15004</td><td style=\"text-align: right;\">                     0.11248</td><td style=\"text-align: right;\">                     0.13824</td><td style=\"text-align: right;\">                     0.07365</td><td style=\"text-align: right;\">                     0.26740</td><td style=\"text-align: right;\">                     0.22741</td><td style=\"text-align: right;\">                     0.47810</td><td style=\"text-align: right;\">                     0.52190</td><td style=\"text-align: right;\">                     0.00203</td><td style=\"text-align: right;\">                     0.02181</td><td style=\"text-align: right;\">                     0.14800</td><td style=\"text-align: right;\">                     0.20466</td><td style=\"text-align: right;\">                     0.15652</td><td style=\"text-align: right;\">                     0.24835</td><td style=\"text-align: right;\">                     0.21863</td><td style=\"text-align: right;\">                     1.00000</td><td style=\"text-align: right;\">                     0.00056</td><td style=\"text-align: right;\">                     0.00095</td><td style=\"text-align: right;\">                     0.02329</td><td style=\"text-align: right;\">                     0.18889</td><td style=\"text-align: right;\">                     0.25475</td><td style=\"text-align: right;\">                     0.24896</td><td style=\"text-align: right;\">                     0.28260</td><td style=\"text-align: right;\">                     1.00000</td><td style=\"text-align: right;\">                     0.00139</td><td style=\"text-align: right;\">                     0.01601</td><td style=\"text-align: right;\">                     0.33501</td><td style=\"text-align: right;\">                     0.22872</td><td style=\"text-align: right;\">                     0.26985</td><td style=\"text-align: right;\">                     0.14901</td><td style=\"text-align: right;\">                     1.00000</td><td style=\"text-align: right;\">                     0.00123</td><td style=\"text-align: right;\">                     0.02982</td><td style=\"text-align: right;\">                     0.14086</td><td style=\"text-align: right;\">                     0.21686</td><td style=\"text-align: right;\">                     0.16103</td><td style=\"text-align: right;\">                     0.32025</td><td style=\"text-align: right;\">                     0.12995</td><td style=\"text-align: right;\">                     0.97401</td><td style=\"text-align: right;\">                     0.02599</td><td style=\"text-align: right;\">                     0.00162</td><td style=\"text-align: right;\">                     0.05260</td><td style=\"text-align: right;\">                     0.18595</td><td style=\"text-align: right;\">                     0.27281</td><td style=\"text-align: right;\">                     0.13621</td><td style=\"text-align: right;\">                     0.35080</td><td style=\"text-align: right;\">                     0.00012</td><td style=\"text-align: right;\">                     0.99988</td><td style=\"text-align: right;\">                    0.00120</td><td style=\"text-align: right;\">                    0.26499</td><td style=\"text-align: right;\">                    0.14314</td><td style=\"text-align: right;\">                    0.30642</td><td style=\"text-align: right;\">                    0.28426</td><td style=\"text-align: right;\">                     0.37398</td><td style=\"text-align: right;\">                     0.62602</td><td style=\"text-align: right;\">                     0.00020</td><td style=\"text-align: right;\">                     0.01586</td><td style=\"text-align: right;\">                     0.01964</td><td style=\"text-align: right;\">                     0.13243</td><td style=\"text-align: right;\">                     0.16147</td><td style=\"text-align: right;\">                     0.26258</td><td style=\"text-align: right;\">                     0.40781</td><td style=\"text-align: right;\">                     0.37272</td><td style=\"text-align: right;\">                     0.62728</td><td style=\"text-align: right;\">                     0.00012</td><td style=\"text-align: right;\">                     0.00782</td><td style=\"text-align: right;\">                     0.32864</td><td style=\"text-align: right;\">                     0.33775</td><td style=\"text-align: right;\">                     0.25211</td><td style=\"text-align: right;\">                     0.07357</td><td style=\"text-align: right;\">                     1.00000</td><td style=\"text-align: right;\">                     0.00155</td><td style=\"text-align: right;\">                     0.10038</td><td style=\"text-align: right;\">                     0.16938</td><td style=\"text-align: right;\">                     0.23138</td><td style=\"text-align: right;\">                     0.13170</td><td style=\"text-align: right;\">                     0.29743</td><td style=\"text-align: right;\">                     0.06818</td><td style=\"text-align: right;\">                     0.29524</td><td style=\"text-align: right;\">                     0.70476</td><td style=\"text-align: right;\">                     0.01425</td><td style=\"text-align: right;\">                     0.24145</td><td style=\"text-align: right;\">                     0.22083</td><td style=\"text-align: right;\">                     0.52348</td><td style=\"text-align: right;\">                     1.00000</td><td style=\"text-align: right;\">                     0.00001</td><td style=\"text-align: right;\">                     0.99999</td><td style=\"text-align: right;\">                     1.00000</td><td style=\"text-align: right;\">                    0.00005</td><td style=\"text-align: right;\">                    0.00720</td><td style=\"text-align: right;\">                    0.99274</td></tr>\n",
       "</tbody>\n",
       "</table>\n",
       "<b>RefValDict</b>(1, readonly=True, key_flavour='any', ratio_function='divide', molecule_functions='fraction', default_value=nan)"
      ],
      "text/plain": [
       "(row)      1H (f8)    2H (f8)    3He (f8)    4He (f8)    6Li (f8)    7Li (f8)    9Be (f8)    10B (f8)    11B (f8)    12C (f8)    13C (f8)    14N (f8)    15N (f8)    16O (f8)    17O (f8)    18O (f8)    19F (f8)    20Ne (f8)    21Ne (f8)    22Ne (f8)    23Na (f8)    24Mg (f8)    25Mg (f8)    26Mg (f8)    27Al (f8)    28Si (f8)    29Si (f8)    30Si (f8)    31P (f8)    32S (f8)    33S (f8)    34S (f8)    36S (f8)    35Cl (f8)    37Cl (f8)    36Ar (f8)    38Ar (f8)    40Ar (f8)    39K (f8)    40K (f8)    41K (f8)    40Ca (f8)    42Ca (f8)    43Ca (f8)    44Ca (f8)    46Ca (f8)    48Ca (f8)    45Sc (f8)    46Ti (f8)    47Ti (f8)    48Ti (f8)    49Ti (f8)    50Ti (f8)    50V (f8)    51V (f8)    50Cr (f8)    52Cr (f8)    53Cr (f8)    54Cr (f8)    55Mn (f8)    54Fe (f8)    56Fe (f8)    57Fe (f8)    58Fe (f8)    59Co (f8)    58Ni (f8)    60Ni (f8)    61Ni (f8)    62Ni (f8)    64Ni (f8)    63Cu (f8)    65Cu (f8)    64Zn (f8)    66Zn (f8)    67Zn (f8)    68Zn (f8)    70Zn (f8)    69Ga (f8)    71Ga (f8)    70Ge (f8)    72Ge (f8)    73Ge (f8)    74Ge (f8)    76Ge (f8)    75As (f8)    74Se (f8)    76Se (f8)    77Se (f8)    78Se (f8)    80Se (f8)    82Se (f8)    79Br (f8)    81Br (f8)    78Kr (f8)    80Kr (f8)    82Kr (f8)    83Kr (f8)    84Kr (f8)    86Kr (f8)    85Rb (f8)    87Rb (f8)    84Sr (f8)    86Sr (f8)    87Sr (f8)    88Sr (f8)    89Y (f8)    90Zr (f8)    91Zr (f8)    92Zr (f8)    94Zr (f8)    96Zr (f8)    93Nb (f8)    92Mo (f8)    94Mo (f8)    95Mo (f8)    96Mo (f8)    97Mo (f8)    98Mo (f8)    100Mo (f8)    96Ru (f8)    98Ru (f8)    99Ru (f8)    100Ru (f8)    101Ru (f8)    102Ru (f8)    104Ru (f8)    103Rh (f8)    102Pd (f8)    104Pd (f8)    105Pd (f8)    106Pd (f8)    108Pd (f8)    110Pd (f8)    107Ag (f8)    109Ag (f8)    106Cd (f8)    108Cd (f8)    110Cd (f8)    111Cd (f8)    112Cd (f8)    113Cd (f8)    114Cd (f8)    116Cd (f8)    113In (f8)    115In (f8)    112Sn (f8)    114Sn (f8)    115Sn (f8)    116Sn (f8)    117Sn (f8)    118Sn (f8)    119Sn (f8)    120Sn (f8)    122Sn (f8)    124Sn (f8)    121Sb (f8)    123Sb (f8)    120Te (f8)    122Te (f8)    123Te (f8)    124Te (f8)    125Te (f8)    126Te (f8)    128Te (f8)    130Te (f8)    127I (f8)    124Xe (f8)    126Xe (f8)    128Xe (f8)    129Xe (f8)    130Xe (f8)    131Xe (f8)    132Xe (f8)    134Xe (f8)    136Xe (f8)    133Cs (f8)    130Ba (f8)    132Ba (f8)    134Ba (f8)    135Ba (f8)    136Ba (f8)    137Ba (f8)    138Ba (f8)    138La (f8)    139La (f8)    136Ce (f8)    138Ce (f8)    140Ce (f8)    142Ce (f8)    141Pr (f8)    142Nd (f8)    143Nd (f8)    144Nd (f8)    145Nd (f8)    146Nd (f8)    148Nd (f8)    150Nd (f8)    144Sm (f8)    147Sm (f8)    148Sm (f8)    149Sm (f8)    150Sm (f8)    152Sm (f8)    154Sm (f8)    151Eu (f8)    153Eu (f8)    152Gd (f8)    154Gd (f8)    155Gd (f8)    156Gd (f8)    157Gd (f8)    158Gd (f8)    160Gd (f8)    159Tb (f8)    156Dy (f8)    158Dy (f8)    160Dy (f8)    161Dy (f8)    162Dy (f8)    163Dy (f8)    164Dy (f8)    165Ho (f8)    162Er (f8)    164Er (f8)    166Er (f8)    167Er (f8)    168Er (f8)    170Er (f8)    169Tm (f8)    168Yb (f8)    170Yb (f8)    171Yb (f8)    172Yb (f8)    173Yb (f8)    174Yb (f8)    176Yb (f8)    175Lu (f8)    176Lu (f8)    174Hf (f8)    176Hf (f8)    177Hf (f8)    178Hf (f8)    179Hf (f8)    180Hf (f8)    180Ta (f8)    181Ta (f8)    180W (f8)    182W (f8)    183W (f8)    184W (f8)    186W (f8)    185Re (f8)    187Re (f8)    184Os (f8)    186Os (f8)    187Os (f8)    188Os (f8)    189Os (f8)    190Os (f8)    192Os (f8)    191Ir (f8)    193Ir (f8)    190Pt (f8)    192Pt (f8)    194Pt (f8)    195Pt (f8)    196Pt (f8)    198Pt (f8)    197Au (f8)    196Hg (f8)    198Hg (f8)    199Hg (f8)    200Hg (f8)    201Hg (f8)    202Hg (f8)    204Hg (f8)    203Tl (f8)    205Tl (f8)    204Pb (f8)    206Pb (f8)    207Pb (f8)    208Pb (f8)    209Bi (f8)    230Th (f8)    232Th (f8)    231Pa (f8)    234U (f8)    235U (f8)    238U (f8)\n",
       "-------  ---------  ---------  ----------  ----------  ----------  ----------  ----------  ----------  ----------  ----------  ----------  ----------  ----------  ----------  ----------  ----------  ----------  -----------  -----------  -----------  -----------  -----------  -----------  -----------  -----------  -----------  -----------  -----------  ----------  ----------  ----------  ----------  ----------  -----------  -----------  -----------  -----------  -----------  ----------  ----------  ----------  -----------  -----------  -----------  -----------  -----------  -----------  -----------  -----------  -----------  -----------  -----------  -----------  ----------  ----------  -----------  -----------  -----------  -----------  -----------  -----------  -----------  -----------  -----------  -----------  -----------  -----------  -----------  -----------  -----------  -----------  -----------  -----------  -----------  -----------  -----------  -----------  -----------  -----------  -----------  -----------  -----------  -----------  -----------  -----------  -----------  -----------  -----------  -----------  -----------  -----------  -----------  -----------  -----------  -----------  -----------  -----------  -----------  -----------  -----------  -----------  -----------  -----------  -----------  -----------  ----------  -----------  -----------  -----------  -----------  -----------  -----------  -----------  -----------  -----------  -----------  -----------  -----------  ------------  -----------  -----------  -----------  ------------  ------------  ------------  ------------  ------------  ------------  ------------  ------------  ------------  ------------  ------------  ------------  ------------  ------------  ------------  ------------  ------------  ------------  ------------  ------------  ------------  ------------  ------------  ------------  ------------  ------------  ------------  ------------  ------------  ------------  ------------  ------------  ------------  ------------  ------------  ------------  ------------  ------------  ------------  ------------  ------------  ------------  ------------  -----------  ------------  ------------  ------------  ------------  ------------  ------------  ------------  ------------  ------------  ------------  ------------  ------------  ------------  ------------  ------------  ------------  ------------  ------------  ------------  ------------  ------------  ------------  ------------  ------------  ------------  ------------  ------------  ------------  ------------  ------------  ------------  ------------  ------------  ------------  ------------  ------------  ------------  ------------  ------------  ------------  ------------  ------------  ------------  ------------  ------------  ------------  ------------  ------------  ------------  ------------  ------------  ------------  ------------  ------------  ------------  ------------  ------------  ------------  ------------  ------------  ------------  ------------  ------------  ------------  ------------  ------------  ------------  ------------  ------------  ------------  ------------  ------------  ------------  ------------  ------------  ------------  ------------  ------------  ------------  ------------  -----------  -----------  -----------  -----------  -----------  ------------  ------------  ------------  ------------  ------------  ------------  ------------  ------------  ------------  ------------  ------------  ------------  ------------  ------------  ------------  ------------  ------------  ------------  ------------  ------------  ------------  ------------  ------------  ------------  ------------  ------------  ------------  ------------  ------------  ------------  ------------  ------------  ------------  ------------  ------------  -----------  -----------  -----------\n",
       "None       0.99984    0.00016     0.00000     1.00000     0.07589     0.92411     1.00000     0.19820     0.80180     0.98892     0.01108     0.99634     0.00366     0.99762     0.00038     0.00200     1.00000      0.90484      0.00270      0.09247      1.00000      0.78951      0.10020      0.11029      1.00000      0.92230      0.04683      0.03087     1.00000     0.95041     0.00749     0.04196     0.00015      0.75765      0.24235      0.00334      0.00063      0.99604     0.93258     0.00012     0.06730      0.96941      0.00647      0.00135      0.02086      0.00004      0.00187      1.00000      0.08249      0.07437      0.73720      0.05409      0.05185     0.00250     0.99750      0.04345      0.83789      0.09501      0.02365      1.00000      0.05845      0.91754      0.02119      0.00282      1.00000      0.68077      0.26223      0.01140      0.03635      0.00926      0.69174      0.30826      0.49170      0.27731      0.04040      0.18448      0.00611      0.60108      0.39892      0.20526      0.27446      0.07760      0.36523      0.07745      1.00000      0.00863      0.09220      0.07594      0.23685      0.49813      0.08825      0.50686      0.49314      0.00355      0.02286      0.11593      0.11500      0.56988      0.17279      0.72165      0.27835      0.00557      0.09857      0.07001      0.82585     1.00000      0.51452      0.11223      0.17146      0.17380      0.02799      1.00000      0.14649      0.09187      0.15873      0.16673      0.09582      0.24292       0.09744      0.05542      0.01869      0.12758       0.12599       0.17060       0.31552       0.18621       1.00000       0.01020       0.11140       0.22330       0.27330       0.26460       0.11720       0.51839       0.48161       0.01249       0.00890       0.12485       0.12804       0.24117       0.12225       0.28729       0.07501       0.04281       0.95719       0.00973       0.00659       0.00339       0.14536       0.07676       0.24223       0.08585       0.32593       0.04629       0.05789       0.57213       0.42787       0.00096       0.02603       0.00908       0.04816       0.07139       0.18952       0.31687       0.33799      1.00000       0.00095       0.00089       0.01910       0.26401       0.04071       0.21232       0.26909       0.10436       0.08857       1.00000       0.00106       0.00101       0.02417       0.06592       0.07853       0.11232       0.71699       0.00089       0.99911       0.00186       0.00251       0.88449       0.11114       1.00000       0.27153       0.12173       0.23798       0.08293       0.17189       0.05756       0.05638       0.03078       0.15004       0.11248       0.13824       0.07365       0.26740       0.22741       0.47810       0.52190       0.00203       0.02181       0.14800       0.20466       0.15652       0.24835       0.21863       1.00000       0.00056       0.00095       0.02329       0.18889       0.25475       0.24896       0.28260       1.00000       0.00139       0.01601       0.33501       0.22872       0.26985       0.14901       1.00000       0.00123       0.02982       0.14086       0.21686       0.16103       0.32025       0.12995       0.97401       0.02599       0.00162       0.05260       0.18595       0.27281       0.13621       0.35080       0.00012       0.99988      0.00120      0.26499      0.14314      0.30642      0.28426       0.37398       0.62602       0.00020       0.01586       0.01964       0.13243       0.16147       0.26258       0.40781       0.37272       0.62728       0.00012       0.00782       0.32864       0.33775       0.25211       0.07357       1.00000       0.00155       0.10038       0.16938       0.23138       0.13170       0.29743       0.06818       0.29524       0.70476       0.01425       0.24145       0.22083       0.52348       1.00000       0.00001       0.99999       1.00000      0.00005      0.00720      0.99274\n",
       "RefValDict(1, readonly=True, key_flavour='any', ratio_function='divide', molecule_functions='fraction', default_value=nan)"
      ]
     },
     "execution_count": 32,
     "metadata": {},
     "output_type": "execute_result"
    }
   ],
   "source": [
    "isopy.refval.isotope.fraction # or isopy.asrefval('isotope.fraction')"
   ]
  },
  {
   "cell_type": "markdown",
   "id": "18b78c89-2e11-42e3-8058-e6f273ad39a9",
   "metadata": {},
   "source": [
    "You can of course also create new reference values by passing a dict to the {func}`isopy.asrefval` function."
   ]
  },
  {
   "cell_type": "markdown",
   "id": "2753d888-2234-436b-a55f-5c54cc33d3f7",
   "metadata": {},
   "source": [
    "---\n",
    "One special feature of reference values is that the {meth}`RefValDict.get()<isopy.core.RefValDict.get>` method can compute missing values for ratio and molecule key strings from the contents of the array, e.g."
   ]
  },
  {
   "cell_type": "code",
   "execution_count": 33,
   "id": "2aa76452-7d67-4f52-8a8b-1319e5c67a90",
   "metadata": {},
   "outputs": [
    {
     "data": {
      "text/plain": [
       "1.1849529780564263"
      ]
     },
     "execution_count": 33,
     "metadata": {},
     "output_type": "execute_result"
    }
   ],
   "source": [
    "isopy.asrefval('isotope.fraction').get('108pd/105pd') # Divides the value for 108Pd by 105Pd"
   ]
  },
  {
   "cell_type": "code",
   "execution_count": 34,
   "id": "853786f3-4ce9-47af-8c5c-6dac85588720",
   "metadata": {},
   "outputs": [
    {
     "data": {
      "text/plain": [
       "0.997465230567756"
      ]
     },
     "execution_count": 34,
     "metadata": {},
     "output_type": "execute_result"
    }
   ],
   "source": [
    "isopy.asrefval('isotope.fraction').get('(16O)(1H)') # Multiplies the value for 16O by the value for 1H"
   ]
  },
  {
   "cell_type": "markdown",
   "id": "fcb30f32-060f-4156-b131-bc94c832d53c",
   "metadata": {},
   "source": [
    "For more information on how these are computed see the documentation of {meth}`RefValDict.get()<isopy.core.RefValDict.get>`."
   ]
  },
  {
   "cell_type": "markdown",
   "id": "a18c44f2-c1e2-4b42-b7aa-cf5ab122beb0",
   "metadata": {},
   "source": [
    "---\n",
    "Reference values also work with array functions. Combining isopy arrays and reference values will return an array consisting of **only** of the keys in the array."
   ]
  },
  {
   "cell_type": "code",
   "execution_count": 35,
   "id": "f3582b62-a345-4d74-814f-d2633447ac79",
   "metadata": {},
   "outputs": [
    {
     "data": {
      "text/html": [
       "<table>\n",
       "<thead>\n",
       "<tr><th>(row)  </th><th style=\"text-align: right;\">  ${}^{101}\\mathrm{Ru}$ (f8)</th><th style=\"text-align: right;\">  ${}^{105}\\mathrm{Pd}$ (f8)</th><th style=\"text-align: right;\">  ${}^{111}\\mathrm{Cd}$ (f8)</th></tr>\n",
       "</thead>\n",
       "<tbody>\n",
       "<tr><td>0      </td><td style=\"text-align: right;\">                     0.17060</td><td style=\"text-align: right;\">                     0.22330</td><td style=\"text-align: right;\">                     0.12804</td></tr>\n",
       "</tbody>\n",
       "</table>\n",
       "<b>IsopyNdarray</b>(1, flavour='isotope', default_value=nan)"
      ],
      "text/plain": [
       "(row)      101Ru (f8)    105Pd (f8)    111Cd (f8)\n",
       "-------  ------------  ------------  ------------\n",
       "0             0.17060       0.22330       0.12804\n",
       "IsopyNdarray(1, flavour='isotope', default_value=nan)"
      ]
     },
     "execution_count": 35,
     "metadata": {},
     "output_type": "execute_result"
    }
   ],
   "source": [
    "a = isopy.ones(1, '101ru 105pd 111cd')\n",
    "a * isopy.asrefval('isotope.fraction')"
   ]
  },
  {
   "cell_type": "code",
   "execution_count": 36,
   "id": "332bf423-6972-4714-afee-288b287e69f4",
   "metadata": {},
   "outputs": [
    {
     "data": {
      "text/html": [
       "<table>\n",
       "<thead>\n",
       "<tr><th>(row)  </th><th style=\"text-align: right;\">  $\\cfrac{{}^{101}\\mathrm{Ru}}{{}^{99}\\mathrm{Ru}}$ (f8)</th><th style=\"text-align: right;\">  $\\cfrac{{}^{108}\\mathrm{Pd}}{{}^{105}\\mathrm{Pd}}$ (f8)</th><th style=\"text-align: right;\">  $\\cfrac{{}^{111}\\mathrm{Cd}}{{}^{116}\\mathrm{Cd}}$ (f8)</th></tr>\n",
       "</thead>\n",
       "<tbody>\n",
       "<tr><td>0      </td><td style=\"text-align: right;\">                                                 1.33721</td><td style=\"text-align: right;\">                                                  1.18495</td><td style=\"text-align: right;\">                                                  1.70697</td></tr>\n",
       "</tbody>\n",
       "</table>\n",
       "<b>IsopyNdarray</b>(1, flavour='ratio[isotope, isotope]', default_value=nan)"
      ],
      "text/plain": [
       "(row)      101Ru/99Ru (f8)    108Pd/105Pd (f8)    111Cd/116Cd (f8)\n",
       "-------  -----------------  ------------------  ------------------\n",
       "0                  1.33721             1.18495             1.70697\n",
       "IsopyNdarray(1, flavour='ratio[isotope, isotope]', default_value=nan)"
      ]
     },
     "execution_count": 36,
     "metadata": {},
     "output_type": "execute_result"
    }
   ],
   "source": [
    "a = isopy.ones(1, '101ru/99ru 108pd/105pd 111cd/116cd') # Calculates the ratios automatically\n",
    "a * isopy.asrefval('isotope.fraction')"
   ]
  },
  {
   "cell_type": "markdown",
   "id": "c1af1a03-c6b3-479e-902b-6e44114cf5cc",
   "metadata": {},
   "source": [
    "You can also use numpy functions on reference values. It might be considerably faster to use the function in the isopy namespace together with the `keys` argument to avoid computing the result for unused keys."
   ]
  },
  {
   "cell_type": "code",
   "execution_count": 37,
   "id": "e61d5486-d9f7-4764-b625-1f389649811b",
   "metadata": {},
   "outputs": [
    {
     "data": {
      "text/html": [
       "<table>\n",
       "<thead>\n",
       "<tr><th>(row)  </th><th style=\"text-align: right;\">  ${}^{101}\\mathrm{Ru}$ (f8)</th><th style=\"text-align: right;\">  ${}^{105}\\mathrm{Pd}$ (f8)</th><th style=\"text-align: right;\">  ${}^{111}\\mathrm{Cd}$ (f8)</th></tr>\n",
       "</thead>\n",
       "<tbody>\n",
       "<tr><td>None   </td><td style=\"text-align: right;\">                    -1.76843</td><td style=\"text-align: right;\">                    -1.49924</td><td style=\"text-align: right;\">                    -2.05541</td></tr>\n",
       "</tbody>\n",
       "</table>\n",
       "<b>RefValDict</b>(1, readonly=False, key_flavour='any', ratio_function='divide', molecule_functions='fraction', default_value=nan)"
      ],
      "text/plain": [
       "(row)      101Ru (f8)    105Pd (f8)    111Cd (f8)\n",
       "-------  ------------  ------------  ------------\n",
       "None         -1.76843      -1.49924      -2.05541\n",
       "RefValDict(1, readonly=False, key_flavour='any', ratio_function='divide', molecule_functions='fraction', default_value=nan)"
      ]
     },
     "execution_count": 37,
     "metadata": {},
     "output_type": "execute_result"
    }
   ],
   "source": [
    "isopy.log(isopy.asrefval('isotope.fraction'), keys='101ru 105pd 111cd')"
   ]
  },
  {
   "cell_type": "markdown",
   "id": "ab200f7b-0a74-4e19-84fb-d0046aec1eb8",
   "metadata": {},
   "source": [
    "---\n",
    "You can convert reference values, or a subsection thereof, to an array using the {meth}`RefValDict.to_array()<isopy.core.RefValDict.to_array>`function. The first argument is the keys the array should contain."
   ]
  },
  {
   "cell_type": "code",
   "execution_count": 38,
   "id": "ebff4c2c-4b47-4d96-9933-12abb0f6b753",
   "metadata": {},
   "outputs": [
    {
     "data": {
      "text/html": [
       "<table>\n",
       "<thead>\n",
       "<tr><th>(row)  </th><th style=\"text-align: right;\">  ${}^{101}\\mathrm{Ru}$ (f8)</th><th style=\"text-align: right;\">  ${}^{105}\\mathrm{Pd}$ (f8)</th><th style=\"text-align: right;\">  ${}^{111}\\mathrm{Cd}$ (f8)</th></tr>\n",
       "</thead>\n",
       "<tbody>\n",
       "<tr><td>None   </td><td style=\"text-align: right;\">                     0.17060</td><td style=\"text-align: right;\">                     0.22330</td><td style=\"text-align: right;\">                     0.12804</td></tr>\n",
       "</tbody>\n",
       "</table>\n",
       "<b>IsopyNdarray</b>(-1, flavour='isotope', default_value=nan)"
      ],
      "text/plain": [
       "(row)      101Ru (f8)    105Pd (f8)    111Cd (f8)\n",
       "-------  ------------  ------------  ------------\n",
       "None          0.17060       0.22330       0.12804\n",
       "IsopyNdarray(-1, flavour='isotope', default_value=nan)"
      ]
     },
     "execution_count": 38,
     "metadata": {},
     "output_type": "execute_result"
    }
   ],
   "source": [
    "isopy.asrefval('isotope.fraction').to_array('101ru 105pd 111cd')"
   ]
  }
 ],
 "metadata": {
  "kernelspec": {
   "display_name": "Python [conda env:main] *",
   "language": "python",
   "name": "conda-env-main-py"
  },
  "language_info": {
   "codemirror_mode": {
    "name": "ipython",
    "version": 3
   },
   "file_extension": ".py",
   "mimetype": "text/x-python",
   "name": "python",
   "nbconvert_exporter": "python",
   "pygments_lexer": "ipython3",
   "version": "3.9.7"
  }
 },
 "nbformat": 4,
 "nbformat_minor": 5
}