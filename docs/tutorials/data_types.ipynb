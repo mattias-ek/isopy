{
 "cells": [
  {
   "cell_type": "markdown",
   "id": "fitted-isolation",
   "metadata": {},
   "source": [
    "# Isopy data types"
   ]
  },
  {
   "cell_type": "markdown",
   "id": "attached-sculpture",
   "metadata": {},
   "source": [
    "## Flavours\n",
    "\n",
    "Isopy key strings, key lists and isopy arrays come in 5 different flavours, each meant to represent a different kind of geochemical data. The flavour is primaraly determined by the key string associated with the data type. The 5 different flavours are:\n",
    "\n",
    "* The ``Mass``  flavour represent data described by a mass number. Therefore key strings are restricted to integer numbers, e.g. ``\"105\"``.\n",
    "\n",
    "* The ``Element``  flavour represents elemental data using the element symbol. Key string are restricted to one or two characters. The first character is always\n",
    "  in upper case and the second character, if present, is always in lower case, e.g. ``\"Pd\"``\n",
    "\n",
    "* The ``Isotope``  flavour represent isotope data and the key string consists of a ``Mass`` key string followed by an ``Element``\n",
    "  key string, e.g ``\"105Pd\"``.\n",
    "\n",
    "* The ``Ratio``  flavour represents a ratio between two sets of data. It consists of a numerator key string and a denominator key string, e.g. ``\"108Pd/105Pd\"``.\n",
    "\n",
    "* The ``General``  flavour represent data that cannot be described by any of the other flavours. There are no formatting restrictions for these key strings so any string is valid e.g. ``\"hermione\"``.\n"
   ]
  },
  {
   "cell_type": "code",
   "execution_count": 2,
   "id": "worthy-assault",
   "metadata": {},
   "outputs": [],
   "source": [
    "import isopy\n",
    "import numpy as np"
   ]
  },
  {
   "cell_type": "markdown",
   "id": "dying-extent",
   "metadata": {},
   "source": [
    "Key strings are what determine the flavour of key lists and isopy arrays. Each key string has a\n",
    "strict string format but this is in almost all instances applied internally by isopy. Therefore\n",
    "any string that returns ``True`` when compared to a key string is a valid representation of that\n",
    "key string:\n",
    "\n",
    ">>> isopy.keystring('105pd') == 'pd105'\n",
    "True\n",
    ">>> isopy.keystring('pd105') == 'PD105'\n",
    "True\n",
    ">>> isopy.keystring('pd105') == '105pD'\n",
    "True\n",
    "\n",
    "Any key string can be turned in to a ratio key string using ``/``:\n",
    "\n",
    ">>> isopy.keystring('pd108') / 'pd105'\n",
    "RatioKeyString('108Pd/105Pd')\n",
    ">>> 'pd108' / isopy.keystring('pd105') #Works in both directions\n",
    "RatioKeyString('108Pd/105Pd')\n",
    "\n",
    "\n",
    "**Note** Comparing two key string with different flavours will always return\n",
    "``False`` even if the string itself is the same:\n",
    "\n",
    ">>> elekey = isopy.ElementKeyString('Pd')\n",
    ">>> genkey = isopy.GeneralKeyString('Pd')\n",
    ">>> elekey == genkey, str(elekey) == str(genkey)\n",
    "(False, True)\n",
    "\n",
    "Comparing the hash of a key string to the hash of a normal string will also always return\n",
    "``False`` even when a normal comparison would return ``True``:\n",
    "\n",
    ">>> key = isopy.keystring('Pd')\n",
    ">>> hash(key) == hash('Pd'), key == 'Pd'\n",
    "(False, True)\n",
    "\n",
    "Therefore it is not advised to use key strings as *keys* in a normal ``dict``.\n",
    "Use one of the isopy dictionaries instead which will automatically convert *key* strings into isopy\n",
    "key strings before looking up the value."
   ]
  },
  {
   "cell_type": "code",
   "execution_count": 9,
   "id": "mysterious-puppy",
   "metadata": {},
   "outputs": [],
   "source": [
    "masskey = isopy.keystring(105)"
   ]
  },
  {
   "cell_type": "code",
   "execution_count": 12,
   "id": "dutch-nicaragua",
   "metadata": {},
   "outputs": [
    {
     "data": {
      "text/plain": [
       "(False, True)"
      ]
     },
     "execution_count": 12,
     "metadata": {},
     "output_type": "execute_result"
    }
   ],
   "source": [
    "masskey > 106, masskey <= 106"
   ]
  },
  {
   "cell_type": "code",
   "execution_count": 8,
   "id": "imported-discount",
   "metadata": {},
   "outputs": [
    {
     "data": {
      "text/plain": [
       "RatioKeyString('108Pd/105Pd')"
      ]
     },
     "execution_count": 8,
     "metadata": {},
     "output_type": "execute_result"
    }
   ],
   "source": [
    "isopy.keystring('108pd') / 'pd105'"
   ]
  },
  {
   "cell_type": "code",
   "execution_count": 4,
   "id": "opposed-yugoslavia",
   "metadata": {},
   "outputs": [],
   "source": [
    "isokey = isopy.keystring('pd105')"
   ]
  },
  {
   "cell_type": "code",
   "execution_count": 5,
   "id": "impaired-beverage",
   "metadata": {},
   "outputs": [
    {
     "data": {
      "text/plain": [
       "(ElementKeyString('Pd'), MassKeyString('105'))"
      ]
     },
     "execution_count": 5,
     "metadata": {},
     "output_type": "execute_result"
    }
   ],
   "source": [
    "isokey.element_symbol, isokey.mass_number"
   ]
  },
  {
   "cell_type": "code",
   "execution_count": 7,
   "id": "mighty-smoke",
   "metadata": {},
   "outputs": [
    {
     "data": {
      "text/plain": [
       "(True, True)"
      ]
     },
     "execution_count": 7,
     "metadata": {},
     "output_type": "execute_result"
    }
   ],
   "source": [
    "'pd' in isokey, 105 in isokey"
   ]
  },
  {
   "cell_type": "markdown",
   "id": "affected-deployment",
   "metadata": {},
   "source": [
    "### Difference between ``keystring()`` and ``askeystring()``\n",
    "The difference between these two methods is that ``askeystring(string)`` will return *string* immediately if it is already an key string, whereas ``keystring(string)`` will attempt to parse *string* into each of the key string in turn, irregardless of the original type. This only affects ``GeneralKeyString``'s as these are the only key strings that can have the same value as any of the other flavours."
   ]
  },
  {
   "cell_type": "code",
   "execution_count": 21,
   "id": "controversial-mountain",
   "metadata": {},
   "outputs": [],
   "source": [
    "keystring = isopy.GeneralKeyString('pd')"
   ]
  },
  {
   "cell_type": "code",
   "execution_count": 22,
   "id": "confirmed-glance",
   "metadata": {},
   "outputs": [
    {
     "data": {
      "text/plain": [
       "(ElementKeyString('Pd'), GeneralKeyString('pd'))"
      ]
     },
     "execution_count": 22,
     "metadata": {},
     "output_type": "execute_result"
    }
   ],
   "source": [
    "isopy.keystring(keystring), isopy.askeystring(keystring)"
   ]
  },
  {
   "cell_type": "markdown",
   "id": "desperate-consciousness",
   "metadata": {},
   "source": [
    "### **Note**\n",
    "Comparing two key strings always returns ``False`` even if they nominally have the same value:"
   ]
  },
  {
   "cell_type": "code",
   "execution_count": 14,
   "id": "nutritional-token",
   "metadata": {},
   "outputs": [
    {
     "data": {
      "text/plain": [
       "False"
      ]
     },
     "execution_count": 14,
     "metadata": {},
     "output_type": "execute_result"
    }
   ],
   "source": [
    "isopy.ElementKeyString('Pd') == isopy.GeneralKeyString('Pd')"
   ]
  },
  {
   "cell_type": "markdown",
   "id": "prime-party",
   "metadata": {},
   "source": [
    "In the same sprit comparing hashes will also always return False as isopy keys string have their own special hash implementation:"
   ]
  },
  {
   "cell_type": "code",
   "execution_count": 18,
   "id": "handmade-gravity",
   "metadata": {},
   "outputs": [
    {
     "data": {
      "text/plain": [
       "False"
      ]
     },
     "execution_count": 18,
     "metadata": {},
     "output_type": "execute_result"
    }
   ],
   "source": [
    "hash(isopy.keystring('Pd')) == hash('Pd') "
   ]
  },
  {
   "cell_type": "markdown",
   "id": "ruled-timeline",
   "metadata": {},
   "source": [
    "## Key List's"
   ]
  },
  {
   "cell_type": "markdown",
   "id": "studied-abuse",
   "metadata": {},
   "source": [
    "Key list store contain a sequence of one or more key strings. They can only contain key string of\n",
    "the same flavour. Key lists are immutable as they inherit from ``tuple``, however, ``+`` and ``-`` can\n",
    "be used to add/remove items and return a new key list:\n",
    "\n",
    ">>> isopy.keylist('ru', 'pd', 'cd') + 'ag'\n",
    "ElementKeyList('Ru', 'Pd', 'Cd', 'Ag')\n",
    ">>> ['ag', 'rh'] + isopy.keylist('ru', 'pd', 'cd')\n",
    "ElementKeyList('Ag', 'Rh', 'Ru', 'Pd', 'Cd')\n",
    "\n",
    ">>> isopy.keylist('ru', 'pd', 'cd') - 'cd'\n",
    "ElementKeyList('Ru', 'Pd')\n",
    ">>> ['ru', 'pd', 'rh', 'ag', 'cd'] - isopy.keylist('ru', 'pd', 'cd')\n",
    "ElementKeyList('Rh', 'Ag')\n",
    "\n",
    "In addition new key lists can be created using ``&``, ``|`` and ``^``\n",
    "for *and*, *or* and *xor* operations:\n",
    "\n",
    ">>> isopy.keylist('ru', 'pd', 'cd') & ['pd','ag', 'rh', 'cd'] #key strings present in both lists\n",
    "ElementKeyList('Pd', 'Cd')\n",
    ">>> ['pd','ag', 'rh', 'cd'] | isopy.keylist('ru', 'pd', 'cd') #key strings present in either of the lists\n",
    "ElementKeyList('Pd', 'Ag', 'Rh', 'Cd', 'Ru')\n",
    ">>> isopy.keylist('ru', 'pd', 'cd') ^ ['pd','ag', 'rh', 'cd'] #key strings present in only one of the lists\n",
    "ElementKeyList('Ru', 'Ag', 'Rh')\n",
    "\n",
    "You can compare two list using ``==`` and  you can test membership using ``in``:\n",
    "\n",
    ">>> isopy.keylist('ru', 'pd', 'cd') == ['ru', 'pd', 'cd']\n",
    "True\n",
    ">>> 'pd' in isopy.keylist('ru', 'pd', 'cd')\n",
    "True\n",
    ">>> ['pd', 'ru'] in isopy.keylist('ru', 'pd', 'cd')\n",
    "True\n",
    "\n",
    "You can turn any key list into a ratio key list using ``/``:\n",
    "\n",
    ">>> isopy.keylist('ru', 'pd', 'cd') / 'pd' #Same denominator for all numerators\n",
    "RatioKeyList('Ru/Pd', 'Pd/Pd', 'Cd/Pd')\n",
    ">>> ['pd', 'rh', 'ag'] / isopy.keylist('ru', 'pd', 'cd')\n",
    "RatioKeyList('Pd/Ru', 'Rh/Pd', 'Ag/Cd')\n"
   ]
  },
  {
   "cell_type": "markdown",
   "id": "listed-circus",
   "metadata": {},
   "source": [
    "## Isopy Array's"
   ]
  },
  {
   "cell_type": "markdown",
   "id": "accessory-pleasure",
   "metadata": {},
   "source": [
    "Isopy arrays are a custom view of a structured numpy array where each column in the array\n",
    "is represented by a key string. Isopy arrays can be 0-dimensional, where each column only\n",
    "holds a single value, or 1-dimensional, where the array contains one or more rows each holding\n",
    "a single value for each column. Each column has its own data type. If the data type is not\n",
    "specified upon creation it is inherited from the input, if the input is a numpy ndarray object,\n",
    "otherwise it defaults to ``np.float64``.\n",
    "\n",
    ">>> isopy.array([1, 2, 3], ('ru', 'pd', 'cd')) #0-dimensional, no rows\n",
    "(row) , Ru      , Pd      , Cd\n",
    "None  , 1.00000 , 2.00000 , 3.00000\n",
    "\n",
    ">>> isopy.array([[1, 2, 3]], ('ru', 'pd', 'cd')) #1-dimensional, 1 row\n",
    "(row) , Ru      , Pd      , Cd\n",
    "0     , 1.00000 , 2.00000 , 3.00000\n",
    "\n",
    ">>> isopy.array([[1, 2, 3], [11, 12, 13], [21, 22, 23]], ('ru', 'pd', 'cd')) #1-dimensional, 3 rows\n",
    "(row) , Ru       , Pd       , Cd\n",
    "0     , 1.00000  , 2.00000  , 3.00000\n",
    "1     , 11.00000 , 12.00000 , 13.00000\n",
    "2     , 21.00000 , 22.00000 , 23.00000\n",
    "\n",
    ">>> isopy.array([1, 2, 3], ('ru', 'pd', 'cd'), dtype=int) #integer data type\n",
    "(row) , Ru , Pd , Cd\n",
    "None  , 1  , 2  , 3\n",
    "\n",
    ">>> isopy.array(np.array([1, 2, 3], dtype=int), ('ru', 'pd', 'cd')) #data type inherited from numpy object\n",
    "(row) , Ru , Pd , Cd\n",
    "None  , 1  , 2  , 3\n",
    "\n",
    ">>> isopy.array([1, 2, 3], ('ru', 'pd', 'cd'), dtype=[int, float, int])\n",
    "(row) , Ru , Pd      , Cd\n",
    "None  , 1  , 2.00000 , 3\n",
    "\n",
    "Isopy arrays can also be created from a number of other data types, e.g:\n",
    "\n",
    ">>> isopy.array({'ru': [1, 11, 12], 'pd': [2, 12, 22], 'cd':[3, 13, 23]}) #Keys taken from dictionary\n",
    "(row) , Ru       , Pd       , Cd\n",
    "0     , 1.00000  , 2.00000  , 3.00000\n",
    "1     , 11.00000 , 12.00000 , 13.00000\n",
    "2     , 12.00000 , 22.00000 , 23.00000\n",
    "\n",
    ">>> isopy.array({'ru': [1, 11, 12], 'pd': [2, 12, 22], 'cd':[3, 13, 23]}, ['101ru', '105pd', '111cd']) #Overrides keys\n",
    "(row) , 101Ru    , 105Pd    , 111Cd\n",
    "0     , 1.00000  , 2.00000  , 3.00000\n",
    "1     , 11.00000 , 12.00000 , 13.00000\n",
    "2     , 12.00000 , 22.00000 , 23.00000\n",
    "\n",
    ">>> dataframe = pandas.DataFrame({'ru': [1, 11, 12], 'pd': [2, 12, 22], 'cd':[3, 13, 23]})\n",
    ">>> isopy.array(dataframe) #inherits data type from the dataframe\n",
    "(row) , index , ru , pd , cd\n",
    "0     , 0     , 1  , 2  , 3\n",
    "1     , 1     , 11 , 12 , 13\n",
    "2     , 2     , 12 , 22 , 23\n",
    "\n",
    "Using ``+``, ``-``, ``*``, ``/`` and ``**`` with isopy arrays with scalars or numpy like arrays\n",
    "will perform the operation on each column in turn.\n",
    "\n",
    ">>> array = isopy.array([1, 2, 3], ('ru', 'pd', 'cd'))\n",
    ">>> array * 2\n",
    "(row) , Ru      , Pd      , Cd\n",
    "None  , 2.00000 , 4.00000 , 6.00000\n",
    ">>> array * [1,2,3]\n",
    "(row) , Ru      , Pd      , Cd\n",
    "0     , 1.00000 , 2.00000 , 3.00000\n",
    "1     , 2.00000 , 4.00000 , 6.00000\n",
    "2     , 3.00000 , 6.00000 , 9.00000\n",
    "\n",
    ">>> array = isopy.array([[1, 2, 3], [11, 12, 13], [21, 22, 23]], ('ru', 'pd', 'cd'))\n",
    ">>> array * 2\n",
    "(row) , Ru       , Pd       , Cd\n",
    "0     , 2.00000  , 4.00000  , 6.00000\n",
    "1     , 22.00000 , 24.00000 , 26.00000\n",
    "2     , 42.00000 , 44.00000 , 46.00000\n",
    ">>> array * [1,2,3]\n",
    "(row) , Ru       , Pd       , Cd\n",
    "0     , 1.00000  , 2.00000  , 3.00000\n",
    "1     , 22.00000 , 24.00000 , 26.00000\n",
    "2     , 63.00000 , 66.00000 , 69.00000\n",
    "\n",
    "Operations involving two isopy arrays will perform the operation per column.\n",
    "\n",
    ">>> array1 = isopy.array([1, 2, 3], ('ru', 'pd', 'cd'))\n",
    ">>> array2 = isopy.array([0.5, 1, 1.5], ('ru', 'pd', 'cd'))\n",
    ">>> array1 * array2\n",
    "(row) , Ru      , Pd      , Cd\n",
    "None  , 0.50000 , 2.00000 , 4.50000\n",
    ">>> array3 = isopy.array([[1, 2, 3], [11, 12, 13], [21, 22, 23]], ('ru', 'pd', 'cd'))\n",
    ">>> array2 + array3\n",
    "(row) , Ru       , Pd       , Cd\n",
    "0     , 1.50000  , 3.00000  , 4.50000\n",
    "1     , 11.50000 , 13.00000 , 14.50000\n",
    "2     , 21.50000 , 23.00000 , 24.50000\n",
    "\n",
    "For columns only present in one of the arrays a default value of ``np.nan`` will be used.\n",
    "However, isopy comes with functions that allow you to change the default value used.\n",
    "\n",
    ">>> array1 = isopy.array([1, 2, 3], ('ru', 'pd', 'cd'))\n",
    ">>> array2 = isopy.array([0.5, 1, 1.5], ('ru', 'pd', 'ag'))\n",
    ">>> array1 + array2\n",
    "(row) , Ru      , Pd      , Cd  , Ag\n",
    "None  , 1.50000 , 3.00000 , nan , nan\n",
    ">>> isopy.add(array1, array2, 0) #Changes the default value to 0\n",
    "(row) , Ru      , Pd      , Cd      , Ag\n",
    "None  , 1.50000 , 3.00000 , 3.00000 , 1.50000\n",
    "\n",
    "You can also combine isopy arrays with dictionaries. In this case the column *key*\n",
    "will be looked up in the dictionary. The default value for missing keys is ``np.nan``\n",
    "for normal dictionaries but for isopy dictionaries their associated default value.\n",
    "\n",
    ">>> array1 = isopy.array([1, 2, 3], ('ru', 'pd', 'cd'))\n",
    ">>> dict2 = {'ru': 0.5, 'rh': 0.75, 'pd': 1, 'ag': 1.25, 'cd': 1.5} #Keys are automatically reformatted\n",
    ">>> array1 * dict2\n",
    "(row) , Ru      , Pd      , Cd\n",
    "None  , 0.50000 , 2.00000 , 4.50000\n",
    "\n",
    ">>> array1 = isopy.array([1, 2, 3], ('ru', 'pd', 'cd'))\n",
    ">>> dict2 = {'ru': 0.5, 'rh': 0.75, 'pd': 1, 'ag': 1.25}\n",
    "array1 * dict2\n",
    "(row) , Ru      , Pd      , Cd\n",
    "None  , 0.50000 , 2.00000 , nan\n",
    "\n",
    ">>> array1 = isopy.array([1, 2, 3], ('ru', 'pd', 'cd'))\n",
    ">>> dict2 = isopy.ScalarDict({'ru': 0.5, 'rh': 0.75, 'pd': 1, 'ag': 1.25}, default_value=1)\n",
    "array1 * dict2\n",
    "(row) , Ru      , Pd      , Cd\n",
    "None  , 0.50000 , 2.00000 , 3.00000"
   ]
  },
  {
   "cell_type": "markdown",
   "id": "stuffed-tower",
   "metadata": {},
   "source": [
    "## Isopy dictioonaries\n",
    "Isopy dictionaries store values using isopy key strings. They also allow you to make\n",
    "dictionaries readonly and to predefine the default value to be used for absent keys.\n",
    "\n",
    ">>> isopy.IsopyDict({'ru': 0.5, 'rh': 0.75, 'pd': 1, 'ag': 1.25}, default_value=0)\n",
    "IsopyDict(default_value = 0, readonly = False,\n",
    "{\"Ru\": 0.5\n",
    "\"Rh\": 0.75\n",
    "\"Pd\": 1\n",
    "\"Ag\": 1.25})\n",
    "\n",
    "The ``get()`` method of the :class:`ScalarDict`_ will automatically calculate the value\n",
    "for an absent ratio key string if both the numerator and the denominator keys are present.\n",
    "\n",
    ">>> refval = isopy.ScalarDict({'ru': 0.5, 'rh': 0.75, 'pd': 1, 'ag': 1.25}, default_value=0)\n",
    ">>> refval.get('pd/ru')\n",
    "2.0"
   ]
  }
 ],
 "metadata": {
  "kernelspec": {
   "display_name": "main",
   "language": "python",
   "name": "main"
  },
  "language_info": {
   "codemirror_mode": {
    "name": "ipython",
    "version": 3
   },
   "file_extension": ".py",
   "mimetype": "text/x-python",
   "name": "python",
   "nbconvert_exporter": "python",
   "pygments_lexer": "ipython3",
   "version": "3.9.2"
  }
 },
 "nbformat": 4,
 "nbformat_minor": 5
}
