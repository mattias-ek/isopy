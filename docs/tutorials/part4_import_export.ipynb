{
 "cells": [
  {
   "cell_type": "markdown",
   "id": "preliminary-death",
   "metadata": {},
   "source": [
    "# Tutorial Part 4: Importing and Exporting Arrays"
   ]
  }
 ],
 "metadata": {
  "kernelspec": {
   "display_name": "main",
   "language": "python",
   "name": "main"
  },
  "language_info": {
   "codemirror_mode": {
    "name": "ipython",
    "version": 3
   },
   "file_extension": ".py",
   "mimetype": "text/x-python",
   "name": "python",
   "nbconvert_exporter": "python",
   "pygments_lexer": "ipython3",
   "version": "3.9.2"
  }
 },
 "nbformat": 4,
 "nbformat_minor": 5
}
