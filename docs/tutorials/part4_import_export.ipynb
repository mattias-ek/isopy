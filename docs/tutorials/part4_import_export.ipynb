{
 "cells": [
  {
   "cell_type": "markdown",
   "id": "advanced-customs",
   "metadata": {},
   "source": [
    "# Tutorial Part 4: Importing and Exporting Arrays"
   ]
  },
  {
   "cell_type": "code",
   "execution_count": 51,
   "id": "graphic-variety",
   "metadata": {},
   "outputs": [],
   "source": [
    "import isopy\n",
    "import io\n",
    "import ipywidgets as widgets\n",
    "import pandas as pd\n",
    "import numpy as np"
   ]
  },
  {
   "cell_type": "markdown",
   "id": "opening-action",
   "metadata": {},
   "source": [
    "There are a number of options for reading and writing isopy arrays to the disk. Isopy comes with functions for working with [CSV](#CSV-files) files and [excel](#Excel-files) files. Isopy also has a function for importing data from *exp* files produced by Neptune and Triton instruments.\n",
    "\n",
    "You can also use I/O functions provided by [numpy](#Numpy-I/O-functions) and [pandas](#Pandas-I/O-functions) with relative ease.\n",
    "\n"
   ]
  },
  {
   "cell_type": "markdown",
   "id": "possible-width",
   "metadata": {},
   "source": [
    "## CSV files\n"
   ]
  },
  {
   "cell_type": "code",
   "execution_count": 3,
   "id": "lonely-soundtrack",
   "metadata": {},
   "outputs": [
    {
     "data": {
      "text/plain": [
       "(row) , Ru       , Pd        , Cd       \n",
       "0     , -0.50292 , -1.4295   , 0.31618  \n",
       "1     , 1.2179   , -0.023273 , -0.35797 \n",
       "2     , -0.27112 , -0.44779  , -0.92874 \n",
       "3     , 0.73018  , 0.088075  , -1.0528  \n",
       "4     , -1.1693  , 0.5253    , 0.23593  "
      ]
     },
     "execution_count": 3,
     "metadata": {},
     "output_type": "execute_result"
    }
   ],
   "source": [
    "#Create an array of random values to work with\n",
    "array = isopy.random(5, keys='ru pd cd'.split(), seed=46)\n",
    "array"
   ]
  },
  {
   "cell_type": "markdown",
   "id": "integrated-tomato",
   "metadata": {},
   "source": [
    "The ``read_csv()`` and ``write_csv()`` functions included with isopy allow you to load and save arrays as csv files. By default the functions assume that the first row, that is not a comment, contains the column keys and that subsequent rows contain the values.\n",
    "\n",
    "**Note** These functions do not preserve the column data type. To preserve these use the builtin numpy IO functions."
   ]
  },
  {
   "cell_type": "code",
   "execution_count": 9,
   "id": "amazing-volleyball",
   "metadata": {},
   "outputs": [
    {
     "name": "stdout",
     "output_type": "stream",
     "text": [
      "#A randomly created array,,\n",
      "Ru,Pd,Cd\n",
      "-0.5029158999360099,-1.4294668995364466,0.3161798146820059\n",
      "1.2178904370877544,-0.023272781996066142,-0.35797332652478464\n",
      "-0.27111940695477094,-0.44779253386270806,-0.9287436068353231\n",
      "0.7301833239723954,0.08807514133629571,-1.0528274607881316\n",
      "-1.1693055169964495,0.5252955930066644,0.23593193513123287\n",
      "\n"
     ]
    }
   ],
   "source": [
    "isopy.write_csv('csv_file.csv', array, comments='A randomly created array')\n",
    "with open('csv_file.csv') as file: \n",
    "    print(file.read()) "
   ]
  },
  {
   "cell_type": "markdown",
   "id": "pending-objective",
   "metadata": {},
   "source": [
    "The ``read_csv()`` functions returns a dictionary that can easily be converted to an array."
   ]
  },
  {
   "cell_type": "code",
   "execution_count": 38,
   "id": "romance-perfume",
   "metadata": {},
   "outputs": [
    {
     "data": {
      "text/plain": [
       "{'Ru': ['3.001026668413964',\n",
       "  '1.0576908363998294',\n",
       "  '0.5933451546898947',\n",
       "  '-0.6399517898860401',\n",
       "  '-0.6439981418388906'],\n",
       " 'Pd': ['0.3096978060435868',\n",
       "  '0.1114960048100229',\n",
       "  '-0.44462137008527225',\n",
       "  '-0.07962341054888113',\n",
       "  '0.03323398219556924'],\n",
       " 'Cd': ['-0.449824236964218',\n",
       "  '0.8663436597390861',\n",
       "  '0.6378154588116841',\n",
       "  '-0.34772167564259626',\n",
       "  '-1.5901113341185023']}"
      ]
     },
     "execution_count": 38,
     "metadata": {},
     "output_type": "execute_result"
    }
   ],
   "source": [
    "data = isopy.read_csv('csv_file.csv')\n",
    "data"
   ]
  },
  {
   "cell_type": "code",
   "execution_count": 39,
   "id": "scheduled-scene",
   "metadata": {},
   "outputs": [
    {
     "data": {
      "text/plain": [
       "(row) , Ru       , Pd        , Cd       \n",
       "0     , 3.001    , 0.3097    , -0.44982 \n",
       "1     , 1.0577   , 0.1115    , 0.86634  \n",
       "2     , 0.59335  , -0.44462  , 0.63782  \n",
       "3     , -0.63995 , -0.079623 , -0.34772 \n",
       "4     , -0.644   , 0.033234  , -1.5901  "
      ]
     },
     "execution_count": 39,
     "metadata": {},
     "output_type": "execute_result"
    }
   ],
   "source": [
    "isopy.array(data)"
   ]
  },
  {
   "cell_type": "markdown",
   "id": "architectural-gossip",
   "metadata": {},
   "source": [
    "You can read/write data where the column keys are stored as the first entry in each row by setting the ``keys_in`` argument to ``'r'``"
   ]
  },
  {
   "cell_type": "code",
   "execution_count": 36,
   "id": "otherwise-cooperative",
   "metadata": {},
   "outputs": [
    {
     "name": "stdout",
     "output_type": "stream",
     "text": [
      "#A randomly created array,,,,,\n",
      "Ru,3.001026668413964,1.0576908363998294,0.5933451546898947,-0.6399517898860401,-0.6439981418388906\n",
      "Pd,0.3096978060435868,0.1114960048100229,-0.44462137008527225,-0.07962341054888113,0.03323398219556924\n",
      "Cd,-0.449824236964218,0.8663436597390861,0.6378154588116841,-0.34772167564259626,-1.5901113341185023\n",
      "\n"
     ]
    }
   ],
   "source": [
    "isopy.write_csv('csv_file2.csv', array, keys_in ='r', comments='A randomly created array')\n",
    "with open('csv_file2.csv') as file: \n",
    "    print(file.read())"
   ]
  },
  {
   "cell_type": "code",
   "execution_count": 37,
   "id": "united-delay",
   "metadata": {},
   "outputs": [
    {
     "data": {
      "text/plain": [
       "(row) , Ru       , Pd        , Cd       \n",
       "0     , 3.001    , 0.3097    , -0.44982 \n",
       "1     , 1.0577   , 0.1115    , 0.86634  \n",
       "2     , 0.59335  , -0.44462  , 0.63782  \n",
       "3     , -0.63995 , -0.079623 , -0.34772 \n",
       "4     , -0.644   , 0.033234  , -1.5901  "
      ]
     },
     "execution_count": 37,
     "metadata": {},
     "output_type": "execute_result"
    }
   ],
   "source": [
    "data = isopy.read_csv('csv_file2.csv', keys_in='r')\n",
    "isopy.array(data)"
   ]
  },
  {
   "cell_type": "markdown",
   "id": "composed-malaysia",
   "metadata": {},
   "source": [
    "You can also use these functions to save normal numpy arrays by specifying ``keys_in=None``"
   ]
  },
  {
   "cell_type": "code",
   "execution_count": 11,
   "id": "clinical-surge",
   "metadata": {},
   "outputs": [
    {
     "data": {
      "text/plain": [
       "array([[ 1.11966887, -0.11124732,  0.79968583, -0.21410856,  0.57069694],\n",
       "       [-0.47336079,  1.37042253, -0.71423598, -0.32204307,  0.23724561]])"
      ]
     },
     "execution_count": 11,
     "metadata": {},
     "output_type": "execute_result"
    }
   ],
   "source": [
    "array = isopy.random(10).reshape((-1, 5))\n",
    "array"
   ]
  },
  {
   "cell_type": "code",
   "execution_count": 12,
   "id": "first-respect",
   "metadata": {},
   "outputs": [
    {
     "name": "stdout",
     "output_type": "stream",
     "text": [
      "#A randomly created array,,,,\n",
      "1.1196688702466955,-0.11124732259538532,0.7996858300408242,-0.21410856454216654,0.5706969403715054\n",
      "-0.4733607924516864,1.3704225332919835,-0.7142359830464886,-0.32204307379407143,0.23724561383623638\n",
      "\n"
     ]
    }
   ],
   "source": [
    "isopy.write_csv('csv_file3.csv', array, keys_in=None, comments='A randomly created array')\n",
    "with open('csv_file3.csv') as file: \n",
    "    print(file.read())"
   ]
  },
  {
   "cell_type": "code",
   "execution_count": 13,
   "id": "satisfactory-static",
   "metadata": {},
   "outputs": [
    {
     "data": {
      "text/plain": [
       "[['1.1196688702466955',\n",
       "  '-0.11124732259538532',\n",
       "  '0.7996858300408242',\n",
       "  '-0.21410856454216654',\n",
       "  '0.5706969403715054'],\n",
       " ['-0.4733607924516864',\n",
       "  '1.3704225332919835',\n",
       "  '-0.7142359830464886',\n",
       "  '-0.32204307379407143',\n",
       "  '0.23724561383623638']]"
      ]
     },
     "execution_count": 13,
     "metadata": {},
     "output_type": "execute_result"
    }
   ],
   "source": [
    "data = isopy.read_csv('csv_file3.csv', keys_in=None)\n",
    "data"
   ]
  },
  {
   "cell_type": "markdown",
   "id": "simple-rouge",
   "metadata": {},
   "source": [
    "## Excel files"
   ]
  },
  {
   "cell_type": "code",
   "execution_count": 14,
   "id": "genetic-cuisine",
   "metadata": {},
   "outputs": [
    {
     "data": {
      "text/plain": [
       "(row) , Ru       , Pd        , Cd       \n",
       "0     , -0.50292 , -1.4295   , 0.31618  \n",
       "1     , 1.2179   , -0.023273 , -0.35797 \n",
       "2     , -0.27112 , -0.44779  , -0.92874 \n",
       "3     , 0.73018  , 0.088075  , -1.0528  \n",
       "4     , -1.1693  , 0.5253    , 0.23593  "
      ]
     },
     "execution_count": 14,
     "metadata": {},
     "output_type": "execute_result"
    }
   ],
   "source": [
    "#Create an array of random values to work with\n",
    "array = isopy.random(5, keys='ru pd cd'.split(), seed=46)\n",
    "array"
   ]
  },
  {
   "cell_type": "markdown",
   "id": "aquatic-account",
   "metadata": {},
   "source": [
    "The ``read_xlsx()`` and ``write_xlsx()`` functions reads/writes arrays to excel files and work much like CSV functions described above. "
   ]
  },
  {
   "cell_type": "code",
   "execution_count": 16,
   "id": "operating-stationery",
   "metadata": {},
   "outputs": [],
   "source": [
    "isopy.write_xlsx('excel_file.xlsx', array) # Default sheet name is 'sheet1'"
   ]
  },
  {
   "cell_type": "markdown",
   "id": "swedish-writer",
   "metadata": {},
   "source": [
    "You can specify the sheet name by passing the array as a keyword argument. You can also add data to exciting excel files by setting ``append=True``"
   ]
  },
  {
   "cell_type": "code",
   "execution_count": 18,
   "id": "european-somewhere",
   "metadata": {},
   "outputs": [],
   "source": [
    "array2 = isopy.random(3, keys='rh ag'.split(), seed=46)\n",
    "isopy.write_xlsx('excel_file.xlsx', appended_sheet=array2, append=True)"
   ]
  },
  {
   "cell_type": "markdown",
   "id": "first-access",
   "metadata": {},
   "source": [
    "Unless you specify a sheetname ``read_xlsx()`` will return a dictionary containing all the sheets in the file."
   ]
  },
  {
   "cell_type": "code",
   "execution_count": 19,
   "id": "surrounded-shadow",
   "metadata": {},
   "outputs": [
    {
     "data": {
      "text/plain": [
       "dict_keys(['sheet1', 'appended_sheet'])"
      ]
     },
     "execution_count": 19,
     "metadata": {},
     "output_type": "execute_result"
    }
   ],
   "source": [
    "isopy.read_xlsx('excel_file.xlsx').keys()"
   ]
  },
  {
   "cell_type": "markdown",
   "id": "covered-palace",
   "metadata": {},
   "source": [
    "You can specify the sheet you want to load either by name of by index."
   ]
  },
  {
   "cell_type": "code",
   "execution_count": 20,
   "id": "convenient-dance",
   "metadata": {},
   "outputs": [
    {
     "data": {
      "text/plain": [
       "(row) , Ru       , Pd        , Cd       \n",
       "0     , -0.50292 , -1.4295   , 0.31618  \n",
       "1     , 1.2179   , -0.023273 , -0.35797 \n",
       "2     , -0.27112 , -0.44779  , -0.92874 \n",
       "3     , 0.73018  , 0.088075  , -1.0528  \n",
       "4     , -1.1693  , 0.5253    , 0.23593  "
      ]
     },
     "execution_count": 20,
     "metadata": {},
     "output_type": "execute_result"
    }
   ],
   "source": [
    "isopy.array( isopy.read_xlsx('excel_file.xlsx', sheetname=0) )"
   ]
  },
  {
   "cell_type": "code",
   "execution_count": 21,
   "id": "heard-channel",
   "metadata": {},
   "outputs": [
    {
     "data": {
      "text/plain": [
       "(row) , Rh       , Ag      \n",
       "0     , -0.50292 , 0.73018 \n",
       "1     , 1.2179   , -1.1693 \n",
       "2     , -0.27112 , -1.4295 "
      ]
     },
     "execution_count": 21,
     "metadata": {},
     "output_type": "execute_result"
    }
   ],
   "source": [
    "isopy.array( isopy.read_xlsx('excel_file.xlsx', sheetname='appended_sheet') )"
   ]
  },
  {
   "cell_type": "markdown",
   "id": "amended-casino",
   "metadata": {},
   "source": [
    "## Neptune/Triton export files"
   ]
  },
  {
   "cell_type": "markdown",
   "id": "figured-robinson",
   "metadata": {},
   "source": [
    "``read_exp()`` can be used to read the data contained with in the Neptune and Triton export files."
   ]
  },
  {
   "cell_type": "code",
   "execution_count": 89,
   "id": "stone-headline",
   "metadata": {},
   "outputs": [],
   "source": [
    "data = isopy.read_exp('neptune_file.exp')"
   ]
  },
  {
   "cell_type": "code",
   "execution_count": 91,
   "id": "indoor-wonder",
   "metadata": {},
   "outputs": [
    {
     "data": {
      "text/plain": [
       "{'Filename': ' c:\\\\Neptune\\\\User\\\\ekm\\\\Data\\\\std_20180610-142501\\\\004_blk.dat',\n",
       " 'Date': ' 6/10/2018',\n",
       " 'Sample ID': ' blk',\n",
       " 'Method Name': ' C:\\\\Neptune\\\\User\\\\ekm\\\\Methods\\\\Blk_60_4s.met',\n",
       " 'Wheel ID': ' ',\n",
       " 'Run number': ' 4',\n",
       " 'View Mode': ' RUN_VIEW',\n",
       " 'Evaluation Mode': ' Dynamic',\n",
       " 'Analysis date': ' 6/10/2018',\n",
       " 'Analysis time': ' 2:48:33 PM',\n",
       " 'Operator': ' ME',\n",
       " 'Instrument': ' TIGER',\n",
       " 'Comment': ' ',\n",
       " 'SampleType': ' SMP'}"
      ]
     },
     "execution_count": 91,
     "metadata": {},
     "output_type": "execute_result"
    }
   ],
   "source": [
    "data.info # Dictonary containing the meta data included in the file"
   ]
  },
  {
   "cell_type": "markdown",
   "id": "chief-process",
   "metadata": {},
   "source": [
    "The ``.measurements`` attribute is a dictionary containing isopy arrays of the individual measurements for each line. For static measurements the line number defaults to 1."
   ]
  },
  {
   "cell_type": "code",
   "execution_count": 98,
   "id": "systematic-season",
   "metadata": {},
   "outputs": [
    {
     "data": {
      "text/plain": [
       "(row) , 101Ru       , 102Pd      , 104Pd     , 105Pd     , 106Pd     , 108Pd     , 110Pd     , 111Cd       , 102Pd/105Pd (1) , 104Pd/105Pd (2) , 106Pd/105Pd (3) , 108Pd/105Pd (4) , 110Pd/105Pd (5) , Delta 102Pd/105Pd (1) , Delta 104Pd/105Pd (2) , Delta 106Pd/105Pd (3) , Delta 108Pd/105Pd (4) , Delta 110Pd/105Pd (5) \n",
       "0     , 1.1244e-05  , 0.00029361 , 0.0030907 , 0.0062565 , 0.0078046 , 0.0077348 , 0.0035265 , 4.2756e-07  , 0.046929        , 0.494           , 1.2474          , 1.2363          , 0.56366         , 0                     , 0                     , 0                     , 0                     , 0                     \n",
       "1     , 1.5886e-05  , 0.00029072 , 0.0030904 , 0.0062733 , 0.0077979 , 0.0077431 , 0.0035368 , 6.5782e-06  , 0.046343        , 0.49263         , 1.243           , 1.2343          , 0.56378         , 0                     , 0                     , 0                     , 0                     , 0                     \n",
       "2     , 1.8636e-05  , 0.00028657 , 0.0031177 , 0.006305  , 0.0079175 , 0.0078158 , 0.0035627 , -9.1351e-06 , 0.045452        , 0.49449         , 1.2558          , 1.2396          , 0.56506         , 0                     , 0                     , 0                     , 0                     , 0                     \n",
       "3     , -7.3983e-06 , 0.00031614 , 0.0030619 , 0.0062103 , 0.0077739 , 0.0076847 , 0.0035104 , 5.9596e-06  , 0.050905        , 0.49304         , 1.2518          , 1.2374          , 0.56526         , 0                     , 0                     , 0                     , 0                     , 0                     \n",
       "4     , 6.5069e-06  , 0.00030565 , 0.0030308 , 0.0061783 , 0.0077139 , 0.0076203 , 0.0034964 , 9.5472e-06  , 0.049472        , 0.49055         , 1.2485          , 1.2334          , 0.56592         , 0                     , 0                     , 0                     , 0                     , 0                     \n",
       "...   , ...         , ...        , ...       , ...       , ...       , ...       , ...       , ...         , ...             , ...             , ...             , ...             , ...             , ...                   , ...                   , ...                   , ...                   , ...                   \n",
       "55    , 1.2066e-05  , 0.00026472 , 0.0030457 , 0.0061603 , 0.0076696 , 0.0076574 , 0.003497  , 8.9847e-06  , 0.042972        , 0.49441         , 1.245           , 1.243           , 0.56766         , 0                     , 0                     , 0                     , 0                     , 0                     \n",
       "56    , -1.6541e-06 , 0.00028796 , 0.0030328 , 0.0061452 , 0.0076335 , 0.0076009 , 0.0034775 , 8.4756e-06  , 0.046858        , 0.49353         , 1.2422          , 1.2369          , 0.56589         , 0                     , 0                     , 0                     , 0                     , 0                     \n",
       "57    , -4.3433e-07 , 0.00028333 , 0.0030242 , 0.0061227 , 0.0076651 , 0.0076144 , 0.0034991 , 3.6568e-06  , 0.046276        , 0.49393         , 1.2519          , 1.2436          , 0.5715          , 0                     , 0                     , 0                     , 0                     , 0                     \n",
       "58    , -6.5562e-06 , 0.0002924  , 0.0030892 , 0.0062287 , 0.0078159 , 0.007788  , 0.0035444 , 1.6527e-05  , 0.046944        , 0.49597         , 1.2548          , 1.2504          , 0.56905         , 0                     , 0                     , 0                     , 0                     , 0                     \n",
       "59    , 1.3698e-05  , 0.00027515 , 0.0031103 , 0.0062457 , 0.0078222 , 0.0077536 , 0.0035484 , 1.3392e-06  , 0.044054        , 0.49798         , 1.2524          , 1.2414          , 0.56814         , 0                     , 0                     , 0                     , 0                     , 0                     "
      ]
     },
     "execution_count": 98,
     "metadata": {},
     "output_type": "execute_result"
    }
   ],
   "source": [
    "data.measurements[1]"
   ]
  },
  {
   "cell_type": "markdown",
   "id": "cubic-imagination",
   "metadata": {},
   "source": [
    "You can copy only the part of the array containing isotope data using the ``flavour`` key filter"
   ]
  },
  {
   "cell_type": "code",
   "execution_count": 101,
   "id": "extra-navigator",
   "metadata": {},
   "outputs": [
    {
     "data": {
      "text/plain": [
       "(row) , 101Ru       , 102Pd      , 104Pd     , 105Pd     , 106Pd     , 108Pd     , 110Pd     , 111Cd       \n",
       "0     , 1.1244e-05  , 0.00029361 , 0.0030907 , 0.0062565 , 0.0078046 , 0.0077348 , 0.0035265 , 4.2756e-07  \n",
       "1     , 1.5886e-05  , 0.00029072 , 0.0030904 , 0.0062733 , 0.0077979 , 0.0077431 , 0.0035368 , 6.5782e-06  \n",
       "2     , 1.8636e-05  , 0.00028657 , 0.0031177 , 0.006305  , 0.0079175 , 0.0078158 , 0.0035627 , -9.1351e-06 \n",
       "3     , -7.3983e-06 , 0.00031614 , 0.0030619 , 0.0062103 , 0.0077739 , 0.0076847 , 0.0035104 , 5.9596e-06  \n",
       "4     , 6.5069e-06  , 0.00030565 , 0.0030308 , 0.0061783 , 0.0077139 , 0.0076203 , 0.0034964 , 9.5472e-06  \n",
       "...   , ...         , ...        , ...       , ...       , ...       , ...       , ...       , ...         \n",
       "55    , 1.2066e-05  , 0.00026472 , 0.0030457 , 0.0061603 , 0.0076696 , 0.0076574 , 0.003497  , 8.9847e-06  \n",
       "56    , -1.6541e-06 , 0.00028796 , 0.0030328 , 0.0061452 , 0.0076335 , 0.0076009 , 0.0034775 , 8.4756e-06  \n",
       "57    , -4.3433e-07 , 0.00028333 , 0.0030242 , 0.0061227 , 0.0076651 , 0.0076144 , 0.0034991 , 3.6568e-06  \n",
       "58    , -6.5562e-06 , 0.0002924  , 0.0030892 , 0.0062287 , 0.0078159 , 0.007788  , 0.0035444 , 1.6527e-05  \n",
       "59    , 1.3698e-05  , 0.00027515 , 0.0031103 , 0.0062457 , 0.0078222 , 0.0077536 , 0.0035484 , 1.3392e-06  "
      ]
     },
     "execution_count": 101,
     "metadata": {},
     "output_type": "execute_result"
    }
   ],
   "source": [
    "data.measurements[1].copy(flavour_eq='isotope')"
   ]
  },
  {
   "cell_type": "markdown",
   "id": "supposed-value",
   "metadata": {},
   "source": [
    "## In memory files"
   ]
  },
  {
   "cell_type": "code",
   "execution_count": 28,
   "id": "reserved-powell",
   "metadata": {},
   "outputs": [
    {
     "data": {
      "text/plain": [
       "(row) , Ru       , Pd        , Cd       \n",
       "0     , -0.50292 , -1.4295   , 0.31618  \n",
       "1     , 1.2179   , -0.023273 , -0.35797 \n",
       "2     , -0.27112 , -0.44779  , -0.92874 \n",
       "3     , 0.73018  , 0.088075  , -1.0528  \n",
       "4     , -1.1693  , 0.5253    , 0.23593  "
      ]
     },
     "execution_count": 28,
     "metadata": {},
     "output_type": "execute_result"
    }
   ],
   "source": [
    "#Create an array of random values to work with\n",
    "array = isopy.random(5, keys='ru pd cd'.split(), seed=46)\n",
    "array"
   ]
  },
  {
   "cell_type": "markdown",
   "id": "stunning-services",
   "metadata": {},
   "source": [
    "The isopy read/write functions for CSV and excel files also accept file like objects."
   ]
  },
  {
   "cell_type": "code",
   "execution_count": 37,
   "id": "corrected-brooklyn",
   "metadata": {},
   "outputs": [
    {
     "name": "stdout",
     "output_type": "stream",
     "text": [
      "#This is not a real file,,\n",
      "Ru,Pd,Cd\n",
      "-0.5029158999360099,-1.4294668995364466,0.3161798146820059\n",
      "1.2178904370877544,-0.023272781996066142,-0.35797332652478464\n",
      "-0.27111940695477094,-0.44779253386270806,-0.9287436068353231\n",
      "0.7301833239723954,0.08807514133629571,-1.0528274607881316\n",
      "-1.1693055169964495,0.5252955930066644,0.23593193513123287\n",
      "\n"
     ]
    }
   ],
   "source": [
    "file = io.StringIO()\n",
    "isopy.write_csv(file, array, comments='This is not a real file')\n",
    "file.seek(0) # Move to the beggining of the file stream\n",
    "print( file.read() )"
   ]
  },
  {
   "cell_type": "markdown",
   "id": "funky-buyer",
   "metadata": {},
   "source": [
    "This could be used for example with the ``FileUpload()`` widget which loads files from the local disk into the memory of the jupyter session."
   ]
  },
  {
   "cell_type": "code",
   "execution_count": 24,
   "id": "consolidated-exception",
   "metadata": {},
   "outputs": [
    {
     "data": {
      "application/vnd.jupyter.widget-view+json": {
       "model_id": "7d598c9647f3438ba17287961c97e041",
       "version_major": 2,
       "version_minor": 0
      },
      "text/plain": [
       "FileUpload(value={}, description='Upload')"
      ]
     },
     "metadata": {},
     "output_type": "display_data"
    }
   ],
   "source": [
    "uploader = widgets.FileUpload()\n",
    "uploader"
   ]
  },
  {
   "cell_type": "code",
   "execution_count": 40,
   "id": "experimental-farmer",
   "metadata": {},
   "outputs": [],
   "source": [
    "#Assuming you uploaded CSV files\n",
    "for i in range(len(uploader.value)):\n",
    "    file = uploader.value[i].content.tobytes()\n",
    "    print( isopy.array( isopy.read_csv(file) ) )"
   ]
  },
  {
   "cell_type": "markdown",
   "id": "completed-commerce",
   "metadata": {},
   "source": [
    "## Numpy I/O functions"
   ]
  },
  {
   "cell_type": "markdown",
   "id": "continent-salem",
   "metadata": {},
   "source": [
    "You can also use the I/O functions included with [numpy](https://numpy.org/doc/stable/reference/routines.io.html). It is recommended to convert the isopy array into an numpy array first."
   ]
  },
  {
   "cell_type": "code",
   "execution_count": 81,
   "id": "decimal-convention",
   "metadata": {},
   "outputs": [],
   "source": [
    "array = isopy.random(5, keys='ru pd cd'.split(), seed=46)\n",
    "np.save('numpy_file.npy', array.to_ndarray())"
   ]
  },
  {
   "cell_type": "code",
   "execution_count": 83,
   "id": "basic-conflict",
   "metadata": {},
   "outputs": [
    {
     "data": {
      "text/plain": [
       "(row) , Ru       , Pd        , Cd       \n",
       "0     , -0.50292 , -1.4295   , 0.31618  \n",
       "1     , 1.2179   , -0.023273 , -0.35797 \n",
       "2     , -0.27112 , -0.44779  , -0.92874 \n",
       "3     , 0.73018  , 0.088075  , -1.0528  \n",
       "4     , -1.1693  , 0.5253    , 0.23593  "
      ]
     },
     "execution_count": 83,
     "metadata": {},
     "output_type": "execute_result"
    }
   ],
   "source": [
    "isopy.array( np.load('numpy_file.npy') )"
   ]
  },
  {
   "cell_type": "code",
   "execution_count": 84,
   "id": "organizational-colony",
   "metadata": {},
   "outputs": [],
   "source": [
    "array.tofile('numpy_file.npy')"
   ]
  },
  {
   "cell_type": "markdown",
   "id": "sorted-winning",
   "metadata": {},
   "source": [
    "## Pandas I/O functions"
   ]
  },
  {
   "cell_type": "markdown",
   "id": "working-motor",
   "metadata": {},
   "source": [
    "Another option is to use the powerful I/O functions included in [pandas](https://pandas.pydata.org/docs/reference/io.html)."
   ]
  },
  {
   "cell_type": "code",
   "execution_count": 68,
   "id": "spare-junction",
   "metadata": {},
   "outputs": [],
   "source": [
    "array = isopy.random(5, keys='ru pd cd'.split(), seed=46)\n",
    "df = pd.DataFrame(array)"
   ]
  },
  {
   "cell_type": "code",
   "execution_count": 69,
   "id": "heavy-witch",
   "metadata": {},
   "outputs": [
    {
     "data": {
      "text/plain": [
       "'{\"Ru\":{\"0\":-0.5029158999,\"1\":1.2178904371,\"2\":-0.271119407,\"3\":0.730183324,\"4\":-1.169305517},\"Pd\":{\"0\":-1.4294668995,\"1\":-0.023272782,\"2\":-0.4477925339,\"3\":0.0880751413,\"4\":0.525295593},\"Cd\":{\"0\":0.3161798147,\"1\":-0.3579733265,\"2\":-0.9287436068,\"3\":-1.0528274608,\"4\":0.2359319351}}'"
      ]
     },
     "execution_count": 69,
     "metadata": {},
     "output_type": "execute_result"
    }
   ],
   "source": [
    "df.to_json() #Convert the array to a JSON string"
   ]
  }
 ],
 "metadata": {
  "kernelspec": {
   "display_name": "main",
   "language": "python",
   "name": "main"
  },
  "language_info": {
   "codemirror_mode": {
    "name": "ipython",
    "version": 3
   },
   "file_extension": ".py",
   "mimetype": "text/x-python",
   "name": "python",
   "nbconvert_exporter": "python",
   "pygments_lexer": "ipython3",
   "version": "3.9.2"
  }
 },
 "nbformat": 4,
 "nbformat_minor": 5
}
