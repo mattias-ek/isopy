{
 "cells": [
  {
   "cell_type": "markdown",
   "id": "handed-limit",
   "metadata": {},
   "source": [
    "# Getting started with isopy"
   ]
  },
  {
   "cell_type": "code",
   "execution_count": null,
   "id": "double-pixel",
   "metadata": {},
   "outputs": [],
   "source": []
  },
  {
   "cell_type": "markdown",
   "id": "computational-algorithm",
   "metadata": {},
   "source": [
    "## Isopy Arrays"
   ]
  },
  {
   "cell_type": "code",
   "execution_count": null,
   "id": "incident-friendly",
   "metadata": {},
   "outputs": [],
   "source": []
  },
  {
   "cell_type": "code",
   "execution_count": null,
   "id": "marked-pride",
   "metadata": {},
   "outputs": [],
   "source": []
  },
  {
   "cell_type": "code",
   "execution_count": null,
   "id": "continuous-thing",
   "metadata": {},
   "outputs": [],
   "source": [
    "array1 =\n",
    "array2 = \n",
    "array1 + array2"
   ]
  },
  {
   "cell_type": "code",
   "execution_count": null,
   "id": "mobile-diary",
   "metadata": {},
   "outputs": [],
   "source": [
    "isopy.add(array1, array2, 0)"
   ]
  },
  {
   "cell_type": "code",
   "execution_count": null,
   "id": "average-monthly",
   "metadata": {},
   "outputs": [],
   "source": []
  },
  {
   "cell_type": "markdown",
   "id": "cooperative-violence",
   "metadata": {},
   "source": [
    "## Importing Data"
   ]
  },
  {
   "cell_type": "code",
   "execution_count": null,
   "id": "mechanical-rally",
   "metadata": {},
   "outputs": [],
   "source": []
  },
  {
   "cell_type": "markdown",
   "id": "recreational-sensitivity",
   "metadata": {},
   "source": [
    "## Exporting Data"
   ]
  },
  {
   "cell_type": "code",
   "execution_count": null,
   "id": "blessed-enterprise",
   "metadata": {},
   "outputs": [],
   "source": []
  }
 ],
 "metadata": {
  "kernelspec": {
   "display_name": "main",
   "language": "python",
   "name": "main"
  },
  "language_info": {
   "codemirror_mode": {
    "name": "ipython",
    "version": 3
   },
   "file_extension": ".py",
   "mimetype": "text/x-python",
   "name": "python",
   "nbconvert_exporter": "python",
   "pygments_lexer": "ipython3",
   "version": "3.9.2"
  }
 },
 "nbformat": 4,
 "nbformat_minor": 5
}
