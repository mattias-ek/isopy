{
 "cells": [
  {
   "cell_type": "markdown",
   "id": "australian-georgia",
   "metadata": {},
   "source": [
    "# Getting started with isopy"
   ]
  },
  {
   "cell_type": "code",
   "execution_count": 1,
   "id": "underlying-foster",
   "metadata": {},
   "outputs": [],
   "source": [
    "import isopy\n",
    "import isopy.core"
   ]
  },
  {
   "cell_type": "code",
   "execution_count": 8,
   "id": "radical-graphic",
   "metadata": {},
   "outputs": [],
   "source": [
    "key = isopy.keystring('105pd')"
   ]
  },
  {
   "cell_type": "code",
   "execution_count": 18,
   "id": "expensive-pharmaceutical",
   "metadata": {},
   "outputs": [
    {
     "data": {
      "text/plain": [
       "'105..pd-PALLADIUM..105'"
      ]
     },
     "execution_count": 18,
     "metadata": {},
     "output_type": "execute_result"
    }
   ],
   "source": [
    "isopy.keystring('105pd').str('{m}..{es}-{NAME}..{m}')"
   ]
  },
  {
   "cell_type": "code",
   "execution_count": 5,
   "id": "possible-british",
   "metadata": {},
   "outputs": [
    {
     "data": {
      "text/plain": [
       "['Palladium', 'Cadmium', 'Rhodium', 'Ruthenium']"
      ]
     },
     "execution_count": 5,
     "metadata": {},
     "output_type": "execute_result"
    }
   ],
   "source": [
    "isopy.keylist('pd cd rh ru'.split()).strlist('Name')"
   ]
  },
  {
   "cell_type": "code",
   "execution_count": 10,
   "id": "controlled-record",
   "metadata": {},
   "outputs": [
    {
     "data": {
      "text/plain": [
       "('ru', 'ru')"
      ]
     },
     "execution_count": 10,
     "metadata": {},
     "output_type": "execute_result"
    }
   ],
   "source": [
    "'101ru'.strip('0123456789'), 'ru101'.strip('0123456789')"
   ]
  },
  {
   "cell_type": "code",
   "execution_count": 11,
   "id": "seven-feelings",
   "metadata": {},
   "outputs": [
    {
     "data": {
      "text/plain": [
       "'101'"
      ]
     },
     "execution_count": 11,
     "metadata": {},
     "output_type": "execute_result"
    }
   ],
   "source": [
    "'101ru'.strip('ru')"
   ]
  },
  {
   "cell_type": "code",
   "execution_count": 5,
   "id": "federal-preserve",
   "metadata": {},
   "outputs": [
    {
     "name": "stdout",
     "output_type": "stream",
     "text": [
      "347 ns ± 13.8 ns per loop (mean ± std. dev. of 7 runs, 1000000 loops each)\n"
     ]
    }
   ],
   "source": [
    "isopy.core.CACHES_ENABLED = True\n",
    "%timeit isopy.keystring('palladium-102')"
   ]
  },
  {
   "cell_type": "code",
   "execution_count": 3,
   "id": "committed-closer",
   "metadata": {},
   "outputs": [
    {
     "name": "stdout",
     "output_type": "stream",
     "text": [
      "437 ns ± 16.3 ns per loop (mean ± std. dev. of 7 runs, 1000000 loops each)\n"
     ]
    }
   ],
   "source": [
    "isopy.core.CACHES_ENABLED = True\n",
    "%timeit isopy.keylist(('palladium-102', 'palladium-103', 'palladium-104', 'palladium-105'))"
   ]
  },
  {
   "cell_type": "markdown",
   "id": "editorial-composite",
   "metadata": {},
   "source": [
    "## Isopy Arrays"
   ]
  },
  {
   "cell_type": "code",
   "execution_count": null,
   "id": "fitting-salad",
   "metadata": {},
   "outputs": [],
   "source": []
  },
  {
   "cell_type": "code",
   "execution_count": null,
   "id": "local-lambda",
   "metadata": {},
   "outputs": [],
   "source": []
  },
  {
   "cell_type": "code",
   "execution_count": null,
   "id": "pressing-fashion",
   "metadata": {},
   "outputs": [],
   "source": [
    "array1 =\n",
    "array2 = \n",
    "array1 + array2"
   ]
  },
  {
   "cell_type": "code",
   "execution_count": null,
   "id": "liquid-solomon",
   "metadata": {},
   "outputs": [],
   "source": [
    "isopy.add(array1, array2, 0)"
   ]
  },
  {
   "cell_type": "code",
   "execution_count": null,
   "id": "super-rover",
   "metadata": {},
   "outputs": [],
   "source": []
  },
  {
   "cell_type": "markdown",
   "id": "black-suggestion",
   "metadata": {},
   "source": [
    "## Importing Data"
   ]
  },
  {
   "cell_type": "code",
   "execution_count": null,
   "id": "metallic-trance",
   "metadata": {},
   "outputs": [],
   "source": []
  },
  {
   "cell_type": "markdown",
   "id": "greater-samoa",
   "metadata": {},
   "source": [
    "## Exporting Data"
   ]
  },
  {
   "cell_type": "code",
   "execution_count": null,
   "id": "turned-hardware",
   "metadata": {},
   "outputs": [],
   "source": []
  }
 ],
 "metadata": {
  "kernelspec": {
   "display_name": "main",
   "language": "python",
   "name": "main"
  },
  "language_info": {
   "codemirror_mode": {
    "name": "ipython",
    "version": 3
   },
   "file_extension": ".py",
   "mimetype": "text/x-python",
   "name": "python",
   "nbconvert_exporter": "python",
   "pygments_lexer": "ipython3",
   "version": "3.9.2"
  }
 },
 "nbformat": 4,
 "nbformat_minor": 5
}
