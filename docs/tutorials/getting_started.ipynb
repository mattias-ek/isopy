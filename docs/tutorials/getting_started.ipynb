{
 "cells": [
  {
   "cell_type": "markdown",
   "id": "dutch-chuck",
   "metadata": {},
   "source": [
    "# Getting started with isopy"
   ]
  },
  {
   "cell_type": "code",
   "execution_count": 2,
   "id": "north-imaging",
   "metadata": {},
   "outputs": [],
   "source": [
    "import isopy"
   ]
  },
  {
   "cell_type": "code",
   "execution_count": 8,
   "id": "local-closing",
   "metadata": {},
   "outputs": [],
   "source": [
    "key = isopy.keystring('105pd')"
   ]
  },
  {
   "cell_type": "code",
   "execution_count": 18,
   "id": "illegal-professional",
   "metadata": {},
   "outputs": [
    {
     "data": {
      "text/plain": [
       "'105..pd-PALLADIUM..105'"
      ]
     },
     "execution_count": 18,
     "metadata": {},
     "output_type": "execute_result"
    }
   ],
   "source": [
    "isopy.keystring('105pd').str('{m}..{es}-{NAME}..{m}')"
   ]
  },
  {
   "cell_type": "code",
   "execution_count": 5,
   "id": "legitimate-interview",
   "metadata": {},
   "outputs": [
    {
     "data": {
      "text/plain": [
       "['Palladium', 'Cadmium', 'Rhodium', 'Ruthenium']"
      ]
     },
     "execution_count": 5,
     "metadata": {},
     "output_type": "execute_result"
    }
   ],
   "source": [
    "isopy.keylist('pd cd rh ru'.split()).strlist('Name')"
   ]
  },
  {
   "cell_type": "code",
   "execution_count": 10,
   "id": "weighted-hierarchy",
   "metadata": {},
   "outputs": [
    {
     "data": {
      "text/plain": [
       "('ru', 'ru')"
      ]
     },
     "execution_count": 10,
     "metadata": {},
     "output_type": "execute_result"
    }
   ],
   "source": [
    "'101ru'.strip('0123456789'), 'ru101'.strip('0123456789')"
   ]
  },
  {
   "cell_type": "code",
   "execution_count": 11,
   "id": "engaging-balloon",
   "metadata": {},
   "outputs": [
    {
     "data": {
      "text/plain": [
       "'101'"
      ]
     },
     "execution_count": 11,
     "metadata": {},
     "output_type": "execute_result"
    }
   ],
   "source": [
    "'101ru'.strip('ru')"
   ]
  },
  {
   "cell_type": "markdown",
   "id": "streaming-style",
   "metadata": {},
   "source": [
    "## Isopy Arrays"
   ]
  },
  {
   "cell_type": "code",
   "execution_count": null,
   "id": "controlling-cannon",
   "metadata": {},
   "outputs": [],
   "source": []
  },
  {
   "cell_type": "code",
   "execution_count": null,
   "id": "sound-glossary",
   "metadata": {},
   "outputs": [],
   "source": []
  },
  {
   "cell_type": "code",
   "execution_count": null,
   "id": "collected-terrorism",
   "metadata": {},
   "outputs": [],
   "source": [
    "array1 =\n",
    "array2 = \n",
    "array1 + array2"
   ]
  },
  {
   "cell_type": "code",
   "execution_count": null,
   "id": "spare-chuck",
   "metadata": {},
   "outputs": [],
   "source": [
    "isopy.add(array1, array2, 0)"
   ]
  },
  {
   "cell_type": "code",
   "execution_count": null,
   "id": "sixth-mother",
   "metadata": {},
   "outputs": [],
   "source": []
  },
  {
   "cell_type": "markdown",
   "id": "independent-midnight",
   "metadata": {},
   "source": [
    "## Importing Data"
   ]
  },
  {
   "cell_type": "code",
   "execution_count": null,
   "id": "otherwise-retirement",
   "metadata": {},
   "outputs": [],
   "source": []
  },
  {
   "cell_type": "markdown",
   "id": "ruled-disability",
   "metadata": {},
   "source": [
    "## Exporting Data"
   ]
  },
  {
   "cell_type": "code",
   "execution_count": null,
   "id": "informed-appliance",
   "metadata": {},
   "outputs": [],
   "source": []
  }
 ],
 "metadata": {
  "kernelspec": {
   "display_name": "main",
   "language": "python",
   "name": "main"
  },
  "language_info": {
   "codemirror_mode": {
    "name": "ipython",
    "version": 3
   },
   "file_extension": ".py",
   "mimetype": "text/x-python",
   "name": "python",
   "nbconvert_exporter": "python",
   "pygments_lexer": "ipython3",
   "version": "3.9.2"
  }
 },
 "nbformat": 4,
 "nbformat_minor": 5
}
