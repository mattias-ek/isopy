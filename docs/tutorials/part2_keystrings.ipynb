{
 "cells": [
  {
   "cell_type": "markdown",
   "id": "86ac44f2-e703-4775-ba5a-14868c4714c0",
   "metadata": {},
   "source": [
    "# Isopy Tutorial 2 - Key Strings, Key Lists and Flavour"
   ]
  },
  {
   "cell_type": "code",
   "execution_count": 1,
   "id": "9c90b704-536f-4af7-9129-eef31bb0b0b8",
   "metadata": {},
   "outputs": [],
   "source": [
    "import isopy"
   ]
  },
  {
   "cell_type": "markdown",
   "id": "ff3c1423-210e-4a38-bf80-3eb58772910f",
   "metadata": {},
   "source": [
    "## Key Strings\n",
    "\n",
    "---\n",
    "Key strings are used as column identifiers in arrays and as keys for isopy dictionaries. There are six different types each with its own flavour which describes the type of data it represents. These are, in order of priority, `mass`, `element`, `isotope`, `molecule`, `ratio` and `general`. \n",
    "\n",
    "You can create key string using the {func}`isopy.keystring()` and {func}`isopy.askeystring` functions. The difference being that the former will always return the key string of the highest priority even it the input already is a key string of lower priority. The latter meanwhile will preserve the flavour of the input. \n",
    "\n",
    "The representation, {func}`repr`, of a key string in jupyter will render as HTML."
   ]
  },
  {
   "cell_type": "markdown",
   "id": "de8eb32c-686c-49d7-8fc7-3d3cd6b0b560",
   "metadata": {},
   "source": [
    "### Mass key string\n",
    "\n",
    "---\n",
    "The `mass` flavour represent a mass number. It must be a positive integer but will accept both integers and strings as input. E.g."
   ]
  },
  {
   "cell_type": "code",
   "execution_count": 2,
   "id": "3ecce22e-85ec-4f7d-946d-1b208955110d",
   "metadata": {},
   "outputs": [
    {
     "data": {
      "text/latex": [
       "$$102$$"
      ],
      "text/plain": [
       "MassKeyString('102')"
      ]
     },
     "execution_count": 2,
     "metadata": {},
     "output_type": "execute_result"
    }
   ],
   "source": [
    "isopy.keystring('102')"
   ]
  },
  {
   "cell_type": "code",
   "execution_count": 3,
   "id": "00f78b43-5471-4e78-8ce6-3fba610ff131",
   "metadata": {},
   "outputs": [
    {
     "data": {
      "text/plain": [
       "(MassKeyString('102'),)"
      ]
     },
     "execution_count": 3,
     "metadata": {},
     "output_type": "execute_result"
    }
   ],
   "source": [
    "isopy.keystring(102),"
   ]
  },
  {
   "cell_type": "markdown",
   "id": "bcdd0b34-c535-42bc-961e-1f368eb808d2",
   "metadata": {},
   "source": [
    "---\n",
    "Mass key string have the following attributes:\n",
    "- `flavour` - Always `\"mass\"`\n",
    "- `mass_number` - Simply a reference for itself. Useful for filtering."
   ]
  },
  {
   "cell_type": "code",
   "execution_count": 4,
   "id": "86eb33b9-6626-42c1-9a6b-9240e4b7d8eb",
   "metadata": {},
   "outputs": [
    {
     "data": {
      "text/plain": [
       "(mass, MassKeyString('102'))"
      ]
     },
     "execution_count": 4,
     "metadata": {},
     "output_type": "execute_result"
    }
   ],
   "source": [
    "key = isopy.keystring(102)\n",
    "key.flavour, key.mass_number"
   ]
  },
  {
   "cell_type": "markdown",
   "id": "14df8149-8af6-4653-ae18-db070b1be94c",
   "metadata": {},
   "source": [
    "---\n",
    "The key strings are compatible with the `>`,`>=`, `<`, and `<=` operators"
   ]
  },
  {
   "cell_type": "code",
   "execution_count": 5,
   "id": "064566f0-52c1-41b4-8607-b9bd30886f32",
   "metadata": {},
   "outputs": [
    {
     "data": {
      "text/plain": [
       "(True, False, False)"
      ]
     },
     "execution_count": 5,
     "metadata": {},
     "output_type": "execute_result"
    }
   ],
   "source": [
    "isopy.keystring(102) > 100, isopy.keystring(102) >= 102.5, isopy.keystring(102) < '100'"
   ]
  },
  {
   "cell_type": "markdown",
   "id": "7f423a37-d50d-4ebe-9434-33f699cdb802",
   "metadata": {},
   "source": [
    "### Element key string\n",
    "\n",
    "---\n",
    "The `element` flavour represent an element symbol. It is limited to at most two letters and is always capitalised, however, the input can be any case. It also accept the full name of the element. E.g."
   ]
  },
  {
   "cell_type": "code",
   "execution_count": 6,
   "id": "533b921e-a5e2-437a-85f7-2753eef87770",
   "metadata": {},
   "outputs": [
    {
     "data": {
      "text/latex": [
       "$$\\mathrm{Pd}$$"
      ],
      "text/plain": [
       "ElementKeyString('Pd')"
      ]
     },
     "execution_count": 6,
     "metadata": {},
     "output_type": "execute_result"
    }
   ],
   "source": [
    "isopy.keystring('Pd')"
   ]
  },
  {
   "cell_type": "code",
   "execution_count": 7,
   "id": "0c6ffdc7-822a-4aff-bfb5-76888ef71214",
   "metadata": {},
   "outputs": [
    {
     "data": {
      "text/plain": [
       "(ElementKeyString('Pd'), ElementKeyString('Pd'), ElementKeyString('Pd'))"
      ]
     },
     "execution_count": 7,
     "metadata": {},
     "output_type": "execute_result"
    }
   ],
   "source": [
    "isopy.keystring('PD'), isopy.keystring('pd'), isopy.keystring('palladium'), "
   ]
  },
  {
   "cell_type": "markdown",
   "id": "712c217e-a408-41bb-9c4b-60cd2d7c9c5c",
   "metadata": {},
   "source": [
    "---\n",
    "Element key string have the following attributes:\n",
    "- `flavour` - Always `\"element\"`.\n",
    "- `element_symbol` - Simply a reference to itself. Useful for filtering.\n",
    "- `isotopes` - Return a list of all the naturally occuring isotopes of this element"
   ]
  },
  {
   "cell_type": "code",
   "execution_count": 8,
   "id": "40c9507f-94c0-440d-9fdf-a0ebd5db0e20",
   "metadata": {},
   "outputs": [
    {
     "data": {
      "text/plain": [
       "(element,\n",
       " ElementKeyString('Pd'),\n",
       " IsopyKeyList('102Pd', '104Pd', '105Pd', '106Pd', '108Pd', '110Pd', flavour='isotope'))"
      ]
     },
     "execution_count": 8,
     "metadata": {},
     "output_type": "execute_result"
    }
   ],
   "source": [
    "key = isopy.keystring('Pd')\n",
    "key.flavour, key.element_symbol, key.isotopes"
   ]
  },
  {
   "cell_type": "markdown",
   "id": "be3007f5-e560-497f-b3ba-fb36decf644d",
   "metadata": {},
   "source": [
    "### Isotope key string\n",
    "\n",
    "---\n",
    "The `isotope` flavour represent an isotope comprised of a mass number followed by an element symbol. You can swap the mass number and element symbol around and `-` can be used to separate the two when creating these key strings. E.g."
   ]
  },
  {
   "cell_type": "code",
   "execution_count": 9,
   "id": "26623888-bf62-431a-9814-1733d0287843",
   "metadata": {},
   "outputs": [
    {
     "data": {
      "text/latex": [
       "$${}^{102}\\mathrm{Pd}$$"
      ],
      "text/plain": [
       "IsotopeKeyString('102Pd')"
      ]
     },
     "execution_count": 9,
     "metadata": {},
     "output_type": "execute_result"
    }
   ],
   "source": [
    "isopy.keystring('102Pd')"
   ]
  },
  {
   "cell_type": "code",
   "execution_count": 10,
   "id": "66edf337-58ad-4734-9473-2242935be768",
   "metadata": {},
   "outputs": [
    {
     "data": {
      "text/plain": [
       "(IsotopeKeyString('102Pd'), IsotopeKeyString('102Pd'))"
      ]
     },
     "execution_count": 10,
     "metadata": {},
     "output_type": "execute_result"
    }
   ],
   "source": [
    "isopy.keystring('102pd'), isopy.keystring('palladium-102')"
   ]
  },
  {
   "cell_type": "markdown",
   "id": "a9e1432e-f29c-4d39-b2ca-a38287d04de2",
   "metadata": {},
   "source": [
    "---\n",
    "Isotope key strings have the following attributes:\n",
    "- `flavour` - Always `\"isotope\"`\n",
    "- `mass_number` - The mass number of this isotope.\n",
    "- `element_symbol` - The element symbol of this isotope.\n",
    "- `isotopes` - A keylist containing only this isotope.\n",
    "- `mz` - The mass over charge ratio. Always equal to the mass number."
   ]
  },
  {
   "cell_type": "code",
   "execution_count": 11,
   "id": "e52c7845-fa50-4e5f-8e2c-137a975807d8",
   "metadata": {},
   "outputs": [
    {
     "data": {
      "text/plain": [
       "(isotope,\n",
       " MassKeyString('102'),\n",
       " ElementKeyString('Pd'),\n",
       " 102.0,\n",
       " IsopyKeyList('102Pd', flavour='isotope'))"
      ]
     },
     "execution_count": 11,
     "metadata": {},
     "output_type": "execute_result"
    }
   ],
   "source": [
    "key = isopy.keystring('102Pd')\n",
    "key.flavour, key.mass_number, key.element_symbol, key.mz, key.isotopes"
   ]
  },
  {
   "cell_type": "markdown",
   "id": "216f1f2a-0193-4459-9627-3bed4c8e7167",
   "metadata": {},
   "source": [
    "---\n",
    "You can use the `in` operator to check if an isotope key string contains a given mass number of element symbol e.g."
   ]
  },
  {
   "cell_type": "code",
   "execution_count": 12,
   "id": "ea8237bf-06fd-40e8-ad97-892bfd344d2e",
   "metadata": {},
   "outputs": [
    {
     "data": {
      "text/plain": [
       "(True, True)"
      ]
     },
     "execution_count": 12,
     "metadata": {},
     "output_type": "execute_result"
    }
   ],
   "source": [
    "key = isopy.keystring('102Pd')\n",
    "102 in key, 'pd' in key"
   ]
  },
  {
   "cell_type": "markdown",
   "id": "5e340dc8-cc23-456b-9f9b-a3c4e2442f33",
   "metadata": {},
   "source": [
    "### Molecule key string\n",
    "\n",
    "---\n",
    "The `molecule` flavour represents a molecule made up of elements and/or isotopes. A molecule consists of components, which can be elements, isotopes or another molecule, a multiplied and a charge. When listing multiple elements they must be capitalised and isotopes should be enclosed brackets to differentiate them from multiples. You can group components using either `()` or `[]`. Positive charges are represented by `+` and negative charges by `-`."
   ]
  },
  {
   "cell_type": "code",
   "execution_count": 13,
   "id": "c4cede11-a9a3-4a4b-b710-3eb40951438d",
   "metadata": {},
   "outputs": [
    {
     "data": {
      "text/latex": [
       "$$\\mathrm{H}_{2}\\mathrm{O}$$"
      ],
      "text/plain": [
       "MoleculeKeyString('[H2O]')"
      ]
     },
     "execution_count": 13,
     "metadata": {},
     "output_type": "execute_result"
    }
   ],
   "source": [
    "isopy.keystring('H2O')"
   ]
  },
  {
   "cell_type": "code",
   "execution_count": 14,
   "id": "b9ec77a2-7fb3-4b18-b3b2-61191c310e3c",
   "metadata": {},
   "outputs": [
    {
     "data": {
      "text/plain": [
       "(MoleculeKeyString('[H2[16O]]'),\n",
       " MoleculeKeyString('[(OH)-]'),\n",
       " MoleculeKeyString('137Ba++'))"
      ]
     },
     "execution_count": 14,
     "metadata": {},
     "output_type": "execute_result"
    }
   ],
   "source": [
    "isopy.keystring('H2(16O)'), isopy.keystring('[OH]-'), isopy.keystring('137ba++'), "
   ]
  },
  {
   "cell_type": "markdown",
   "id": "f401aae6-5a75-4ac9-b5d7-afa65130754f",
   "metadata": {},
   "source": [
    "---\n",
    "Molecule key strings have the following attributes:\n",
    "- `flavour` - The molecule flavour contains the flavour of the components within brackets e.g. `\"molecule[element]\"`. \n",
    "- `element_symbol` - Converts the molecule into a molecule containing only element symbols.\n",
    "- `isotopes` - Expands all element components to create a list of all the isotope variations of this molecule\n",
    "- `mz` - The mass over charge ratio of the molecule. Negative charges will return negative numbers\n",
    "- `components` - The components of the molecule.\n",
    "- `n` - The multiplier of the components.\n",
    "- `charge` - The charge of the components."
   ]
  },
  {
   "cell_type": "code",
   "execution_count": 15,
   "id": "d8bdb365-c50c-48bf-9cb0-fa197eede82f",
   "metadata": {},
   "outputs": [
    {
     "data": {
      "text/plain": [
       "(molecule[element], molecule[element|isotope])"
      ]
     },
     "execution_count": 15,
     "metadata": {},
     "output_type": "execute_result"
    }
   ],
   "source": [
    "isopy.keystring('H2O').flavour, isopy.keystring('[H2[16O]]').flavour"
   ]
  },
  {
   "cell_type": "code",
   "execution_count": 16,
   "id": "fbfe6aa0-b646-43e9-8a2f-25cc2c5f8f76",
   "metadata": {},
   "outputs": [
    {
     "data": {
      "text/latex": [
       "$$\\mathrm{H}_{2}\\mathrm{O}$$"
      ],
      "text/plain": [
       "MoleculeKeyString('[H2O]')"
      ]
     },
     "execution_count": 16,
     "metadata": {},
     "output_type": "execute_result"
    }
   ],
   "source": [
    "isopy.keystring('[H2[16O]]').element_symbol"
   ]
  },
  {
   "cell_type": "code",
   "execution_count": 17,
   "id": "cdd73d5f-132c-499f-a19d-ea231d173f7b",
   "metadata": {},
   "outputs": [
    {
     "data": {
      "text/latex": [
       "$$\\left[\\left({}^{1}\\mathrm{H}{}^{1}\\mathrm{H}\\right){}^{16}\\mathrm{O}, \\left({}^{2}\\mathrm{H}{}^{1}\\mathrm{H}\\right){}^{16}\\mathrm{O}, \\left({}^{1}\\mathrm{H}{}^{2}\\mathrm{H}\\right){}^{16}\\mathrm{O}, \\left({}^{2}\\mathrm{H}{}^{2}\\mathrm{H}\\right){}^{16}\\mathrm{O}\\right]$$"
      ],
      "text/plain": [
       "IsopyKeyList('[([1H][1H])[16O]]', '[([2H][1H])[16O]]', '[([1H][2H])[16O]]', '[([2H][2H])[16O]]', flavour='molecule[isotope]')"
      ]
     },
     "execution_count": 17,
     "metadata": {},
     "output_type": "execute_result"
    }
   ],
   "source": [
    "isopy.keystring('[H2[16O]]').isotopes"
   ]
  },
  {
   "cell_type": "code",
   "execution_count": 18,
   "id": "2abf53e2-c805-4cbf-8296-0f10c4bc3eb6",
   "metadata": {},
   "outputs": [
    {
     "data": {
      "text/plain": [
       "68.5"
      ]
     },
     "execution_count": 18,
     "metadata": {},
     "output_type": "execute_result"
    }
   ],
   "source": [
    "isopy.keystring('137ba++').mz"
   ]
  },
  {
   "cell_type": "code",
   "execution_count": 19,
   "id": "1518e25f-288f-43dc-be13-c8ca253b1300",
   "metadata": {},
   "outputs": [
    {
     "data": {
      "text/plain": [
       "((ElementKeyString('O'), ElementKeyString('H')), 1, -1)"
      ]
     },
     "execution_count": 19,
     "metadata": {},
     "output_type": "execute_result"
    }
   ],
   "source": [
    "key = isopy.keystring('[OH]-')\n",
    "key.components, key.n, key.charge"
   ]
  },
  {
   "cell_type": "markdown",
   "id": "29680b91-a50b-4064-9905-f59134544da3",
   "metadata": {},
   "source": [
    "### Ratio key string\n",
    "---\n",
    "The `ratio` flavour represents a ratio between two other key strings. The numerator and denominator key string should be separated by a `/`. To create nested ratios in use multiple `/` to denote higher order ratios. E.g."
   ]
  },
  {
   "cell_type": "code",
   "execution_count": 20,
   "id": "243fd7f4-e80f-4da2-ac78-89e9c1c64bcc",
   "metadata": {},
   "outputs": [
    {
     "data": {
      "text/latex": [
       "$$\\cfrac{{}^{108}\\mathrm{Pd}}{{}^{105}\\mathrm{Pd}}$$"
      ],
      "text/plain": [
       "RatioKeyString('108Pd/105Pd')"
      ]
     },
     "execution_count": 20,
     "metadata": {},
     "output_type": "execute_result"
    }
   ],
   "source": [
    "isopy.keystring('108pd/105pd')"
   ]
  },
  {
   "cell_type": "code",
   "execution_count": 21,
   "id": "b2226c09-efc6-4ae9-a414-4c29a0a5a0fa",
   "metadata": {},
   "outputs": [
    {
     "data": {
      "text/latex": [
       "$$\\cfrac{\\left(\\cfrac{\\left(\\cfrac{\\mathrm{Rh}}{\\mathrm{Ru}}\\right)}{\\mathrm{Pd}}\\right)}{\\mathrm{Cd}}$$"
      ],
      "text/plain": [
       "RatioKeyString('Rh/Ru//Pd///Cd')"
      ]
     },
     "execution_count": 21,
     "metadata": {},
     "output_type": "execute_result"
    }
   ],
   "source": [
    "isopy.keystring('rh/ru//pd///cd')"
   ]
  },
  {
   "cell_type": "markdown",
   "id": "fb3d3127-f5eb-49c0-ba65-aed0e57cd209",
   "metadata": {},
   "source": [
    "---\n",
    "Ratio key string contain the following attributes:\n",
    "- `flavour` - The ratio flavour containts the flavour of the numerator and denominator within brackets e.g. `\"ratio[isotope, isotope]\"`.\n",
    "- `numerator` - The numerator key string.\n",
    "- `denominator` - The denominator key string."
   ]
  },
  {
   "cell_type": "code",
   "execution_count": 22,
   "id": "a7260fb6-6590-4621-8a8f-a342ef718fbd",
   "metadata": {},
   "outputs": [
    {
     "data": {
      "text/plain": [
       "(ratio[isotope, isotope], IsotopeKeyString('108Pd'), IsotopeKeyString('105Pd'))"
      ]
     },
     "execution_count": 22,
     "metadata": {},
     "output_type": "execute_result"
    }
   ],
   "source": [
    "key = isopy.keystring('108pd/105pd')\n",
    "key.flavour, key.numerator, key.denominator"
   ]
  },
  {
   "cell_type": "markdown",
   "id": "6de75f43-65b2-4ed1-bd86-f4531e44562c",
   "metadata": {},
   "source": [
    "---\n",
    "The `in` operator can be used to check if a key string is equal to either the numerator or denominator key string. E.g."
   ]
  },
  {
   "cell_type": "code",
   "execution_count": 23,
   "id": "ad886490-8b03-448a-9d57-744236326a2e",
   "metadata": {},
   "outputs": [
    {
     "data": {
      "text/plain": [
       "True"
      ]
     },
     "execution_count": 23,
     "metadata": {},
     "output_type": "execute_result"
    }
   ],
   "source": [
    "'ru' in isopy.keystring('ru/pd')"
   ]
  },
  {
   "cell_type": "markdown",
   "id": "4c8396ea-f4d8-4485-887e-08a21045f241",
   "metadata": {},
   "source": [
    "---\n",
    "The `/` operator can be used to create a ratio from any key string e.g."
   ]
  },
  {
   "cell_type": "code",
   "execution_count": 24,
   "id": "f6821711-538d-4c39-ab77-fd1f2483be3c",
   "metadata": {},
   "outputs": [
    {
     "data": {
      "text/plain": [
       "(RatioKeyString('Ru/Pd'), RatioKeyString('Ru//Pd/Cd'))"
      ]
     },
     "execution_count": 24,
     "metadata": {},
     "output_type": "execute_result"
    }
   ],
   "source": [
    "isopy.keystring('ru') / 'pd', 'ru' / isopy.keystring('pd/cd')"
   ]
  },
  {
   "cell_type": "markdown",
   "id": "eee864ce-30fd-47e8-8d6a-3351b5bb41b7",
   "metadata": {},
   "source": [
    "### General key string\n",
    "\n",
    "---\n",
    "The `general` flavour accepts any string. E.g."
   ]
  },
  {
   "cell_type": "code",
   "execution_count": 25,
   "id": "aeb770b9-0209-4cc8-88fa-143d8e097302",
   "metadata": {},
   "outputs": [
    {
     "data": {
      "text/latex": [
       "$$\\mathrm{anything}$$"
      ],
      "text/plain": [
       "GeneralKeyString('anything')"
      ]
     },
     "execution_count": 25,
     "metadata": {},
     "output_type": "execute_result"
    }
   ],
   "source": [
    "isopy.keystring('anything')"
   ]
  },
  {
   "cell_type": "markdown",
   "id": "54bcda7c-a1f8-4a82-9a1a-9ff4828433b8",
   "metadata": {},
   "source": [
    "---\n",
    "Ratio key string have the following attributes:\n",
    "- `flavour` - Always `\"general\"`"
   ]
  },
  {
   "cell_type": "markdown",
   "id": "21d0357b-2a1e-4b59-9f9a-1d9750cfe334",
   "metadata": {},
   "source": [
    "### keystring vs askeystring\n",
    "\n",
    "---\n",
    "The `general` flavour has the lowest priority but can store string that are compatible with higher priority flavours. In order to preserve the flavour of such key string we need to use {func}`isopy.askeystring` instead of {func}`isopy.keystring`. E.g. "
   ]
  },
  {
   "cell_type": "code",
   "execution_count": 26,
   "id": "f17eedea-fa5d-4652-bb97-4993fe9778c4",
   "metadata": {},
   "outputs": [
    {
     "data": {
      "text/plain": [
       "(GeneralKeyString('pd'), ElementKeyString('Pd'), GeneralKeyString('pd'))"
      ]
     },
     "execution_count": 26,
     "metadata": {},
     "output_type": "execute_result"
    }
   ],
   "source": [
    "key = isopy.keystring('pd', flavour='general')\n",
    "key, isopy.keystring(key), isopy.askeystring(key)"
   ]
  },
  {
   "cell_type": "markdown",
   "id": "51f24306-6cc3-4fb5-a00c-d310d8b02a32",
   "metadata": {},
   "source": [
    "\n"
   ]
  },
  {
   "cell_type": "markdown",
   "id": "215dadb2-f28a-43ac-89c1-6e3a1202673b",
   "metadata": {},
   "source": [
    "## Key list\n",
    "\n",
    "---\n",
    "A key list is a sequence of one or more key strings. They can be created using the {func}`isopy.keylist` and {func}`isopy.askeylist` functions. The difference between the functions is the same as for {func}`isopy.keystring` and {func}`isopy.askeystring`. The former will always return the highest priority flavour compatible with each item in the list while the latter will preserve the existing flavour of the item if possible.\n",
    "\n",
    "The representation, {func}`repr`, of key lists in jupyter will render as HTML.\n",
    "\n",
    "Both functions accepts a variety of inputs e.g."
   ]
  },
  {
   "cell_type": "code",
   "execution_count": 27,
   "id": "5b3b53ac-b71c-425d-a82c-963dcb0c45f7",
   "metadata": {},
   "outputs": [
    {
     "data": {
      "text/latex": [
       "$$\\left[\\mathrm{Ru}, \\mathrm{Pd}, \\mathrm{Cd}\\right]$$"
      ],
      "text/plain": [
       "IsopyKeyList('Ru', 'Pd', 'Cd', flavour='element')"
      ]
     },
     "execution_count": 27,
     "metadata": {},
     "output_type": "execute_result"
    }
   ],
   "source": [
    "isopy.keylist(['ru', 'pd', 'cd'])"
   ]
  },
  {
   "cell_type": "code",
   "execution_count": 28,
   "id": "0653e1d9-87c2-4562-988b-4afd967196a7",
   "metadata": {},
   "outputs": [
    {
     "data": {
      "text/latex": [
       "$$\\left[\\mathrm{Ru}, \\mathrm{Pd}, \\mathrm{Cd}\\right]$$"
      ],
      "text/plain": [
       "IsopyKeyList('Ru', 'Pd', 'Cd', flavour='element')"
      ]
     },
     "execution_count": 28,
     "metadata": {},
     "output_type": "execute_result"
    }
   ],
   "source": [
    "isopy.keylist('ru', 'pd', 'cd')"
   ]
  },
  {
   "cell_type": "code",
   "execution_count": 29,
   "id": "b56768fd-341d-463b-a71d-8f09cfe7bd4b",
   "metadata": {},
   "outputs": [
    {
     "data": {
      "text/latex": [
       "$$\\left[\\mathrm{Ru}, \\mathrm{Pd}, \\mathrm{Cd}\\right]$$"
      ],
      "text/plain": [
       "IsopyKeyList('Ru', 'Pd', 'Cd', flavour='element')"
      ]
     },
     "execution_count": 29,
     "metadata": {},
     "output_type": "execute_result"
    }
   ],
   "source": [
    "isopy.keylist('ru pd cd') # Will split lone strings at whitespace"
   ]
  },
  {
   "cell_type": "code",
   "execution_count": 30,
   "id": "60346482-6ef2-483b-805c-ab4f9a2cdad2",
   "metadata": {},
   "outputs": [
    {
     "data": {
      "text/plain": [
       "(IsopyKeyList('ru pd', flavour='general'),\n",
       " IsopyKeyList('Ru', 'Pd', flavour='element'))"
      ]
     },
     "execution_count": 30,
     "metadata": {},
     "output_type": "execute_result"
    }
   ],
   "source": [
    "isopy.keylist(['ru pd']), isopy.keylist('ru pd') # Will not split strings in other objects like lists."
   ]
  },
  {
   "cell_type": "code",
   "execution_count": 31,
   "id": "b0a36323-4c01-40e0-9caf-ddb9cfc0be95",
   "metadata": {},
   "outputs": [
    {
     "data": {
      "text/latex": [
       "$$\\left[\\mathrm{Ru}, \\mathrm{Rh}, \\mathrm{Pd}, \\mathrm{Ag}, \\mathrm{Cd}\\right]$$"
      ],
      "text/plain": [
       "IsopyKeyList('Ru', 'Rh', 'Pd', 'Ag', 'Cd', flavour='element')"
      ]
     },
     "execution_count": 31,
     "metadata": {},
     "output_type": "execute_result"
    }
   ],
   "source": [
    "isopy.keylist(['ru', 'rh'], 'pd', 'ag cd') # Accepts multiple items"
   ]
  },
  {
   "cell_type": "code",
   "execution_count": 32,
   "id": "dd1c6655-7f3f-4320-a961-c452f649a4cc",
   "metadata": {},
   "outputs": [
    {
     "data": {
      "text/latex": [
       "$$\\left[\\mathrm{Ru}, \\mathrm{Pd}, \\mathrm{Cd}\\right]$$"
      ],
      "text/plain": [
       "IsopyKeyList('Ru', 'Pd', 'Cd', flavour='element')"
      ]
     },
     "execution_count": 32,
     "metadata": {},
     "output_type": "execute_result"
    }
   ],
   "source": [
    "a = isopy.ones(1, ['ru', 'pd', 'cd'])\n",
    "isopy.keylist(a)"
   ]
  },
  {
   "cell_type": "markdown",
   "id": "d6cbd2ad-ef1d-42b8-8d4a-b129b8d4a7eb",
   "metadata": {},
   "source": [
    "---\n",
    "Key lists have the following attributes:\n",
    "- `flavour` - The flavour of the key list. \n",
    "- `flavours` - The flavour of each item in the key list.\n",
    "- `mass_numbers` - The `mass_number` attribute for each item in the key list*.\n",
    "- `element_symbols` - The `element_symbol` attribute for each item in the key list*.\n",
    "- `isotopes` - The combined items of the `isotopes` attribute for each item in the key list*.\n",
    "- `mz` - The `mz` attribute for each item in the key list*.\n",
    "- `numerators` - The `numerator` attribute for each item in the key list*.\n",
    "- `denominators` - The `denominator` attribute for each item in the key list*.\n",
    "- `common_denominator` - This value is equal to the common denominator of all key string in the list. If there is no common denominator or not all items in the list are ratio key strings the value of this attribute is `None`.\n",
    "\n",
    "\\* if one or more items in the key list do not have the corresponding attribute the value of this attribute is `None`"
   ]
  },
  {
   "cell_type": "code",
   "execution_count": 33,
   "id": "a3d97048-944d-4449-81c9-1edcfc2049f7",
   "metadata": {},
   "outputs": [
    {
     "data": {
      "text/plain": [
       "(element|isotope|molecule[element|isotope],\n",
       " (element, isotope, molecule[element|isotope]))"
      ]
     },
     "execution_count": 33,
     "metadata": {},
     "output_type": "execute_result"
    }
   ],
   "source": [
    "keys = isopy.keylist(['ru', '108pd', 'H2(16O)'])\n",
    "keys.flavour, keys.flavours"
   ]
  },
  {
   "cell_type": "code",
   "execution_count": 34,
   "id": "e4de65e4-85ad-4ced-ad87-97a30dea5bc9",
   "metadata": {},
   "outputs": [
    {
     "data": {
      "text/plain": [
       "(None, IsopyKeyList('Ru', 'Pd', '[H2O]', flavour='element|molecule[element]'))"
      ]
     },
     "execution_count": 34,
     "metadata": {},
     "output_type": "execute_result"
    }
   ],
   "source": [
    "keys.mass_numbers, keys.element_symbols # element key string does not have a mass number attribute"
   ]
  },
  {
   "cell_type": "code",
   "execution_count": 35,
   "id": "2fc88b7b-5e75-4949-9ede-fbdae758045f",
   "metadata": {},
   "outputs": [
    {
     "data": {
      "text/latex": [
       "$$\\left[{}^{96}\\mathrm{Ru}, {}^{98}\\mathrm{Ru}, {}^{99}\\mathrm{Ru}, {}^{100}\\mathrm{Ru}, {}^{101}\\mathrm{Ru}, {}^{102}\\mathrm{Ru}, {}^{104}\\mathrm{Ru}, {}^{108}\\mathrm{Pd}, \\left({}^{1}\\mathrm{H}{}^{1}\\mathrm{H}\\right){}^{16}\\mathrm{O}, \\left({}^{2}\\mathrm{H}{}^{1}\\mathrm{H}\\right){}^{16}\\mathrm{O}, \\left({}^{1}\\mathrm{H}{}^{2}\\mathrm{H}\\right){}^{16}\\mathrm{O}, \\left({}^{2}\\mathrm{H}{}^{2}\\mathrm{H}\\right){}^{16}\\mathrm{O}\\right]$$"
      ],
      "text/plain": [
       "IsopyKeyList('96Ru', '98Ru', '99Ru', '100Ru', '101Ru', '102Ru', '104Ru', '108Pd', '[([1H][1H])[16O]]', '[([2H][1H])[16O]]', '[([1H][2H])[16O]]', '[([2H][2H])[16O]]', flavour='isotope|molecule[isotope]')"
      ]
     },
     "execution_count": 35,
     "metadata": {},
     "output_type": "execute_result"
    }
   ],
   "source": [
    "keys.isotopes"
   ]
  },
  {
   "cell_type": "code",
   "execution_count": 36,
   "id": "57bfa9f8-a111-47a7-bd2e-e706f5a9aba3",
   "metadata": {},
   "outputs": [
    {
     "data": {
      "text/plain": [
       "(66.0, 68.5, 70.0)"
      ]
     },
     "execution_count": 36,
     "metadata": {},
     "output_type": "execute_result"
    }
   ],
   "source": [
    "isopy.keylist(['66zn', '137ba++', '70zn']).mz"
   ]
  },
  {
   "cell_type": "code",
   "execution_count": 37,
   "id": "51cf11ee-a8e1-4177-a80c-c84c37dbc14c",
   "metadata": {},
   "outputs": [
    {
     "data": {
      "text/plain": [
       "(IsopyKeyList('Ru', 'Cd', flavour='element'),\n",
       " IsopyKeyList('Pd', 'Pd', flavour='element'),\n",
       " ElementKeyString('Pd'))"
      ]
     },
     "execution_count": 37,
     "metadata": {},
     "output_type": "execute_result"
    }
   ],
   "source": [
    "keys = isopy.keylist('ru/pd', 'cd/pd')\n",
    "keys.numerators, keys.denominators, keys.common_denominator"
   ]
  },
  {
   "cell_type": "markdown",
   "id": "8ff0ec56-97bf-4542-90ff-ac782acd38cd",
   "metadata": {},
   "source": [
    "### Combining key lists\n",
    "\n",
    "---\n",
    "You can add and remove items from key lists using the `-` and `+` operator. *Note* that these operations returns new lists and do not change the originals."
   ]
  },
  {
   "cell_type": "code",
   "execution_count": 38,
   "id": "7c38b515-c3e1-4ce9-834c-59e134238841",
   "metadata": {},
   "outputs": [
    {
     "data": {
      "text/latex": [
       "$$\\left[\\mathrm{Ru}, \\mathrm{Pd}, \\mathrm{Cd}, \\mathrm{Ag}\\right]$$"
      ],
      "text/plain": [
       "IsopyKeyList('Ru', 'Pd', 'Cd', 'Ag', flavour='element')"
      ]
     },
     "execution_count": 38,
     "metadata": {},
     "output_type": "execute_result"
    }
   ],
   "source": [
    "isopy.keylist('ru pd cd') + 'ag'"
   ]
  },
  {
   "cell_type": "code",
   "execution_count": 39,
   "id": "a676ace9-435e-4237-9c44-74d3671eb3ce",
   "metadata": {},
   "outputs": [
    {
     "data": {
      "text/latex": [
       "$$\\left[\\mathrm{Pd}, \\mathrm{Cd}\\right]$$"
      ],
      "text/plain": [
       "IsopyKeyList('Pd', 'Cd', flavour='element')"
      ]
     },
     "execution_count": 39,
     "metadata": {},
     "output_type": "execute_result"
    }
   ],
   "source": [
    "'ru pd cd' - isopy.keylist('ru ag') # Missing keystrings are ignored."
   ]
  },
  {
   "cell_type": "markdown",
   "id": "e348d3c9-9123-43fa-8b67-dc527d93dcf5",
   "metadata": {},
   "source": [
    "---\n",
    "You can also combine key lists using the `|`,  `&` and `^` operators. Note that these functions will remove any duplicate keys."
   ]
  },
  {
   "cell_type": "code",
   "execution_count": 40,
   "id": "2bd20f6a-8ab6-40b2-9532-54fd12c12352",
   "metadata": {},
   "outputs": [
    {
     "data": {
      "text/latex": [
       "$$\\left[\\mathrm{Ru}, \\mathrm{Pd}, \\mathrm{Ag}, \\mathrm{Rh}\\right]$$"
      ],
      "text/plain": [
       "IsopyKeyList('Ru', 'Pd', 'Ag', 'Rh', flavour='element')"
      ]
     },
     "execution_count": 40,
     "metadata": {},
     "output_type": "execute_result"
    }
   ],
   "source": [
    "keys1 = isopy.keylist('ru pd ag')\n",
    "keys2 = isopy.keylist('ru rh pd')\n",
    "keys1 | keys2 # or - Keys in either list"
   ]
  },
  {
   "cell_type": "code",
   "execution_count": 41,
   "id": "3dad0135-a8b8-4845-b658-99ebd73e256c",
   "metadata": {},
   "outputs": [
    {
     "data": {
      "text/latex": [
       "$$\\left[\\mathrm{Ru}, \\mathrm{Pd}\\right]$$"
      ],
      "text/plain": [
       "IsopyKeyList('Ru', 'Pd', flavour='element')"
      ]
     },
     "execution_count": 41,
     "metadata": {},
     "output_type": "execute_result"
    }
   ],
   "source": [
    "keys1 & keys2 # and - Keys on both lists"
   ]
  },
  {
   "cell_type": "code",
   "execution_count": 42,
   "id": "71092aaa-30cd-445b-969a-cda6d1b339ff",
   "metadata": {},
   "outputs": [
    {
     "data": {
      "text/latex": [
       "$$\\left[\\mathrm{Ag}, \\mathrm{Rh}\\right]$$"
      ],
      "text/plain": [
       "IsopyKeyList('Ag', 'Rh', flavour='element')"
      ]
     },
     "execution_count": 42,
     "metadata": {},
     "output_type": "execute_result"
    }
   ],
   "source": [
    "keys1 ^ keys2 # xor - Keys in only one of the lists"
   ]
  },
  {
   "cell_type": "markdown",
   "id": "3935c8c1-ca86-4554-87f3-aeb527e9de7b",
   "metadata": {},
   "source": [
    "### Sorting key lists\n",
    "\n",
    "---\n",
    "You can sort key lists using the `sort` argument for {func}`isopy.keylist` and {func}`isopy.askeylist` or using the {meth}`isopy.core.IsopyKeyList.sorted` method.\n",
    "\n",
    "Mass key strings are sorted according to the mass number, element key strings are sorted first by the atomic number and then alphabetically, isotope key strings are sorted by the mass number then by the atomic mass of the element symbol, molecule key string are first sorted by the mass over charge ratio then by the atomic mass, ratio key strings are sorted first sorted by the numerator then by the denominator, general key strings are sorted alphabetically.\n",
    "\n",
    "When mixing flavours they will generally be grouped by their priority with the exception of isotope and molecule key strings which will be mixed. "
   ]
  },
  {
   "cell_type": "code",
   "execution_count": 43,
   "id": "eac6afa9-f450-4f60-8965-a6bed2ae9cd6",
   "metadata": {},
   "outputs": [
    {
     "data": {
      "text/latex": [
       "$$\\left[\\mathrm{Ru}, \\mathrm{Pd}, \\mathrm{Cd}\\right]$$"
      ],
      "text/plain": [
       "IsopyKeyList('Ru', 'Pd', 'Cd', flavour='element')"
      ]
     },
     "execution_count": 43,
     "metadata": {},
     "output_type": "execute_result"
    }
   ],
   "source": [
    "isopy.keylist('pd cd ru', sort=True) # Sorted by atomic mass"
   ]
  },
  {
   "cell_type": "code",
   "execution_count": 44,
   "id": "5115eee7-55be-4be7-9ab2-5cb4b2afd566",
   "metadata": {},
   "outputs": [
    {
     "data": {
      "text/latex": [
       "$$\\left[{}^{102}\\mathrm{Ru}, {}^{102}\\mathrm{Pd}, {}^{110}\\mathrm{Pd}, {}^{110}\\mathrm{Cd}\\right]$$"
      ],
      "text/plain": [
       "IsopyKeyList('102Ru', '102Pd', '110Pd', '110Cd', flavour='isotope')"
      ]
     },
     "execution_count": 44,
     "metadata": {},
     "output_type": "execute_result"
    }
   ],
   "source": [
    "isopy.keylist('110pd 102pd 102ru 110cd').sorted() # Sorted by mass number then by the element symbol"
   ]
  },
  {
   "cell_type": "code",
   "execution_count": 45,
   "id": "99777779-41e9-443f-a6d2-2bc2bdb8993a",
   "metadata": {},
   "outputs": [
    {
     "data": {
      "text/latex": [
       "$$\\left[{}^{64}\\mathrm{Zn}, {}^{137}\\mathrm{Ba}^{++}, {}^{70}\\mathrm{Zn}\\right]$$"
      ],
      "text/plain": [
       "IsopyKeyList('64Zn', '137Ba++', '70Zn', flavour='isotope|molecule[isotope]')"
      ]
     },
     "execution_count": 45,
     "metadata": {},
     "output_type": "execute_result"
    }
   ],
   "source": [
    "isopy.keylist('64zn 70zn 137ba++', sort=True) # Sorted by mass number and mass over charge ratio"
   ]
  },
  {
   "cell_type": "markdown",
   "id": "3923e56e-762b-4614-894b-6d9f121aa965",
   "metadata": {},
   "source": [
    "### Filtering key lists\n",
    "\n",
    "---\n",
    "You can filter key lists based on the attributes of items in the list using the {meth}`isopy.core.IsopyKeyList.filter` method. A key filter is passed as a keyword argument where the keyword should consists of two parts, first the attribute to be filtered and followed by the comparison to be performed e.g. `<attribute>_<comparison>`.\n",
    "\n",
    "The comparisons available are:\n",
    "- `eq`  - For single items `==` operator is used. If a list or tuple of arguments is supplied the `in` operator is used.\n",
    "- `neq` - For single items `!=` operator is used. If a list or tuple of arguments is supplied the `not in` operator is used.\n",
    "- `lt` - Represents the `<` operator.\n",
    "- `le` - Represents the `<=` operator.\n",
    "- `gt` - Represents the `>` operator.\n",
    "- `ge` - Represents the `>=` operator.\n",
    "\n",
    "To base a key filter on the key string itself use `key` instead of an attribute. To create a key filter for the numerator or denominator key string in a ratio prefix the key filter with `numerator_` and `denominator_` respectively."
   ]
  },
  {
   "cell_type": "code",
   "execution_count": 46,
   "id": "63b819e1-4458-44ec-972c-639c83caa661",
   "metadata": {},
   "outputs": [
    {
     "data": {
      "text/latex": [
       "$$\\left[{}^{110}\\mathrm{Pd}, {}^{102}\\mathrm{Ru}\\right]$$"
      ],
      "text/plain": [
       "IsopyKeyList('110Pd', '102Ru', flavour='isotope')"
      ]
     },
     "execution_count": 46,
     "metadata": {},
     "output_type": "execute_result"
    }
   ],
   "source": [
    "isopy.keylist('110pd 102pd 102ru 110cd').filter(key_eq = ['102ru', '104rh', '109ag', '110pd'])"
   ]
  },
  {
   "cell_type": "code",
   "execution_count": 47,
   "id": "07f3470e-2816-4f4f-a565-6dcd4c313e8c",
   "metadata": {},
   "outputs": [
    {
     "data": {
      "text/latex": [
       "$$\\left[{}^{110}\\mathrm{Pd}, {}^{110}\\mathrm{Cd}\\right]$$"
      ],
      "text/plain": [
       "IsopyKeyList('110Pd', '110Cd', flavour='isotope')"
      ]
     },
     "execution_count": 47,
     "metadata": {},
     "output_type": "execute_result"
    }
   ],
   "source": [
    "isopy.keylist('110pd 102pd 102ru 110cd').filter(mass_number_ge = 105)"
   ]
  },
  {
   "cell_type": "code",
   "execution_count": 48,
   "id": "4667dc74-0d0e-408f-a031-0bacfa09e061",
   "metadata": {},
   "outputs": [
    {
     "data": {
      "text/latex": [
       "$$\\left[{}^{102}\\mathrm{Ru}, {}^{110}\\mathrm{Cd}\\right]$$"
      ],
      "text/plain": [
       "IsopyKeyList('102Ru', '110Cd', flavour='isotope')"
      ]
     },
     "execution_count": 48,
     "metadata": {},
     "output_type": "execute_result"
    }
   ],
   "source": [
    "isopy.keylist('110pd 102pd 102ru 110cd').filter(element_symbol_eq = ['ru', 'rh', 'cd'])"
   ]
  },
  {
   "cell_type": "code",
   "execution_count": 49,
   "id": "6b826c45-117e-41b9-968c-d7bf2e73fba6",
   "metadata": {},
   "outputs": [
    {
     "data": {
      "text/latex": [
       "$$\\left[\\cfrac{{}^{102}\\mathrm{Pd}}{\\mathrm{Ru}}, \\cfrac{{}^{102}\\mathrm{Ru}}{\\mathrm{Pd}}\\right]$$"
      ],
      "text/plain": [
       "IsopyKeyList('102Pd/Ru', '102Ru/Pd', flavour='ratio[isotope, element]')"
      ]
     },
     "execution_count": 49,
     "metadata": {},
     "output_type": "execute_result"
    }
   ],
   "source": [
    "isopy.keylist('110pd/cd 102pd/ru 102ru/pd 110cd/pd').filter(numerator_mass_number_lt=110)"
   ]
  },
  {
   "cell_type": "code",
   "execution_count": 50,
   "id": "bf47039f-e31e-44e7-adff-56ffed42d90a",
   "metadata": {},
   "outputs": [
    {
     "data": {
      "text/latex": [
       "$$\\left[\\cfrac{{}^{102}\\mathrm{Ru}}{\\mathrm{Pd}}, \\cfrac{{}^{110}\\mathrm{Cd}}{\\mathrm{Pd}}\\right]$$"
      ],
      "text/plain": [
       "IsopyKeyList('102Ru/Pd', '110Cd/Pd', flavour='ratio[isotope, element]')"
      ]
     },
     "execution_count": 50,
     "metadata": {},
     "output_type": "execute_result"
    }
   ],
   "source": [
    "isopy.keylist('110pd/cd 102pd/ru 102ru/pd 110cd/pd').filter(denominator_key_eq='pd')"
   ]
  },
  {
   "cell_type": "markdown",
   "id": "3de98d17-03ad-43fc-96d7-7ab8a25fd4a9",
   "metadata": {},
   "source": [
    "---\n",
    "The {meth}`isopy.core.IsopyArray.filter` method will return a view of the array containing only the columns that match the key filters. Many of the `to_<type>` method also accept key filters to only include certain columns in the returned object."
   ]
  },
  {
   "cell_type": "code",
   "execution_count": 51,
   "id": "a4e48baa-54b5-42ab-9526-da35a7681f4b",
   "metadata": {},
   "outputs": [
    {
     "data": {
      "text/html": [
       "<table>\n",
       "<thead>\n",
       "<tr><th>(row)  </th><th style=\"text-align: right;\">  ${}^{110}\\mathrm{Pd}$ (f8)</th><th style=\"text-align: right;\">  ${}^{102}\\mathrm{Pd}$ (f8)</th><th style=\"text-align: right;\">  ${}^{102}\\mathrm{Ru}$ (f8)</th><th style=\"text-align: right;\">  ${}^{110}\\mathrm{Cd}$ (f8)</th></tr>\n",
       "</thead>\n",
       "<tbody>\n",
       "<tr><td>0      </td><td style=\"text-align: right;\">                     0.13081</td><td style=\"text-align: right;\">                    -1.26552</td><td style=\"text-align: right;\">                    -0.38709</td><td style=\"text-align: right;\">                     0.93295</td></tr>\n",
       "<tr><td>1      </td><td style=\"text-align: right;\">                    -1.35951</td><td style=\"text-align: right;\">                    -1.18374</td><td style=\"text-align: right;\">                    -2.39698</td><td style=\"text-align: right;\">                     0.01295</td></tr>\n",
       "<tr><td>2      </td><td style=\"text-align: right;\">                    -0.82233</td><td style=\"text-align: right;\">                     0.42927</td><td style=\"text-align: right;\">                     0.32346</td><td style=\"text-align: right;\">                     1.88376</td></tr>\n",
       "<tr><td>3      </td><td style=\"text-align: right;\">                    -1.38854</td><td style=\"text-align: right;\">                     1.06066</td><td style=\"text-align: right;\">                     0.52635</td><td style=\"text-align: right;\">                     1.76373</td></tr>\n",
       "<tr><td>4      </td><td style=\"text-align: right;\">                    -2.09217</td><td style=\"text-align: right;\">                     1.34563</td><td style=\"text-align: right;\">                     1.69750</td><td style=\"text-align: right;\">                    -0.95455</td></tr>\n",
       "</tbody>\n",
       "</table>\n",
       "<b>IsopyNdarray</b>(5, flavour='isotope', default_value=nan)"
      ],
      "text/plain": [
       "(row)      110Pd (f8)    102Pd (f8)    102Ru (f8)    110Cd (f8)\n",
       "-------  ------------  ------------  ------------  ------------\n",
       "0             0.13081      -1.26552      -0.38709       0.93295\n",
       "1            -1.35951      -1.18374      -2.39698       0.01295\n",
       "2            -0.82233       0.42927       0.32346       1.88376\n",
       "3            -1.38854       1.06066       0.52635       1.76373\n",
       "4            -2.09217       1.34563       1.69750      -0.95455\n",
       "IsopyNdarray(5, flavour='isotope', default_value=nan)"
      ]
     },
     "execution_count": 51,
     "metadata": {},
     "output_type": "execute_result"
    }
   ],
   "source": [
    "a = isopy.random(5, keys='110pd 102pd 102ru 110cd'); a"
   ]
  },
  {
   "cell_type": "code",
   "execution_count": 52,
   "id": "7d474350-0099-4ae3-bd1c-191825da0701",
   "metadata": {},
   "outputs": [
    {
     "data": {
      "text/html": [
       "<table>\n",
       "<thead>\n",
       "<tr><th>(row)  </th><th style=\"text-align: right;\">  ${}^{110}\\mathrm{Pd}$ (f8)</th><th style=\"text-align: right;\">  ${}^{110}\\mathrm{Cd}$ (f8)</th></tr>\n",
       "</thead>\n",
       "<tbody>\n",
       "<tr><td>0      </td><td style=\"text-align: right;\">                     0.13081</td><td style=\"text-align: right;\">                     0.93295</td></tr>\n",
       "<tr><td>1      </td><td style=\"text-align: right;\">                    -1.35951</td><td style=\"text-align: right;\">                     0.01295</td></tr>\n",
       "<tr><td>2      </td><td style=\"text-align: right;\">                    -0.82233</td><td style=\"text-align: right;\">                     1.88376</td></tr>\n",
       "<tr><td>3      </td><td style=\"text-align: right;\">                    -1.38854</td><td style=\"text-align: right;\">                     1.76373</td></tr>\n",
       "<tr><td>4      </td><td style=\"text-align: right;\">                    -2.09217</td><td style=\"text-align: right;\">                    -0.95455</td></tr>\n",
       "</tbody>\n",
       "</table>\n",
       "<b>IsopyNdarray</b>(5, flavour='isotope', default_value=nan)"
      ],
      "text/plain": [
       "(row)      110Pd (f8)    110Cd (f8)\n",
       "-------  ------------  ------------\n",
       "0             0.13081       0.93295\n",
       "1            -1.35951       0.01295\n",
       "2            -0.82233       1.88376\n",
       "3            -1.38854       1.76373\n",
       "4            -2.09217      -0.95455\n",
       "IsopyNdarray(5, flavour='isotope', default_value=nan)"
      ]
     },
     "execution_count": 52,
     "metadata": {},
     "output_type": "execute_result"
    }
   ],
   "source": [
    "a.filter(mass_number_ge = 105)"
   ]
  },
  {
   "cell_type": "code",
   "execution_count": 53,
   "id": "6a060906-8685-4bda-a030-c5c428d82ce5",
   "metadata": {},
   "outputs": [
    {
     "data": {
      "text/plain": [
       "{'110Pd': [0.13080930916078037,\n",
       "  -1.3595079420221965,\n",
       "  -0.822328200920095,\n",
       "  -1.388539219532741,\n",
       "  -2.092174235183127],\n",
       " '110Cd': [0.9329542643367572,\n",
       "  0.012945945779588288,\n",
       "  1.8837569305353523,\n",
       "  1.763731151061314,\n",
       "  -0.9545541254701979]}"
      ]
     },
     "execution_count": 53,
     "metadata": {},
     "output_type": "execute_result"
    }
   ],
   "source": [
    "a.to_dict(mass_number_ge = 105)"
   ]
  },
  {
   "cell_type": "markdown",
   "id": "90c5f086-232d-43e6-a5bb-d633c5992b92",
   "metadata": {},
   "source": [
    "---\n",
    "Many of the {ref}`array functions<Array functions>` included in the isopy namespace, including the numpy functions, accept key filters to limit the operation to certain columns in the input."
   ]
  },
  {
   "cell_type": "code",
   "execution_count": 54,
   "id": "07c5957f-087c-450c-be2a-af3ad5ce3334",
   "metadata": {},
   "outputs": [
    {
     "data": {
      "text/html": [
       "<table>\n",
       "<thead>\n",
       "<tr><th>(row)  </th><th style=\"text-align: right;\">  ${}^{110}\\mathrm{Pd}$ (f8)</th><th style=\"text-align: right;\">  ${}^{110}\\mathrm{Cd}$ (f8)</th></tr>\n",
       "</thead>\n",
       "<tbody>\n",
       "<tr><td>None   </td><td style=\"text-align: right;\">                     0.82565</td><td style=\"text-align: right;\">                     1.20341</td></tr>\n",
       "</tbody>\n",
       "</table>\n",
       "<b>IsopyNdarray</b>(-1, flavour='isotope', default_value=nan)"
      ],
      "text/plain": [
       "(row)      110Pd (f8)    110Cd (f8)\n",
       "-------  ------------  ------------\n",
       "None          0.82565       1.20341\n",
       "IsopyNdarray(-1, flavour='isotope', default_value=nan)"
      ]
     },
     "execution_count": 54,
     "metadata": {},
     "output_type": "execute_result"
    }
   ],
   "source": [
    "isopy.sd(a, mass_number_ge = 105) # Isopy function"
   ]
  },
  {
   "cell_type": "code",
   "execution_count": 55,
   "id": "39fe8ba3-aff5-4a80-85ef-9294f8293507",
   "metadata": {},
   "outputs": [
    {
     "data": {
      "text/html": [
       "<table>\n",
       "<thead>\n",
       "<tr><th>(row)  </th><th style=\"text-align: right;\">  ${}^{110}\\mathrm{Pd}$ (f8)</th><th style=\"text-align: right;\">  ${}^{110}\\mathrm{Cd}$ (f8)</th></tr>\n",
       "</thead>\n",
       "<tbody>\n",
       "<tr><td>None   </td><td style=\"text-align: right;\">                    -5.53174</td><td style=\"text-align: right;\">                     3.63883</td></tr>\n",
       "</tbody>\n",
       "</table>\n",
       "<b>IsopyNdarray</b>(-1, flavour='isotope', default_value=nan)"
      ],
      "text/plain": [
       "(row)      110Pd (f8)    110Cd (f8)\n",
       "-------  ------------  ------------\n",
       "None         -5.53174       3.63883\n",
       "IsopyNdarray(-1, flavour='isotope', default_value=nan)"
      ]
     },
     "execution_count": 55,
     "metadata": {},
     "output_type": "execute_result"
    }
   ],
   "source": [
    "isopy.sum(a, mass_number_ge = 105) # Enhanced numpy function"
   ]
  },
  {
   "cell_type": "markdown",
   "id": "18c3e440-a933-4701-be76-c8ab1a647a42",
   "metadata": {},
   "source": [
    "## Flavour\n",
    "\n",
    "---\n",
    "You can specify the desired flavour(s) when creating creating key strings, key lists and isopy arrays using the flavour argument. To specify more than one possible flavour separate them with by `|`, e.g. `element|isotope`. The order of priority is always the same irregardless in which order the flavours is specified. By default all possible flavours is used which can also be written as `any` for simplicity.\n",
    "\n",
    "The priority order for flavours is `mass`, `element`, `isotope`, `molecule`, `ratio` and last `general`. "
   ]
  },
  {
   "cell_type": "code",
   "execution_count": 56,
   "id": "379ac699-077c-4a2a-a3cd-92b168796c4d",
   "metadata": {},
   "outputs": [
    {
     "data": {
      "text/latex": [
       "$$\\mathrm{pd}$$"
      ],
      "text/plain": [
       "GeneralKeyString('pd')"
      ]
     },
     "execution_count": 56,
     "metadata": {},
     "output_type": "execute_result"
    }
   ],
   "source": [
    "isopy.keystring('pd', flavour='isotope|general')"
   ]
  },
  {
   "cell_type": "code",
   "execution_count": 57,
   "id": "2cace6fa-7fde-4681-bb75-03c5d0e17d73",
   "metadata": {},
   "outputs": [
    {
     "data": {
      "text/latex": [
       "$$\\left[\\mathrm{pd}, \\mathrm{ru}\\right]$$"
      ],
      "text/plain": [
       "IsopyKeyList('pd', 'ru', flavour='general')"
      ]
     },
     "execution_count": 57,
     "metadata": {},
     "output_type": "execute_result"
    }
   ],
   "source": [
    "isopy.keylist('pd ru', flavour='isotope|general')"
   ]
  },
  {
   "cell_type": "code",
   "execution_count": 58,
   "id": "2c9b5193-9321-425c-a918-8cbf33c4e8da",
   "metadata": {},
   "outputs": [
    {
     "data": {
      "text/html": [
       "<table>\n",
       "<thead>\n",
       "<tr><th>(row)  </th><th style=\"text-align: right;\">  $\\mathrm{pd}$ (f8)</th><th style=\"text-align: right;\">  $\\mathrm{ru}$ (f8)</th></tr>\n",
       "</thead>\n",
       "<tbody>\n",
       "<tr><td>None   </td><td style=\"text-align: right;\">             1.00000</td><td style=\"text-align: right;\">             2.00000</td></tr>\n",
       "</tbody>\n",
       "</table>\n",
       "<b>IsopyNdarray</b>(-1, flavour='general', default_value=nan)"
      ],
      "text/plain": [
       "(row)      pd (f8)    ru (f8)\n",
       "-------  ---------  ---------\n",
       "None       1.00000    2.00000\n",
       "IsopyNdarray(-1, flavour='general', default_value=nan)"
      ]
     },
     "execution_count": 58,
     "metadata": {},
     "output_type": "execute_result"
    }
   ],
   "source": [
    "isopy.array([1,2], 'pd ru', flavour='isotope|general')"
   ]
  },
  {
   "cell_type": "code",
   "execution_count": 59,
   "id": "f4d34fc1-b226-41c2-81fd-4a54fb52d601",
   "metadata": {},
   "outputs": [
    {
     "data": {
      "text/html": [
       "<table>\n",
       "<thead>\n",
       "<tr><th>(row)  </th><th style=\"text-align: right;\">  $\\mathrm{pd}$ (f8)</th><th style=\"text-align: right;\">  $\\mathrm{ru}$ (f8)</th></tr>\n",
       "</thead>\n",
       "<tbody>\n",
       "<tr><td>None   </td><td style=\"text-align: right;\">             0.09845</td><td style=\"text-align: right;\">            -1.96544</td></tr>\n",
       "</tbody>\n",
       "</table>\n",
       "<b>IsopyNdarray</b>(-1, flavour='general', default_value=nan)"
      ],
      "text/plain": [
       "(row)      pd (f8)    ru (f8)\n",
       "-------  ---------  ---------\n",
       "None       0.09845   -1.96544\n",
       "IsopyNdarray(-1, flavour='general', default_value=nan)"
      ]
     },
     "execution_count": 59,
     "metadata": {},
     "output_type": "execute_result"
    }
   ],
   "source": [
    "isopy.random(None, keys='pd ru', flavour='isotope|general')"
   ]
  },
  {
   "cell_type": "markdown",
   "id": "082c3e7b-f1ee-49a0-a859-458c0cc403f3",
   "metadata": {},
   "source": [
    "---\n",
    "You can compare the flavour of any isopy item using the `==`, `!=`, `in` and `not in` operators e.g."
   ]
  },
  {
   "cell_type": "code",
   "execution_count": 60,
   "id": "8c09e2fd-2e55-4c3b-b569-15b96d129b3d",
   "metadata": {},
   "outputs": [
    {
     "data": {
      "text/plain": [
       "(True, False)"
      ]
     },
     "execution_count": 60,
     "metadata": {},
     "output_type": "execute_result"
    }
   ],
   "source": [
    "isopy.keystring('102pd').flavour == 'isotope', isopy.keystring('102pd').flavour != 'isotope'"
   ]
  },
  {
   "cell_type": "code",
   "execution_count": 61,
   "id": "e8a92253-fa10-4dca-a69f-4623f3db6d70",
   "metadata": {},
   "outputs": [
    {
     "data": {
      "text/plain": [
       "True"
      ]
     },
     "execution_count": 61,
     "metadata": {},
     "output_type": "execute_result"
    }
   ],
   "source": [
    "isopy.keystring('102pd').flavour in ['element', 'isotope']"
   ]
  },
  {
   "cell_type": "markdown",
   "id": "a4b81571-e2a6-4f37-bbff-d8316f65924a",
   "metadata": {},
   "source": [
    "You can also specify the subflavours for molecule and ratio key strings e.g."
   ]
  },
  {
   "cell_type": "code",
   "execution_count": 62,
   "id": "e53cc678-6d8f-4652-b252-c09555147d34",
   "metadata": {},
   "outputs": [
    {
     "data": {
      "text/plain": [
       "(True, True)"
      ]
     },
     "execution_count": 62,
     "metadata": {},
     "output_type": "execute_result"
    }
   ],
   "source": [
    "isopy.keystring('a/b').flavour == 'ratio', isopy.keystring('a/b').flavour == 'ratio[element, element]'"
   ]
  },
  {
   "cell_type": "markdown",
   "id": "87301581-8ae1-4db7-88dd-eb766008d885",
   "metadata": {},
   "source": [
    "You can convert a string into a flavour object using the {func}`isopy.asflavour` function which is useful in conjunction with the `in` and `not in` operators e.g."
   ]
  },
  {
   "cell_type": "code",
   "execution_count": 63,
   "id": "bab1fa6b-0f89-44ee-9905-f4ba23787caa",
   "metadata": {},
   "outputs": [
    {
     "data": {
      "text/plain": [
       "True"
      ]
     },
     "execution_count": 63,
     "metadata": {},
     "output_type": "execute_result"
    }
   ],
   "source": [
    "isopy.keystring('a/b').flavour in isopy.asflavour('ratio[element|isotope, element|isotope]')"
   ]
  },
  {
   "cell_type": "markdown",
   "id": "fb36d591-d636-46c5-a79c-05d4751a2bab",
   "metadata": {},
   "source": [
    "Rather than using"
   ]
  },
  {
   "cell_type": "code",
   "execution_count": 64,
   "id": "0e73d962-30c1-4422-9005-b1914fe959ec",
   "metadata": {},
   "outputs": [
    {
     "data": {
      "text/plain": [
       "True"
      ]
     },
     "execution_count": 64,
     "metadata": {},
     "output_type": "execute_result"
    }
   ],
   "source": [
    "isopy.keystring('a/b').flavour in ['ratio[element, element]', 'ratio[element, isotope]', \n",
    "                                   'ratio[isotope, element]', 'ratio[isotope, isotope]']"
   ]
  }
 ],
 "metadata": {
  "kernelspec": {
   "display_name": "Python 3 (ipykernel)",
   "language": "python",
   "name": "python3"
  },
  "language_info": {
   "codemirror_mode": {
    "name": "ipython",
    "version": 3
   },
   "file_extension": ".py",
   "mimetype": "text/x-python",
   "name": "python",
   "nbconvert_exporter": "python",
   "pygments_lexer": "ipython3",
   "version": "3.9.7"
  }
 },
 "nbformat": 4,
 "nbformat_minor": 5
}